{
  "nbformat": 4,
  "nbformat_minor": 0,
  "metadata": {
    "colab": {
      "name": "calculus_vol1.ipynb",
      "provenance": [],
      "collapsed_sections": [],
      "authorship_tag": "ABX9TyMMiLQaFQOuE7WNfmIfytK6",
      "include_colab_link": true
    },
    "kernelspec": {
      "name": "python3",
      "display_name": "Python 3"
    }
  },
  "cells": [
    {
      "cell_type": "markdown",
      "metadata": {
        "id": "view-in-github",
        "colab_type": "text"
      },
      "source": [
        "<a href=\"https://colab.research.google.com/github/Lawrence-Krukrubo/EDA/blob/master/calculus_vol1.ipynb\" target=\"_parent\"><img src=\"https://colab.research.google.com/assets/colab-badge.svg\" alt=\"Open In Colab\"/></a>"
      ]
    },
    {
      "cell_type": "code",
      "metadata": {
        "id": "VlJdJD7ch6cd"
      },
      "source": [
        "import pandas as pd\r\n",
        "import numpy as np\r\n",
        "import matplotlib.pyplot as plt\r\n",
        "import seaborn as sns"
      ],
      "execution_count": 1,
      "outputs": []
    },
    {
      "cell_type": "markdown",
      "metadata": {
        "id": "LD8dZVx4V_9d"
      },
      "source": [
        "**Calculus** is the mathematics that describes changes in functions. The functions necessary\r\n",
        "to study calculus are:\r\n",
        "1. polynomial, \r\n",
        "2. Rational, \r\n",
        "3. Trigonometric, \r\n",
        "4. Exponential, and \r\n",
        "5. Logarithmic functions\r\n",
        "\r\n",
        ". It is essential to be familiar and comfortable with these ideas before proceeding to the\r\n",
        "formal introduction of calculus "
      ]
    },
    {
      "cell_type": "markdown",
      "metadata": {
        "id": "OrrjfR2DYeQD"
      },
      "source": [
        "<h3>Functions:</h3>\r\n",
        "\r\n",
        "A function is a special type of relation in which each element of the first set(domain) is related to exactly one element of the second set(range).<br>\r\n",
        "For any function, when we know the input, the output is\r\n",
        "determined, so we say that the output is a function of the input. For example, the area of a square is determined by its side\r\n",
        "length, so we say that the area (the output) is a function of its side length (the input)\r\n",
        "\r\n",
        "Since functions have so many uses, it is important to have precise definitions and terminology to\r\n",
        "study them.\r\n",
        "\r\n",
        "<img src='https://openstax.org/resources/2c2546282d046a88ba13631953e931a101974c21'><br>\r\n",
        "_A function can be visualized as an input/output device._\r\n",
        "<br>\r\n",
        "<br>\r\n",
        "<img src='https://openstax.org/resources/8fa5606aa4655ac788fcf850e8cb7646c77062da'><br>\r\n",
        "_A function maps every element in the domain to exactly one element in the range. Although each input can be sent to only one output, two different inputs can be sent to the same output._\r\n"
      ]
    },
    {
      "cell_type": "markdown",
      "metadata": {
        "id": "uvCxK52Tacp4"
      },
      "source": [
        "**Definition**\r\n",
        "\r\n",
        "A function $f$ consists of a set of inputs, a set of outputs, and a rule for assigning each input to exactly one output. The\r\n",
        "set of inputs is called the `domain` of the function. The set of outputs is called the `range` of the function.<br>A function maps every element in the domain to\r\n",
        "exactly one element in the range. Although each input can be\r\n",
        "sent to only one output, two different inputs can be sent to the\r\n",
        "same output.\r\n"
      ]
    },
    {
      "cell_type": "markdown",
      "metadata": {
        "id": "zcbYa88oh2QV"
      },
      "source": [
        "<h3>Plotting Functions as graphs:</h3>\r\n",
        "\r\n",
        "We can also visualize a function by plotting points $(x, y)$ in the coordinate plane where $y = f(x)$. The graph of a function\r\n",
        "is the set of all these points. For example, consider the function $f$, where the domain is the set $D = {1, 2, 3}$ and the\r\n",
        "rule is $f(x) = 3 − x$\r\n",
        "\r\n",
        "Let's plot this function\r\n"
      ]
    },
    {
      "cell_type": "code",
      "metadata": {
        "id": "CssFWC23V_Da"
      },
      "source": [
        "def plot_func(x=list):\r\n",
        "    \"\"\"This method plots the\r\n",
        "        function f(x) = 3-x,\r\n",
        "        given any values of x\r\n",
        "    \"\"\"\r\n",
        "    y = [3-i for i in x]\r\n",
        "\r\n",
        "    sns.set_style('ticks')\r\n",
        "    plt.figure(figsize=(6,4))\r\n",
        "    plt.scatter(x=x, y=y, color='red')\r\n",
        "    plt.title('Plotting function f(x) = 3 - x', fontsize=14)\r\n",
        "    plt.xlabel('x', fontsize=12)\r\n",
        "    plt.ylabel('y', fontsize=12, rotation=1.4)\r\n",
        "\r\n",
        "    plt.show()"
      ],
      "execution_count": null,
      "outputs": []
    },
    {
      "cell_type": "code",
      "metadata": {
        "colab": {
          "base_uri": "https://localhost:8080/",
          "height": 299
        },
        "id": "1j6AwjHpoJRZ",
        "outputId": "ee8fe000-b1e6-460a-ad71-971327ae1a1f"
      },
      "source": [
        "domain = [1,2,3]\r\n",
        "plot_func(domain)"
      ],
      "execution_count": null,
      "outputs": [
        {
          "output_type": "display_data",
          "data": {
            "image/png": "[encoded data removed]",
            "text/plain": [
              "<Figure size 432x288 with 1 Axes>"
            ]
          },
          "metadata": {
            "tags": []
          }
        }
      ]
    },
    {
      "cell_type": "markdown",
      "metadata": {
        "id": "QVFJDFeGZWuf"
      },
      "source": [
        "**Learning Objectives**\r\n",
        "\r\n",
        "1.1.1 Use functional notation to evaluate a function.<br>\r\n",
        "1.1.2 Determine the domain and range of a function.<br>\r\n",
        "1.1.3 Draw the graph of a function.<br>\r\n",
        "1.1.4 Find the zeros of a function.<br>\r\n",
        "1.1.5 Recognize a function from a table of values.<br>\r\n",
        "1.1.6 Make new functions from two or more given functions.<br>\r\n",
        "1.1.7 Describe the symmetry properties of a function."
      ]
    },
    {
      "cell_type": "markdown",
      "metadata": {
        "id": "QKsi6p3qgpKz"
      },
      "source": [
        "1. The set of real numbers is the set of numbers within negative-infinity to infinity\r\n",
        "\r\n",
        "* In set notation this is seen as..\r\n",
        "<h3>Real-Numbers = {$x|x-is-any-real-number$}</h3>\r\n",
        "\r\n",
        "* In interval notation\r\n",
        "<h3>$(-\\inf, \\inf)$</h3>\r\n",
        "\r\n",
        "2. The set of all natural number refer to the set of positive numbers\r\n",
        "\r\n",
        "* In set notation this is seen as..\r\n",
        "<h3>Natural-Numbers = {$x|0 \\le x$}</h3>\r\n",
        "\r\n",
        "* In interval notation...\r\n",
        "<h3>$[0, \\inf)$</h3>\r\n",
        "\r\n",
        "2. The set of all negative numbers...\r\n",
        "\r\n",
        "* In set notation this is seen as..\r\n",
        "<h3>Negative-Numbers = {$x|x \\lt 0$}</h3>\r\n",
        "\r\n",
        "* In interval notation...\r\n",
        "<h3>$(-\\inf, 0)$</h3>"
      ]
    },
    {
      "cell_type": "markdown",
      "metadata": {
        "id": "Xh5gKEkspCtS"
      },
      "source": [
        "<h3>EXAMPLE 1.1</h3>\r\n",
        "\r\n",
        "**Evaluating Functions**\r\n",
        "\r\n",
        "For the function  $f(x)=3x^2+2x−1$,  evaluate...\r\n",
        "* $f(−2)$ \r\n",
        "* $f(\\sqrt 2)$ \r\n",
        "* $f(a+h)$"
      ]
    },
    {
      "cell_type": "code",
      "metadata": {
        "colab": {
          "base_uri": "https://localhost:8080/"
        },
        "id": "DTslLCv8Z6at",
        "outputId": "70572df4-ab6c-40ac-94fc-ab50196aca76"
      },
      "source": [
        "# when x = -2, f(x) is...\r\n",
        "x = -2\r\n",
        "f_of_x = (3*(x**2)) + 2*x - 1\r\n",
        "f_of_x"
      ],
      "execution_count": null,
      "outputs": [
        {
          "output_type": "execute_result",
          "data": {
            "text/plain": [
              "7"
            ]
          },
          "metadata": {
            "tags": []
          },
          "execution_count": 4
        }
      ]
    },
    {
      "cell_type": "code",
      "metadata": {
        "colab": {
          "base_uri": "https://localhost:8080/"
        },
        "id": "Dz3lS1e3qbUD",
        "outputId": "87da3e6c-d29f-4fc7-8dd8-a55c02b443ab"
      },
      "source": [
        "# when x = 2**0.5, f(x) is...\r\n",
        "x = 2**0.5\r\n",
        "f_of_x = (3*(x**2)) + 2*x - 1\r\n",
        "f_of_x"
      ],
      "execution_count": null,
      "outputs": [
        {
          "output_type": "execute_result",
          "data": {
            "text/plain": [
              "7.828427124746192"
            ]
          },
          "metadata": {
            "tags": []
          },
          "execution_count": 5
        }
      ]
    },
    {
      "cell_type": "code",
      "metadata": {
        "id": "ZpphhrihrC1W"
      },
      "source": [
        "# when x = a+h, f(x) is..."
      ],
      "execution_count": null,
      "outputs": []
    },
    {
      "cell_type": "markdown",
      "metadata": {
        "id": "KFOMClNVrKEe"
      },
      "source": [
        "$3*(a+h)^2 + 2*(a+h) - 1$...\r\n",
        "<br>which is equal to...<br>\r\n",
        "$3a^2+6ah+3h^2+2a+2h-1$"
      ]
    },
    {
      "cell_type": "markdown",
      "metadata": {
        "id": "scZc73MzyGbG"
      },
      "source": [
        "**CHECKPOINT 1.1**\r\n",
        "\r\n",
        "For  $f(x)=x^2−3x+5$,  evaluate  $f(1)$  and  $f(a+h)$."
      ]
    },
    {
      "cell_type": "code",
      "metadata": {
        "colab": {
          "base_uri": "https://localhost:8080/"
        },
        "id": "Yenv9s6YsBFy",
        "outputId": "2a5b2bc0-38ec-4fcd-fb30-bc5829018260"
      },
      "source": [
        "# when x = 1\r\n",
        "x = 1\r\n",
        "f_of_x = x**2 - 3*x + 5\r\n",
        "f_of_x"
      ],
      "execution_count": null,
      "outputs": [
        {
          "output_type": "execute_result",
          "data": {
            "text/plain": [
              "3"
            ]
          },
          "metadata": {
            "tags": []
          },
          "execution_count": 6
        }
      ]
    },
    {
      "cell_type": "code",
      "metadata": {
        "id": "apOuHiT-ytnv"
      },
      "source": [
        "# when x = a + h, f(x) is..."
      ],
      "execution_count": null,
      "outputs": []
    },
    {
      "cell_type": "markdown",
      "metadata": {
        "id": "5dHjJIuIzQts"
      },
      "source": [
        "$a^2+2ah+h^2-3a-3h+5$"
      ]
    },
    {
      "cell_type": "markdown",
      "metadata": {
        "id": "PjR8HugXzs8Z"
      },
      "source": [
        "<h3>Example 1.2</h3>\r\n",
        "\r\n",
        "**Finding Domain and Range**\r\n",
        "\r\n",
        "For each of the following functions, determine the i. domain and ii. range.\r\n",
        "* $f(x)=(x−4)^2+5$ \r\n",
        "* $f(x)= \\sqrt{3x+2}-1$ \r\n",
        "* $f(x)={3 \\over x−2}$"
      ]
    },
    {
      "cell_type": "markdown",
      "metadata": {
        "id": "AT6UJ_fJL5RW"
      },
      "source": [
        "## * $f(x)=(x−4)^2+5$ \r\n",
        "Writing the Domain and Range in Interval Notation...\r\n",
        "\r\n",
        "1. The domain $D$ is any real number $x$ represented with interval notation as $D =(-inf, inf)$\r\n",
        "2. we know that $(x-4)^2$ must be $>= 0$, therefore the range $y$ is $[5,inf)$  \r\n",
        "\r\n",
        "In set notation... <br>$D = (x|-inf < x < inf)$<br>$R = (y|y >= 5)$"
      ]
    },
    {
      "cell_type": "markdown",
      "metadata": {
        "id": "SAu49WtGSfw4"
      },
      "source": [
        "## * $f(x)= \\sqrt{3x+2}-1$ \r\n",
        "\r\n",
        "Writing in interval notation...\r\n",
        "\r\n",
        "1. given the square root, we know the expression within the sqrt must evaluate to atleast zero as we can't find sqrt of a negative number. Therefore the question is what minimal value of $x$ must be multiplied with 3  and added to 2 to get atleast 0? Meaning, we need to solve the expression $3x+2≥0$. The answer is $3*(-2/3)x + 2$. Therefore the domain is...<br>$D = [-2/3, inf)$<br>As for the range $R$, if the entire sqrt evaluates to minimum of zero, then the minimum range must be<br>$R=[-1, inf)$\r\n",
        "\r\n",
        "In set Notation...\r\n",
        "\r\n",
        "* $D = (x|x >= -2/3)$\r\n",
        "* $R = (y|y >= -1)$"
      ]
    },
    {
      "cell_type": "markdown",
      "metadata": {
        "id": "_C15KOf3cC3P"
      },
      "source": [
        "## $f(x)={3 \\over x−2}$\r\n",
        "\r\n",
        "The domain and range in interval notation\r\n",
        "\r\n",
        "* The above expression can take any real value of $x$ except 2, so as to avoid a zero-division-error therefore $D=(x \\ne 2)$\r\n",
        "* The range To find the range of $f$, we need to find the values of $y$ such that there exists a real number $x$ in the domain with the property that\r\n",
        "$3 \\over{x−2}$ $=y$.\r\n",
        "\r\n",
        "Solving this equation for $x$, we find that $x={3\\over y}+2$. Therefore so long as $y \\ne 0$, there exists a value $x$ in the domain such that $f(x)=y$.\r\n",
        " \r\n",
        "\r\n",
        " \r\n",
        "\r\n",
        "\r\n",
        "In Set Notation...\r\n",
        "\r\n",
        "* $D=(x|x \\ne 2)$\r\n",
        "* $R=(y|y \\ne 0)$"
      ]
    },
    {
      "cell_type": "markdown",
      "metadata": {
        "id": "3Ua4nYnMo1hB"
      },
      "source": [
        "Find the domain and range for  \r\n",
        "\r\n",
        "## $f(x)= \\sqrt{4−2x} +5$\r\n",
        "\r\n",
        "* For the domain, since we cant solve sqrt for negative numbers, then we must find the values of $x$ that satisfy the equation $4-2x \\ge 0$. Therefore $x$ is at most 2. <br>$D=(-inf, 2]$...  or $D=(x|x \\le 2)$\r\n",
        "\r\n",
        "* The range is inferred from the domain. Therefore given the maximum of 2 that returns a sqrt of 0, the minimum range we can have is atleast 5<br>$D=[5, inf)... or $D=(y)$$"
      ]
    },
    {
      "cell_type": "markdown",
      "metadata": {
        "id": "Jf5P6NXJkDDS"
      },
      "source": [
        "### Representing Functions\r\n",
        "\r\n",
        "Typically, a function is represented using one or more of the following tools:\r\n",
        "\r\n",
        "* A table\r\n",
        "* A graph\r\n",
        "* A formula\r\n",
        "\r\n",
        "We can identify a function in each form, but we can also use them together. For instance, we can plot on a graph the values from a table or create a table from a formula.\r\n",
        "\r\n",
        "Given an algebraic formula for a function $f$, the graph of $f$ is the set of points $(x,f(x))$, where $x$  is in the domain of  $f$  and  $f(x)$  is in the range. To graph a function given by a formula, it is helpful to begin by using the formula to create a table of inputs and outputs. \r\n",
        "\r\n",
        "If the domain of $f$ consists of an infinite number of values, we cannot list all of them, but because listing some of the inputs and outputs can be very useful, it is often a good way to begin."
      ]
    },
    {
      "cell_type": "markdown",
      "metadata": {
        "id": "qJQZVmDgpFOv"
      },
      "source": [
        "### **RULE: VERTICAL LINE TEST**\r\n",
        "\r\n",
        "Given a function $f$,  every vertical line that may be drawn intersects the graph of $f$ no more than once. If any vertical line intersects a set of points more than once, the set of points does not represent a function.\r\n",
        "\r\n",
        "<img src='https://openstax.org/resources/f0672e463a3ed9bb557f5925fa1a89baea66f04c'>\r\n",
        "\r\n",
        "Figure 1.8 \r\n",
        "* (a) The set of plotted points represents the graph of a function because every vertical line intersects the set of points, at most, once. \r\n",
        "* (b) The set of plotted points does not represent the graph of a function because some vertical lines intersect the set of points more than once."
      ]
    },
    {
      "cell_type": "markdown",
      "metadata": {
        "id": "GcKvPd9hqrP3"
      },
      "source": [
        "### **Finding Zeros and  y -Intercepts of a Function**\r\n",
        "\r\n",
        "Consider the function:\r\n",
        "\r\n",
        "## $f(x)=−4x+2$\r\n",
        "\r\n",
        "* Find all zeros of $f$ \r\n",
        "* Find the $y$ -intercept (if any).\r\n",
        "* Sketch a graph of $f$."
      ]
    },
    {
      "cell_type": "markdown",
      "metadata": {
        "id": "x0EG--SYr-If"
      },
      "source": [
        "1. To find the zeros of $x$, we need to solve $-4x+2=0$... This gives $x=0.5$.Thus, the $x$-intercept is $(0.5, 0)$. This means the function $f$ crosses the $x$-axis at point $(0.5,0)$\r\n",
        "\r\n",
        "2. To find the $y$-intercept, we find the value of the function when $x=0$. Therefore $y$-intercept $= 2$. The  $y$-intercept is given by $(0,f(0))=(0,2)$.This means the function $f$ crosses the $y$-axis at point $(0,2)$\r\n",
        "\r\n",
        "<img src='https://openstax.org/resources/195b1e6c56950bdbc093b02223743c168c223f84'>\r\n",
        "\r\n",
        "The function $f(x)=−4x+2$  is a line with $x$-intercept $(1/2,0)$ and $y$-intercept $(0,2)$."
      ]
    },
    {
      "cell_type": "markdown",
      "metadata": {
        "id": "D2KxBIhL5UYa"
      },
      "source": [
        "### **Using Zeros and  y -Intercepts to Sketch a Graph**\r\n",
        "\r\n",
        "Consider the function  $f(x)= \\sqrt {x+3}+1$ \r\n",
        "\r\n",
        "* Find all zeros of  f. \r\n",
        "* Find the  y -intercept (if any).\r\n",
        "* Sketch a graph of  f.\r\n",
        "\r\n",
        "1. To find the zeros, we need to solve the equation $\\sqrt {x+3}+1=0$. But since the sqrt can never be a negative number, this function has no zeros. Thus the function $f$ does not have an $x$-intercept or does not intercept the $x$-axis\r\n",
        "\r\n",
        "2. To find the $y$-intercept, we need to solve for $y$ when $x$ is zero. Thus, solve the equation $\\sqrt {0+3}+1$. This gives $y$-intercept = 2.7321. written as $(0, f(0) = 2.7321$ \r\n",
        "\r\n",
        "3. The graph of the line is given below"
      ]
    },
    {
      "cell_type": "code",
      "metadata": {
        "id": "w2j1Eo-T4zpm"
      },
      "source": [
        "def graph_fx(arr):\r\n",
        "    \"\"\"For any given value of x\r\n",
        "        f(x) is sqrt of (x+3) + 1\r\n",
        "    \"\"\"\r\n",
        "    f_of_x = [np.sqrt(x+3)+1 for x in arr]\r\n",
        "    \r\n",
        "    plt.figure(figsize=(6,4), dpi=100)\r\n",
        "    plt.grid()\r\n",
        "    plt.annotate('y-intcpt', (-0.2, 2.7321))\r\n",
        "    plt.title('The graph of f(x) = sqrt(x+3)+1 has a y-intercept but no x-intercept')\r\n",
        "    plt.plot(arr, f_of_x)\r\n",
        "    plt.show()"
      ],
      "execution_count": 38,
      "outputs": []
    },
    {
      "cell_type": "code",
      "metadata": {
        "colab": {
          "base_uri": "https://localhost:8080/",
          "height": 385
        },
        "id": "VVa24Al4-o5M",
        "outputId": "bcc80d7c-865d-4598-f0cf-429b7a533d22"
      },
      "source": [
        "arr = list(range(-3,4))\r\n",
        "graph_fx(arr)"
      ],
      "execution_count": 40,
      "outputs": [
        {
          "output_type": "display_data",
          "data": {
            "image/png": "[encoded data removed]",
            "text/plain": [
              "<Figure size 600x400 with 1 Axes>"
            ]
          },
          "metadata": {
            "tags": [],
            "needs_background": "light"
          }
        }
      ]
    },
    {
      "cell_type": "code",
      "metadata": {
        "id": "svNY5LKGDNro"
      },
      "source": [
        ""
      ],
      "execution_count": null,
      "outputs": []
    }
  ]
}