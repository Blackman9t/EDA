{
  "nbformat": 4,
  "nbformat_minor": 0,
  "metadata": {
    "colab": {
      "name": "foursquare_api_exploring_lagos.ipynb",
      "version": "0.3.2",
      "provenance": [],
      "collapsed_sections": [],
      "include_colab_link": true
    },
    "kernelspec": {
      "name": "python3",
      "display_name": "Python 3"
    },
    "accelerator": "GPU"
  },
  "cells": [
    {
      "cell_type": "markdown",
      "metadata": {
        "id": "view-in-github",
        "colab_type": "text"
      },
      "source": [
        "<a href=\"https://colab.research.google.com/github/Blackman9t/EDA/blob/master/foursquare_api_exploring_lagos.ipynb\" target=\"_parent\"><img src=\"https://colab.research.google.com/assets/colab-badge.svg\" alt=\"Open In Colab\"/></a>"
      ]
    },
    {
      "cell_type": "markdown",
      "metadata": {
        "id": "U2ODpgpi6cVM",
        "colab_type": "text"
      },
      "source": [
        "##Introduction\n",
        "In this notebook, we'd make calls to the Foursquare API for different purposes. to explore a particular venue{Radisson Blu Anchorage Hotel),  to explore a Foursquare user who has made a review on Radisson Blu Hotel l to explore the geographical location, and to get trending venues around Radisson Blu Hotel. Also, we will use the visualization library, Folium, to visualize the results."
      ]
    },
    {
      "cell_type": "markdown",
      "metadata": {
        "id": "NDEZ5bFOSqXY",
        "colab_type": "text"
      },
      "source": [
        "import needed libraries"
      ]
    },
    {
      "cell_type": "code",
      "metadata": {
        "id": "18t2rAeS6OJd",
        "colab_type": "code",
        "colab": {
          "base_uri": "https://localhost:8080/",
          "height": 50
        },
        "outputId": "abba8cb1-a8fd-414b-feea-cb3060887bb7"
      },
      "source": [
        "import requests # library to handle requests\n",
        "import pandas as pd # library for data analsysis\n",
        "import numpy as np # library to handle data in a vectorized manner\n",
        "import random # library for random number generation\n",
        "\n",
        "#!conda install -c conda-forge geopy --yes \n",
        "from geopy.geocoders import Nominatim # module to convert an address into latitude and longitude values\n",
        "\n",
        "# libraries for displaying images\n",
        "from IPython.display import Image \n",
        "from IPython.core.display import HTML \n",
        "    \n",
        "# tranforming json file into a pandas dataframe library\n",
        "from pandas.io.json import json_normalize\n",
        "\n",
        "#!conda install -c conda-forge folium=0.5.0 --yes\n",
        "import folium # plotting library\n",
        "\n",
        "print('Folium installed')\n",
        "print('Libraries imported.')"
      ],
      "execution_count": 1,
      "outputs": [
        {
          "output_type": "stream",
          "text": [
            "Folium installed\n",
            "Libraries imported.\n"
          ],
          "name": "stdout"
        }
      ]
    },
    {
      "cell_type": "markdown",
      "metadata": {
        "id": "EwRepdRLSc3F",
        "colab_type": "text"
      },
      "source": [
        "Define Foursquare credentials"
      ]
    },
    {
      "cell_type": "code",
      "metadata": {
        "id": "p3oXc-DC67LV",
        "colab_type": "code",
        "colab": {
          "base_uri": "https://localhost:8080/",
          "height": 67
        },
        "outputId": "11b0ea66-4f7f-4c07-fd67-5646fdbc6285"
      },
      "source": [
        "CLIENT_ID = 'L2XUYCRD44VP2YBDMZ3XY0Z4XKO1JODM5SMG3IIYRZ5330FD' # your Foursquare ID\n",
        "CLIENT_SECRET = '5KI00FG4RT2VJQTIDPXFY1N4AOKTIXLIZEAO0AHPP3DPD0U1' # your Foursquare Secret\n",
        "VERSION = '20190620'  # Version should be todays date!\n",
        "LIMIT = 100\n",
        "print('Your credentials:')\n",
        "print('CLIENT_ID: ' + CLIENT_ID)\n",
        "print('CLIENT_SECRET:' + CLIENT_SECRET)"
      ],
      "execution_count": 98,
      "outputs": [
        {
          "output_type": "stream",
          "text": [
            "Your credentials:\n",
            "CLIENT_ID: L2XUYCRD44VP2YBDMZ3XY0Z4XKO1JODM5SMG3IIYRZ5330FD\n",
            "CLIENT_SECRET:5KI00FG4RT2VJQTIDPXFY1N4AOKTIXLIZEAO0AHPP3DPD0U1\n"
          ],
          "name": "stdout"
        }
      ]
    },
    {
      "cell_type": "markdown",
      "metadata": {
        "id": "04OWgjChW5XC",
        "colab_type": "text"
      },
      "source": [
        "Let's again assume that you are staying at the Eko hotel. So let's start by converting the Eko Hotel's address to its latitude and longitude coordinates."
      ]
    },
    {
      "cell_type": "markdown",
      "metadata": {
        "id": "XmQ-94x1Xjfs",
        "colab_type": "text"
      },
      "source": [
        "In order to define an instance of the geocoder, we need to define a user_agent. We will name our agent foursquare_agent, as shown below."
      ]
    },
    {
      "cell_type": "code",
      "metadata": {
        "id": "0zqEr9bVUM61",
        "colab_type": "code",
        "colab": {
          "base_uri": "https://localhost:8080/",
          "height": 34
        },
        "outputId": "a4cb569b-3bd0-42f0-c1d8-4f5b31f5dde6"
      },
      "source": [
        "address = '1 Ozumba Mbadiwe Avenue, Victoria Island Lagos, NG'\n",
        "\n",
        "geolocator = Nominatim(user_agent=\"foursquare_agent\")\n",
        "location = geolocator.geocode(address)\n",
        "latitude = location.latitude\n",
        "longitude = location.longitude\n",
        "\n",
        "print(latitude, longitude)\n"
      ],
      "execution_count": 3,
      "outputs": [
        {
          "output_type": "stream",
          "text": [
            "6.43642025 3.41639455\n"
          ],
          "name": "stdout"
        }
      ]
    },
    {
      "cell_type": "code",
      "metadata": {
        "id": "hYNnu_YaXAll",
        "colab_type": "code",
        "colab": {
          "base_uri": "https://localhost:8080/",
          "height": 34
        },
        "outputId": "61d6b4db-aebc-4bb2-c29c-3fb2e7553fd1"
      },
      "source": [
        "type(location)\n",
        "\n",
        "# location is a location object of geopy class"
      ],
      "execution_count": 4,
      "outputs": [
        {
          "output_type": "execute_result",
          "data": {
            "text/plain": [
              "geopy.location.Location"
            ]
          },
          "metadata": {
            "tags": []
          },
          "execution_count": 4
        }
      ]
    },
    {
      "cell_type": "markdown",
      "metadata": {
        "id": "bnqCkEqFX3-F",
        "colab_type": "text"
      },
      "source": [
        "Now, let's assume that it is lunch time, and you are craving Pizza. So, let's define a query to search for Pizza restaurants that is within 1500 metres(1.5 km) from the Radisson Blu."
      ]
    },
    {
      "cell_type": "code",
      "metadata": {
        "id": "GYAYWWTWXDH1",
        "colab_type": "code",
        "colab": {
          "base_uri": "https://localhost:8080/",
          "height": 34
        },
        "outputId": "9bc8c06b-8c7b-4cfe-94a2-4d6ab43ec6dd"
      },
      "source": [
        "search_query = 'Pizza'\n",
        "radius = 1500\n",
        "print(search_query + ' .... OK!')"
      ],
      "execution_count": 5,
      "outputs": [
        {
          "output_type": "stream",
          "text": [
            "Pizza .... OK!\n"
          ],
          "name": "stdout"
        }
      ]
    },
    {
      "cell_type": "markdown",
      "metadata": {
        "id": "W_M8UmZpYGUR",
        "colab_type": "text"
      },
      "source": [
        "Let's define the proper URI to return the Pizza restaurants within 1500 meters of Eko-Hotel"
      ]
    },
    {
      "cell_type": "code",
      "metadata": {
        "id": "M48-8d7sXMtW",
        "colab_type": "code",
        "colab": {
          "base_uri": "https://localhost:8080/",
          "height": 54
        },
        "outputId": "08c6f4d1-58e4-4b54-df04-22c97e79caa9"
      },
      "source": [
        "url = 'https://api.foursquare.com/v2/venues/search?client_id={}&client_secret={}&ll={},{}&v={}&query={}&radius={}&limit={}'\\\n",
        ".format(CLIENT_ID, CLIENT_SECRET, latitude, longitude, VERSION, search_query, radius, LIMIT)\n",
        "url"
      ],
      "execution_count": 6,
      "outputs": [
        {
          "output_type": "execute_result",
          "data": {
            "text/plain": [
              "'https://api.foursquare.com/v2/venues/search?client_id=L2XUYCRD44VP2YBDMZ3XY0Z4XKO1JODM5SMG3IIYRZ5330FD&client_secret=5KI00FG4RT2VJQTIDPXFY1N4AOKTIXLIZEAO0AHPP3DPD0U1&ll=6.43642025,3.41639455&v=20190620&query=Pizza&radius=1500&limit=30'"
            ]
          },
          "metadata": {
            "tags": []
          },
          "execution_count": 6
        }
      ]
    },
    {
      "cell_type": "markdown",
      "metadata": {
        "id": "lGe525w5fjqA",
        "colab_type": "text"
      },
      "source": [
        "Send the get query and analyse results"
      ]
    },
    {
      "cell_type": "code",
      "metadata": {
        "id": "Ewp50U8-fkS4",
        "colab_type": "code",
        "colab": {
          "base_uri": "https://localhost:8080/",
          "height": 3914
        },
        "outputId": "d14edaee-ce9b-454d-f81d-ce2142b7e909"
      },
      "source": [
        "results = requests.get(url).json()\n",
        "results"
      ],
      "execution_count": 7,
      "outputs": [
        {
          "output_type": "execute_result",
          "data": {
            "text/plain": [
              "{'meta': {'code': 200, 'requestId': '5d0bff5d23bb8e0035741e46'},\n",
              " 'response': {'venues': [{'categories': [{'icon': {'prefix': 'https://ss3.4sqi.net/img/categories_v2/food/pizza_',\n",
              "       'suffix': '.png'},\n",
              "      'id': '4bf58dd8d48988d1ca941735',\n",
              "      'name': 'Pizza Place',\n",
              "      'pluralName': 'Pizza Places',\n",
              "      'primary': True,\n",
              "      'shortName': 'Pizza'}],\n",
              "    'hasPerk': False,\n",
              "    'id': '4f805d88e4b05766b1888536',\n",
              "    'location': {'address': \"13 Musa Yar'Adua\",\n",
              "     'cc': 'NG',\n",
              "     'city': 'Victoria Island',\n",
              "     'country': 'Nigeria',\n",
              "     'crossStreet': 'Adeleke Adedoyin Street',\n",
              "     'distance': 450,\n",
              "     'formattedAddress': [\"13 Musa Yar'Adua (Adeleke Adedoyin Street)\",\n",
              "      'Victoria Island',\n",
              "      'Lagos',\n",
              "      'Nigeria'],\n",
              "     'labeledLatLngs': [{'label': 'display',\n",
              "       'lat': 6.432408,\n",
              "       'lng': 3.416935}],\n",
              "     'lat': 6.432408,\n",
              "     'lng': 3.416935,\n",
              "     'neighborhood': 'Victoria Island',\n",
              "     'state': 'Lagos'},\n",
              "    'name': 'Pizze-riah Wood-fired pizza',\n",
              "    'referralId': 'v-1561067357'},\n",
              "   {'categories': [{'icon': {'prefix': 'https://ss3.4sqi.net/img/categories_v2/food/pizza_',\n",
              "       'suffix': '.png'},\n",
              "      'id': '4bf58dd8d48988d1ca941735',\n",
              "      'name': 'Pizza Place',\n",
              "      'pluralName': 'Pizza Places',\n",
              "      'primary': True,\n",
              "      'shortName': 'Pizza'}],\n",
              "    'hasPerk': False,\n",
              "    'id': '5041105be4b0af4f728b1946',\n",
              "    'location': {'cc': 'NG',\n",
              "     'city': 'Lagos',\n",
              "     'country': 'Nigeria',\n",
              "     'distance': 654,\n",
              "     'formattedAddress': ['Lagos', 'Lagos', 'Nigeria'],\n",
              "     'labeledLatLngs': [{'label': 'display',\n",
              "       'lat': 6.430613088695371,\n",
              "       'lng': 3.4154657971086344}],\n",
              "     'lat': 6.430613088695371,\n",
              "     'lng': 3.4154657971086344,\n",
              "     'state': 'Lagos'},\n",
              "    'name': \"Domino's Pizza\",\n",
              "    'referralId': 'v-1561067357'},\n",
              "   {'categories': [{'icon': {'prefix': 'https://ss3.4sqi.net/img/categories_v2/food/pizza_',\n",
              "       'suffix': '.png'},\n",
              "      'id': '4bf58dd8d48988d1ca941735',\n",
              "      'name': 'Pizza Place',\n",
              "      'pluralName': 'Pizza Places',\n",
              "      'primary': True,\n",
              "      'shortName': 'Pizza'}],\n",
              "    'hasPerk': False,\n",
              "    'id': '5c4230419deb7d002cc18980',\n",
              "    'location': {'address': '156 Awolowo Road',\n",
              "     'cc': 'NG',\n",
              "     'city': 'Lagos',\n",
              "     'country': 'Nigeria',\n",
              "     'crossStreet': 'Ikoyi',\n",
              "     'distance': 872,\n",
              "     'formattedAddress': ['156 Awolowo Road (Ikoyi)',\n",
              "      'Lagos',\n",
              "      'Lagos',\n",
              "      'Nigeria'],\n",
              "     'labeledLatLngs': [{'label': 'display',\n",
              "       'lat': 6.442669,\n",
              "       'lng': 3.421155}],\n",
              "     'lat': 6.442669,\n",
              "     'lng': 3.421155,\n",
              "     'state': 'Lagos'},\n",
              "    'name': 'Pizza Hut',\n",
              "    'referralId': 'v-1561067357'},\n",
              "   {'categories': [{'icon': {'prefix': 'https://ss3.4sqi.net/img/categories_v2/food/pizza_',\n",
              "       'suffix': '.png'},\n",
              "      'id': '4bf58dd8d48988d1ca941735',\n",
              "      'name': 'Pizza Place',\n",
              "      'pluralName': 'Pizza Places',\n",
              "      'primary': True,\n",
              "      'shortName': 'Pizza'}],\n",
              "    'hasPerk': False,\n",
              "    'id': '5027d6aee4b0c80453509155',\n",
              "    'location': {'cc': 'NG',\n",
              "     'city': 'Lagos',\n",
              "     'country': 'Nigeria',\n",
              "     'distance': 1061,\n",
              "     'formattedAddress': ['Lagos', 'Lagos', 'Nigeria'],\n",
              "     'labeledLatLngs': [{'label': 'display',\n",
              "       'lat': 6.4268988059819465,\n",
              "       'lng': 3.41687588873206}],\n",
              "     'lat': 6.4268988059819465,\n",
              "     'lng': 3.41687588873206,\n",
              "     'state': 'Lagos'},\n",
              "    'name': \"Domino's Pizza\",\n",
              "    'referralId': 'v-1561067357'},\n",
              "   {'categories': [{'icon': {'prefix': 'https://ss3.4sqi.net/img/categories_v2/food/pizza_',\n",
              "       'suffix': '.png'},\n",
              "      'id': '4bf58dd8d48988d1ca941735',\n",
              "      'name': 'Pizza Place',\n",
              "      'pluralName': 'Pizza Places',\n",
              "      'primary': True,\n",
              "      'shortName': 'Pizza'}],\n",
              "    'hasPerk': False,\n",
              "    'id': '519e17c1498e8aa36af27ab0',\n",
              "    'location': {'address': 'Victoria Island',\n",
              "     'cc': 'NG',\n",
              "     'city': 'Lagos',\n",
              "     'country': 'Nigeria',\n",
              "     'distance': 1219,\n",
              "     'formattedAddress': ['Victoria Island', 'Lagos', 'Lagos', 'Nigeria'],\n",
              "     'labeledLatLngs': [{'label': 'display',\n",
              "       'lat': 6.426928,\n",
              "       'lng': 3.410887}],\n",
              "     'lat': 6.426928,\n",
              "     'lng': 3.410887,\n",
              "     'state': 'Lagos'},\n",
              "    'name': 'La Pizza',\n",
              "    'referralId': 'v-1561067357'},\n",
              "   {'categories': [{'icon': {'prefix': 'https://ss3.4sqi.net/img/categories_v2/food/pizza_',\n",
              "       'suffix': '.png'},\n",
              "      'id': '4bf58dd8d48988d1ca941735',\n",
              "      'name': 'Pizza Place',\n",
              "      'pluralName': 'Pizza Places',\n",
              "      'primary': True,\n",
              "      'shortName': 'Pizza'}],\n",
              "    'hasPerk': False,\n",
              "    'id': '58372a9ca6118c60b52d5715',\n",
              "    'location': {'address': 'Mobil filling station Awolowo road',\n",
              "     'cc': 'NG',\n",
              "     'city': 'Ikoyi',\n",
              "     'country': 'Nigeria',\n",
              "     'crossStreet': 'Awolowo road',\n",
              "     'distance': 702,\n",
              "     'formattedAddress': ['Mobil filling station Awolowo road (Awolowo road)',\n",
              "      'Ikoyi',\n",
              "      'Lagos',\n",
              "      'Nigeria'],\n",
              "     'labeledLatLngs': [{'label': 'display',\n",
              "       'lat': 6.442298,\n",
              "       'lng': 3.418705}],\n",
              "     'lat': 6.442298,\n",
              "     'lng': 3.418705,\n",
              "     'state': 'Lagos'},\n",
              "    'name': \"Debonair's Pizza\",\n",
              "    'referralId': 'v-1561067357'},\n",
              "   {'categories': [{'icon': {'prefix': 'https://ss3.4sqi.net/img/categories_v2/food/default_',\n",
              "       'suffix': '.png'},\n",
              "      'id': '4bf58dd8d48988d1c4941735',\n",
              "      'name': 'Restaurant',\n",
              "      'pluralName': 'Restaurants',\n",
              "      'primary': True,\n",
              "      'shortName': 'Restaurant'}],\n",
              "    'hasPerk': False,\n",
              "    'id': '53a80e0b498e1f19d246e780',\n",
              "    'location': {'cc': 'NG',\n",
              "     'country': 'Nigeria',\n",
              "     'distance': 1273,\n",
              "     'formattedAddress': ['Nigeria'],\n",
              "     'labeledLatLngs': [{'label': 'display',\n",
              "       'lat': 6.4298948875621935,\n",
              "       'lng': 3.425847596741053}],\n",
              "     'lat': 6.4298948875621935,\n",
              "     'lng': 3.425847596741053},\n",
              "    'name': 'Pizza Marella',\n",
              "    'referralId': 'v-1561067357'},\n",
              "   {'categories': [{'icon': {'prefix': 'https://ss3.4sqi.net/img/categories_v2/food/pizza_',\n",
              "       'suffix': '.png'},\n",
              "      'id': '4bf58dd8d48988d1ca941735',\n",
              "      'name': 'Pizza Place',\n",
              "      'pluralName': 'Pizza Places',\n",
              "      'primary': True,\n",
              "      'shortName': 'Pizza'}],\n",
              "    'hasPerk': False,\n",
              "    'id': '4c6275ac58810f470c32071e',\n",
              "    'location': {'address': 'Adeola Odeku',\n",
              "     'cc': 'NG',\n",
              "     'city': 'Victoria Island',\n",
              "     'country': 'Nigeria',\n",
              "     'distance': 812,\n",
              "     'formattedAddress': ['Adeola Odeku',\n",
              "      'Victoria Island',\n",
              "      'Lagos',\n",
              "      'Nigeria'],\n",
              "     'labeledLatLngs': [{'label': 'display',\n",
              "       'lat': 6.4299532478658605,\n",
              "       'lng': 3.419801547476229}],\n",
              "     'lat': 6.4299532478658605,\n",
              "     'lng': 3.419801547476229,\n",
              "     'state': 'Lagos'},\n",
              "    'name': 'Debonairs pizza',\n",
              "    'referralId': 'v-1561067357'},\n",
              "   {'categories': [{'icon': {'prefix': 'https://ss3.4sqi.net/img/categories_v2/food/pizza_',\n",
              "       'suffix': '.png'},\n",
              "      'id': '4bf58dd8d48988d1ca941735',\n",
              "      'name': 'Pizza Place',\n",
              "      'pluralName': 'Pizza Places',\n",
              "      'primary': True,\n",
              "      'shortName': 'Pizza'}],\n",
              "    'hasPerk': False,\n",
              "    'id': '5b8fff0812c8f00039e5cc01',\n",
              "    'location': {'cc': 'NG',\n",
              "     'city': 'Lagos',\n",
              "     'country': 'Nigeria',\n",
              "     'distance': 872,\n",
              "     'formattedAddress': ['Lagos', 'Lagos', 'Nigeria'],\n",
              "     'labeledLatLngs': [{'label': 'display',\n",
              "       'lat': 6.442575,\n",
              "       'lng': 3.421276}],\n",
              "     'lat': 6.442575,\n",
              "     'lng': 3.421276,\n",
              "     'state': 'Lagos'},\n",
              "    'name': 'Dominos Pizza',\n",
              "    'referralId': 'v-1561067357'},\n",
              "   {'categories': [],\n",
              "    'hasPerk': False,\n",
              "    'id': '518bf3b7e4b0dabd6ec192a5',\n",
              "    'location': {'cc': 'NG',\n",
              "     'country': 'Nigeria',\n",
              "     'distance': 1211,\n",
              "     'formattedAddress': ['Nigeria'],\n",
              "     'labeledLatLngs': [{'label': 'display',\n",
              "       'lat': 6.4261206,\n",
              "       'lng': 3.419931}],\n",
              "     'lat': 6.4261206,\n",
              "     'lng': 3.419931},\n",
              "    'name': 'Dominos Pizza',\n",
              "    'referralId': 'v-1561067357'}]}}"
            ]
          },
          "metadata": {
            "tags": []
          },
          "execution_count": 7
        }
      ]
    },
    {
      "cell_type": "markdown",
      "metadata": {
        "id": "C0WILoEggZs6",
        "colab_type": "text"
      },
      "source": [
        "Get relevant part of JSON and transform it into a pandas dataframe\n"
      ]
    },
    {
      "cell_type": "code",
      "metadata": {
        "id": "S6Q3mI4OgY6x",
        "colab_type": "code",
        "colab": {
          "base_uri": "https://localhost:8080/",
          "height": 3646
        },
        "outputId": "9dd36bba-0670-4db9-9267-896b5811f465"
      },
      "source": [
        "# assign relevant part of JSON to venues\n",
        "venues = results['response']['venues']\n",
        "venues"
      ],
      "execution_count": 8,
      "outputs": [
        {
          "output_type": "execute_result",
          "data": {
            "text/plain": [
              "[{'categories': [{'icon': {'prefix': 'https://ss3.4sqi.net/img/categories_v2/food/pizza_',\n",
              "     'suffix': '.png'},\n",
              "    'id': '4bf58dd8d48988d1ca941735',\n",
              "    'name': 'Pizza Place',\n",
              "    'pluralName': 'Pizza Places',\n",
              "    'primary': True,\n",
              "    'shortName': 'Pizza'}],\n",
              "  'hasPerk': False,\n",
              "  'id': '4f805d88e4b05766b1888536',\n",
              "  'location': {'address': \"13 Musa Yar'Adua\",\n",
              "   'cc': 'NG',\n",
              "   'city': 'Victoria Island',\n",
              "   'country': 'Nigeria',\n",
              "   'crossStreet': 'Adeleke Adedoyin Street',\n",
              "   'distance': 450,\n",
              "   'formattedAddress': [\"13 Musa Yar'Adua (Adeleke Adedoyin Street)\",\n",
              "    'Victoria Island',\n",
              "    'Lagos',\n",
              "    'Nigeria'],\n",
              "   'labeledLatLngs': [{'label': 'display', 'lat': 6.432408, 'lng': 3.416935}],\n",
              "   'lat': 6.432408,\n",
              "   'lng': 3.416935,\n",
              "   'neighborhood': 'Victoria Island',\n",
              "   'state': 'Lagos'},\n",
              "  'name': 'Pizze-riah Wood-fired pizza',\n",
              "  'referralId': 'v-1561067357'},\n",
              " {'categories': [{'icon': {'prefix': 'https://ss3.4sqi.net/img/categories_v2/food/pizza_',\n",
              "     'suffix': '.png'},\n",
              "    'id': '4bf58dd8d48988d1ca941735',\n",
              "    'name': 'Pizza Place',\n",
              "    'pluralName': 'Pizza Places',\n",
              "    'primary': True,\n",
              "    'shortName': 'Pizza'}],\n",
              "  'hasPerk': False,\n",
              "  'id': '5041105be4b0af4f728b1946',\n",
              "  'location': {'cc': 'NG',\n",
              "   'city': 'Lagos',\n",
              "   'country': 'Nigeria',\n",
              "   'distance': 654,\n",
              "   'formattedAddress': ['Lagos', 'Lagos', 'Nigeria'],\n",
              "   'labeledLatLngs': [{'label': 'display',\n",
              "     'lat': 6.430613088695371,\n",
              "     'lng': 3.4154657971086344}],\n",
              "   'lat': 6.430613088695371,\n",
              "   'lng': 3.4154657971086344,\n",
              "   'state': 'Lagos'},\n",
              "  'name': \"Domino's Pizza\",\n",
              "  'referralId': 'v-1561067357'},\n",
              " {'categories': [{'icon': {'prefix': 'https://ss3.4sqi.net/img/categories_v2/food/pizza_',\n",
              "     'suffix': '.png'},\n",
              "    'id': '4bf58dd8d48988d1ca941735',\n",
              "    'name': 'Pizza Place',\n",
              "    'pluralName': 'Pizza Places',\n",
              "    'primary': True,\n",
              "    'shortName': 'Pizza'}],\n",
              "  'hasPerk': False,\n",
              "  'id': '5c4230419deb7d002cc18980',\n",
              "  'location': {'address': '156 Awolowo Road',\n",
              "   'cc': 'NG',\n",
              "   'city': 'Lagos',\n",
              "   'country': 'Nigeria',\n",
              "   'crossStreet': 'Ikoyi',\n",
              "   'distance': 872,\n",
              "   'formattedAddress': ['156 Awolowo Road (Ikoyi)',\n",
              "    'Lagos',\n",
              "    'Lagos',\n",
              "    'Nigeria'],\n",
              "   'labeledLatLngs': [{'label': 'display', 'lat': 6.442669, 'lng': 3.421155}],\n",
              "   'lat': 6.442669,\n",
              "   'lng': 3.421155,\n",
              "   'state': 'Lagos'},\n",
              "  'name': 'Pizza Hut',\n",
              "  'referralId': 'v-1561067357'},\n",
              " {'categories': [{'icon': {'prefix': 'https://ss3.4sqi.net/img/categories_v2/food/pizza_',\n",
              "     'suffix': '.png'},\n",
              "    'id': '4bf58dd8d48988d1ca941735',\n",
              "    'name': 'Pizza Place',\n",
              "    'pluralName': 'Pizza Places',\n",
              "    'primary': True,\n",
              "    'shortName': 'Pizza'}],\n",
              "  'hasPerk': False,\n",
              "  'id': '5027d6aee4b0c80453509155',\n",
              "  'location': {'cc': 'NG',\n",
              "   'city': 'Lagos',\n",
              "   'country': 'Nigeria',\n",
              "   'distance': 1061,\n",
              "   'formattedAddress': ['Lagos', 'Lagos', 'Nigeria'],\n",
              "   'labeledLatLngs': [{'label': 'display',\n",
              "     'lat': 6.4268988059819465,\n",
              "     'lng': 3.41687588873206}],\n",
              "   'lat': 6.4268988059819465,\n",
              "   'lng': 3.41687588873206,\n",
              "   'state': 'Lagos'},\n",
              "  'name': \"Domino's Pizza\",\n",
              "  'referralId': 'v-1561067357'},\n",
              " {'categories': [{'icon': {'prefix': 'https://ss3.4sqi.net/img/categories_v2/food/pizza_',\n",
              "     'suffix': '.png'},\n",
              "    'id': '4bf58dd8d48988d1ca941735',\n",
              "    'name': 'Pizza Place',\n",
              "    'pluralName': 'Pizza Places',\n",
              "    'primary': True,\n",
              "    'shortName': 'Pizza'}],\n",
              "  'hasPerk': False,\n",
              "  'id': '519e17c1498e8aa36af27ab0',\n",
              "  'location': {'address': 'Victoria Island',\n",
              "   'cc': 'NG',\n",
              "   'city': 'Lagos',\n",
              "   'country': 'Nigeria',\n",
              "   'distance': 1219,\n",
              "   'formattedAddress': ['Victoria Island', 'Lagos', 'Lagos', 'Nigeria'],\n",
              "   'labeledLatLngs': [{'label': 'display', 'lat': 6.426928, 'lng': 3.410887}],\n",
              "   'lat': 6.426928,\n",
              "   'lng': 3.410887,\n",
              "   'state': 'Lagos'},\n",
              "  'name': 'La Pizza',\n",
              "  'referralId': 'v-1561067357'},\n",
              " {'categories': [{'icon': {'prefix': 'https://ss3.4sqi.net/img/categories_v2/food/pizza_',\n",
              "     'suffix': '.png'},\n",
              "    'id': '4bf58dd8d48988d1ca941735',\n",
              "    'name': 'Pizza Place',\n",
              "    'pluralName': 'Pizza Places',\n",
              "    'primary': True,\n",
              "    'shortName': 'Pizza'}],\n",
              "  'hasPerk': False,\n",
              "  'id': '58372a9ca6118c60b52d5715',\n",
              "  'location': {'address': 'Mobil filling station Awolowo road',\n",
              "   'cc': 'NG',\n",
              "   'city': 'Ikoyi',\n",
              "   'country': 'Nigeria',\n",
              "   'crossStreet': 'Awolowo road',\n",
              "   'distance': 702,\n",
              "   'formattedAddress': ['Mobil filling station Awolowo road (Awolowo road)',\n",
              "    'Ikoyi',\n",
              "    'Lagos',\n",
              "    'Nigeria'],\n",
              "   'labeledLatLngs': [{'label': 'display', 'lat': 6.442298, 'lng': 3.418705}],\n",
              "   'lat': 6.442298,\n",
              "   'lng': 3.418705,\n",
              "   'state': 'Lagos'},\n",
              "  'name': \"Debonair's Pizza\",\n",
              "  'referralId': 'v-1561067357'},\n",
              " {'categories': [{'icon': {'prefix': 'https://ss3.4sqi.net/img/categories_v2/food/default_',\n",
              "     'suffix': '.png'},\n",
              "    'id': '4bf58dd8d48988d1c4941735',\n",
              "    'name': 'Restaurant',\n",
              "    'pluralName': 'Restaurants',\n",
              "    'primary': True,\n",
              "    'shortName': 'Restaurant'}],\n",
              "  'hasPerk': False,\n",
              "  'id': '53a80e0b498e1f19d246e780',\n",
              "  'location': {'cc': 'NG',\n",
              "   'country': 'Nigeria',\n",
              "   'distance': 1273,\n",
              "   'formattedAddress': ['Nigeria'],\n",
              "   'labeledLatLngs': [{'label': 'display',\n",
              "     'lat': 6.4298948875621935,\n",
              "     'lng': 3.425847596741053}],\n",
              "   'lat': 6.4298948875621935,\n",
              "   'lng': 3.425847596741053},\n",
              "  'name': 'Pizza Marella',\n",
              "  'referralId': 'v-1561067357'},\n",
              " {'categories': [{'icon': {'prefix': 'https://ss3.4sqi.net/img/categories_v2/food/pizza_',\n",
              "     'suffix': '.png'},\n",
              "    'id': '4bf58dd8d48988d1ca941735',\n",
              "    'name': 'Pizza Place',\n",
              "    'pluralName': 'Pizza Places',\n",
              "    'primary': True,\n",
              "    'shortName': 'Pizza'}],\n",
              "  'hasPerk': False,\n",
              "  'id': '4c6275ac58810f470c32071e',\n",
              "  'location': {'address': 'Adeola Odeku',\n",
              "   'cc': 'NG',\n",
              "   'city': 'Victoria Island',\n",
              "   'country': 'Nigeria',\n",
              "   'distance': 812,\n",
              "   'formattedAddress': ['Adeola Odeku', 'Victoria Island', 'Lagos', 'Nigeria'],\n",
              "   'labeledLatLngs': [{'label': 'display',\n",
              "     'lat': 6.4299532478658605,\n",
              "     'lng': 3.419801547476229}],\n",
              "   'lat': 6.4299532478658605,\n",
              "   'lng': 3.419801547476229,\n",
              "   'state': 'Lagos'},\n",
              "  'name': 'Debonairs pizza',\n",
              "  'referralId': 'v-1561067357'},\n",
              " {'categories': [{'icon': {'prefix': 'https://ss3.4sqi.net/img/categories_v2/food/pizza_',\n",
              "     'suffix': '.png'},\n",
              "    'id': '4bf58dd8d48988d1ca941735',\n",
              "    'name': 'Pizza Place',\n",
              "    'pluralName': 'Pizza Places',\n",
              "    'primary': True,\n",
              "    'shortName': 'Pizza'}],\n",
              "  'hasPerk': False,\n",
              "  'id': '5b8fff0812c8f00039e5cc01',\n",
              "  'location': {'cc': 'NG',\n",
              "   'city': 'Lagos',\n",
              "   'country': 'Nigeria',\n",
              "   'distance': 872,\n",
              "   'formattedAddress': ['Lagos', 'Lagos', 'Nigeria'],\n",
              "   'labeledLatLngs': [{'label': 'display', 'lat': 6.442575, 'lng': 3.421276}],\n",
              "   'lat': 6.442575,\n",
              "   'lng': 3.421276,\n",
              "   'state': 'Lagos'},\n",
              "  'name': 'Dominos Pizza',\n",
              "  'referralId': 'v-1561067357'},\n",
              " {'categories': [],\n",
              "  'hasPerk': False,\n",
              "  'id': '518bf3b7e4b0dabd6ec192a5',\n",
              "  'location': {'cc': 'NG',\n",
              "   'country': 'Nigeria',\n",
              "   'distance': 1211,\n",
              "   'formattedAddress': ['Nigeria'],\n",
              "   'labeledLatLngs': [{'label': 'display', 'lat': 6.4261206, 'lng': 3.419931}],\n",
              "   'lat': 6.4261206,\n",
              "   'lng': 3.419931},\n",
              "  'name': 'Dominos Pizza',\n",
              "  'referralId': 'v-1561067357'}]"
            ]
          },
          "metadata": {
            "tags": []
          },
          "execution_count": 8
        }
      ]
    },
    {
      "cell_type": "code",
      "metadata": {
        "id": "9AfSuBr0gYs-",
        "colab_type": "code",
        "colab": {
          "base_uri": "https://localhost:8080/",
          "height": 417
        },
        "outputId": "054b2e0a-5294-41f1-e673-43012fcce5c9"
      },
      "source": [
        "# tranform venues into a dataframe\n",
        "dataframe = json_normalize(venues)\n",
        "dataframe.head()"
      ],
      "execution_count": 9,
      "outputs": [
        {
          "output_type": "execute_result",
          "data": {
            "text/html": [
              "<div>\n",
              "<style scoped>\n",
              "    .dataframe tbody tr th:only-of-type {\n",
              "        vertical-align: middle;\n",
              "    }\n",
              "\n",
              "    .dataframe tbody tr th {\n",
              "        vertical-align: top;\n",
              "    }\n",
              "\n",
              "    .dataframe thead th {\n",
              "        text-align: right;\n",
              "    }\n",
              "</style>\n",
              "<table border=\"1\" class=\"dataframe\">\n",
              "  <thead>\n",
              "    <tr style=\"text-align: right;\">\n",
              "      <th></th>\n",
              "      <th>categories</th>\n",
              "      <th>hasPerk</th>\n",
              "      <th>id</th>\n",
              "      <th>location.address</th>\n",
              "      <th>location.cc</th>\n",
              "      <th>location.city</th>\n",
              "      <th>location.country</th>\n",
              "      <th>location.crossStreet</th>\n",
              "      <th>location.distance</th>\n",
              "      <th>location.formattedAddress</th>\n",
              "      <th>location.labeledLatLngs</th>\n",
              "      <th>location.lat</th>\n",
              "      <th>location.lng</th>\n",
              "      <th>location.neighborhood</th>\n",
              "      <th>location.state</th>\n",
              "      <th>name</th>\n",
              "      <th>referralId</th>\n",
              "    </tr>\n",
              "  </thead>\n",
              "  <tbody>\n",
              "    <tr>\n",
              "      <th>0</th>\n",
              "      <td>[{'id': '4bf58dd8d48988d1ca941735', 'name': 'P...</td>\n",
              "      <td>False</td>\n",
              "      <td>4f805d88e4b05766b1888536</td>\n",
              "      <td>13 Musa Yar'Adua</td>\n",
              "      <td>NG</td>\n",
              "      <td>Victoria Island</td>\n",
              "      <td>Nigeria</td>\n",
              "      <td>Adeleke Adedoyin Street</td>\n",
              "      <td>450</td>\n",
              "      <td>[13 Musa Yar'Adua (Adeleke Adedoyin Street), V...</td>\n",
              "      <td>[{'label': 'display', 'lat': 6.432408, 'lng': ...</td>\n",
              "      <td>6.432408</td>\n",
              "      <td>3.416935</td>\n",
              "      <td>Victoria Island</td>\n",
              "      <td>Lagos</td>\n",
              "      <td>Pizze-riah Wood-fired pizza</td>\n",
              "      <td>v-1561067357</td>\n",
              "    </tr>\n",
              "    <tr>\n",
              "      <th>1</th>\n",
              "      <td>[{'id': '4bf58dd8d48988d1ca941735', 'name': 'P...</td>\n",
              "      <td>False</td>\n",
              "      <td>5041105be4b0af4f728b1946</td>\n",
              "      <td>NaN</td>\n",
              "      <td>NG</td>\n",
              "      <td>Lagos</td>\n",
              "      <td>Nigeria</td>\n",
              "      <td>NaN</td>\n",
              "      <td>654</td>\n",
              "      <td>[Lagos, Lagos, Nigeria]</td>\n",
              "      <td>[{'label': 'display', 'lat': 6.430613088695371...</td>\n",
              "      <td>6.430613</td>\n",
              "      <td>3.415466</td>\n",
              "      <td>NaN</td>\n",
              "      <td>Lagos</td>\n",
              "      <td>Domino's Pizza</td>\n",
              "      <td>v-1561067357</td>\n",
              "    </tr>\n",
              "    <tr>\n",
              "      <th>2</th>\n",
              "      <td>[{'id': '4bf58dd8d48988d1ca941735', 'name': 'P...</td>\n",
              "      <td>False</td>\n",
              "      <td>5c4230419deb7d002cc18980</td>\n",
              "      <td>156 Awolowo Road</td>\n",
              "      <td>NG</td>\n",
              "      <td>Lagos</td>\n",
              "      <td>Nigeria</td>\n",
              "      <td>Ikoyi</td>\n",
              "      <td>872</td>\n",
              "      <td>[156 Awolowo Road (Ikoyi), Lagos, Lagos, Nigeria]</td>\n",
              "      <td>[{'label': 'display', 'lat': 6.442669, 'lng': ...</td>\n",
              "      <td>6.442669</td>\n",
              "      <td>3.421155</td>\n",
              "      <td>NaN</td>\n",
              "      <td>Lagos</td>\n",
              "      <td>Pizza Hut</td>\n",
              "      <td>v-1561067357</td>\n",
              "    </tr>\n",
              "    <tr>\n",
              "      <th>3</th>\n",
              "      <td>[{'id': '4bf58dd8d48988d1ca941735', 'name': 'P...</td>\n",
              "      <td>False</td>\n",
              "      <td>5027d6aee4b0c80453509155</td>\n",
              "      <td>NaN</td>\n",
              "      <td>NG</td>\n",
              "      <td>Lagos</td>\n",
              "      <td>Nigeria</td>\n",
              "      <td>NaN</td>\n",
              "      <td>1061</td>\n",
              "      <td>[Lagos, Lagos, Nigeria]</td>\n",
              "      <td>[{'label': 'display', 'lat': 6.426898805981946...</td>\n",
              "      <td>6.426899</td>\n",
              "      <td>3.416876</td>\n",
              "      <td>NaN</td>\n",
              "      <td>Lagos</td>\n",
              "      <td>Domino's Pizza</td>\n",
              "      <td>v-1561067357</td>\n",
              "    </tr>\n",
              "    <tr>\n",
              "      <th>4</th>\n",
              "      <td>[{'id': '4bf58dd8d48988d1ca941735', 'name': 'P...</td>\n",
              "      <td>False</td>\n",
              "      <td>519e17c1498e8aa36af27ab0</td>\n",
              "      <td>Victoria Island</td>\n",
              "      <td>NG</td>\n",
              "      <td>Lagos</td>\n",
              "      <td>Nigeria</td>\n",
              "      <td>NaN</td>\n",
              "      <td>1219</td>\n",
              "      <td>[Victoria Island, Lagos, Lagos, Nigeria]</td>\n",
              "      <td>[{'label': 'display', 'lat': 6.426928, 'lng': ...</td>\n",
              "      <td>6.426928</td>\n",
              "      <td>3.410887</td>\n",
              "      <td>NaN</td>\n",
              "      <td>Lagos</td>\n",
              "      <td>La Pizza</td>\n",
              "      <td>v-1561067357</td>\n",
              "    </tr>\n",
              "  </tbody>\n",
              "</table>\n",
              "</div>"
            ],
            "text/plain": [
              "                                          categories  ...    referralId\n",
              "0  [{'id': '4bf58dd8d48988d1ca941735', 'name': 'P...  ...  v-1561067357\n",
              "1  [{'id': '4bf58dd8d48988d1ca941735', 'name': 'P...  ...  v-1561067357\n",
              "2  [{'id': '4bf58dd8d48988d1ca941735', 'name': 'P...  ...  v-1561067357\n",
              "3  [{'id': '4bf58dd8d48988d1ca941735', 'name': 'P...  ...  v-1561067357\n",
              "4  [{'id': '4bf58dd8d48988d1ca941735', 'name': 'P...  ...  v-1561067357\n",
              "\n",
              "[5 rows x 17 columns]"
            ]
          },
          "metadata": {
            "tags": []
          },
          "execution_count": 9
        }
      ]
    },
    {
      "cell_type": "code",
      "metadata": {
        "id": "rP0z5keXhFWy",
        "colab_type": "code",
        "colab": {
          "base_uri": "https://localhost:8080/",
          "height": 34
        },
        "outputId": "5c9d4460-1839-4736-bf54-e3545afc0a77"
      },
      "source": [
        "dataframe.shape"
      ],
      "execution_count": 10,
      "outputs": [
        {
          "output_type": "execute_result",
          "data": {
            "text/plain": [
              "(10, 17)"
            ]
          },
          "metadata": {
            "tags": []
          },
          "execution_count": 10
        }
      ]
    },
    {
      "cell_type": "markdown",
      "metadata": {
        "id": "HeG9-4t-hcqU",
        "colab_type": "text"
      },
      "source": [
        "Define information of interest and filter dataframe\n"
      ]
    },
    {
      "cell_type": "code",
      "metadata": {
        "id": "Q7y5t6Z2hdLA",
        "colab_type": "code",
        "colab": {
          "base_uri": "https://localhost:8080/",
          "height": 666
        },
        "outputId": "2adae764-d224-4faf-bcb2-e8ab9ee39032"
      },
      "source": [
        "# keep only columns that include venue name, and anything that is associated with location\n",
        "filtered_columns = ['name', 'categories'] + [col for col in dataframe.columns if col.startswith('location.')] + ['id']\n",
        "dataframe_filtered = dataframe.loc[:, filtered_columns]\n",
        "\n",
        "# function that extracts the category of the venue\n",
        "def get_category_type(row):\n",
        "    try:\n",
        "        categories_list = row['categories']\n",
        "    except:\n",
        "        categories_list = row['venue.categories']\n",
        "        \n",
        "    if len(categories_list) == 0:\n",
        "        return None\n",
        "    else:\n",
        "        return categories_list[0]['name']\n",
        "\n",
        "# filter the category for each row\n",
        "dataframe_filtered['categories'] = dataframe_filtered.apply(get_category_type, axis=1)\n",
        "\n",
        "# clean column names by keeping only last term\n",
        "dataframe_filtered.columns = [column.split('.')[-1] for column in dataframe_filtered.columns]\n",
        "\n",
        "dataframe_filtered"
      ],
      "execution_count": 11,
      "outputs": [
        {
          "output_type": "execute_result",
          "data": {
            "text/html": [
              "<div>\n",
              "<style scoped>\n",
              "    .dataframe tbody tr th:only-of-type {\n",
              "        vertical-align: middle;\n",
              "    }\n",
              "\n",
              "    .dataframe tbody tr th {\n",
              "        vertical-align: top;\n",
              "    }\n",
              "\n",
              "    .dataframe thead th {\n",
              "        text-align: right;\n",
              "    }\n",
              "</style>\n",
              "<table border=\"1\" class=\"dataframe\">\n",
              "  <thead>\n",
              "    <tr style=\"text-align: right;\">\n",
              "      <th></th>\n",
              "      <th>name</th>\n",
              "      <th>categories</th>\n",
              "      <th>address</th>\n",
              "      <th>cc</th>\n",
              "      <th>city</th>\n",
              "      <th>country</th>\n",
              "      <th>crossStreet</th>\n",
              "      <th>distance</th>\n",
              "      <th>formattedAddress</th>\n",
              "      <th>labeledLatLngs</th>\n",
              "      <th>lat</th>\n",
              "      <th>lng</th>\n",
              "      <th>neighborhood</th>\n",
              "      <th>state</th>\n",
              "      <th>id</th>\n",
              "    </tr>\n",
              "  </thead>\n",
              "  <tbody>\n",
              "    <tr>\n",
              "      <th>0</th>\n",
              "      <td>Pizze-riah Wood-fired pizza</td>\n",
              "      <td>Pizza Place</td>\n",
              "      <td>13 Musa Yar'Adua</td>\n",
              "      <td>NG</td>\n",
              "      <td>Victoria Island</td>\n",
              "      <td>Nigeria</td>\n",
              "      <td>Adeleke Adedoyin Street</td>\n",
              "      <td>450</td>\n",
              "      <td>[13 Musa Yar'Adua (Adeleke Adedoyin Street), V...</td>\n",
              "      <td>[{'label': 'display', 'lat': 6.432408, 'lng': ...</td>\n",
              "      <td>6.432408</td>\n",
              "      <td>3.416935</td>\n",
              "      <td>Victoria Island</td>\n",
              "      <td>Lagos</td>\n",
              "      <td>4f805d88e4b05766b1888536</td>\n",
              "    </tr>\n",
              "    <tr>\n",
              "      <th>1</th>\n",
              "      <td>Domino's Pizza</td>\n",
              "      <td>Pizza Place</td>\n",
              "      <td>NaN</td>\n",
              "      <td>NG</td>\n",
              "      <td>Lagos</td>\n",
              "      <td>Nigeria</td>\n",
              "      <td>NaN</td>\n",
              "      <td>654</td>\n",
              "      <td>[Lagos, Lagos, Nigeria]</td>\n",
              "      <td>[{'label': 'display', 'lat': 6.430613088695371...</td>\n",
              "      <td>6.430613</td>\n",
              "      <td>3.415466</td>\n",
              "      <td>NaN</td>\n",
              "      <td>Lagos</td>\n",
              "      <td>5041105be4b0af4f728b1946</td>\n",
              "    </tr>\n",
              "    <tr>\n",
              "      <th>2</th>\n",
              "      <td>Pizza Hut</td>\n",
              "      <td>Pizza Place</td>\n",
              "      <td>156 Awolowo Road</td>\n",
              "      <td>NG</td>\n",
              "      <td>Lagos</td>\n",
              "      <td>Nigeria</td>\n",
              "      <td>Ikoyi</td>\n",
              "      <td>872</td>\n",
              "      <td>[156 Awolowo Road (Ikoyi), Lagos, Lagos, Nigeria]</td>\n",
              "      <td>[{'label': 'display', 'lat': 6.442669, 'lng': ...</td>\n",
              "      <td>6.442669</td>\n",
              "      <td>3.421155</td>\n",
              "      <td>NaN</td>\n",
              "      <td>Lagos</td>\n",
              "      <td>5c4230419deb7d002cc18980</td>\n",
              "    </tr>\n",
              "    <tr>\n",
              "      <th>3</th>\n",
              "      <td>Domino's Pizza</td>\n",
              "      <td>Pizza Place</td>\n",
              "      <td>NaN</td>\n",
              "      <td>NG</td>\n",
              "      <td>Lagos</td>\n",
              "      <td>Nigeria</td>\n",
              "      <td>NaN</td>\n",
              "      <td>1061</td>\n",
              "      <td>[Lagos, Lagos, Nigeria]</td>\n",
              "      <td>[{'label': 'display', 'lat': 6.426898805981946...</td>\n",
              "      <td>6.426899</td>\n",
              "      <td>3.416876</td>\n",
              "      <td>NaN</td>\n",
              "      <td>Lagos</td>\n",
              "      <td>5027d6aee4b0c80453509155</td>\n",
              "    </tr>\n",
              "    <tr>\n",
              "      <th>4</th>\n",
              "      <td>La Pizza</td>\n",
              "      <td>Pizza Place</td>\n",
              "      <td>Victoria Island</td>\n",
              "      <td>NG</td>\n",
              "      <td>Lagos</td>\n",
              "      <td>Nigeria</td>\n",
              "      <td>NaN</td>\n",
              "      <td>1219</td>\n",
              "      <td>[Victoria Island, Lagos, Lagos, Nigeria]</td>\n",
              "      <td>[{'label': 'display', 'lat': 6.426928, 'lng': ...</td>\n",
              "      <td>6.426928</td>\n",
              "      <td>3.410887</td>\n",
              "      <td>NaN</td>\n",
              "      <td>Lagos</td>\n",
              "      <td>519e17c1498e8aa36af27ab0</td>\n",
              "    </tr>\n",
              "    <tr>\n",
              "      <th>5</th>\n",
              "      <td>Debonair's Pizza</td>\n",
              "      <td>Pizza Place</td>\n",
              "      <td>Mobil filling station Awolowo road</td>\n",
              "      <td>NG</td>\n",
              "      <td>Ikoyi</td>\n",
              "      <td>Nigeria</td>\n",
              "      <td>Awolowo road</td>\n",
              "      <td>702</td>\n",
              "      <td>[Mobil filling station Awolowo road (Awolowo r...</td>\n",
              "      <td>[{'label': 'display', 'lat': 6.442298, 'lng': ...</td>\n",
              "      <td>6.442298</td>\n",
              "      <td>3.418705</td>\n",
              "      <td>NaN</td>\n",
              "      <td>Lagos</td>\n",
              "      <td>58372a9ca6118c60b52d5715</td>\n",
              "    </tr>\n",
              "    <tr>\n",
              "      <th>6</th>\n",
              "      <td>Pizza Marella</td>\n",
              "      <td>Restaurant</td>\n",
              "      <td>NaN</td>\n",
              "      <td>NG</td>\n",
              "      <td>NaN</td>\n",
              "      <td>Nigeria</td>\n",
              "      <td>NaN</td>\n",
              "      <td>1273</td>\n",
              "      <td>[Nigeria]</td>\n",
              "      <td>[{'label': 'display', 'lat': 6.429894887562193...</td>\n",
              "      <td>6.429895</td>\n",
              "      <td>3.425848</td>\n",
              "      <td>NaN</td>\n",
              "      <td>NaN</td>\n",
              "      <td>53a80e0b498e1f19d246e780</td>\n",
              "    </tr>\n",
              "    <tr>\n",
              "      <th>7</th>\n",
              "      <td>Debonairs pizza</td>\n",
              "      <td>Pizza Place</td>\n",
              "      <td>Adeola Odeku</td>\n",
              "      <td>NG</td>\n",
              "      <td>Victoria Island</td>\n",
              "      <td>Nigeria</td>\n",
              "      <td>NaN</td>\n",
              "      <td>812</td>\n",
              "      <td>[Adeola Odeku, Victoria Island, Lagos, Nigeria]</td>\n",
              "      <td>[{'label': 'display', 'lat': 6.429953247865860...</td>\n",
              "      <td>6.429953</td>\n",
              "      <td>3.419802</td>\n",
              "      <td>NaN</td>\n",
              "      <td>Lagos</td>\n",
              "      <td>4c6275ac58810f470c32071e</td>\n",
              "    </tr>\n",
              "    <tr>\n",
              "      <th>8</th>\n",
              "      <td>Dominos Pizza</td>\n",
              "      <td>Pizza Place</td>\n",
              "      <td>NaN</td>\n",
              "      <td>NG</td>\n",
              "      <td>Lagos</td>\n",
              "      <td>Nigeria</td>\n",
              "      <td>NaN</td>\n",
              "      <td>872</td>\n",
              "      <td>[Lagos, Lagos, Nigeria]</td>\n",
              "      <td>[{'label': 'display', 'lat': 6.442575, 'lng': ...</td>\n",
              "      <td>6.442575</td>\n",
              "      <td>3.421276</td>\n",
              "      <td>NaN</td>\n",
              "      <td>Lagos</td>\n",
              "      <td>5b8fff0812c8f00039e5cc01</td>\n",
              "    </tr>\n",
              "    <tr>\n",
              "      <th>9</th>\n",
              "      <td>Dominos Pizza</td>\n",
              "      <td>None</td>\n",
              "      <td>NaN</td>\n",
              "      <td>NG</td>\n",
              "      <td>NaN</td>\n",
              "      <td>Nigeria</td>\n",
              "      <td>NaN</td>\n",
              "      <td>1211</td>\n",
              "      <td>[Nigeria]</td>\n",
              "      <td>[{'label': 'display', 'lat': 6.4261206, 'lng':...</td>\n",
              "      <td>6.426121</td>\n",
              "      <td>3.419931</td>\n",
              "      <td>NaN</td>\n",
              "      <td>NaN</td>\n",
              "      <td>518bf3b7e4b0dabd6ec192a5</td>\n",
              "    </tr>\n",
              "  </tbody>\n",
              "</table>\n",
              "</div>"
            ],
            "text/plain": [
              "                          name   categories  ...  state                        id\n",
              "0  Pizze-riah Wood-fired pizza  Pizza Place  ...  Lagos  4f805d88e4b05766b1888536\n",
              "1               Domino's Pizza  Pizza Place  ...  Lagos  5041105be4b0af4f728b1946\n",
              "2                    Pizza Hut  Pizza Place  ...  Lagos  5c4230419deb7d002cc18980\n",
              "3               Domino's Pizza  Pizza Place  ...  Lagos  5027d6aee4b0c80453509155\n",
              "4                     La Pizza  Pizza Place  ...  Lagos  519e17c1498e8aa36af27ab0\n",
              "5             Debonair's Pizza  Pizza Place  ...  Lagos  58372a9ca6118c60b52d5715\n",
              "6                Pizza Marella   Restaurant  ...    NaN  53a80e0b498e1f19d246e780\n",
              "7              Debonairs pizza  Pizza Place  ...  Lagos  4c6275ac58810f470c32071e\n",
              "8                Dominos Pizza  Pizza Place  ...  Lagos  5b8fff0812c8f00039e5cc01\n",
              "9                Dominos Pizza         None  ...    NaN  518bf3b7e4b0dabd6ec192a5\n",
              "\n",
              "[10 rows x 15 columns]"
            ]
          },
          "metadata": {
            "tags": []
          },
          "execution_count": 11
        }
      ]
    },
    {
      "cell_type": "code",
      "metadata": {
        "id": "HXrh2a38hsjE",
        "colab_type": "code",
        "colab": {
          "base_uri": "https://localhost:8080/",
          "height": 34
        },
        "outputId": "fd5f9cdd-9c55-4aa8-9707-5aa6f37c1157"
      },
      "source": [
        "dataframe_filtered.shape"
      ],
      "execution_count": 12,
      "outputs": [
        {
          "output_type": "execute_result",
          "data": {
            "text/plain": [
              "(10, 15)"
            ]
          },
          "metadata": {
            "tags": []
          },
          "execution_count": 12
        }
      ]
    },
    {
      "cell_type": "markdown",
      "metadata": {
        "id": "LALmM4FiiniU",
        "colab_type": "text"
      },
      "source": [
        "Let's visualize the Pizza restaurants that are nearby"
      ]
    },
    {
      "cell_type": "code",
      "metadata": {
        "id": "uZ0zXcFohtJ_",
        "colab_type": "code",
        "colab": {
          "base_uri": "https://localhost:8080/",
          "height": 202
        },
        "outputId": "2ee097f5-685a-42af-9c80-151c580f9c1d"
      },
      "source": [
        "dataframe_filtered.name"
      ],
      "execution_count": 13,
      "outputs": [
        {
          "output_type": "execute_result",
          "data": {
            "text/plain": [
              "0    Pizze-riah Wood-fired pizza\n",
              "1                 Domino's Pizza\n",
              "2                      Pizza Hut\n",
              "3                 Domino's Pizza\n",
              "4                       La Pizza\n",
              "5               Debonair's Pizza\n",
              "6                  Pizza Marella\n",
              "7                Debonairs pizza\n",
              "8                  Dominos Pizza\n",
              "9                  Dominos Pizza\n",
              "Name: name, dtype: object"
            ]
          },
          "metadata": {
            "tags": []
          },
          "execution_count": 13
        }
      ]
    },
    {
      "cell_type": "code",
      "metadata": {
        "id": "f8ZHpR7mizCf",
        "colab_type": "code",
        "colab": {
          "base_uri": "https://localhost:8080/",
          "height": 853
        },
        "outputId": "4ed2d70f-a99b-4146-ed23-8a407524e9da"
      },
      "source": [
        "venues_map = folium.Map(location=[latitude, longitude], zoom_start=13) # generate map centred around the Eko Hotel\n",
        "\n",
        "# add a red circle marker to represent the Eko Hotel\n",
        "folium.CircleMarker(\n",
        "    [latitude, longitude],\n",
        "    radius=10,\n",
        "    color='red',\n",
        "    popup='Eko Hotel',\n",
        "    fill = True,\n",
        "    fill_color = 'red',\n",
        "    fill_opacity = 0.6\n",
        ").add_to(venues_map)\n",
        "\n",
        "# add the Chinese restaurants as blue circle markers\n",
        "for lat, lng, label in zip(dataframe_filtered.lat, dataframe_filtered.lng, dataframe_filtered.categories):\n",
        "    folium.CircleMarker(\n",
        "        [lat, lng],\n",
        "        radius=5,\n",
        "        color='blue',\n",
        "        popup=label,\n",
        "        fill = True,\n",
        "        fill_color='blue',\n",
        "        fill_opacity=0.6\n",
        "    ).add_to(venues_map)\n",
        "\n",
        "# display map\n",
        "venues_map"
      ],
      "execution_count": 14,
      "outputs": [
        {
          "output_type": "execute_result",
          "data": {
            "text/html": [
              "<div style=\"width:100%;\"><div style=\"position:relative;width:100%;height:0;padding-bottom:60%;\"><iframe src=\"data:text/html;charset=utf-8;base64,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\" style=\"position:absolute;width:100%;height:100%;left:0;top:0;border:none !important;\" allowfullscreen webkitallowfullscreen mozallowfullscreen></iframe></div></div>"
            ],
            "text/plain": [
              "<folium.folium.Map at 0x7f02d8f5e9e8>"
            ]
          },
          "metadata": {
            "tags": []
          },
          "execution_count": 14
        }
      ]
    },
    {
      "cell_type": "markdown",
      "metadata": {
        "id": "ITs0kb4lkHOD",
        "colab_type": "text"
      },
      "source": [
        "### Let's explore the closest Pizza restaurant -- Dominos Pizza\n"
      ]
    },
    {
      "cell_type": "code",
      "metadata": {
        "id": "ZCiyJPqjkOvX",
        "colab_type": "code",
        "colab": {
          "base_uri": "https://localhost:8080/",
          "height": 54
        },
        "outputId": "876e729f-c1ad-4ba5-d820-b3cc5d410688"
      },
      "source": [
        "venue_id = '5041105be4b0af4f728b1946' # ID of Dominos Pizza\n",
        "url = 'https://api.foursquare.com/v2/venues/{}?client_id={}&client_secret={}&v={}'.format(venue_id, CLIENT_ID, CLIENT_SECRET, VERSION)\n",
        "url"
      ],
      "execution_count": 15,
      "outputs": [
        {
          "output_type": "execute_result",
          "data": {
            "text/plain": [
              "'https://api.foursquare.com/v2/venues/5041105be4b0af4f728b1946?client_id=L2XUYCRD44VP2YBDMZ3XY0Z4XKO1JODM5SMG3IIYRZ5330FD&client_secret=5KI00FG4RT2VJQTIDPXFY1N4AOKTIXLIZEAO0AHPP3DPD0U1&v=20190620'"
            ]
          },
          "metadata": {
            "tags": []
          },
          "execution_count": 15
        }
      ]
    },
    {
      "cell_type": "code",
      "metadata": {
        "id": "DwwIOCFXk0Ua",
        "colab_type": "code",
        "colab": {
          "base_uri": "https://localhost:8080/",
          "height": 1616
        },
        "outputId": "8c96a142-c066-4d9b-ca9e-8c63d160697f"
      },
      "source": [
        "result = requests.get(url).json()\n",
        "print(result['response']['venue'].keys())\n",
        "result['response']['venue']"
      ],
      "execution_count": 16,
      "outputs": [
        {
          "output_type": "stream",
          "text": [
            "dict_keys(['id', 'name', 'contact', 'location', 'canonicalUrl', 'categories', 'verified', 'stats', 'price', 'likes', 'dislike', 'ok', 'allowMenuUrlEdit', 'beenHere', 'specials', 'photos', 'reasons', 'hereNow', 'createdAt', 'tips', 'shortUrl', 'timeZone', 'listed', 'pageUpdates', 'inbox', 'attributes'])\n"
          ],
          "name": "stdout"
        },
        {
          "output_type": "execute_result",
          "data": {
            "text/plain": [
              "{'allowMenuUrlEdit': True,\n",
              " 'attributes': {'groups': [{'count': 1,\n",
              "    'items': [{'displayName': 'Price', 'displayValue': '$', 'priceTier': 1}],\n",
              "    'name': 'Price',\n",
              "    'summary': '$',\n",
              "    'type': 'price'}]},\n",
              " 'beenHere': {'count': 0,\n",
              "  'lastCheckinExpiredAt': 0,\n",
              "  'marked': False,\n",
              "  'unconfirmedCount': 0},\n",
              " 'canonicalUrl': 'https://foursquare.com/v/dominos-pizza/5041105be4b0af4f728b1946',\n",
              " 'categories': [{'icon': {'prefix': 'https://ss3.4sqi.net/img/categories_v2/food/pizza_',\n",
              "    'suffix': '.png'},\n",
              "   'id': '4bf58dd8d48988d1ca941735',\n",
              "   'name': 'Pizza Place',\n",
              "   'pluralName': 'Pizza Places',\n",
              "   'primary': True,\n",
              "   'shortName': 'Pizza'}],\n",
              " 'contact': {},\n",
              " 'createdAt': 1346441307,\n",
              " 'dislike': False,\n",
              " 'hereNow': {'count': 0, 'groups': [], 'summary': 'Nobody here'},\n",
              " 'id': '5041105be4b0af4f728b1946',\n",
              " 'inbox': {'count': 0, 'items': []},\n",
              " 'likes': {'count': 2,\n",
              "  'groups': [{'count': 2,\n",
              "    'items': [{'firstName': 'Oluwayemisola',\n",
              "      'gender': 'female',\n",
              "      'id': '91977840',\n",
              "      'lastName': 'T',\n",
              "      'photo': {'prefix': 'https://fastly.4sqi.net/img/user/',\n",
              "       'suffix': '/91977840-EIX5LIPD4QMDDNIG.jpg'}},\n",
              "     {'firstName': 'Bhagya',\n",
              "      'gender': 'male',\n",
              "      'id': '36482042',\n",
              "      'lastName': 'D',\n",
              "      'photo': {'prefix': 'https://fastly.4sqi.net/img/user/',\n",
              "       'suffix': '/HRZLGIVGMMRT1YOE.jpg'}}],\n",
              "    'type': 'others'}],\n",
              "  'summary': '2 Likes'},\n",
              " 'listed': {'count': 0,\n",
              "  'groups': [{'count': 0,\n",
              "    'items': [],\n",
              "    'name': 'Lists from other people',\n",
              "    'type': 'others'}]},\n",
              " 'location': {'cc': 'NG',\n",
              "  'city': 'Lagos',\n",
              "  'country': 'Nigeria',\n",
              "  'formattedAddress': ['Lagos', 'Lagos', 'Nigeria'],\n",
              "  'labeledLatLngs': [{'label': 'display',\n",
              "    'lat': 6.430613088695371,\n",
              "    'lng': 3.4154657971086344}],\n",
              "  'lat': 6.430613088695371,\n",
              "  'lng': 3.4154657971086344,\n",
              "  'state': 'Lagos'},\n",
              " 'name': \"Domino's Pizza\",\n",
              " 'ok': False,\n",
              " 'pageUpdates': {'count': 0, 'items': []},\n",
              " 'photos': {'count': 0,\n",
              "  'groups': [{'count': 0,\n",
              "    'items': [],\n",
              "    'name': \"Friends' check-in photos\",\n",
              "    'type': 'checkin'}],\n",
              "  'summary': 'No photos'},\n",
              " 'price': {'currency': '$', 'message': 'Cheap', 'tier': 1},\n",
              " 'reasons': {'count': 0, 'items': []},\n",
              " 'shortUrl': 'http://4sq.com/TFocli',\n",
              " 'specials': {'count': 0, 'items': []},\n",
              " 'stats': {'tipCount': 1},\n",
              " 'timeZone': 'Africa/Lagos',\n",
              " 'tips': {'count': 1,\n",
              "  'groups': [{'count': 1,\n",
              "    'items': [{'agreeCount': 0,\n",
              "      'authorInteractionType': 'liked',\n",
              "      'canonicalUrl': 'https://foursquare.com/item/53fe02df498e1e49f2a95eba',\n",
              "      'createdAt': 1409155807,\n",
              "      'disagreeCount': 0,\n",
              "      'id': '53fe02df498e1e49f2a95eba',\n",
              "      'lang': 'en',\n",
              "      'likes': {'count': 0, 'groups': []},\n",
              "      'logView': True,\n",
              "      'text': 'Met a bestest friend funmilayo',\n",
              "      'todo': {'count': 0},\n",
              "      'type': 'user',\n",
              "      'user': {'firstName': 'Oluwayemisola',\n",
              "       'gender': 'female',\n",
              "       'id': '91977840',\n",
              "       'lastName': 'T',\n",
              "       'photo': {'prefix': 'https://fastly.4sqi.net/img/user/',\n",
              "        'suffix': '/91977840-EIX5LIPD4QMDDNIG.jpg'}}}],\n",
              "    'name': 'All tips',\n",
              "    'type': 'others'}]},\n",
              " 'verified': False}"
            ]
          },
          "metadata": {
            "tags": []
          },
          "execution_count": 16
        }
      ]
    },
    {
      "cell_type": "markdown",
      "metadata": {
        "id": "XYTUt4b5lZty",
        "colab_type": "text"
      },
      "source": [
        "### Get the venue's rating for the closest restaurant- Dominos Pizza"
      ]
    },
    {
      "cell_type": "code",
      "metadata": {
        "id": "vCrzIunglYB6",
        "colab_type": "code",
        "colab": {
          "base_uri": "https://localhost:8080/",
          "height": 34
        },
        "outputId": "49362b6e-88da-4fb6-ab04-3d40de52c85c"
      },
      "source": [
        "closest_venue_id = '5041105be4b0af4f728b1946' # ID Dominos Pizza\n",
        "\n",
        "url = 'https://api.foursquare.com/v2/venues/{}?client_id={}&client_secret={}&v={}'.format(venue_id, CLIENT_ID, CLIENT_SECRET, VERSION)\n",
        "\n",
        "result = requests.get(url).json()\n",
        "try:\n",
        "    print(result['response']['venue']['likes']['count'])\n",
        "except:\n",
        "    print('This venue has not been rated yet.')"
      ],
      "execution_count": 17,
      "outputs": [
        {
          "output_type": "stream",
          "text": [
            "2\n"
          ],
          "name": "stdout"
        }
      ]
    },
    {
      "cell_type": "markdown",
      "metadata": {
        "id": "CFIlkk_nmEMQ",
        "colab_type": "text"
      },
      "source": [
        "That is not a very good rating. As it has only two likes.  Let's check the rating of all the Pizza restaurants and return the name and rating of the highest rated restaurant"
      ]
    },
    {
      "cell_type": "code",
      "metadata": {
        "id": "Lk6V-CFZphNM",
        "colab_type": "code",
        "colab": {
          "base_uri": "https://localhost:8080/",
          "height": 34
        },
        "outputId": "6d1b2e9c-abec-4b9b-d976-fe4d9030fc44"
      },
      "source": [
        "def find_highest_rated(dataframe_filtered):\n",
        "    id_list = list(dataframe_filtered.id)\n",
        "    id_name = list(dataframe_filtered.name)\n",
        "    max_rating = 0\n",
        "    name = ''\n",
        "    \n",
        "    for i,j in zip(id_list, id_name):\n",
        "        url = 'https://api.foursquare.com/v2/venues/{}?client_id={}&client_secret={}&v={}'.format(i, CLIENT_ID, CLIENT_SECRET, VERSION)\n",
        "        result = requests.get(url).json()\n",
        "        try:\n",
        "            x = result['response']['venue']['likes']['count']\n",
        "            if x > max_rating:\n",
        "                max_rating = x\n",
        "                name = j\n",
        "                \n",
        "        except:\n",
        "            pass\n",
        "    return (max_rating, name)\n",
        "   \n",
        "\n",
        "max_rated_restaurant = find_highest_rated(dataframe_filtered)\n",
        "max_rated_restaurant"
      ],
      "execution_count": 18,
      "outputs": [
        {
          "output_type": "execute_result",
          "data": {
            "text/plain": [
              "(36, 'Debonairs pizza')"
            ]
          },
          "metadata": {
            "tags": []
          },
          "execution_count": 18
        }
      ]
    },
    {
      "cell_type": "markdown",
      "metadata": {
        "id": "dqfjHaN8vgtn",
        "colab_type": "text"
      },
      "source": [
        "Let's see some of Debonairs Pizza Stats"
      ]
    },
    {
      "cell_type": "code",
      "metadata": {
        "id": "uGhTu9mfvoZ_",
        "colab_type": "code",
        "colab": {
          "base_uri": "https://localhost:8080/",
          "height": 34
        },
        "outputId": "79ba4b9d-2786-4543-8582-a20006d4c355"
      },
      "source": [
        "best_venue_id = '4c6275ac58810f470c32071e' # ID Debonairs Pizza\n",
        "\n",
        "url = 'https://api.foursquare.com/v2/venues/{}?client_id={}&client_secret={}&v={}'.format(best_venue_id, CLIENT_ID, CLIENT_SECRET, VERSION)\n",
        "\n",
        "result = requests.get(url).json()\n",
        "try:\n",
        "    print(result['response']['venue']['likes'])\n",
        "except:\n",
        "    print('This venue has not been rated yet.')"
      ],
      "execution_count": 19,
      "outputs": [
        {
          "output_type": "stream",
          "text": [
            "{'count': 36, 'groups': [{'type': 'others', 'count': 36, 'items': []}], 'summary': '36 Likes'}\n"
          ],
          "name": "stdout"
        }
      ]
    },
    {
      "cell_type": "markdown",
      "metadata": {
        "id": "FIOiImSfrZJw",
        "colab_type": "text"
      },
      "source": [
        "Debonairs Pizza has the highest Rating as at today 20th June 2019"
      ]
    },
    {
      "cell_type": "markdown",
      "metadata": {
        "id": "aIKM82kbw_yG",
        "colab_type": "text"
      },
      "source": [
        "Let's see some of the likes for Debonairs pizza"
      ]
    },
    {
      "cell_type": "code",
      "metadata": {
        "id": "wadlnAicuI6N",
        "colab_type": "code",
        "colab": {
          "base_uri": "https://localhost:8080/",
          "height": 6135
        },
        "outputId": "6a2596c7-b53e-4d90-9138-ba559bc86d35"
      },
      "source": [
        "best_venue_id = '4c6275ac58810f470c32071e' # ID Debonairs Pizza\n",
        "\n",
        "url = 'https://api.foursquare.com/v2/venues/{}?client_id={}&client_secret={}&v={}'.format(best_venue_id, CLIENT_ID, CLIENT_SECRET, VERSION)\n",
        "\n",
        "best_result = requests.get(url).json()\n",
        "print(result['response']['venue'].keys())\n",
        "\n",
        "best_result['response']['venue']"
      ],
      "execution_count": 20,
      "outputs": [
        {
          "output_type": "stream",
          "text": [
            "dict_keys(['id', 'name', 'contact', 'location', 'canonicalUrl', 'categories', 'verified', 'stats', 'price', 'likes', 'dislike', 'ok', 'rating', 'ratingColor', 'ratingSignals', 'allowMenuUrlEdit', 'beenHere', 'specials', 'photos', 'reasons', 'hereNow', 'createdAt', 'tips', 'shortUrl', 'timeZone', 'listed', 'popular', 'pageUpdates', 'inbox', 'parent', 'hierarchy', 'attributes', 'bestPhoto', 'colors'])\n"
          ],
          "name": "stdout"
        },
        {
          "output_type": "execute_result",
          "data": {
            "text/plain": [
              "{'allowMenuUrlEdit': True,\n",
              " 'attributes': {'groups': [{'count': 1,\n",
              "    'items': [{'displayName': 'Price', 'displayValue': '$', 'priceTier': 1}],\n",
              "    'name': 'Price',\n",
              "    'summary': '$',\n",
              "    'type': 'price'},\n",
              "   {'count': 3,\n",
              "    'items': [{'displayName': 'Reservations', 'displayValue': 'No'}],\n",
              "    'name': 'Reservations',\n",
              "    'type': 'reservations'},\n",
              "   {'count': 5,\n",
              "    'items': [{'displayName': 'Credit Cards', 'displayValue': 'Yes'}],\n",
              "    'name': 'Credit Cards',\n",
              "    'summary': 'Credit Cards',\n",
              "    'type': 'payments'},\n",
              "   {'count': 1,\n",
              "    'items': [{'displayName': 'Outdoor Seating', 'displayValue': 'Yes'}],\n",
              "    'name': 'Outdoor Seating',\n",
              "    'summary': 'Outdoor Seating',\n",
              "    'type': 'outdoorSeating'},\n",
              "   {'count': 1,\n",
              "    'items': [{'displayName': 'Wi-Fi', 'displayValue': 'Yes'}],\n",
              "    'name': 'Wi-Fi',\n",
              "    'summary': 'Wi-Fi',\n",
              "    'type': 'wifi'},\n",
              "   {'count': 8,\n",
              "    'items': [{'displayName': 'Brunch', 'displayValue': 'Brunch'},\n",
              "     {'displayName': 'Lunch', 'displayValue': 'Lunch'},\n",
              "     {'displayName': 'Dinner', 'displayValue': 'Dinner'}],\n",
              "    'name': 'Menus',\n",
              "    'summary': 'Dinner, Lunch & more',\n",
              "    'type': 'serves'},\n",
              "   {'count': 5,\n",
              "    'items': [{'displayName': 'Delivery', 'displayValue': 'Delivery'}],\n",
              "    'name': 'Dining Options',\n",
              "    'summary': 'Delivery',\n",
              "    'type': 'diningOptions'}]},\n",
              " 'beenHere': {'count': 0,\n",
              "  'lastCheckinExpiredAt': 0,\n",
              "  'marked': False,\n",
              "  'unconfirmedCount': 0},\n",
              " 'bestPhoto': {'createdAt': 1352231997,\n",
              "  'height': 480,\n",
              "  'id': '50996c3de4b042bde6b0a545',\n",
              "  'prefix': 'https://fastly.4sqi.net/img/general/',\n",
              "  'source': {'name': 'Foursquare for BlackBerry',\n",
              "   'url': 'https://foursquare.com/download/#/blackberry'},\n",
              "  'suffix': '/28563218_GwMA_0qVzG08tDpSyBfJlQF3DtsIpsmgt331ArOCBug.jpg',\n",
              "  'visibility': 'public',\n",
              "  'width': 640},\n",
              " 'canonicalUrl': 'https://foursquare.com/v/debonairs-pizza/4c6275ac58810f470c32071e',\n",
              " 'categories': [{'icon': {'prefix': 'https://ss3.4sqi.net/img/categories_v2/food/pizza_',\n",
              "    'suffix': '.png'},\n",
              "   'id': '4bf58dd8d48988d1ca941735',\n",
              "   'name': 'Pizza Place',\n",
              "   'pluralName': 'Pizza Places',\n",
              "   'primary': True,\n",
              "   'shortName': 'Pizza'}],\n",
              " 'colors': {'algoVersion': 3,\n",
              "  'highlightColor': {'photoId': '50996c3de4b042bde6b0a545',\n",
              "   'value': -10475512},\n",
              "  'highlightTextColor': {'photoId': '50996c3de4b042bde6b0a545', 'value': -1}},\n",
              " 'contact': {},\n",
              " 'createdAt': 1281521068,\n",
              " 'dislike': False,\n",
              " 'hereNow': {'count': 0, 'groups': [], 'summary': 'Nobody here'},\n",
              " 'hierarchy': [{'canonicalUrl': 'https://foursquare.com/v/park-n-shop/4c93b0df38dd8cfaff09c262',\n",
              "   'id': '4c93b0df38dd8cfaff09c262',\n",
              "   'lang': 'en',\n",
              "   'name': 'Park n Shop'}],\n",
              " 'id': '4c6275ac58810f470c32071e',\n",
              " 'inbox': {'count': 0, 'items': []},\n",
              " 'likes': {'count': 36,\n",
              "  'groups': [{'count': 36, 'items': [], 'type': 'others'}],\n",
              "  'summary': '36 Likes'},\n",
              " 'listed': {'count': 8,\n",
              "  'groups': [{'count': 8,\n",
              "    'items': [{'canonicalUrl': 'https://foursquare.com/nvictta/list/lagos-4sqcities--las-gidi',\n",
              "      'collaborative': True,\n",
              "      'createdAt': 1317049238,\n",
              "      'description': '#4sqCities Lagos, Nigeria',\n",
              "      'editable': False,\n",
              "      'followers': {'count': 97},\n",
              "      'id': '4e8093967beb8f478e4fe6f6',\n",
              "      'listItems': {'count': 54,\n",
              "       'items': [{'createdAt': 1331333258,\n",
              "         'id': 't4e3c4c24d22d102e85321f39'}]},\n",
              "      'name': 'Lagos #4sqCities - Las Gidi',\n",
              "      'photo': {'createdAt': 1328573595,\n",
              "       'height': 612,\n",
              "       'id': '4f306c9be4b094acc7d6a6c2',\n",
              "       'prefix': 'https://fastly.4sqi.net/img/general/',\n",
              "       'suffix': '/OXmk-utVNAsydxruZL9P-Q-CjTj_W4PilukrdzwrmCg.jpg',\n",
              "       'user': {'firstName': 'Richard',\n",
              "        'gender': 'male',\n",
              "        'id': '137288',\n",
              "        'lastName': 'M',\n",
              "        'photo': {'prefix': 'https://fastly.4sqi.net/img/user/',\n",
              "         'suffix': '/137288-5BYQQQ2D1E5QQ23Y'}},\n",
              "       'visibility': 'public',\n",
              "       'width': 612},\n",
              "      'public': True,\n",
              "      'type': 'others',\n",
              "      'updatedAt': 1442122775,\n",
              "      'url': '/nvictta/list/lagos-4sqcities--las-gidi',\n",
              "      'user': {'firstName': 'Vicki',\n",
              "       'gender': 'female',\n",
              "       'id': '12604847',\n",
              "       'lastName': 'N',\n",
              "       'photo': {'prefix': 'https://fastly.4sqi.net/img/user/',\n",
              "        'suffix': '/12604847_VL5KOR9W_xyEK7cRI52fRhRDHDvH9-mkDdPfyVZ--8TvKzwfaDkoGrLVSHrxQUir1gN2Moyl0.jpg'}}},\n",
              "     {'canonicalUrl': 'https://foursquare.com/adewaleogunleye/list/eateries',\n",
              "      'collaborative': False,\n",
              "      'createdAt': 1349027118,\n",
              "      'description': '',\n",
              "      'editable': False,\n",
              "      'followers': {'count': 8},\n",
              "      'id': '5068852ee4b0913fe2e94206',\n",
              "      'listItems': {'count': 23,\n",
              "       'items': [{'createdAt': 1349173558,\n",
              "         'id': 'v4c6275ac58810f470c32071e'}]},\n",
              "      'name': 'eateries',\n",
              "      'photo': {'createdAt': 1315836110,\n",
              "       'height': 345,\n",
              "       'id': '4e6e10ce8998a706cdc29313',\n",
              "       'prefix': 'https://fastly.4sqi.net/img/general/',\n",
              "       'suffix': '/4JD1SBC2YYWUP1L2ZY2UM03PRT5DWEL4UPC4IXYPF312HZIQ.jpg',\n",
              "       'user': {'firstName': 'Soso',\n",
              "        'gender': 'male',\n",
              "        'id': '13450661',\n",
              "        'lastName': 'B',\n",
              "        'photo': {'prefix': 'https://fastly.4sqi.net/img/user/',\n",
              "         'suffix': '/NJOUSAYLWBFHMTTT.jpg'}},\n",
              "       'visibility': 'public',\n",
              "       'width': 460},\n",
              "      'public': True,\n",
              "      'type': 'others',\n",
              "      'updatedAt': 1474348908,\n",
              "      'url': '/adewaleogunleye/list/eateries',\n",
              "      'user': {'firstName': 'Adewale',\n",
              "       'gender': 'male',\n",
              "       'id': '38395824',\n",
              "       'lastName': 'O',\n",
              "       'photo': {'prefix': 'https://fastly.4sqi.net/img/user/',\n",
              "        'suffix': '/1XHXTD5OCA4L0IJB.jpg'}}},\n",
              "     {'canonicalUrl': 'https://foursquare.com/crunk_dynamite/list/been-there',\n",
              "      'collaborative': False,\n",
              "      'createdAt': 1358712386,\n",
              "      'description': '',\n",
              "      'editable': False,\n",
              "      'followers': {'count': 2},\n",
              "      'id': '50fc4e42e4b0ba4147f1c5f7',\n",
              "      'listItems': {'count': 3,\n",
              "       'items': [{'createdAt': 1359046670,\n",
              "         'id': 'v4c6275ac58810f470c32071e'}]},\n",
              "      'name': 'Been there!',\n",
              "      'public': True,\n",
              "      'type': 'others',\n",
              "      'updatedAt': 1359166858,\n",
              "      'url': '/crunk_dynamite/list/been-there',\n",
              "      'user': {'firstName': 'Maria',\n",
              "       'gender': 'female',\n",
              "       'id': '44488104',\n",
              "       'lastName': 'O',\n",
              "       'photo': {'prefix': 'https://fastly.4sqi.net/img/user/',\n",
              "        'suffix': '/NJWVFVMX0CYME5XX.jpg'}}},\n",
              "     {'canonicalUrl': 'https://foursquare.com/tundenaij/list/foodies-adventure',\n",
              "      'collaborative': False,\n",
              "      'createdAt': 1371460993,\n",
              "      'description': '',\n",
              "      'editable': False,\n",
              "      'followers': {'count': 21},\n",
              "      'id': '51bed581498edd1e387a8324',\n",
              "      'listItems': {'count': 197,\n",
              "       'items': [{'createdAt': 1372528930,\n",
              "         'id': 'v4c6275ac58810f470c32071e'}]},\n",
              "      'name': 'Foodies Adventure',\n",
              "      'public': True,\n",
              "      'type': 'others',\n",
              "      'updatedAt': 1450528506,\n",
              "      'url': '/tundenaij/list/foodies-adventure',\n",
              "      'user': {'firstName': 'Tunde Naij®',\n",
              "       'gender': 'male',\n",
              "       'id': '49482746',\n",
              "       'photo': {'prefix': 'https://fastly.4sqi.net/img/user/',\n",
              "        'suffix': '/OH41RPD50UDYURAQ.jpg'}}}],\n",
              "    'name': 'Lists from other people',\n",
              "    'type': 'others'}]},\n",
              " 'location': {'address': 'Adeola Odeku',\n",
              "  'cc': 'NG',\n",
              "  'city': 'Victoria Island',\n",
              "  'country': 'Nigeria',\n",
              "  'formattedAddress': ['Adeola Odeku', 'Victoria Island', 'Lagos', 'Nigeria'],\n",
              "  'labeledLatLngs': [{'label': 'display',\n",
              "    'lat': 6.4299532478658605,\n",
              "    'lng': 3.419801547476229}],\n",
              "  'lat': 6.4299532478658605,\n",
              "  'lng': 3.419801547476229,\n",
              "  'state': 'Lagos'},\n",
              " 'name': 'Debonairs pizza',\n",
              " 'ok': False,\n",
              " 'pageUpdates': {'count': 0, 'items': []},\n",
              " 'parent': {'categories': [{'icon': {'prefix': 'https://ss3.4sqi.net/img/categories_v2/shops/mall_',\n",
              "     'suffix': '.png'},\n",
              "    'id': '4bf58dd8d48988d1fd941735',\n",
              "    'name': 'Shopping Mall',\n",
              "    'pluralName': 'Shopping Malls',\n",
              "    'primary': True,\n",
              "    'shortName': 'Mall'}],\n",
              "  'id': '4c93b0df38dd8cfaff09c262',\n",
              "  'location': {'address': 'Adeola Odeku',\n",
              "   'cc': 'NG',\n",
              "   'city': 'Victoria Island',\n",
              "   'country': 'Nigeria',\n",
              "   'formattedAddress': ['Adeola Odeku', 'Victoria Island', 'Lagos', 'Nigeria'],\n",
              "   'labeledLatLngs': [{'label': 'display',\n",
              "     'lat': 6.4299298639714495,\n",
              "     'lng': 3.4206664848309885}],\n",
              "   'lat': 6.4299298639714495,\n",
              "   'lng': 3.4206664848309885,\n",
              "   'state': 'Lagos'},\n",
              "  'name': 'Park n Shop'},\n",
              " 'photos': {'count': 15,\n",
              "  'groups': [{'count': 0,\n",
              "    'items': [],\n",
              "    'name': \"Friends' check-in photos\",\n",
              "    'type': 'checkin'},\n",
              "   {'count': 15,\n",
              "    'items': [{'createdAt': 1352231997,\n",
              "      'height': 480,\n",
              "      'id': '50996c3de4b042bde6b0a545',\n",
              "      'prefix': 'https://fastly.4sqi.net/img/general/',\n",
              "      'source': {'name': 'Foursquare for BlackBerry',\n",
              "       'url': 'https://foursquare.com/download/#/blackberry'},\n",
              "      'suffix': '/28563218_GwMA_0qVzG08tDpSyBfJlQF3DtsIpsmgt331ArOCBug.jpg',\n",
              "      'user': {'firstName': 'Spicytee',\n",
              "       'gender': 'female',\n",
              "       'id': '28563218',\n",
              "       'photo': {'prefix': 'https://fastly.4sqi.net/img/user/',\n",
              "        'suffix': '/28563218-SUKLFL2BNYHZ5CVV.jpg'}},\n",
              "      'visibility': 'public',\n",
              "      'width': 640},\n",
              "     {'createdAt': 1393240756,\n",
              "      'height': 540,\n",
              "      'id': '530b2ab4498e855141f3dd7d',\n",
              "      'prefix': 'https://fastly.4sqi.net/img/general/',\n",
              "      'source': {'name': 'Foursquare for Android',\n",
              "       'url': 'https://foursquare.com/download/#/android'},\n",
              "      'suffix': '/25329382_ZI5977_JiDud_2tv3J2ENKeEOmbL1h9btT5hoklYmNs.jpg',\n",
              "      'user': {'firstName': 'JH',\n",
              "       'gender': 'male',\n",
              "       'id': '25329382',\n",
              "       'photo': {'prefix': 'https://fastly.4sqi.net/img/user/',\n",
              "        'suffix': '/S0WDR1LX4C5UVLUE.jpg'}},\n",
              "      'visibility': 'public',\n",
              "      'width': 960}],\n",
              "    'name': 'Venue photos',\n",
              "    'type': 'venue'}],\n",
              "  'summary': '0 photos'},\n",
              " 'popular': {'isLocalHoliday': False,\n",
              "  'isOpen': False,\n",
              "  'timeframes': [{'days': 'Today',\n",
              "    'includesToday': True,\n",
              "    'open': [{'renderedTime': '11:00 AM–Noon'},\n",
              "     {'renderedTime': '2:00 PM–9:00 PM'}],\n",
              "    'segments': []},\n",
              "   {'days': 'Fri',\n",
              "    'open': [{'renderedTime': 'Noon–10:00 PM'}],\n",
              "    'segments': []},\n",
              "   {'days': 'Sat', 'open': [{'renderedTime': '24 Hours'}], 'segments': []},\n",
              "   {'days': 'Sun',\n",
              "    'open': [{'renderedTime': '1:00 PM–9:00 PM'}],\n",
              "    'segments': []},\n",
              "   {'days': 'Mon',\n",
              "    'open': [{'renderedTime': 'Noon–10:00 PM'}],\n",
              "    'segments': []},\n",
              "   {'days': 'Tue',\n",
              "    'open': [{'renderedTime': '10:00 AM–9:00 PM'}],\n",
              "    'segments': []},\n",
              "   {'days': 'Wed',\n",
              "    'open': [{'renderedTime': 'Noon–1:00 PM'},\n",
              "     {'renderedTime': '3:00 PM–9:00 PM'}],\n",
              "    'segments': []}]},\n",
              " 'price': {'currency': '$', 'message': 'Cheap', 'tier': 1},\n",
              " 'rating': 7.5,\n",
              " 'ratingColor': 'C5DE35',\n",
              " 'ratingSignals': 51,\n",
              " 'reasons': {'count': 1,\n",
              "  'items': [{'reasonName': 'rawLikesReason',\n",
              "    'summary': 'Lots of people like this place',\n",
              "    'type': 'general'}]},\n",
              " 'shortUrl': 'http://4sq.com/aDL9hV',\n",
              " 'specials': {'count': 0, 'items': []},\n",
              " 'stats': {'tipCount': 12},\n",
              " 'timeZone': 'Africa/Lagos',\n",
              " 'tips': {'count': 12,\n",
              "  'groups': [{'count': 12,\n",
              "    'items': [{'agreeCount': 2,\n",
              "      'authorInteractionType': 'disliked',\n",
              "      'canonicalUrl': 'https://foursquare.com/item/521f542411d2b2067ab9aab0',\n",
              "      'createdAt': 1377784868,\n",
              "      'disagreeCount': 0,\n",
              "      'id': '521f542411d2b2067ab9aab0',\n",
              "      'lang': 'en',\n",
              "      'lastUpvoteTimestamp': 1556868155,\n",
              "      'lastVoteText': 'Upvoted May 3',\n",
              "      'likes': {'count': 2,\n",
              "       'groups': [{'count': 2,\n",
              "         'items': [{'firstName': 'Toluwalase Ebenezer',\n",
              "           'gender': 'male',\n",
              "           'id': '541134462',\n",
              "           'lastName': 'A',\n",
              "           'photo': {'default': True,\n",
              "            'prefix': 'https://fastly.4sqi.net/img/user/',\n",
              "            'suffix': '/blank_boy.png'}},\n",
              "          {'firstName': 'Narendra',\n",
              "           'gender': 'male',\n",
              "           'id': '86312136',\n",
              "           'lastName': 'V',\n",
              "           'photo': {'prefix': 'https://fastly.4sqi.net/img/user/',\n",
              "            'suffix': '/86312136-IMA01VBMQEXYHJC2.jpg'}}],\n",
              "         'type': 'others'}],\n",
              "       'summary': '2 likes'},\n",
              "      'logView': True,\n",
              "      'text': \"Woooow!trust me better than d SL's own\",\n",
              "      'todo': {'count': 0},\n",
              "      'type': 'user',\n",
              "      'user': {'firstName': 'Tina \"Duchess Makeovers\"',\n",
              "       'gender': 'female',\n",
              "       'id': '64238327',\n",
              "       'lastName': 'A',\n",
              "       'photo': {'prefix': 'https://fastly.4sqi.net/img/user/',\n",
              "        'suffix': '/64238327_-CjhmwrE_sp0IFrwxycJVA7q-2Umw9e9iBYqSAKgAmVAykpwqTefudLOv3f20jcxf12cqwTWZ.jpg'}}},\n",
              "     {'agreeCount': 1,\n",
              "      'canonicalUrl': 'https://foursquare.com/item/5458b704498e1ab64b727436',\n",
              "      'createdAt': 1415100164,\n",
              "      'disagreeCount': 0,\n",
              "      'id': '5458b704498e1ab64b727436',\n",
              "      'lang': 'en',\n",
              "      'likes': {'count': 1,\n",
              "       'groups': [{'count': 1,\n",
              "         'items': [{'firstName': 'Lucky',\n",
              "           'gender': 'male',\n",
              "           'id': '119367471',\n",
              "           'lastName': 'D',\n",
              "           'photo': {'prefix': 'https://fastly.4sqi.net/img/user/',\n",
              "            'suffix': '/119367471-3BN0J3RIPBZ431YN.jpg'}}],\n",
              "         'type': 'others'}],\n",
              "       'summary': '1 like'},\n",
              "      'logView': True,\n",
              "      'text': 'The triple Decker anything is a treat you should enjoy as often as you can.',\n",
              "      'todo': {'count': 1},\n",
              "      'type': 'user',\n",
              "      'user': {'firstName': 'Omobola',\n",
              "       'gender': 'female',\n",
              "       'id': '94019944',\n",
              "       'lastName': 'F',\n",
              "       'photo': {'prefix': 'https://fastly.4sqi.net/img/user/',\n",
              "        'suffix': '/94019944-J3UVYYZKSG31TMXK.jpg'}}}],\n",
              "    'name': 'All tips',\n",
              "    'type': 'others'}]},\n",
              " 'verified': False}"
            ]
          },
          "metadata": {
            "tags": []
          },
          "execution_count": 20
        }
      ]
    },
    {
      "cell_type": "markdown",
      "metadata": {
        "id": "t0C5r-1TyTVA",
        "colab_type": "text"
      },
      "source": [
        "### Let's get the venue tips<br>\n",
        "Create URL and send GET request. Make sure to set limit to get all tips"
      ]
    },
    {
      "cell_type": "code",
      "metadata": {
        "id": "OZ9-zi5VyXUv",
        "colab_type": "code",
        "colab": {
          "base_uri": "https://localhost:8080/",
          "height": 34
        },
        "outputId": "ed07bed3-6f00-4eca-e500-a1c4276fc662"
      },
      "source": [
        "## Debonairs tips\n",
        "limit = 15 # set limit to be greater than or equal to the total number of tips\n",
        "url = 'https://api.foursquare.com/v2/venues/{}/tips?client_id={}&client_secret={}&v={}&limit={}'.format(best_venue_id, CLIENT_ID, CLIENT_SECRET, VERSION, limit)\n",
        "\n",
        "best_results = requests.get(url).json()\n",
        "best_results['response'].keys()"
      ],
      "execution_count": 21,
      "outputs": [
        {
          "output_type": "execute_result",
          "data": {
            "text/plain": [
              "dict_keys(['tips'])"
            ]
          },
          "metadata": {
            "tags": []
          },
          "execution_count": 21
        }
      ]
    },
    {
      "cell_type": "markdown",
      "metadata": {
        "id": "v4JI1V71P21G",
        "colab_type": "text"
      },
      "source": [
        "Get tips and list of associated features...<br>\n",
        "Remember we only get two tips since this is a personal acct"
      ]
    },
    {
      "cell_type": "code",
      "metadata": {
        "id": "JTjfprWdMh9m",
        "colab_type": "code",
        "colab": {
          "base_uri": "https://localhost:8080/",
          "height": 756
        },
        "outputId": "d669b46c-8886-470e-e844-1229dafc4c4e"
      },
      "source": [
        "tips = best_results['response']['tips']['items']\n",
        "tips"
      ],
      "execution_count": 22,
      "outputs": [
        {
          "output_type": "execute_result",
          "data": {
            "text/plain": [
              "[{'agreeCount': 1,\n",
              "  'canonicalUrl': 'https://foursquare.com/item/5458b704498e1ab64b727436',\n",
              "  'createdAt': 1415100164,\n",
              "  'disagreeCount': 0,\n",
              "  'id': '5458b704498e1ab64b727436',\n",
              "  'lang': 'en',\n",
              "  'likes': {'count': 1,\n",
              "   'groups': [{'count': 1,\n",
              "     'items': [{'firstName': 'Lucky',\n",
              "       'gender': 'male',\n",
              "       'id': '119367471',\n",
              "       'lastName': 'D',\n",
              "       'photo': {'prefix': 'https://fastly.4sqi.net/img/user/',\n",
              "        'suffix': '/119367471-3BN0J3RIPBZ431YN.jpg'}}],\n",
              "     'type': 'others'}],\n",
              "   'summary': '1 like'},\n",
              "  'logView': True,\n",
              "  'text': 'The triple Decker anything is a treat you should enjoy as often as you can.',\n",
              "  'todo': {'count': 1},\n",
              "  'type': 'user',\n",
              "  'user': {'firstName': 'Omobola',\n",
              "   'gender': 'female',\n",
              "   'id': '94019944',\n",
              "   'lastName': 'F',\n",
              "   'photo': {'prefix': 'https://fastly.4sqi.net/img/user/',\n",
              "    'suffix': '/94019944-J3UVYYZKSG31TMXK.jpg'}}},\n",
              " {'agreeCount': 0,\n",
              "  'authorInteractionType': 'liked',\n",
              "  'canonicalUrl': 'https://foursquare.com/item/5725350a498ee18fe7b64f16',\n",
              "  'createdAt': 1462056202,\n",
              "  'disagreeCount': 0,\n",
              "  'id': '5725350a498ee18fe7b64f16',\n",
              "  'lang': 'en',\n",
              "  'likes': {'count': 0, 'groups': []},\n",
              "  'logView': True,\n",
              "  'text': 'Everything!!!! Especially the meaty triple decker pizza... amazing much',\n",
              "  'todo': {'count': 0},\n",
              "  'type': 'user',\n",
              "  'user': {'firstName': 'Buki',\n",
              "   'gender': 'female',\n",
              "   'id': '28338092',\n",
              "   'lastName': 'S',\n",
              "   'photo': {'prefix': 'https://fastly.4sqi.net/img/user/',\n",
              "    'suffix': '/28338092-BDHHKUOAAW1K5X4E.jpg'}}}]"
            ]
          },
          "metadata": {
            "tags": []
          },
          "execution_count": 22
        }
      ]
    },
    {
      "cell_type": "code",
      "metadata": {
        "id": "05HawYTgMNa8",
        "colab_type": "code",
        "colab": {
          "base_uri": "https://localhost:8080/",
          "height": 34
        },
        "outputId": "00e82e5a-8084-41fd-d3a3-936d93497d90"
      },
      "source": [
        "tip = best_results['response']['tips']['items'][0]\n",
        "tip.keys()"
      ],
      "execution_count": 23,
      "outputs": [
        {
          "output_type": "execute_result",
          "data": {
            "text/plain": [
              "dict_keys(['id', 'createdAt', 'text', 'type', 'canonicalUrl', 'lang', 'likes', 'logView', 'agreeCount', 'disagreeCount', 'todo', 'user'])"
            ]
          },
          "metadata": {
            "tags": []
          },
          "execution_count": 23
        }
      ]
    },
    {
      "cell_type": "markdown",
      "metadata": {
        "id": "0cXIMz4hRDWn",
        "colab_type": "text"
      },
      "source": [
        "Format column width and display all tips"
      ]
    },
    {
      "cell_type": "code",
      "metadata": {
        "id": "qLiTa5KDMzuY",
        "colab_type": "code",
        "colab": {
          "base_uri": "https://localhost:8080/",
          "height": 106
        },
        "outputId": "d20d18d0-96e3-46d4-ea2f-2a2ede36deb4"
      },
      "source": [
        "pd.set_option('display.max_colwidth', -1)\n",
        "\n",
        "tips_df = json_normalize(tips) # converting a json file to a pandas dataframe\n",
        "\n",
        "# columns to keep\n",
        "filtered_columns = ['text', 'agreeCount', 'disagreeCount', 'id', 'user.firstName', 'user.lastName', 'user.gender', 'user.id']\n",
        "tips_filtered = tips_df.loc[:, filtered_columns]\n",
        "\n",
        "# display tips\n",
        "tips_filtered"
      ],
      "execution_count": 24,
      "outputs": [
        {
          "output_type": "execute_result",
          "data": {
            "text/html": [
              "<div>\n",
              "<style scoped>\n",
              "    .dataframe tbody tr th:only-of-type {\n",
              "        vertical-align: middle;\n",
              "    }\n",
              "\n",
              "    .dataframe tbody tr th {\n",
              "        vertical-align: top;\n",
              "    }\n",
              "\n",
              "    .dataframe thead th {\n",
              "        text-align: right;\n",
              "    }\n",
              "</style>\n",
              "<table border=\"1\" class=\"dataframe\">\n",
              "  <thead>\n",
              "    <tr style=\"text-align: right;\">\n",
              "      <th></th>\n",
              "      <th>text</th>\n",
              "      <th>agreeCount</th>\n",
              "      <th>disagreeCount</th>\n",
              "      <th>id</th>\n",
              "      <th>user.firstName</th>\n",
              "      <th>user.lastName</th>\n",
              "      <th>user.gender</th>\n",
              "      <th>user.id</th>\n",
              "    </tr>\n",
              "  </thead>\n",
              "  <tbody>\n",
              "    <tr>\n",
              "      <th>0</th>\n",
              "      <td>The triple Decker anything is a treat you should enjoy as often as you can.</td>\n",
              "      <td>1</td>\n",
              "      <td>0</td>\n",
              "      <td>5458b704498e1ab64b727436</td>\n",
              "      <td>Omobola</td>\n",
              "      <td>F</td>\n",
              "      <td>female</td>\n",
              "      <td>94019944</td>\n",
              "    </tr>\n",
              "    <tr>\n",
              "      <th>1</th>\n",
              "      <td>Everything!!!! Especially the meaty triple decker pizza... amazing much</td>\n",
              "      <td>0</td>\n",
              "      <td>0</td>\n",
              "      <td>5725350a498ee18fe7b64f16</td>\n",
              "      <td>Buki</td>\n",
              "      <td>S</td>\n",
              "      <td>female</td>\n",
              "      <td>28338092</td>\n",
              "    </tr>\n",
              "  </tbody>\n",
              "</table>\n",
              "</div>"
            ],
            "text/plain": [
              "                                                                          text  ...   user.id\n",
              "0  The triple Decker anything is a treat you should enjoy as often as you can.  ...  94019944\n",
              "1  Everything!!!! Especially the meaty triple decker pizza... amazing much      ...  28338092\n",
              "\n",
              "[2 rows x 8 columns]"
            ]
          },
          "metadata": {
            "tags": []
          },
          "execution_count": 24
        }
      ]
    },
    {
      "cell_type": "markdown",
      "metadata": {
        "id": "ovF04a7iXVj1",
        "colab_type": "text"
      },
      "source": [
        "### Search a Foursquare User who has rated radisson Blu hotel before"
      ]
    },
    {
      "cell_type": "code",
      "metadata": {
        "id": "b-3z9C1BZCVY",
        "colab_type": "code",
        "colab": {
          "base_uri": "https://localhost:8080/",
          "height": 54
        },
        "outputId": "9e017954-9d97-4861-bfa9-c9c2124bae15"
      },
      "source": [
        "url = 'https://api.foursquare.com/v2/venues/search?client_id={}&client_secret={}&ll={},{}&v={}'\\\n",
        ".format(CLIENT_ID, CLIENT_SECRET, latitude, longitude, VERSION)\n",
        "url"
      ],
      "execution_count": 25,
      "outputs": [
        {
          "output_type": "execute_result",
          "data": {
            "text/plain": [
              "'https://api.foursquare.com/v2/venues/search?client_id=L2XUYCRD44VP2YBDMZ3XY0Z4XKO1JODM5SMG3IIYRZ5330FD&client_secret=5KI00FG4RT2VJQTIDPXFY1N4AOKTIXLIZEAO0AHPP3DPD0U1&ll=6.43642025,3.41639455&v=20190620'"
            ]
          },
          "metadata": {
            "tags": []
          },
          "execution_count": 25
        }
      ]
    },
    {
      "cell_type": "code",
      "metadata": {
        "id": "7klsKmPrbJtp",
        "colab_type": "code",
        "colab": {
          "base_uri": "https://localhost:8080/",
          "height": 34
        },
        "outputId": "69c29117-add0-4f09-b0ae-78158d6b20ca"
      },
      "source": [
        "results = requests.get(url).json()\n",
        "results['response'].keys()"
      ],
      "execution_count": 26,
      "outputs": [
        {
          "output_type": "execute_result",
          "data": {
            "text/plain": [
              "dict_keys(['venues', 'confident'])"
            ]
          },
          "metadata": {
            "tags": []
          },
          "execution_count": 26
        }
      ]
    },
    {
      "cell_type": "code",
      "metadata": {
        "id": "9CIT54OZbP8u",
        "colab_type": "code",
        "colab": {
          "base_uri": "https://localhost:8080/",
          "height": 501
        },
        "outputId": "68e80597-220a-4e75-fa05-14bc14f749ec"
      },
      "source": [
        "venues = results['response']['venues']\n",
        "dataframe = json_normalize(venues)\n",
        "dataframe.head()"
      ],
      "execution_count": 28,
      "outputs": [
        {
          "output_type": "execute_result",
          "data": {
            "text/html": [
              "<div>\n",
              "<style scoped>\n",
              "    .dataframe tbody tr th:only-of-type {\n",
              "        vertical-align: middle;\n",
              "    }\n",
              "\n",
              "    .dataframe tbody tr th {\n",
              "        vertical-align: top;\n",
              "    }\n",
              "\n",
              "    .dataframe thead th {\n",
              "        text-align: right;\n",
              "    }\n",
              "</style>\n",
              "<table border=\"1\" class=\"dataframe\">\n",
              "  <thead>\n",
              "    <tr style=\"text-align: right;\">\n",
              "      <th></th>\n",
              "      <th>categories</th>\n",
              "      <th>hasPerk</th>\n",
              "      <th>id</th>\n",
              "      <th>location.address</th>\n",
              "      <th>location.cc</th>\n",
              "      <th>location.city</th>\n",
              "      <th>location.country</th>\n",
              "      <th>location.crossStreet</th>\n",
              "      <th>location.distance</th>\n",
              "      <th>location.formattedAddress</th>\n",
              "      <th>location.labeledLatLngs</th>\n",
              "      <th>location.lat</th>\n",
              "      <th>location.lng</th>\n",
              "      <th>location.state</th>\n",
              "      <th>name</th>\n",
              "      <th>referralId</th>\n",
              "    </tr>\n",
              "  </thead>\n",
              "  <tbody>\n",
              "    <tr>\n",
              "      <th>0</th>\n",
              "      <td>[{'id': '4bf58dd8d48988d1c9941735', 'name': 'Ice Cream Shop', 'pluralName': 'Ice Cream Shops', 'shortName': 'Ice Cream', 'icon': {'prefix': 'https://ss3.4sqi.net/img/categories_v2/food/icecream_', 'suffix': '.png'}, 'primary': True}]</td>\n",
              "      <td>False</td>\n",
              "      <td>556b4c01498e7fd1525edbab</td>\n",
              "      <td>Radisson Blu</td>\n",
              "      <td>NG</td>\n",
              "      <td>Victoria Island</td>\n",
              "      <td>Nigeria</td>\n",
              "      <td>Ozumba Mbadiwe</td>\n",
              "      <td>16</td>\n",
              "      <td>[Radisson Blu (Ozumba Mbadiwe), Victoria Island, Lagos, Nigeria]</td>\n",
              "      <td>[{'label': 'display', 'lat': 6.436521550578695, 'lng': 3.416506506247353}]</td>\n",
              "      <td>6.436522</td>\n",
              "      <td>3.416507</td>\n",
              "      <td>Lagos</td>\n",
              "      <td>Hans &amp; René</td>\n",
              "      <td>v-1561067365</td>\n",
              "    </tr>\n",
              "    <tr>\n",
              "      <th>1</th>\n",
              "      <td>[{'id': '4bf58dd8d48988d1fa931735', 'name': 'Hotel', 'pluralName': 'Hotels', 'shortName': 'Hotel', 'icon': {'prefix': 'https://ss3.4sqi.net/img/categories_v2/travel/hotel_', 'suffix': '.png'}, 'primary': True}]</td>\n",
              "      <td>False</td>\n",
              "      <td>4d9325d3b32737042aad9125</td>\n",
              "      <td>Ozumba Mdadiwe Road Victoria Island</td>\n",
              "      <td>NG</td>\n",
              "      <td>Lagos</td>\n",
              "      <td>Nigeria</td>\n",
              "      <td>NaN</td>\n",
              "      <td>99</td>\n",
              "      <td>[Ozumba Mdadiwe Road Victoria Island, Lagos, Lagos, Nigeria]</td>\n",
              "      <td>[{'label': 'display', 'lat': 6.436811719299866, 'lng': 3.4172041654919667}]</td>\n",
              "      <td>6.436812</td>\n",
              "      <td>3.417204</td>\n",
              "      <td>Lagos</td>\n",
              "      <td>Radisson Blu Anchorage Hotel</td>\n",
              "      <td>v-1561067365</td>\n",
              "    </tr>\n",
              "    <tr>\n",
              "      <th>2</th>\n",
              "      <td>[{'id': '4bf58dd8d48988d176941735', 'name': 'Gym', 'pluralName': 'Gyms', 'shortName': 'Gym', 'icon': {'prefix': 'https://ss3.4sqi.net/img/categories_v2/building/gym_', 'suffix': '.png'}, 'primary': True}]</td>\n",
              "      <td>False</td>\n",
              "      <td>5211ae5111d259e1a5fe4adb</td>\n",
              "      <td>NaN</td>\n",
              "      <td>NG</td>\n",
              "      <td>Lagos</td>\n",
              "      <td>Nigeria</td>\n",
              "      <td>NaN</td>\n",
              "      <td>73</td>\n",
              "      <td>[Lagos, Lagos, Nigeria]</td>\n",
              "      <td>[{'label': 'display', 'lat': 6.436686570855544, 'lng': 3.416998047324286}]</td>\n",
              "      <td>6.436687</td>\n",
              "      <td>3.416998</td>\n",
              "      <td>Lagos</td>\n",
              "      <td>Radisson Blu Health Center</td>\n",
              "      <td>v-1561067365</td>\n",
              "    </tr>\n",
              "    <tr>\n",
              "      <th>3</th>\n",
              "      <td>[{'id': '4bf58dd8d48988d124941735', 'name': 'Office', 'pluralName': 'Offices', 'shortName': 'Office', 'icon': {'prefix': 'https://ss3.4sqi.net/img/categories_v2/building/default_', 'suffix': '.png'}, 'primary': True}]</td>\n",
              "      <td>False</td>\n",
              "      <td>4e1602991495a0bf953d0feb</td>\n",
              "      <td>166, Ozumba Mbadiwe</td>\n",
              "      <td>NG</td>\n",
              "      <td>Lagos</td>\n",
              "      <td>Nigeria</td>\n",
              "      <td>NaN</td>\n",
              "      <td>80</td>\n",
              "      <td>[166, Ozumba Mbadiwe, Lagos, Lagos, Nigeria]</td>\n",
              "      <td>[{'label': 'display', 'lat': 6.4366254751869905, 'lng': 3.4170916590031735}]</td>\n",
              "      <td>6.436625</td>\n",
              "      <td>3.417092</td>\n",
              "      <td>Lagos</td>\n",
              "      <td>Polo Towers</td>\n",
              "      <td>v-1561067365</td>\n",
              "    </tr>\n",
              "    <tr>\n",
              "      <th>4</th>\n",
              "      <td>[{'id': '4bf58dd8d48988d1f1931735', 'name': 'General Entertainment', 'pluralName': 'General Entertainment', 'shortName': 'Entertainment', 'icon': {'prefix': 'https://ss3.4sqi.net/img/categories_v2/arts_entertainment/default_', 'suffix': '.png'}, 'primary': True}]</td>\n",
              "      <td>False</td>\n",
              "      <td>4ee1cb4b2c5b955ef02ada3f</td>\n",
              "      <td>NaN</td>\n",
              "      <td>NG</td>\n",
              "      <td>Lagos</td>\n",
              "      <td>Nigeria</td>\n",
              "      <td>NaN</td>\n",
              "      <td>12</td>\n",
              "      <td>[Lagos, Lagos, Nigeria]</td>\n",
              "      <td>[{'label': 'display', 'lat': 6.436304679410576, 'lng': 3.416396966024258}]</td>\n",
              "      <td>6.436305</td>\n",
              "      <td>3.416397</td>\n",
              "      <td>Lagos</td>\n",
              "      <td>Metropolitan Club, Kofo Abayomi Street, Victoria Island</td>\n",
              "      <td>v-1561067365</td>\n",
              "    </tr>\n",
              "  </tbody>\n",
              "</table>\n",
              "</div>"
            ],
            "text/plain": [
              "                                                                                                                                                                                                                                                                categories  ...    referralId\n",
              "0  [{'id': '4bf58dd8d48988d1c9941735', 'name': 'Ice Cream Shop', 'pluralName': 'Ice Cream Shops', 'shortName': 'Ice Cream', 'icon': {'prefix': 'https://ss3.4sqi.net/img/categories_v2/food/icecream_', 'suffix': '.png'}, 'primary': True}]                                ...  v-1561067365\n",
              "1  [{'id': '4bf58dd8d48988d1fa931735', 'name': 'Hotel', 'pluralName': 'Hotels', 'shortName': 'Hotel', 'icon': {'prefix': 'https://ss3.4sqi.net/img/categories_v2/travel/hotel_', 'suffix': '.png'}, 'primary': True}]                                                       ...  v-1561067365\n",
              "2  [{'id': '4bf58dd8d48988d176941735', 'name': 'Gym', 'pluralName': 'Gyms', 'shortName': 'Gym', 'icon': {'prefix': 'https://ss3.4sqi.net/img/categories_v2/building/gym_', 'suffix': '.png'}, 'primary': True}]                                                             ...  v-1561067365\n",
              "3  [{'id': '4bf58dd8d48988d124941735', 'name': 'Office', 'pluralName': 'Offices', 'shortName': 'Office', 'icon': {'prefix': 'https://ss3.4sqi.net/img/categories_v2/building/default_', 'suffix': '.png'}, 'primary': True}]                                                ...  v-1561067365\n",
              "4  [{'id': '4bf58dd8d48988d1f1931735', 'name': 'General Entertainment', 'pluralName': 'General Entertainment', 'shortName': 'Entertainment', 'icon': {'prefix': 'https://ss3.4sqi.net/img/categories_v2/arts_entertainment/default_', 'suffix': '.png'}, 'primary': True}]  ...  v-1561067365\n",
              "\n",
              "[5 rows x 16 columns]"
            ]
          },
          "metadata": {
            "tags": []
          },
          "execution_count": 28
        }
      ]
    },
    {
      "cell_type": "code",
      "metadata": {
        "id": "TRPRddzKbRkg",
        "colab_type": "code",
        "colab": {
          "base_uri": "https://localhost:8080/",
          "height": 34
        },
        "outputId": "854242d5-2a5e-4848-9284-4816e9310696"
      },
      "source": [
        "radisson_blu_id = str(dataframe.at[1, 'id'])\n",
        "radisson_blu_id"
      ],
      "execution_count": 32,
      "outputs": [
        {
          "output_type": "execute_result",
          "data": {
            "text/plain": [
              "'4d9325d3b32737042aad9125'"
            ]
          },
          "metadata": {
            "tags": []
          },
          "execution_count": 32
        }
      ]
    },
    {
      "cell_type": "code",
      "metadata": {
        "id": "-U1coQYO5dKj",
        "colab_type": "code",
        "colab": {
          "base_uri": "https://localhost:8080/",
          "height": 104
        },
        "outputId": "bacc6ef0-2e23-4475-b5fc-c8c6afcd7892"
      },
      "source": [
        "radisson_id = radisson_blu_id # ID Radisson blu hotel\n",
        "\n",
        "url = 'https://api.foursquare.com/v2/venues/{}?client_id={}&client_secret={}&v={}'.format(radisson_id, CLIENT_ID, CLIENT_SECRET, VERSION)\n",
        "\n",
        "radisson_result = requests.get(url).json()\n",
        "print(radisson_result['response']['venue'].keys())\n",
        "\n",
        "radisson_result['response']['venue']['likes']"
      ],
      "execution_count": 34,
      "outputs": [
        {
          "output_type": "stream",
          "text": [
            "dict_keys(['id', 'name', 'contact', 'location', 'canonicalUrl', 'categories', 'verified', 'stats', 'url', 'likes', 'dislike', 'ok', 'rating', 'ratingColor', 'ratingSignals', 'allowMenuUrlEdit', 'beenHere', 'specials', 'photos', 'reasons', 'description', 'storeId', 'page', 'hereNow', 'createdAt', 'tips', 'shortUrl', 'timeZone', 'listed', 'pageUpdates', 'inbox', 'attributes', 'bestPhoto', 'colors'])\n"
          ],
          "name": "stdout"
        },
        {
          "output_type": "execute_result",
          "data": {
            "text/plain": [
              "{'count': 118,\n",
              " 'groups': [{'count': 118, 'items': [], 'type': 'others'}],\n",
              " 'summary': '118 Likes'}"
            ]
          },
          "metadata": {
            "tags": []
          },
          "execution_count": 34
        }
      ]
    },
    {
      "cell_type": "markdown",
      "metadata": {
        "id": "QB-kTh7R6z3C",
        "colab_type": "text"
      },
      "source": [
        "We can see radisson blu as at today(20160620) has 118 likes already"
      ]
    },
    {
      "cell_type": "code",
      "metadata": {
        "id": "ZKbQ6N1Z663n",
        "colab_type": "code",
        "colab": {
          "base_uri": "https://localhost:8080/",
          "height": 894
        },
        "outputId": "0092ba59-f5a8-4ea3-ec32-97851a2dde8e"
      },
      "source": [
        "radisson_tips = radisson_result['response']['venue']['tips']['groups']\n",
        "radisson_tips"
      ],
      "execution_count": 54,
      "outputs": [
        {
          "output_type": "execute_result",
          "data": {
            "text/plain": [
              "[{'count': 44,\n",
              "  'items': [{'agreeCount': 20,\n",
              "    'canonicalUrl': 'https://foursquare.com/item/534bf9d4498e7b69ab14bbad',\n",
              "    'createdAt': 1397488084,\n",
              "    'disagreeCount': 0,\n",
              "    'id': '534bf9d4498e7b69ab14bbad',\n",
              "    'lang': 'en',\n",
              "    'likes': {'count': 20,\n",
              "     'groups': [{'count': 20, 'items': [], 'type': 'others'}],\n",
              "     'summary': '20 likes'},\n",
              "    'logView': True,\n",
              "    'photo': {'createdAt': 1397488089,\n",
              "     'height': 720,\n",
              "     'id': '534bf9d911d25a0cbed30e13',\n",
              "     'prefix': 'https://fastly.4sqi.net/img/general/',\n",
              "     'source': {'name': 'Foursquare Web', 'url': 'https://foursquare.com'},\n",
              "     'suffix': '/2960181_as8Yt92x2EDWQF9wn15PK4fF-bwU7E-rh2vGWKp1OqA.jpg',\n",
              "     'visibility': 'public',\n",
              "     'width': 960},\n",
              "    'photourl': 'https://fastly.4sqi.net/img/general/original/2960181_as8Yt92x2EDWQF9wn15PK4fF-bwU7E-rh2vGWKp1OqA.jpg',\n",
              "    'text': 'The View bar and lounge is the perfect place to sip a cool cocktail and enjoy the view across the lagoon of Lagos. More about Lagos in the LH Magazin iPad App (05/2014).',\n",
              "    'todo': {'count': 3},\n",
              "    'type': 'user',\n",
              "    'url': 'http://itunes.com/apps/lufthansamagazine',\n",
              "    'user': {'firstName': 'Lufthansa',\n",
              "     'gender': 'none',\n",
              "     'id': '2960181',\n",
              "     'photo': {'prefix': 'https://fastly.4sqi.net/img/user/',\n",
              "      'suffix': '/2960181-AFBGXPTOKORED1IO.png'},\n",
              "     'type': 'chain'}},\n",
              "   {'agreeCount': 14,\n",
              "    'canonicalUrl': 'https://foursquare.com/item/4e503a89ae6051db8dd86866',\n",
              "    'createdAt': 1313880713,\n",
              "    'disagreeCount': 0,\n",
              "    'id': '4e503a89ae6051db8dd86866',\n",
              "    'lang': 'en',\n",
              "    'likes': {'count': 14,\n",
              "     'groups': [{'count': 14, 'items': [], 'type': 'others'}],\n",
              "     'summary': '14 likes'},\n",
              "    'logView': True,\n",
              "    'text': 'Hmmmmmm D view, serene, ambience its on point.',\n",
              "    'todo': {'count': 0},\n",
              "    'type': 'user',\n",
              "    'user': {'firstName': 'Tayo',\n",
              "     'gender': 'female',\n",
              "     'id': '12610843',\n",
              "     'lastName': 'A',\n",
              "     'photo': {'prefix': 'https://fastly.4sqi.net/img/user/',\n",
              "      'suffix': '/12610843-NANRBFHOYGICH442.jpg'}}}],\n",
              "  'name': 'All tips',\n",
              "  'type': 'others'}]"
            ]
          },
          "metadata": {
            "tags": []
          },
          "execution_count": 54
        }
      ]
    },
    {
      "cell_type": "code",
      "metadata": {
        "id": "VPQb7O75ITIQ",
        "colab_type": "code",
        "colab": {}
      },
      "source": [
        "# dataframe = json_normalize(radisson_tips) # flatten JSON\n",
        "\n",
        "# # filter columns\n",
        "# filtered_columns = ['venue.name', 'venue.categories'] + [col for col in dataframe.columns if col.startswith('venue.location.')] + ['venue.id']\n",
        "# dataframe_filtered = dataframe.loc[:, filtered_columns]\n",
        "\n",
        "# # filter the category for each row\n",
        "# dataframe_filtered['venue.categories'] = dataframe_filtered.apply(get_category_type, axis=1)\n",
        "\n",
        "# # clean columns\n",
        "# dataframe_filtered.columns = [col.split('.')[-1] for col in dataframe_filtered.columns]\n",
        "\n",
        "# dataframe_filtered.head(10)"
      ],
      "execution_count": 0,
      "outputs": []
    },
    {
      "cell_type": "markdown",
      "metadata": {
        "id": "9bBpQuHP-d56",
        "colab_type": "text"
      },
      "source": [
        "## 3. Search a Foursquare User\n",
        "> `https://api.foursquare.com/v2/users/`**USER_ID**`?client_id=`**CLIENT_ID**`&client_secret=`**CLIENT_SECRET**`&v=`**VERSION**"
      ]
    },
    {
      "cell_type": "code",
      "metadata": {
        "id": "BUpUSeB27rxI",
        "colab_type": "code",
        "colab": {
          "base_uri": "https://localhost:8080/",
          "height": 54
        },
        "outputId": "32865b5a-20fb-475a-b91a-2cdd77a14f7f"
      },
      "source": [
        "user_id = '12610843' # user ID with most agree counts and complete profile\n",
        "# 94019944\n",
        "#12610843\n",
        "\n",
        "url = 'https://api.foursquare.com/v2/users/{}?client_id={}&client_secret={}&v={}'.format(user_id, CLIENT_ID, CLIENT_SECRET, VERSION) # define URL\n",
        "\n",
        "# send GET request\n",
        "results = requests.get(url).json()\n",
        "user_data = results['response']['user']\n",
        "\n",
        "# display features associated with user\n",
        "user_data.keys()"
      ],
      "execution_count": 87,
      "outputs": [
        {
          "output_type": "execute_result",
          "data": {
            "text/plain": [
              "dict_keys(['id', 'firstName', 'lastName', 'gender', 'canonicalUrl', 'photo', 'friends', 'tips', 'homeCity', 'bio', 'contact', 'photos', 'type', 'mayorships', 'checkins', 'lists', 'lenses'])"
            ]
          },
          "metadata": {
            "tags": []
          },
          "execution_count": 87
        }
      ]
    },
    {
      "cell_type": "code",
      "metadata": {
        "id": "71uKIJXGAAqK",
        "colab_type": "code",
        "colab": {
          "base_uri": "https://localhost:8080/",
          "height": 84
        },
        "outputId": "fd6e8674-6f22-43ff-f255-6e50e406e3c3"
      },
      "source": [
        "print('First Name: ' + user_data['firstName'])\n",
        "print('Last Name: ' + user_data['lastName'])\n",
        "print('Gender: ' + user_data['gender'])\n",
        "print('Home City: ' + user_data['homeCity'])"
      ],
      "execution_count": 88,
      "outputs": [
        {
          "output_type": "stream",
          "text": [
            "First Name: Tayo\n",
            "Last Name: A\n",
            "Gender: female\n",
            "Home City: Lagos, Nigeria\n"
          ],
          "name": "stdout"
        }
      ]
    },
    {
      "cell_type": "markdown",
      "metadata": {
        "id": "-tvNVtcAAghd",
        "colab_type": "text"
      },
      "source": [
        "How many tips has this user submitted?"
      ]
    },
    {
      "cell_type": "code",
      "metadata": {
        "id": "hCLk0RIEAhWp",
        "colab_type": "code",
        "colab": {
          "base_uri": "https://localhost:8080/",
          "height": 34
        },
        "outputId": "438c31f6-d73d-4186-ab7f-d34e3aeb0ca2"
      },
      "source": [
        "user_data['tips']"
      ],
      "execution_count": 89,
      "outputs": [
        {
          "output_type": "execute_result",
          "data": {
            "text/plain": [
              "{'count': 18}"
            ]
          },
          "metadata": {
            "tags": []
          },
          "execution_count": 89
        }
      ]
    },
    {
      "cell_type": "markdown",
      "metadata": {
        "id": "ps4w1WvzAzNq",
        "colab_type": "text"
      },
      "source": [
        "Get User's tips"
      ]
    },
    {
      "cell_type": "code",
      "metadata": {
        "id": "GZnexJLVA0iN",
        "colab_type": "code",
        "colab": {
          "base_uri": "https://localhost:8080/",
          "height": 508
        },
        "outputId": "fc284174-33ed-4a91-bb9f-c3064b46cba6"
      },
      "source": [
        "# define tips URL\n",
        "url = 'https://api.foursquare.com/v2/users/{}/tips?client_id={}&client_secret={}&v={}&limit={}'.format(user_id, CLIENT_ID, CLIENT_SECRET, VERSION, limit)\n",
        "\n",
        "# send GET request and get user's tips\n",
        "user_results = requests.get(url).json()\n",
        "tips = user_results['response']['tips']['items']\n",
        "\n",
        "# format column width\n",
        "pd.set_option('display.max_colwidth', -1)\n",
        "\n",
        "tips_df = json_normalize(tips)\n",
        "\n",
        "# filter columns\n",
        "filtered_columns = ['text', 'agreeCount', 'disagreeCount', 'id']\n",
        "tips_filtered = tips_df.loc[:, filtered_columns]\n",
        "\n",
        "# display user's tips\n",
        "tips_filtered"
      ],
      "execution_count": 90,
      "outputs": [
        {
          "output_type": "execute_result",
          "data": {
            "text/html": [
              "<div>\n",
              "<style scoped>\n",
              "    .dataframe tbody tr th:only-of-type {\n",
              "        vertical-align: middle;\n",
              "    }\n",
              "\n",
              "    .dataframe tbody tr th {\n",
              "        vertical-align: top;\n",
              "    }\n",
              "\n",
              "    .dataframe thead th {\n",
              "        text-align: right;\n",
              "    }\n",
              "</style>\n",
              "<table border=\"1\" class=\"dataframe\">\n",
              "  <thead>\n",
              "    <tr style=\"text-align: right;\">\n",
              "      <th></th>\n",
              "      <th>text</th>\n",
              "      <th>agreeCount</th>\n",
              "      <th>disagreeCount</th>\n",
              "      <th>id</th>\n",
              "    </tr>\n",
              "  </thead>\n",
              "  <tbody>\n",
              "    <tr>\n",
              "      <th>0</th>\n",
              "      <td>Try the tennis n the banga</td>\n",
              "      <td>2</td>\n",
              "      <td>0</td>\n",
              "      <td>523b5cfc11d25e24e91f43fa</td>\n",
              "    </tr>\n",
              "    <tr>\n",
              "      <th>1</th>\n",
              "      <td>Shisha in different flavours for just N1000</td>\n",
              "      <td>32</td>\n",
              "      <td>0</td>\n",
              "      <td>51ce0e89498e2c23f4c05b36</td>\n",
              "    </tr>\n",
              "    <tr>\n",
              "      <th>2</th>\n",
              "      <td>Fish &amp; Chips is divine</td>\n",
              "      <td>2</td>\n",
              "      <td>0</td>\n",
              "      <td>51c711de498e86992720134e</td>\n",
              "    </tr>\n",
              "    <tr>\n",
              "      <th>3</th>\n",
              "      <td>Try Beef Burger @ d ABIBIZ resturant</td>\n",
              "      <td>0</td>\n",
              "      <td>0</td>\n",
              "      <td>51c1c3a6498e60fa96ba3b02</td>\n",
              "    </tr>\n",
              "    <tr>\n",
              "      <th>4</th>\n",
              "      <td>Nice couldn't be better</td>\n",
              "      <td>0</td>\n",
              "      <td>0</td>\n",
              "      <td>4f44a403e4b025d84374e0dd</td>\n",
              "    </tr>\n",
              "    <tr>\n",
              "      <th>5</th>\n",
              "      <td>Amazingly gorgeous</td>\n",
              "      <td>0</td>\n",
              "      <td>0</td>\n",
              "      <td>4f10700de4b09e81d794184f</td>\n",
              "    </tr>\n",
              "    <tr>\n",
              "      <th>6</th>\n",
              "      <td>Do you know Raddisson blu is Supporting GB&amp;Godyva's costume Party go get your tickets now cos there is a free One night booking plus meal worth 75k for the best dressed couple</td>\n",
              "      <td>0</td>\n",
              "      <td>0</td>\n",
              "      <td>4ece4321f5b9832ad7c1eb1b</td>\n",
              "    </tr>\n",
              "    <tr>\n",
              "      <th>7</th>\n",
              "      <td>Its America in Nigeria, love it here, the locals r cool as well.</td>\n",
              "      <td>0</td>\n",
              "      <td>0</td>\n",
              "      <td>4e7bebab775b1336d3e59d78</td>\n",
              "    </tr>\n",
              "    <tr>\n",
              "      <th>8</th>\n",
              "      <td>This street links about 10 major roads really great 4 avoiding traffic</td>\n",
              "      <td>0</td>\n",
              "      <td>0</td>\n",
              "      <td>4e632035b0fb188e8e022ee9</td>\n",
              "    </tr>\n",
              "    <tr>\n",
              "      <th>9</th>\n",
              "      <td>Wed night is buffet</td>\n",
              "      <td>0</td>\n",
              "      <td>0</td>\n",
              "      <td>4e5fe90d2271573ad6811c6f</td>\n",
              "    </tr>\n",
              "    <tr>\n",
              "      <th>10</th>\n",
              "      <td>Primark is right opposite</td>\n",
              "      <td>0</td>\n",
              "      <td>0</td>\n",
              "      <td>4e50461dd164978659d72b72</td>\n",
              "    </tr>\n",
              "    <tr>\n",
              "      <th>11</th>\n",
              "      <td>8yrs I pass here daily in cov.</td>\n",
              "      <td>0</td>\n",
              "      <td>0</td>\n",
              "      <td>4e50460962e14b77e3a9144f</td>\n",
              "    </tr>\n",
              "    <tr>\n",
              "      <th>12</th>\n",
              "      <td>Hmmmmmm D view, serene, ambience its on point.</td>\n",
              "      <td>14</td>\n",
              "      <td>0</td>\n",
              "      <td>4e503a89ae6051db8dd86866</td>\n",
              "    </tr>\n",
              "    <tr>\n",
              "      <th>13</th>\n",
              "      <td>Its not so great but hey! Nigeria is a good Country, I believe we will get there. My fav airport in d world Schiphol Amsterdam</td>\n",
              "      <td>4</td>\n",
              "      <td>0</td>\n",
              "      <td>4e503a32ae6051db8dd862b2</td>\n",
              "    </tr>\n",
              "    <tr>\n",
              "      <th>14</th>\n",
              "      <td>Absolutely Spot on</td>\n",
              "      <td>0</td>\n",
              "      <td>0</td>\n",
              "      <td>4e5038821495fc2ca40b0e33</td>\n",
              "    </tr>\n",
              "  </tbody>\n",
              "</table>\n",
              "</div>"
            ],
            "text/plain": [
              "                                                                                                                                                                               text  ...                        id\n",
              "0   Try the tennis n the banga                                                                                                                                                       ...  523b5cfc11d25e24e91f43fa\n",
              "1   Shisha in different flavours for just N1000                                                                                                                                      ...  51ce0e89498e2c23f4c05b36\n",
              "2   Fish & Chips is divine                                                                                                                                                           ...  51c711de498e86992720134e\n",
              "3   Try Beef Burger @ d ABIBIZ resturant                                                                                                                                             ...  51c1c3a6498e60fa96ba3b02\n",
              "4   Nice couldn't be better                                                                                                                                                          ...  4f44a403e4b025d84374e0dd\n",
              "5   Amazingly gorgeous                                                                                                                                                               ...  4f10700de4b09e81d794184f\n",
              "6   Do you know Raddisson blu is Supporting GB&Godyva's costume Party go get your tickets now cos there is a free One night booking plus meal worth 75k for the best dressed couple  ...  4ece4321f5b9832ad7c1eb1b\n",
              "7   Its America in Nigeria, love it here, the locals r cool as well.                                                                                                                 ...  4e7bebab775b1336d3e59d78\n",
              "8   This street links about 10 major roads really great 4 avoiding traffic                                                                                                           ...  4e632035b0fb188e8e022ee9\n",
              "9   Wed night is buffet                                                                                                                                                              ...  4e5fe90d2271573ad6811c6f\n",
              "10  Primark is right opposite                                                                                                                                                        ...  4e50461dd164978659d72b72\n",
              "11  8yrs I pass here daily in cov.                                                                                                                                                   ...  4e50460962e14b77e3a9144f\n",
              "12  Hmmmmmm D view, serene, ambience its on point.                                                                                                                                   ...  4e503a89ae6051db8dd86866\n",
              "13  Its not so great but hey! Nigeria is a good Country, I believe we will get there. My fav airport in d world Schiphol Amsterdam                                                   ...  4e503a32ae6051db8dd862b2\n",
              "14  Absolutely Spot on                                                                                                                                                               ...  4e5038821495fc2ca40b0e33\n",
              "\n",
              "[15 rows x 4 columns]"
            ]
          },
          "metadata": {
            "tags": []
          },
          "execution_count": 90
        }
      ]
    },
    {
      "cell_type": "markdown",
      "metadata": {
        "id": "sBoyKiCDB0S9",
        "colab_type": "text"
      },
      "source": [
        "Let's get the venue for the tip with the greatest number of agree counts"
      ]
    },
    {
      "cell_type": "code",
      "metadata": {
        "id": "Do3XgU4RB1HM",
        "colab_type": "code",
        "colab": {
          "base_uri": "https://localhost:8080/",
          "height": 70
        },
        "outputId": "dbcaef39-dc28-40f2-f649-371f3726173f"
      },
      "source": [
        "tip_id = '51ce0e89498e2c23f4c05b36' # tip id\n",
        "\n",
        "# define URL\n",
        "url = 'http://api.foursquare.com/v2/tips/{}?client_id={}&client_secret={}&v={}'.format(tip_id, CLIENT_ID, CLIENT_SECRET, VERSION)\n",
        "\n",
        "# send GET Request and examine results\n",
        "result = requests.get(url).json()\n",
        "print(result['response']['tip']['venue']['name'])\n",
        "print(result['response']['tip']['venue']['location'])"
      ],
      "execution_count": 91,
      "outputs": [
        {
          "output_type": "stream",
          "text": [
            "Pool Golden Tulip\n",
            "{'lat': 6.4652548652239545, 'lng': 3.3025544097330877, 'labeledLatLngs': [{'label': 'display', 'lat': 6.4652548652239545, 'lng': 3.3025544097330877}], 'cc': 'NG', 'city': 'Lagos', 'state': 'Lagos', 'country': 'Nigeria', 'formattedAddress': ['Lagos', 'Lagos', 'Nigeria']}\n"
          ],
          "name": "stdout"
        }
      ]
    },
    {
      "cell_type": "markdown",
      "metadata": {
        "id": "n8_vmYU_ClhE",
        "colab_type": "text"
      },
      "source": [
        "Get users Friends"
      ]
    },
    {
      "cell_type": "code",
      "metadata": {
        "id": "zFeXggHgCn0u",
        "colab_type": "code",
        "colab": {
          "base_uri": "https://localhost:8080/",
          "height": 511
        },
        "outputId": "07385c64-8bea-40dc-ae09-73c716e71b93"
      },
      "source": [
        "user_friends = json_normalize(user_data['friends']['groups'][0]['items'])\n",
        "user_friends"
      ],
      "execution_count": 92,
      "outputs": [
        {
          "output_type": "execute_result",
          "data": {
            "text/html": [
              "<div>\n",
              "<style scoped>\n",
              "    .dataframe tbody tr th:only-of-type {\n",
              "        vertical-align: middle;\n",
              "    }\n",
              "\n",
              "    .dataframe tbody tr th {\n",
              "        vertical-align: top;\n",
              "    }\n",
              "\n",
              "    .dataframe thead th {\n",
              "        text-align: right;\n",
              "    }\n",
              "</style>\n",
              "<table border=\"1\" class=\"dataframe\">\n",
              "  <thead>\n",
              "    <tr style=\"text-align: right;\">\n",
              "      <th></th>\n",
              "      <th>bio</th>\n",
              "      <th>firstName</th>\n",
              "      <th>gender</th>\n",
              "      <th>homeCity</th>\n",
              "      <th>id</th>\n",
              "      <th>lastName</th>\n",
              "      <th>lists.groups</th>\n",
              "      <th>photo.default</th>\n",
              "      <th>photo.prefix</th>\n",
              "      <th>photo.suffix</th>\n",
              "      <th>tips.count</th>\n",
              "    </tr>\n",
              "  </thead>\n",
              "  <tbody>\n",
              "    <tr>\n",
              "      <th>0</th>\n",
              "      <td></td>\n",
              "      <td>Olla</td>\n",
              "      <td>female</td>\n",
              "      <td>PORT HARCOURT</td>\n",
              "      <td>2630915</td>\n",
              "      <td>K</td>\n",
              "      <td>[{'type': 'created', 'count': 2, 'items': []}]</td>\n",
              "      <td>NaN</td>\n",
              "      <td>https://fastly.4sqi.net/img/user/</td>\n",
              "      <td>/EFWGPLYB0GKNEC3S.jpg</td>\n",
              "      <td>2</td>\n",
              "    </tr>\n",
              "    <tr>\n",
              "      <th>1</th>\n",
              "      <td></td>\n",
              "      <td>Sunday</td>\n",
              "      <td>male</td>\n",
              "      <td></td>\n",
              "      <td>80621785</td>\n",
              "      <td>A</td>\n",
              "      <td>[{'type': 'created', 'count': 2, 'items': []}]</td>\n",
              "      <td>NaN</td>\n",
              "      <td>https://fastly.4sqi.net/img/user/</td>\n",
              "      <td>/80621785-5EEF404YOKLD0VF3.jpg</td>\n",
              "      <td>1</td>\n",
              "    </tr>\n",
              "    <tr>\n",
              "      <th>2</th>\n",
              "      <td>Always on point</td>\n",
              "      <td>Onyeka</td>\n",
              "      <td>male</td>\n",
              "      <td>Lagos, Lagos</td>\n",
              "      <td>91427432</td>\n",
              "      <td>K</td>\n",
              "      <td>[{'type': 'created', 'count': 2, 'items': []}]</td>\n",
              "      <td>NaN</td>\n",
              "      <td>https://fastly.4sqi.net/img/user/</td>\n",
              "      <td>/91427432-2521BX1GVWTBSN1N.jpg</td>\n",
              "      <td>1</td>\n",
              "    </tr>\n",
              "    <tr>\n",
              "      <th>3</th>\n",
              "      <td></td>\n",
              "      <td>Cheri</td>\n",
              "      <td>female</td>\n",
              "      <td>Lagos, Nigeria</td>\n",
              "      <td>8517926</td>\n",
              "      <td>D</td>\n",
              "      <td>[{'type': 'created', 'count': 4, 'items': []}]</td>\n",
              "      <td>NaN</td>\n",
              "      <td>https://fastly.4sqi.net/img/user/</td>\n",
              "      <td>/8517926-C0Z24WE11FRC1HV0.jpg</td>\n",
              "      <td>25</td>\n",
              "    </tr>\n",
              "    <tr>\n",
              "      <th>4</th>\n",
              "      <td></td>\n",
              "      <td>Kollins</td>\n",
              "      <td>male</td>\n",
              "      <td>abuja nigeria</td>\n",
              "      <td>87099052</td>\n",
              "      <td>R</td>\n",
              "      <td>[{'type': 'created', 'count': 2, 'items': []}]</td>\n",
              "      <td>NaN</td>\n",
              "      <td>https://fastly.4sqi.net/img/user/</td>\n",
              "      <td>/87099052-VZMRDPM43HCWNNRU.jpg</td>\n",
              "      <td>0</td>\n",
              "    </tr>\n",
              "    <tr>\n",
              "      <th>5</th>\n",
              "      <td>Adventurer!</td>\n",
              "      <td>John</td>\n",
              "      <td>male</td>\n",
              "      <td>calabar, nigeria</td>\n",
              "      <td>3387004</td>\n",
              "      <td>U</td>\n",
              "      <td>[{'type': 'created', 'count': 2, 'items': []}]</td>\n",
              "      <td>NaN</td>\n",
              "      <td>https://fastly.4sqi.net/img/user/</td>\n",
              "      <td>/3387004-GVQXBYTR1S1Z055I.jpg</td>\n",
              "      <td>3</td>\n",
              "    </tr>\n",
              "    <tr>\n",
              "      <th>6</th>\n",
              "      <td>Hard work pays</td>\n",
              "      <td>Sotonye</td>\n",
              "      <td>male</td>\n",
              "      <td></td>\n",
              "      <td>76988229</td>\n",
              "      <td>B</td>\n",
              "      <td>[{'type': 'created', 'count': 2, 'items': []}]</td>\n",
              "      <td>NaN</td>\n",
              "      <td>https://fastly.4sqi.net/img/user/</td>\n",
              "      <td>/76988229-CW2MOUFP4BMYGMCU.jpg</td>\n",
              "      <td>10</td>\n",
              "    </tr>\n",
              "    <tr>\n",
              "      <th>7</th>\n",
              "      <td>2BB117D4</td>\n",
              "      <td>Richyvic</td>\n",
              "      <td>male</td>\n",
              "      <td>ibadan</td>\n",
              "      <td>88784972</td>\n",
              "      <td>O</td>\n",
              "      <td>[{'type': 'created', 'count': 2, 'items': []}]</td>\n",
              "      <td>NaN</td>\n",
              "      <td>https://fastly.4sqi.net/img/user/</td>\n",
              "      <td>/88784972-CEGZXTNWUWIDPCTZ.jpg</td>\n",
              "      <td>0</td>\n",
              "    </tr>\n",
              "    <tr>\n",
              "      <th>8</th>\n",
              "      <td></td>\n",
              "      <td>Oyegade</td>\n",
              "      <td>male</td>\n",
              "      <td></td>\n",
              "      <td>60853022</td>\n",
              "      <td>A</td>\n",
              "      <td>[{'type': 'created', 'count': 2, 'items': []}]</td>\n",
              "      <td>True</td>\n",
              "      <td>https://fastly.4sqi.net/img/user/</td>\n",
              "      <td>/blank_boy.png</td>\n",
              "      <td>0</td>\n",
              "    </tr>\n",
              "    <tr>\n",
              "      <th>9</th>\n",
              "      <td></td>\n",
              "      <td>Deere</td>\n",
              "      <td>male</td>\n",
              "      <td></td>\n",
              "      <td>88162596</td>\n",
              "      <td>S</td>\n",
              "      <td>[{'type': 'created', 'count': 2, 'items': []}]</td>\n",
              "      <td>True</td>\n",
              "      <td>https://fastly.4sqi.net/img/user/</td>\n",
              "      <td>/blank_boy.png</td>\n",
              "      <td>0</td>\n",
              "    </tr>\n",
              "  </tbody>\n",
              "</table>\n",
              "</div>"
            ],
            "text/plain": [
              "               bio firstName  ...                    photo.suffix tips.count\n",
              "0                   Olla      ...  /EFWGPLYB0GKNEC3S.jpg           2        \n",
              "1                   Sunday    ...  /80621785-5EEF404YOKLD0VF3.jpg  1        \n",
              "2  Always on point  Onyeka    ...  /91427432-2521BX1GVWTBSN1N.jpg  1        \n",
              "3                   Cheri     ...  /8517926-C0Z24WE11FRC1HV0.jpg   25       \n",
              "4                   Kollins   ...  /87099052-VZMRDPM43HCWNNRU.jpg  0        \n",
              "5  Adventurer!      John      ...  /3387004-GVQXBYTR1S1Z055I.jpg   3        \n",
              "6  Hard work pays   Sotonye   ...  /76988229-CW2MOUFP4BMYGMCU.jpg  10       \n",
              "7  2BB117D4         Richyvic  ...  /88784972-CEGZXTNWUWIDPCTZ.jpg  0        \n",
              "8                   Oyegade   ...  /blank_boy.png                  0        \n",
              "9                   Deere     ...  /blank_boy.png                  0        \n",
              "\n",
              "[10 rows x 11 columns]"
            ]
          },
          "metadata": {
            "tags": []
          },
          "execution_count": 92
        }
      ]
    },
    {
      "cell_type": "markdown",
      "metadata": {
        "id": "-Y2gU7wzC3pm",
        "colab_type": "text"
      },
      "source": [
        "### Retrieve the User's Profile Image\n"
      ]
    },
    {
      "cell_type": "code",
      "metadata": {
        "id": "F3Bwj9zvC4xh",
        "colab_type": "code",
        "colab": {
          "base_uri": "https://localhost:8080/",
          "height": 2873
        },
        "outputId": "c9715b40-7bc1-442b-8b5d-f13f0e28059f"
      },
      "source": [
        "user_data"
      ],
      "execution_count": 93,
      "outputs": [
        {
          "output_type": "execute_result",
          "data": {
            "text/plain": [
              "{'bio': '',\n",
              " 'canonicalUrl': 'https://foursquare.com/dredsigirl',\n",
              " 'checkins': {'count': 197, 'items': []},\n",
              " 'contact': {},\n",
              " 'firstName': 'Tayo',\n",
              " 'friends': {'count': 137,\n",
              "  'groups': [{'count': 137,\n",
              "    'items': [{'bio': '',\n",
              "      'contact': {},\n",
              "      'firstName': 'Olla',\n",
              "      'gender': 'female',\n",
              "      'homeCity': 'PORT HARCOURT',\n",
              "      'id': '2630915',\n",
              "      'lastName': 'K',\n",
              "      'lists': {'groups': [{'count': 2, 'items': [], 'type': 'created'}]},\n",
              "      'photo': {'prefix': 'https://fastly.4sqi.net/img/user/',\n",
              "       'suffix': '/EFWGPLYB0GKNEC3S.jpg'},\n",
              "      'tips': {'count': 2}},\n",
              "     {'bio': '',\n",
              "      'contact': {},\n",
              "      'firstName': 'Sunday',\n",
              "      'gender': 'male',\n",
              "      'homeCity': '',\n",
              "      'id': '80621785',\n",
              "      'lastName': 'A',\n",
              "      'lists': {'groups': [{'count': 2, 'items': [], 'type': 'created'}]},\n",
              "      'photo': {'prefix': 'https://fastly.4sqi.net/img/user/',\n",
              "       'suffix': '/80621785-5EEF404YOKLD0VF3.jpg'},\n",
              "      'tips': {'count': 1}},\n",
              "     {'bio': 'Always on point',\n",
              "      'contact': {},\n",
              "      'firstName': 'Onyeka',\n",
              "      'gender': 'male',\n",
              "      'homeCity': 'Lagos, Lagos',\n",
              "      'id': '91427432',\n",
              "      'lastName': 'K',\n",
              "      'lists': {'groups': [{'count': 2, 'items': [], 'type': 'created'}]},\n",
              "      'photo': {'prefix': 'https://fastly.4sqi.net/img/user/',\n",
              "       'suffix': '/91427432-2521BX1GVWTBSN1N.jpg'},\n",
              "      'tips': {'count': 1}},\n",
              "     {'bio': '',\n",
              "      'contact': {},\n",
              "      'firstName': 'Cheri',\n",
              "      'gender': 'female',\n",
              "      'homeCity': 'Lagos, Nigeria',\n",
              "      'id': '8517926',\n",
              "      'lastName': 'D',\n",
              "      'lists': {'groups': [{'count': 4, 'items': [], 'type': 'created'}]},\n",
              "      'photo': {'prefix': 'https://fastly.4sqi.net/img/user/',\n",
              "       'suffix': '/8517926-C0Z24WE11FRC1HV0.jpg'},\n",
              "      'tips': {'count': 25}},\n",
              "     {'bio': '',\n",
              "      'contact': {},\n",
              "      'firstName': 'Kollins',\n",
              "      'gender': 'male',\n",
              "      'homeCity': 'abuja nigeria',\n",
              "      'id': '87099052',\n",
              "      'lastName': 'R',\n",
              "      'lists': {'groups': [{'count': 2, 'items': [], 'type': 'created'}]},\n",
              "      'photo': {'prefix': 'https://fastly.4sqi.net/img/user/',\n",
              "       'suffix': '/87099052-VZMRDPM43HCWNNRU.jpg'},\n",
              "      'tips': {'count': 0}},\n",
              "     {'bio': 'Adventurer!',\n",
              "      'contact': {},\n",
              "      'firstName': 'John',\n",
              "      'gender': 'male',\n",
              "      'homeCity': 'calabar, nigeria',\n",
              "      'id': '3387004',\n",
              "      'lastName': 'U',\n",
              "      'lists': {'groups': [{'count': 2, 'items': [], 'type': 'created'}]},\n",
              "      'photo': {'prefix': 'https://fastly.4sqi.net/img/user/',\n",
              "       'suffix': '/3387004-GVQXBYTR1S1Z055I.jpg'},\n",
              "      'tips': {'count': 3}},\n",
              "     {'bio': 'Hard work pays',\n",
              "      'contact': {},\n",
              "      'firstName': 'Sotonye',\n",
              "      'gender': 'male',\n",
              "      'homeCity': '',\n",
              "      'id': '76988229',\n",
              "      'lastName': 'B',\n",
              "      'lists': {'groups': [{'count': 2, 'items': [], 'type': 'created'}]},\n",
              "      'photo': {'prefix': 'https://fastly.4sqi.net/img/user/',\n",
              "       'suffix': '/76988229-CW2MOUFP4BMYGMCU.jpg'},\n",
              "      'tips': {'count': 10}},\n",
              "     {'bio': '2BB117D4',\n",
              "      'contact': {},\n",
              "      'firstName': 'Richyvic',\n",
              "      'gender': 'male',\n",
              "      'homeCity': 'ibadan',\n",
              "      'id': '88784972',\n",
              "      'lastName': 'O',\n",
              "      'lists': {'groups': [{'count': 2, 'items': [], 'type': 'created'}]},\n",
              "      'photo': {'prefix': 'https://fastly.4sqi.net/img/user/',\n",
              "       'suffix': '/88784972-CEGZXTNWUWIDPCTZ.jpg'},\n",
              "      'tips': {'count': 0}},\n",
              "     {'bio': '',\n",
              "      'contact': {},\n",
              "      'firstName': 'Oyegade',\n",
              "      'gender': 'male',\n",
              "      'homeCity': '',\n",
              "      'id': '60853022',\n",
              "      'lastName': 'A',\n",
              "      'lists': {'groups': [{'count': 2, 'items': [], 'type': 'created'}]},\n",
              "      'photo': {'default': True,\n",
              "       'prefix': 'https://fastly.4sqi.net/img/user/',\n",
              "       'suffix': '/blank_boy.png'},\n",
              "      'tips': {'count': 0}},\n",
              "     {'bio': '',\n",
              "      'contact': {},\n",
              "      'firstName': 'Deere',\n",
              "      'gender': 'male',\n",
              "      'homeCity': '',\n",
              "      'id': '88162596',\n",
              "      'lastName': 'S',\n",
              "      'lists': {'groups': [{'count': 2, 'items': [], 'type': 'created'}]},\n",
              "      'photo': {'default': True,\n",
              "       'prefix': 'https://fastly.4sqi.net/img/user/',\n",
              "       'suffix': '/blank_boy.png'},\n",
              "      'tips': {'count': 0}}],\n",
              "    'name': 'Other friends',\n",
              "    'type': 'others'}]},\n",
              " 'gender': 'female',\n",
              " 'homeCity': 'Lagos, Nigeria',\n",
              " 'id': '12610843',\n",
              " 'lastName': 'A',\n",
              " 'lenses': [],\n",
              " 'lists': {'count': 4,\n",
              "  'groups': [{'count': 1,\n",
              "    'items': [{'canonicalUrl': 'https://foursquare.com/dredsigirl/list/top-10-favorites-places-in-lagos-nigeria',\n",
              "      'collaborative': False,\n",
              "      'createdAt': 1313524631,\n",
              "      'description': '',\n",
              "      'editable': False,\n",
              "      'followers': {'count': 2},\n",
              "      'id': '4e4acb97636576bfab29664f',\n",
              "      'listItems': {'count': 1},\n",
              "      'name': 'Top 10 favorites places in Lagos, Nigeria',\n",
              "      'public': True,\n",
              "      'updatedAt': 1382806451,\n",
              "      'url': '/dredsigirl/list/top-10-favorites-places-in-lagos-nigeria'}],\n",
              "    'type': 'created'},\n",
              "   {'count': 1, 'items': [], 'type': 'followed'},\n",
              "   {'count': 2,\n",
              "    'items': [{'canonicalUrl': 'https://foursquare.com/dredsigirl/list/todos',\n",
              "      'collaborative': False,\n",
              "      'description': '',\n",
              "      'editable': False,\n",
              "      'id': '12610843/todos',\n",
              "      'listItems': {'count': 1},\n",
              "      'name': \"Tayo's Saved Places\",\n",
              "      'public': True,\n",
              "      'type': 'todos',\n",
              "      'url': '/dredsigirl/list/todos'},\n",
              "     {'canonicalUrl': 'https://foursquare.com/dredsigirl/list/venuelikes',\n",
              "      'collaborative': False,\n",
              "      'description': '',\n",
              "      'editable': False,\n",
              "      'id': '12610843/venuelikes',\n",
              "      'listItems': {'count': 0},\n",
              "      'name': 'Tayo’s Liked Places',\n",
              "      'public': True,\n",
              "      'type': 'likes',\n",
              "      'url': '/dredsigirl/list/venuelikes'}],\n",
              "    'type': 'yours'}]},\n",
              " 'mayorships': {'count': 0, 'items': []},\n",
              " 'photo': {'prefix': 'https://fastly.4sqi.net/img/user/',\n",
              "  'suffix': '/12610843-NANRBFHOYGICH442.jpg'},\n",
              " 'photos': {'count': 0, 'items': []},\n",
              " 'tips': {'count': 18},\n",
              " 'type': 'user'}"
            ]
          },
          "metadata": {
            "tags": []
          },
          "execution_count": 93
        }
      ]
    },
    {
      "cell_type": "code",
      "metadata": {
        "id": "8oK53Lr8DvIb",
        "colab_type": "code",
        "colab": {
          "base_uri": "https://localhost:8080/",
          "height": 321
        },
        "outputId": "662c9c58-4b2e-4279-b6ea-6afc68ed9012"
      },
      "source": [
        "# 1. grab prefix of photo\n",
        "# 2. grab suffix of photo\n",
        "# 3. concatenate them using the image size  \n",
        "Image(url='https://igx.4sqi.net/img/user/300x300/8517926-C0Z24WE11FRC1HV0.jpg')\n",
        "#Image(url='https://fastly.4sqi.net/img/user/300x300/94019944-J3UVYYZKSG31TMXK.jpg')"
      ],
      "execution_count": 94,
      "outputs": [
        {
          "output_type": "execute_result",
          "data": {
            "text/html": [
              "<img src=\"https://igx.4sqi.net/img/user/300x300/8517926-C0Z24WE11FRC1HV0.jpg\"/>"
            ],
            "text/plain": [
              "<IPython.core.display.Image object>"
            ]
          },
          "metadata": {
            "tags": []
          },
          "execution_count": 94
        }
      ]
    },
    {
      "cell_type": "markdown",
      "metadata": {
        "id": "rDNsqx0lF37p",
        "colab_type": "text"
      },
      "source": [
        "## Explore a location\n",
        "> `https://api.foursquare.com/v2/venues/`**explore**`?client_id=`**CLIENT_ID**`&client_secret=`**CLIENT_SECRET**`&ll=`**LATITUDE**`,`**LONGITUDE**`&v=`**VERSION**`&limit=`**LIMIT**"
      ]
    },
    {
      "cell_type": "code",
      "metadata": {
        "id": "DsAzxac0F5-E",
        "colab_type": "code",
        "colab": {
          "base_uri": "https://localhost:8080/",
          "height": 54
        },
        "outputId": "1f7b21a2-d860-4039-b9cb-c93cbe51265e"
      },
      "source": [
        "url = 'https://api.foursquare.com/v2/venues/explore?client_id={}&client_secret={}&ll={},{}&v={}&radius={}&limit={}'.format(CLIENT_ID, CLIENT_SECRET, latitude, longitude, VERSION, radius, LIMIT)\n",
        "url"
      ],
      "execution_count": 100,
      "outputs": [
        {
          "output_type": "execute_result",
          "data": {
            "text/plain": [
              "'https://api.foursquare.com/v2/venues/explore?client_id=L2XUYCRD44VP2YBDMZ3XY0Z4XKO1JODM5SMG3IIYRZ5330FD&client_secret=5KI00FG4RT2VJQTIDPXFY1N4AOKTIXLIZEAO0AHPP3DPD0U1&ll=6.43642025,3.41639455&v=20190620&radius=1500&limit=100'"
            ]
          },
          "metadata": {
            "tags": []
          },
          "execution_count": 100
        }
      ]
    },
    {
      "cell_type": "code",
      "metadata": {
        "id": "ogfnCWpAGR3R",
        "colab_type": "code",
        "colab": {
          "base_uri": "https://localhost:8080/",
          "height": 34
        },
        "outputId": "6f69bd0d-fa60-4305-d049-fcfa77580b44"
      },
      "source": [
        "results = requests.get(url).json()\n",
        "'There are {} around Radisson Blu Hotel.'.format(len(results['response']['groups'][0]['items']))"
      ],
      "execution_count": 101,
      "outputs": [
        {
          "output_type": "execute_result",
          "data": {
            "text/plain": [
              "'There are 100 around Radisson Blu Hotel.'"
            ]
          },
          "metadata": {
            "tags": []
          },
          "execution_count": 101
        }
      ]
    },
    {
      "cell_type": "code",
      "metadata": {
        "id": "MiaL7mXnGf2H",
        "colab_type": "code",
        "colab": {
          "base_uri": "https://localhost:8080/",
          "height": 538
        },
        "outputId": "f121d5b1-04e1-472b-a29e-3e1a8151eca8"
      },
      "source": [
        "items = results['response']['groups'][0]['items']\n",
        "items[0]"
      ],
      "execution_count": 103,
      "outputs": [
        {
          "output_type": "execute_result",
          "data": {
            "text/plain": [
              "{'reasons': {'count': 0,\n",
              "  'items': [{'reasonName': 'globalInteractionReason',\n",
              "    'summary': 'This spot is popular',\n",
              "    'type': 'general'}]},\n",
              " 'referralId': 'e-0-556b4c01498e7fd1525edbab-0',\n",
              " 'venue': {'categories': [{'icon': {'prefix': 'https://ss3.4sqi.net/img/categories_v2/food/icecream_',\n",
              "     'suffix': '.png'},\n",
              "    'id': '4bf58dd8d48988d1c9941735',\n",
              "    'name': 'Ice Cream Shop',\n",
              "    'pluralName': 'Ice Cream Shops',\n",
              "    'primary': True,\n",
              "    'shortName': 'Ice Cream'}],\n",
              "  'id': '556b4c01498e7fd1525edbab',\n",
              "  'location': {'address': 'Radisson Blu',\n",
              "   'cc': 'NG',\n",
              "   'city': 'Victoria Island',\n",
              "   'country': 'Nigeria',\n",
              "   'crossStreet': 'Ozumba Mbadiwe',\n",
              "   'distance': 16,\n",
              "   'formattedAddress': ['Radisson Blu (Ozumba Mbadiwe)',\n",
              "    'Victoria Island',\n",
              "    'Lagos',\n",
              "    'Nigeria'],\n",
              "   'labeledLatLngs': [{'label': 'display',\n",
              "     'lat': 6.436521550578695,\n",
              "     'lng': 3.416506506247353}],\n",
              "   'lat': 6.436521550578695,\n",
              "   'lng': 3.416506506247353,\n",
              "   'state': 'Lagos'},\n",
              "  'name': 'Hans & René',\n",
              "  'photos': {'count': 0, 'groups': []}}}"
            ]
          },
          "metadata": {
            "tags": []
          },
          "execution_count": 103
        }
      ]
    },
    {
      "cell_type": "markdown",
      "metadata": {
        "id": "5PD00orPH0WS",
        "colab_type": "text"
      },
      "source": [
        "###Process JSON and convert it to a clean dataframe"
      ]
    },
    {
      "cell_type": "code",
      "metadata": {
        "id": "I4OwUTV9GhF1",
        "colab_type": "code",
        "colab": {
          "base_uri": "https://localhost:8080/",
          "height": 918
        },
        "outputId": "594dffb8-3962-41f7-df78-da31face669d"
      },
      "source": [
        "dataframe = json_normalize(items) # flatten JSON\n",
        "\n",
        "# filter columns\n",
        "filtered_columns = ['venue.name', 'venue.categories'] + [col for col in dataframe.columns if col.startswith('venue.location.')] + ['venue.id']\n",
        "dataframe_filtered = dataframe.loc[:, filtered_columns]\n",
        "\n",
        "# filter the category for each row\n",
        "dataframe_filtered['venue.categories'] = dataframe_filtered.apply(get_category_type, axis=1)\n",
        "\n",
        "# clean columns\n",
        "dataframe_filtered.columns = [col.split('.')[-1] for col in dataframe_filtered.columns]\n",
        "\n",
        "dataframe_filtered.head(10)"
      ],
      "execution_count": 112,
      "outputs": [
        {
          "output_type": "execute_result",
          "data": {
            "text/html": [
              "<div>\n",
              "<style scoped>\n",
              "    .dataframe tbody tr th:only-of-type {\n",
              "        vertical-align: middle;\n",
              "    }\n",
              "\n",
              "    .dataframe tbody tr th {\n",
              "        vertical-align: top;\n",
              "    }\n",
              "\n",
              "    .dataframe thead th {\n",
              "        text-align: right;\n",
              "    }\n",
              "</style>\n",
              "<table border=\"1\" class=\"dataframe\">\n",
              "  <thead>\n",
              "    <tr style=\"text-align: right;\">\n",
              "      <th></th>\n",
              "      <th>name</th>\n",
              "      <th>categories</th>\n",
              "      <th>address</th>\n",
              "      <th>cc</th>\n",
              "      <th>city</th>\n",
              "      <th>country</th>\n",
              "      <th>crossStreet</th>\n",
              "      <th>distance</th>\n",
              "      <th>formattedAddress</th>\n",
              "      <th>labeledLatLngs</th>\n",
              "      <th>lat</th>\n",
              "      <th>lng</th>\n",
              "      <th>neighborhood</th>\n",
              "      <th>postalCode</th>\n",
              "      <th>state</th>\n",
              "      <th>id</th>\n",
              "    </tr>\n",
              "  </thead>\n",
              "  <tbody>\n",
              "    <tr>\n",
              "      <th>0</th>\n",
              "      <td>Hans &amp; René</td>\n",
              "      <td>Ice Cream Shop</td>\n",
              "      <td>Radisson Blu</td>\n",
              "      <td>NG</td>\n",
              "      <td>Victoria Island</td>\n",
              "      <td>Nigeria</td>\n",
              "      <td>Ozumba Mbadiwe</td>\n",
              "      <td>16</td>\n",
              "      <td>[Radisson Blu (Ozumba Mbadiwe), Victoria Island, Lagos, Nigeria]</td>\n",
              "      <td>[{'label': 'display', 'lat': 6.436521550578695, 'lng': 3.416506506247353}]</td>\n",
              "      <td>6.436522</td>\n",
              "      <td>3.416507</td>\n",
              "      <td>NaN</td>\n",
              "      <td>NaN</td>\n",
              "      <td>Lagos</td>\n",
              "      <td>556b4c01498e7fd1525edbab</td>\n",
              "    </tr>\n",
              "    <tr>\n",
              "      <th>1</th>\n",
              "      <td>Radisson Blu Anchorage Hotel</td>\n",
              "      <td>Hotel</td>\n",
              "      <td>Ozumba Mdadiwe Road Victoria Island</td>\n",
              "      <td>NG</td>\n",
              "      <td>Lagos</td>\n",
              "      <td>Nigeria</td>\n",
              "      <td>NaN</td>\n",
              "      <td>99</td>\n",
              "      <td>[Ozumba Mdadiwe Road Victoria Island, Lagos, Lagos, Nigeria]</td>\n",
              "      <td>[{'label': 'display', 'lat': 6.436811719299866, 'lng': 3.4172041654919667}]</td>\n",
              "      <td>6.436812</td>\n",
              "      <td>3.417204</td>\n",
              "      <td>NaN</td>\n",
              "      <td>NaN</td>\n",
              "      <td>Lagos</td>\n",
              "      <td>4d9325d3b32737042aad9125</td>\n",
              "    </tr>\n",
              "    <tr>\n",
              "      <th>2</th>\n",
              "      <td>The Backyard Bar &amp; Grill</td>\n",
              "      <td>Bar</td>\n",
              "      <td>NaN</td>\n",
              "      <td>NG</td>\n",
              "      <td>Lagos</td>\n",
              "      <td>Nigeria</td>\n",
              "      <td>NaN</td>\n",
              "      <td>235</td>\n",
              "      <td>[Lagos, Lagos, Nigeria]</td>\n",
              "      <td>[{'label': 'display', 'lat': 6.434327618444297, 'lng': 3.4160976312299995}]</td>\n",
              "      <td>6.434328</td>\n",
              "      <td>3.416098</td>\n",
              "      <td>Victoria Island</td>\n",
              "      <td>NaN</td>\n",
              "      <td>Lagos</td>\n",
              "      <td>593c79d73362735a7e142ab9</td>\n",
              "    </tr>\n",
              "    <tr>\n",
              "      <th>3</th>\n",
              "      <td>Crust &amp; Cream</td>\n",
              "      <td>Breakfast Spot</td>\n",
              "      <td>11 Musa Yaradua Street</td>\n",
              "      <td>NG</td>\n",
              "      <td>Lagos</td>\n",
              "      <td>Nigeria</td>\n",
              "      <td>NaN</td>\n",
              "      <td>433</td>\n",
              "      <td>[11 Musa Yaradua Street, Lagos 000000, Lagos, Nigeria]</td>\n",
              "      <td>[{'label': 'display', 'lat': 6.432538760854469, 'lng': 3.4166896463204277}]</td>\n",
              "      <td>6.432539</td>\n",
              "      <td>3.416690</td>\n",
              "      <td>NaN</td>\n",
              "      <td>000000</td>\n",
              "      <td>Lagos</td>\n",
              "      <td>543155d4498e648f00ac0c38</td>\n",
              "    </tr>\n",
              "    <tr>\n",
              "      <th>4</th>\n",
              "      <td>Churrasco</td>\n",
              "      <td>Cocktail Bar</td>\n",
              "      <td>NaN</td>\n",
              "      <td>NG</td>\n",
              "      <td>Lagos</td>\n",
              "      <td>Nigeria</td>\n",
              "      <td>NaN</td>\n",
              "      <td>190</td>\n",
              "      <td>[Lagos, Lagos, Nigeria]</td>\n",
              "      <td>[{'label': 'display', 'lat': 6.437362443081496, 'lng': 3.414959972002244}]</td>\n",
              "      <td>6.437362</td>\n",
              "      <td>3.414960</td>\n",
              "      <td>NaN</td>\n",
              "      <td>NaN</td>\n",
              "      <td>Lagos</td>\n",
              "      <td>4be1e1e44283c9b612cd54f8</td>\n",
              "    </tr>\n",
              "    <tr>\n",
              "      <th>5</th>\n",
              "      <td>Club 57</td>\n",
              "      <td>Nightclub</td>\n",
              "      <td>57 Awolowo Road</td>\n",
              "      <td>NG</td>\n",
              "      <td>Ikoyi</td>\n",
              "      <td>Nigeria</td>\n",
              "      <td>NaN</td>\n",
              "      <td>621</td>\n",
              "      <td>[57 Awolowo Road, Ikoyi, Lagos, Nigeria]</td>\n",
              "      <td>[{'label': 'display', 'lat': 6.44194586108112, 'lng': 3.417182912285647}]</td>\n",
              "      <td>6.441946</td>\n",
              "      <td>3.417183</td>\n",
              "      <td>NaN</td>\n",
              "      <td>NaN</td>\n",
              "      <td>Lagos</td>\n",
              "      <td>5498b172498e81619ce8f6b4</td>\n",
              "    </tr>\n",
              "    <tr>\n",
              "      <th>6</th>\n",
              "      <td>Pizze-riah Wood-fired pizza</td>\n",
              "      <td>Pizza Place</td>\n",
              "      <td>13 Musa Yar'Adua</td>\n",
              "      <td>NG</td>\n",
              "      <td>Victoria Island</td>\n",
              "      <td>Nigeria</td>\n",
              "      <td>Adeleke Adedoyin Street</td>\n",
              "      <td>450</td>\n",
              "      <td>[13 Musa Yar'Adua (Adeleke Adedoyin Street), Victoria Island, Lagos, Nigeria]</td>\n",
              "      <td>[{'label': 'display', 'lat': 6.432408, 'lng': 3.416935}]</td>\n",
              "      <td>6.432408</td>\n",
              "      <td>3.416935</td>\n",
              "      <td>Victoria Island</td>\n",
              "      <td>NaN</td>\n",
              "      <td>Lagos</td>\n",
              "      <td>4f805d88e4b05766b1888536</td>\n",
              "    </tr>\n",
              "    <tr>\n",
              "      <th>7</th>\n",
              "      <td>Craft Gourmet</td>\n",
              "      <td>Mediterranean Restaurant</td>\n",
              "      <td>Mega Plaza</td>\n",
              "      <td>NG</td>\n",
              "      <td>Lagos</td>\n",
              "      <td>Nigeria</td>\n",
              "      <td>NaN</td>\n",
              "      <td>595</td>\n",
              "      <td>[Mega Plaza, Lagos, Lagos, Nigeria]</td>\n",
              "      <td>[{'label': 'display', 'lat': 6.433277060432517, 'lng': 3.4207521787021378}]</td>\n",
              "      <td>6.433277</td>\n",
              "      <td>3.420752</td>\n",
              "      <td>NaN</td>\n",
              "      <td>NaN</td>\n",
              "      <td>Lagos</td>\n",
              "      <td>56caf22d498e9ce2cbd69ad0</td>\n",
              "    </tr>\n",
              "    <tr>\n",
              "      <th>8</th>\n",
              "      <td>Lagoon Restaurant</td>\n",
              "      <td>Brazilian Restaurant</td>\n",
              "      <td>Ozumba Mbadiwe</td>\n",
              "      <td>NG</td>\n",
              "      <td>Lagos</td>\n",
              "      <td>Nigeria</td>\n",
              "      <td>NaN</td>\n",
              "      <td>185</td>\n",
              "      <td>[Ozumba Mbadiwe, Lagos, Lagos, Nigeria]</td>\n",
              "      <td>[{'label': 'display', 'lat': 6.437342578688403, 'lng': 3.4149947336141335}]</td>\n",
              "      <td>6.437343</td>\n",
              "      <td>3.414995</td>\n",
              "      <td>NaN</td>\n",
              "      <td>NaN</td>\n",
              "      <td>Lagos</td>\n",
              "      <td>4be446d82457a593fefba915</td>\n",
              "    </tr>\n",
              "    <tr>\n",
              "      <th>9</th>\n",
              "      <td>The homestores (Art Cafe)</td>\n",
              "      <td>Art Gallery</td>\n",
              "      <td>NaN</td>\n",
              "      <td>NG</td>\n",
              "      <td>NaN</td>\n",
              "      <td>Nigeria</td>\n",
              "      <td>NaN</td>\n",
              "      <td>710</td>\n",
              "      <td>[Nigeria]</td>\n",
              "      <td>[{'label': 'display', 'lat': 6.431375469458717, 'lng': 3.420335905759083}]</td>\n",
              "      <td>6.431375</td>\n",
              "      <td>3.420336</td>\n",
              "      <td>NaN</td>\n",
              "      <td>NaN</td>\n",
              "      <td>NaN</td>\n",
              "      <td>530c7fc4498ee69cc24966f5</td>\n",
              "    </tr>\n",
              "  </tbody>\n",
              "</table>\n",
              "</div>"
            ],
            "text/plain": [
              "                           name  ...                        id\n",
              "0  Hans & René                   ...  556b4c01498e7fd1525edbab\n",
              "1  Radisson Blu Anchorage Hotel  ...  4d9325d3b32737042aad9125\n",
              "2  The Backyard Bar & Grill      ...  593c79d73362735a7e142ab9\n",
              "3  Crust & Cream                 ...  543155d4498e648f00ac0c38\n",
              "4  Churrasco                     ...  4be1e1e44283c9b612cd54f8\n",
              "5  Club 57                       ...  5498b172498e81619ce8f6b4\n",
              "6  Pizze-riah Wood-fired pizza   ...  4f805d88e4b05766b1888536\n",
              "7  Craft Gourmet                 ...  56caf22d498e9ce2cbd69ad0\n",
              "8  Lagoon Restaurant             ...  4be446d82457a593fefba915\n",
              "9  The homestores (Art Cafe)     ...  530c7fc4498ee69cc24966f5\n",
              "\n",
              "[10 rows x 16 columns]"
            ]
          },
          "metadata": {
            "tags": []
          },
          "execution_count": 112
        }
      ]
    },
    {
      "cell_type": "code",
      "metadata": {
        "id": "K8YYKqKgI4Rw",
        "colab_type": "code",
        "colab": {
          "base_uri": "https://localhost:8080/",
          "height": 853
        },
        "outputId": "e83e0d78-61cb-4a8c-e07c-10f563802dd1"
      },
      "source": [
        "venues_map = folium.Map(location=[latitude, longitude], zoom_start=15) # generate map centred around Ecco\n",
        "\n",
        "\n",
        "# add radisson Blu as a red circle mark\n",
        "folium.CircleMarker(\n",
        "    [latitude, longitude],\n",
        "    radius=10,\n",
        "    popup='Ecco',\n",
        "    fill=True,\n",
        "    color='red',\n",
        "    fill_color='red',\n",
        "    fill_opacity=0.6\n",
        "    ).add_to(venues_map)\n",
        "\n",
        "\n",
        "# add popular spots to the map as blue circle markers\n",
        "for lat, lng, label in zip(dataframe_filtered.lat, dataframe_filtered.lng, dataframe_filtered.categories):\n",
        "    folium.CircleMarker(\n",
        "        [lat, lng],\n",
        "        radius=5,\n",
        "        popup=label,\n",
        "        fill=True,\n",
        "        color='blue',\n",
        "        fill_color='blue',\n",
        "        fill_opacity=0.6\n",
        "        ).add_to(venues_map)\n",
        "\n",
        "# display map\n",
        "venues_map"
      ],
      "execution_count": 113,
      "outputs": [
        {
          "output_type": "execute_result",
          "data": {
            "text/html": [
              "<div style=\"width:100%;\"><div style=\"position:relative;width:100%;height:0;padding-bottom:60%;\"><iframe src=\"data:text/html;charset=utf-8;base64,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\" style=\"position:absolute;width:100%;height:100%;left:0;top:0;border:none !important;\" allowfullscreen webkitallowfullscreen mozallowfullscreen></iframe></div></div>"
            ],
            "text/plain": [
              "<folium.folium.Map at 0x7f02d8c254a8>"
            ]
          },
          "metadata": {
            "tags": []
          },
          "execution_count": 113
        }
      ]
    },
    {
      "cell_type": "markdown",
      "metadata": {
        "id": "68eUzdZcJZnE",
        "colab_type": "text"
      },
      "source": [
        "## Explore Trending Venues\n",
        "> `https://api.foursquare.com/v2/venues/`**trending**`?client_id=`**CLIENT_ID**`&client_secret=`**CLIENT_SECRET**`&ll=`**LATITUDE**`,`**LONGITUDE**`&v=`**VERSION**"
      ]
    },
    {
      "cell_type": "markdown",
      "metadata": {
        "id": "KLECGY0eJkbU",
        "colab_type": "text"
      },
      "source": [
        "Now, instead of simply exploring the area around Radisson Blu, you are interested in knowing the venues that are trending at the time you are done with your lunch, meaning the places with the highest foot traffic. So let's do that and get the trending venues around Radisson Blu."
      ]
    },
    {
      "cell_type": "code",
      "metadata": {
        "id": "h5BLEGY1JcTz",
        "colab_type": "code",
        "colab": {
          "base_uri": "https://localhost:8080/",
          "height": 50
        },
        "outputId": "9f0bb04b-2566-41dc-e275-b7161d556579"
      },
      "source": [
        "# define URL\n",
        "url = 'https://api.foursquare.com/v2/venues/trending?client_id={}&client_secret={}&ll={},{}&v={}'.format(CLIENT_ID, CLIENT_SECRET, latitude, longitude, VERSION)\n",
        "\n",
        "# send GET request and get trending venues\n",
        "results = requests.get(url).json()\n",
        "results"
      ],
      "execution_count": 114,
      "outputs": [
        {
          "output_type": "execute_result",
          "data": {
            "text/plain": [
              "{'meta': {'code': 200, 'requestId': '5d0c12436adbf5002c03e130'},\n",
              " 'response': {'venues': []}}"
            ]
          },
          "metadata": {
            "tags": []
          },
          "execution_count": 114
        }
      ]
    },
    {
      "cell_type": "code",
      "metadata": {
        "id": "4RkyBByOKE4j",
        "colab_type": "code",
        "colab": {}
      },
      "source": [
        "if len(results['response']['venues']) == 0:\n",
        "    trending_venues_df = 'No trending venues are available at the moment!'\n",
        "    \n",
        "else:\n",
        "    trending_venues = results['response']['venues']\n",
        "    trending_venues_df = json_normalize(trending_venues)\n",
        "\n",
        "    # filter columns\n",
        "    columns_filtered = ['name', 'categories'] + ['location.distance', 'location.city', 'location.postalCode', 'location.state', 'location.country', 'location.lat', 'location.lng']\n",
        "    trending_venues_df = trending_venues_df.loc[:, columns_filtered]\n",
        "\n",
        "    # filter the category for each row\n",
        "    trending_venues_df['categories'] = trending_venues_df.apply(get_category_type, axis=1)"
      ],
      "execution_count": 0,
      "outputs": []
    },
    {
      "cell_type": "code",
      "metadata": {
        "id": "yCPEQw1-KQI1",
        "colab_type": "code",
        "colab": {
          "base_uri": "https://localhost:8080/",
          "height": 34
        },
        "outputId": "c8a47f72-0061-4bab-8445-48fc66e9dc69"
      },
      "source": [
        "# display trending venues\n",
        "trending_venues_df"
      ],
      "execution_count": 116,
      "outputs": [
        {
          "output_type": "execute_result",
          "data": {
            "text/plain": [
              "'No trending venues are available at the moment!'"
            ]
          },
          "metadata": {
            "tags": []
          },
          "execution_count": 116
        }
      ]
    },
    {
      "cell_type": "markdown",
      "metadata": {
        "id": "9fR6_lKyKlhA",
        "colab_type": "text"
      },
      "source": [
        "### Visualize Trending Values"
      ]
    },
    {
      "cell_type": "code",
      "metadata": {
        "id": "Dvvrv1m8KpOG",
        "colab_type": "code",
        "colab": {}
      },
      "source": [
        "if len(results['response']['venues']) == 0:\n",
        "    venues_map = 'Cannot generate visual as no trending venues are available at the moment!'\n",
        "\n",
        "else:\n",
        "    venues_map = folium.Map(location=[latitude, longitude], zoom_start=15) # generate map centred around Ecco\n",
        "\n",
        "\n",
        "    # add Ecco as a red circle mark\n",
        "    folium.CircleMarker(\n",
        "        [latitude, longitude],\n",
        "        radius=10,\n",
        "        popup='Ecco',\n",
        "        fill=True,\n",
        "        color='red',\n",
        "        fill_color='red',\n",
        "        fill_opacity=0.6\n",
        "    ).add_to(venues_map)\n",
        "\n",
        "\n",
        "    # add the trending venues as blue circle markers\n",
        "    for lat, lng, label in zip(trending_venues_df['location.lat'], trending_venues_df['location.lng'], trending_venues_df['name']):\n",
        "        folium.CircleMarker(\n",
        "            [lat, lng],\n",
        "            radius=5,\n",
        "            poup=label,\n",
        "            fill=True,\n",
        "            color='blue',\n",
        "            fill_color='blue',\n",
        "            fill_opacity=0.6\n",
        "        ).add_to(venues_map)"
      ],
      "execution_count": 0,
      "outputs": []
    },
    {
      "cell_type": "code",
      "metadata": {
        "id": "YVwzat5dKvAp",
        "colab_type": "code",
        "colab": {
          "base_uri": "https://localhost:8080/",
          "height": 34
        },
        "outputId": "6e6b89a8-c78a-4a49-922c-bd2d0ed8c71a"
      },
      "source": [
        "# display map\n",
        "venues_map"
      ],
      "execution_count": 118,
      "outputs": [
        {
          "output_type": "execute_result",
          "data": {
            "text/plain": [
              "'Cannot generate visual as no trending venues are available at the moment!'"
            ]
          },
          "metadata": {
            "tags": []
          },
          "execution_count": 118
        }
      ]
    }
  ]
}