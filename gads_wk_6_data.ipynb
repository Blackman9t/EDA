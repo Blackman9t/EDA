{
  "nbformat": 4,
  "nbformat_minor": 0,
  "metadata": {
    "colab": {
      "name": "gads_wk_6_data.ipynb",
      "provenance": [],
      "collapsed_sections": [],
      "authorship_tag": "ABX9TyMlHJi8La8pehBnp5Je+YY0",
      "include_colab_link": true
    },
    "kernelspec": {
      "name": "python3",
      "display_name": "Python 3"
    }
  },
  "cells": [
    {
      "cell_type": "markdown",
      "metadata": {
        "id": "view-in-github",
        "colab_type": "text"
      },
      "source": [
        "<a href=\"https://colab.research.google.com/github/Lawrence-Krukrubo/EDA/blob/master/gads_wk_6_data.ipynb\" target=\"_parent\"><img src=\"https://colab.research.google.com/assets/colab-badge.svg\" alt=\"Open In Colab\"/></a>"
      ]
    },
    {
      "cell_type": "code",
      "metadata": {
        "id": "OSRpKbOAmlXQ",
        "colab_type": "code",
        "colab": {}
      },
      "source": [
        "import numpy as np\n",
        "import pandas as pd\n",
        "import matplotlib.pyplot as plt\n",
        "import matplotlib.colors as colors\n",
        "import seaborn as sns\n",
        "from mpl_toolkits.mplot3d import Axes3D\n",
        "from bs4 import BeautifulSoup\n",
        "import requests  # library to handle requests"
      ],
      "execution_count": 45,
      "outputs": []
    },
    {
      "cell_type": "markdown",
      "metadata": {
        "id": "4Yu4vS3f-Udd",
        "colab_type": "text"
      },
      "source": [
        "build and deploy a model in [AML](https://thenewstack.io/build-and-deploy-a-machine-learning-model-with-azure-ml-service/)\n",
        "\n",
        "train and deploy with [colab](https://medium.com/tensorflow/train-on-google-colab-and-run-on-the-browser-a-case-study-8a45f9b1474e)\n",
        "\n",
        "See GCP link to deploy trained tensorflow models:[Link](https://cloud.google.com/ai-platform/prediction/docs/deploying-models)\n",
        "\n",
        "more links:\n",
        "\n",
        "1. [link](https://towardsdatascience.com/build-and-deploy-your-first-machine-learning-web-app-e020db344a99)\n",
        "\n",
        "\n",
        "2. [link](https://blog.cambridgespark.com/deploying-a-machine-learning-model-to-the-web-725688b851c7)\n",
        "\n",
        "3. [link](https://www.geeksforgeeks.org/deploy-machine-learning-model-using-flask/)\n",
        "\n",
        "4. [link](https://developer.ibm.com/tutorials/deploy-a-python-machine-learning-model-as-a-web-service/)"
      ]
    },
    {
      "cell_type": "code",
      "metadata": {
        "id": "DU1BBoFin-RW",
        "colab_type": "code",
        "colab": {}
      },
      "source": [
        "site_link = 'http://community.andela.com/index.php/leadership-board/'"
      ],
      "execution_count": 46,
      "outputs": []
    },
    {
      "cell_type": "markdown",
      "metadata": {
        "id": "3TWwS9yGoEr6",
        "colab_type": "text"
      },
      "source": [
        "We need to scrape the data containing the table from the website saved as `site_link`. <br>First, let's get the source code from the website"
      ]
    },
    {
      "cell_type": "code",
      "metadata": {
        "id": "M5yn9i5koOw6",
        "colab_type": "code",
        "colab": {}
      },
      "source": [
        "source = requests.get(site_link).text"
      ],
      "execution_count": 47,
      "outputs": []
    },
    {
      "cell_type": "markdown",
      "metadata": {
        "id": "3cxr87ZhpSpd",
        "colab_type": "text"
      },
      "source": [
        "Lets Use BeautifulSoup to parse it"
      ]
    },
    {
      "cell_type": "code",
      "metadata": {
        "id": "ArOfRrm-oOuQ",
        "colab_type": "code",
        "colab": {}
      },
      "source": [
        "soup = BeautifulSoup(source, 'lxml')\n",
        "\n",
        "# Let's pretty print it and see what it looks like\n",
        "\n",
        "#print(soup.prettify())"
      ],
      "execution_count": 48,
      "outputs": []
    },
    {
      "cell_type": "markdown",
      "metadata": {
        "id": "_Cudie84sCY4",
        "colab_type": "text"
      },
      "source": [
        "Next let's get the table that contains the data we want to scrape"
      ]
    },
    {
      "cell_type": "code",
      "metadata": {
        "id": "dsaY75jPsELN",
        "colab_type": "code",
        "colab": {
          "base_uri": "https://localhost:8080/",
          "height": 487
        },
        "outputId": "6c0c3419-e990-4536-aed8-7b435768b54d"
      },
      "source": [
        "my_table = soup.find_all('td')\n",
        "\n",
        "# Let's view the first 20 lines from the table\n",
        "my_table[:20]"
      ],
      "execution_count": 49,
      "outputs": [
        {
          "output_type": "execute_result",
          "data": {
            "text/plain": [
              "[<td width=\"112px\"><img alt=\"\" class=\"alignnone wp-image-3299\" height=\"111\" src=\"http://community.andela.com/wp-content/uploads/2020/06/Top-learner.png\" width=\"112\"/></td>,\n",
              " <td>\n",
              " <h3>Pharis Muigai</h3>\n",
              " <p>223 learning hours.Kenya<strong>.</strong></p></td>,\n",
              " <td width=\"112px\"><img alt=\"\" class=\"alignnone wp-image-3299\" height=\"111\" src=\"http://community.andela.com/wp-content/uploads/2020/06/Top-learner.png\" width=\"112\"/></td>,\n",
              " <td>\n",
              " <h3>Khalil Henchi</h3>\n",
              " <p>211 learning hours. <strong>Tunisia.</strong></p></td>,\n",
              " <td width=\"191px\"><img alt=\"\" class=\"alignnone wp-image-3454\" height=\"103\" src=\"http://community.andela.com/wp-content/uploads/2020/06/skill-IQ-trimmed.png\" width=\"191\"/></td>,\n",
              " <td>\n",
              " <h3>Ahmed Hany</h3>\n",
              " <p>300 skill IQ Score. Egypt<strong>.</strong></p></td>,\n",
              " <td width=\"191px\"><img alt=\"\" class=\"alignnone wp-image-3454\" height=\"103\" src=\"http://community.andela.com/wp-content/uploads/2020/06/skill-IQ-trimmed.png\" width=\"191\"/></td>,\n",
              " <td>\n",
              " <h3>Godfred Asamoah</h3>\n",
              " <p>300 skill IQ Score. <strong>Ghana.</strong></p></td>,\n",
              " <td style=\"\">1</td>,\n",
              " <td style=\"\">Lukman Ahmed</td>,\n",
              " <td style=\"\">Nigeria</td>,\n",
              " <td style=\"\">35</td>,\n",
              " <td style=\"\">231</td>,\n",
              " <td style=\"\">258</td>,\n",
              " <td style=\"\">2</td>,\n",
              " <td style=\"\">Okwuchukwu Nwachukwu</td>,\n",
              " <td style=\"\">Egypt</td>,\n",
              " <td style=\"\">30</td>,\n",
              " <td style=\"\">289</td>,\n",
              " <td style=\"\">191</td>]"
            ]
          },
          "metadata": {
            "tags": []
          },
          "execution_count": 49
        }
      ]
    },
    {
      "cell_type": "markdown",
      "metadata": {
        "id": "wuuUyXVfuxfN",
        "colab_type": "text"
      },
      "source": [
        "Next let's iterate through each link and append only the text parts"
      ]
    },
    {
      "cell_type": "code",
      "metadata": {
        "id": "WaBrVvlUsEGw",
        "colab_type": "code",
        "colab": {
          "base_uri": "https://localhost:8080/",
          "height": 34
        },
        "outputId": "36d1f07b-4383-4fd6-ae6d-25ec7adaa6e7"
      },
      "source": [
        "# First let's see what kind of object this table is\n",
        "type(my_table)"
      ],
      "execution_count": 50,
      "outputs": [
        {
          "output_type": "execute_result",
          "data": {
            "text/plain": [
              "bs4.element.ResultSet"
            ]
          },
          "metadata": {
            "tags": []
          },
          "execution_count": 50
        }
      ]
    },
    {
      "cell_type": "code",
      "metadata": {
        "id": "lvsuA7oWsEEn",
        "colab_type": "code",
        "colab": {
          "base_uri": "https://localhost:8080/",
          "height": 34
        },
        "outputId": "3ff25860-8cb1-4166-f27b-078850a5ab1e"
      },
      "source": [
        "table_text = []\n",
        "\n",
        "for data in my_table:\n",
        "    table_text.append(data.text)\n",
        "\n",
        "print(len(table_text))"
      ],
      "execution_count": 51,
      "outputs": [
        {
          "output_type": "stream",
          "text": [
            "123512\n"
          ],
          "name": "stdout"
        }
      ]
    },
    {
      "cell_type": "markdown",
      "metadata": {
        "id": "b4yuw_q0v32f",
        "colab_type": "text"
      },
      "source": [
        "Let's see the cleaned text, without the html tags"
      ]
    },
    {
      "cell_type": "code",
      "metadata": {
        "id": "sUIJLCIGv9tE",
        "colab_type": "code",
        "colab": {
          "base_uri": "https://localhost:8080/",
          "height": 319
        },
        "outputId": "49ea6d43-34ff-43aa-8c38-28e7bc29a8cc"
      },
      "source": [
        "# So we see that the relevent text we need starts from the index 8 till the end\n",
        "# So let's display from just 8 to 26, displaying data for first 3 students\n",
        "\n",
        "table_text[8:26]"
      ],
      "execution_count": 52,
      "outputs": [
        {
          "output_type": "execute_result",
          "data": {
            "text/plain": [
              "['1',\n",
              " 'Lukman Ahmed',\n",
              " 'Nigeria',\n",
              " '35',\n",
              " '231',\n",
              " '258',\n",
              " '2',\n",
              " 'Okwuchukwu Nwachukwu',\n",
              " 'Egypt',\n",
              " '30',\n",
              " '289',\n",
              " '191',\n",
              " '3',\n",
              " 'Adebisi Yusuf',\n",
              " 'Nigeria',\n",
              " '29',\n",
              " '288',\n",
              " '181']"
            ]
          },
          "metadata": {
            "tags": []
          },
          "execution_count": 52
        }
      ]
    },
    {
      "cell_type": "markdown",
      "metadata": {
        "id": "qaqbaOhd-YIT",
        "colab_type": "text"
      },
      "source": [
        "Therefore let's make the table_text to start from index 8 till the end"
      ]
    },
    {
      "cell_type": "code",
      "metadata": {
        "id": "Um3WZdQo-e8A",
        "colab_type": "code",
        "colab": {
          "base_uri": "https://localhost:8080/",
          "height": 34
        },
        "outputId": "fe0591d8-864e-40aa-fb8d-51c710db5773"
      },
      "source": [
        "table_text = table_text[8:]\n",
        "\n",
        "# Let's sconfirm the length\n",
        "len(table_text)"
      ],
      "execution_count": 53,
      "outputs": [
        {
          "output_type": "execute_result",
          "data": {
            "text/plain": [
              "123504"
            ]
          },
          "metadata": {
            "tags": []
          },
          "execution_count": 53
        }
      ]
    },
    {
      "cell_type": "markdown",
      "metadata": {
        "id": "CSfWBCvL0_sW",
        "colab_type": "text"
      },
      "source": [
        "Next, we create a dictionary with the right table columns as keys, then append the data for each student in the dictionary"
      ]
    },
    {
      "cell_type": "code",
      "metadata": {
        "id": "NoygBgb11KQA",
        "colab_type": "code",
        "colab": {}
      },
      "source": [
        "student_dict = {'Rank':[], 'Name':[], 'Country':[], 'Total_points':[], 'SkillIQ_score':[], 'Learning_hours':[]}"
      ],
      "execution_count": 54,
      "outputs": []
    },
    {
      "cell_type": "markdown",
      "metadata": {
        "id": "D14tpj0C120w",
        "colab_type": "text"
      },
      "source": [
        "So now we need to iterate through the list of table texts and append student details accordingly to the students dictionary above."
      ]
    },
    {
      "cell_type": "code",
      "metadata": {
        "id": "GxC-8sSE6g1e",
        "colab_type": "code",
        "colab": {
          "base_uri": "https://localhost:8080/",
          "height": 34
        },
        "outputId": "779783d2-6922-40b8-d105-d0320320362c"
      },
      "source": [
        "# First let's make a copy of the table_test to be on the safe side\n",
        "table_text_copy = table_text[:]\n",
        "len(table_text_copy)"
      ],
      "execution_count": 55,
      "outputs": [
        {
          "output_type": "execute_result",
          "data": {
            "text/plain": [
              "123504"
            ]
          },
          "metadata": {
            "tags": []
          },
          "execution_count": 55
        }
      ]
    },
    {
      "cell_type": "code",
      "metadata": {
        "id": "vBPKEJut2FNv",
        "colab_type": "code",
        "colab": {}
      },
      "source": [
        "stopper = 6  # setting an index stopper variable\n",
        "\n",
        "while True:\n",
        "    \n",
        "    if not table_text_copy: \n",
        "        break\n",
        "\n",
        "    for i in range(stopper):\n",
        "        if i == 1:\n",
        "            student_dict['Name'].append(table_text_copy[i])\n",
        "        elif i == 2:\n",
        "            student_dict['Country'].append(table_text_copy[i])\n",
        "        elif i == 3:\n",
        "            student_dict['Total_points'].append(table_text_copy[i])\n",
        "        elif i == 4:\n",
        "            student_dict['SkillIQ_score'].append(table_text_copy[i])\n",
        "        elif i == 5:\n",
        "            student_dict['Learning_hours'].append(table_text_copy[i])\n",
        "        else:\n",
        "            student_dict['Rank'].append(table_text_copy[i])\n",
        "\n",
        "    if table_text_copy:\n",
        "        table_text_copy = table_text_copy[stopper:]"
      ],
      "execution_count": 56,
      "outputs": []
    },
    {
      "cell_type": "markdown",
      "metadata": {
        "id": "94aYpGpdBwAC",
        "colab_type": "text"
      },
      "source": [
        "Now that we have a dictionary containing details for over 20,000 students, lets start data preprocessing.<br> First, let's put the data set in a pandas Data Frame"
      ]
    },
    {
      "cell_type": "code",
      "metadata": {
        "id": "1rFw89c-D7rA",
        "colab_type": "code",
        "colab": {
          "base_uri": "https://localhost:8080/",
          "height": 195
        },
        "outputId": "0987119f-ceee-4a42-cf95-8d0d0d69271f"
      },
      "source": [
        "gads_df = pd.DataFrame(student_dict)\n",
        "gads_df.head()"
      ],
      "execution_count": 57,
      "outputs": [
        {
          "output_type": "execute_result",
          "data": {
            "text/html": [
              "<div>\n",
              "<style scoped>\n",
              "    .dataframe tbody tr th:only-of-type {\n",
              "        vertical-align: middle;\n",
              "    }\n",
              "\n",
              "    .dataframe tbody tr th {\n",
              "        vertical-align: top;\n",
              "    }\n",
              "\n",
              "    .dataframe thead th {\n",
              "        text-align: right;\n",
              "    }\n",
              "</style>\n",
              "<table border=\"1\" class=\"dataframe\">\n",
              "  <thead>\n",
              "    <tr style=\"text-align: right;\">\n",
              "      <th></th>\n",
              "      <th>Rank</th>\n",
              "      <th>Name</th>\n",
              "      <th>Country</th>\n",
              "      <th>Total_points</th>\n",
              "      <th>SkillIQ_score</th>\n",
              "      <th>Learning_hours</th>\n",
              "    </tr>\n",
              "  </thead>\n",
              "  <tbody>\n",
              "    <tr>\n",
              "      <th>0</th>\n",
              "      <td>1</td>\n",
              "      <td>Lukman Ahmed</td>\n",
              "      <td>Nigeria</td>\n",
              "      <td>35</td>\n",
              "      <td>231</td>\n",
              "      <td>258</td>\n",
              "    </tr>\n",
              "    <tr>\n",
              "      <th>1</th>\n",
              "      <td>2</td>\n",
              "      <td>Okwuchukwu Nwachukwu</td>\n",
              "      <td>Egypt</td>\n",
              "      <td>30</td>\n",
              "      <td>289</td>\n",
              "      <td>191</td>\n",
              "    </tr>\n",
              "    <tr>\n",
              "      <th>2</th>\n",
              "      <td>3</td>\n",
              "      <td>Adebisi Yusuf</td>\n",
              "      <td>Nigeria</td>\n",
              "      <td>29</td>\n",
              "      <td>288</td>\n",
              "      <td>181</td>\n",
              "    </tr>\n",
              "    <tr>\n",
              "      <th>3</th>\n",
              "      <td>4</td>\n",
              "      <td>Pharis Muigai</td>\n",
              "      <td>Kenya</td>\n",
              "      <td>28</td>\n",
              "      <td>160</td>\n",
              "      <td>223</td>\n",
              "    </tr>\n",
              "    <tr>\n",
              "      <th>4</th>\n",
              "      <td>5</td>\n",
              "      <td>Evans Nandwa</td>\n",
              "      <td>Kenya</td>\n",
              "      <td>26</td>\n",
              "      <td>146</td>\n",
              "      <td>210</td>\n",
              "    </tr>\n",
              "  </tbody>\n",
              "</table>\n",
              "</div>"
            ],
            "text/plain": [
              "  Rank                  Name  Country Total_points SkillIQ_score Learning_hours\n",
              "0    1          Lukman Ahmed  Nigeria           35           231            258\n",
              "1    2  Okwuchukwu Nwachukwu    Egypt           30           289            191\n",
              "2    3         Adebisi Yusuf  Nigeria           29           288            181\n",
              "3    4         Pharis Muigai    Kenya           28           160            223\n",
              "4    5          Evans Nandwa    Kenya           26           146            210"
            ]
          },
          "metadata": {
            "tags": []
          },
          "execution_count": 57
        }
      ]
    },
    {
      "cell_type": "markdown",
      "metadata": {
        "id": "LhanaZqbHqqj",
        "colab_type": "text"
      },
      "source": [
        "Let's see the shape of the data set to confirm we captured all records for all students on the leader board"
      ]
    },
    {
      "cell_type": "code",
      "metadata": {
        "id": "_Bekkd78H0Rv",
        "colab_type": "code",
        "colab": {
          "base_uri": "https://localhost:8080/",
          "height": 34
        },
        "outputId": "c7ed36a8-d695-401c-c4a7-efa5dd591930"
      },
      "source": [
        "print(gads_df.shape)"
      ],
      "execution_count": 58,
      "outputs": [
        {
          "output_type": "stream",
          "text": [
            "(20584, 6)\n"
          ],
          "name": "stdout"
        }
      ]
    },
    {
      "cell_type": "markdown",
      "metadata": {
        "id": "dOgV0u4LrSxk",
        "colab_type": "text"
      },
      "source": [
        "Some questions to look at:\n",
        "1. The Top 5000 Learners: what are their qualities, mean learning time, divide by 6 to find mean weekly learning time. mean top score and any other metric \n",
        "2. The Least 5000 learners:\n",
        "3. The Top Learners per country\n",
        "4. The range of scores in the data set.\n",
        "5. Find active students: defined as those who score minimum of 100 or minimum of 10 hours\n",
        "6. recall how students earn points\n",
        "7. Sort the data by students points alone, deleting skill-iq and learning hours\n",
        "8. Sort the data by students skill-IQ alone, deleting points and learning hours\n",
        "8. Sort the data by learning hours alone, deleting skill-iq and points\n",
        "9. For each sort, select the top 5000 students\n",
        "10. Then find the total students from the top 5000 per list that appear on all the sorted list as top learners \n",
        "11. Then merge that list together taking the points, learning hours and skill-iq\n",
        "12. Bin the entire data set into top-performers, ave-performers and low-performers and train a neural network to rightly classify them."
      ]
    },
    {
      "cell_type": "code",
      "metadata": {
        "id": "UgQU8fcensbB",
        "colab_type": "code",
        "colab": {
          "base_uri": "https://localhost:8080/",
          "height": 235
        },
        "outputId": "5537da0e-9a10-4095-e603-c2d24be4b369"
      },
      "source": [
        "gads_df.info()"
      ],
      "execution_count": 59,
      "outputs": [
        {
          "output_type": "stream",
          "text": [
            "<class 'pandas.core.frame.DataFrame'>\n",
            "RangeIndex: 20584 entries, 0 to 20583\n",
            "Data columns (total 6 columns):\n",
            " #   Column          Non-Null Count  Dtype \n",
            "---  ------          --------------  ----- \n",
            " 0   Rank            20584 non-null  object\n",
            " 1   Name            20584 non-null  object\n",
            " 2   Country         20584 non-null  object\n",
            " 3   Total_points    20584 non-null  object\n",
            " 4   SkillIQ_score   20584 non-null  object\n",
            " 5   Learning_hours  20584 non-null  object\n",
            "dtypes: object(6)\n",
            "memory usage: 965.0+ KB\n"
          ],
          "name": "stdout"
        }
      ]
    },
    {
      "cell_type": "markdown",
      "metadata": {
        "id": "USRwBTn0F2ey",
        "colab_type": "text"
      },
      "source": [
        "From the info() method, we can see that all the data is type object or categorical.<br> We need to convert the numerical columns to integers so we can make use them for our analysis"
      ]
    },
    {
      "cell_type": "code",
      "metadata": {
        "id": "C0P46Eywnvg9",
        "colab_type": "code",
        "colab": {}
      },
      "source": [
        "gads_df[['Rank', 'Total_points', 'SkillIQ_score', 'Learning_hours']] = gads_df[['Rank', 'Total_points', 'SkillIQ_score', 'Learning_hours']].astype('int')"
      ],
      "execution_count": 60,
      "outputs": []
    },
    {
      "cell_type": "markdown",
      "metadata": {
        "id": "x3d_uWdJG_td",
        "colab_type": "text"
      },
      "source": [
        "Let's see the info() method again"
      ]
    },
    {
      "cell_type": "code",
      "metadata": {
        "id": "lSzPyXXGG7xA",
        "colab_type": "code",
        "colab": {
          "base_uri": "https://localhost:8080/",
          "height": 235
        },
        "outputId": "7ad31245-8b3d-4718-93dc-973933a06f42"
      },
      "source": [
        "gads_df.info()"
      ],
      "execution_count": 61,
      "outputs": [
        {
          "output_type": "stream",
          "text": [
            "<class 'pandas.core.frame.DataFrame'>\n",
            "RangeIndex: 20584 entries, 0 to 20583\n",
            "Data columns (total 6 columns):\n",
            " #   Column          Non-Null Count  Dtype \n",
            "---  ------          --------------  ----- \n",
            " 0   Rank            20584 non-null  int64 \n",
            " 1   Name            20584 non-null  object\n",
            " 2   Country         20584 non-null  object\n",
            " 3   Total_points    20584 non-null  int64 \n",
            " 4   SkillIQ_score   20584 non-null  int64 \n",
            " 5   Learning_hours  20584 non-null  int64 \n",
            "dtypes: int64(4), object(2)\n",
            "memory usage: 965.0+ KB\n"
          ],
          "name": "stdout"
        }
      ]
    },
    {
      "cell_type": "markdown",
      "metadata": {
        "id": "bi7PePLsHJMZ",
        "colab_type": "text"
      },
      "source": [
        "Nice one, let's see some summary Statistics about the data"
      ]
    },
    {
      "cell_type": "code",
      "metadata": {
        "id": "NH9NdgOgHOog",
        "colab_type": "code",
        "colab": {
          "base_uri": "https://localhost:8080/",
          "height": 166
        },
        "outputId": "b30efb54-c6fd-4770-8ed4-25ee8bf46907"
      },
      "source": [
        "gads_df.describe().T"
      ],
      "execution_count": 62,
      "outputs": [
        {
          "output_type": "execute_result",
          "data": {
            "text/html": [
              "<div>\n",
              "<style scoped>\n",
              "    .dataframe tbody tr th:only-of-type {\n",
              "        vertical-align: middle;\n",
              "    }\n",
              "\n",
              "    .dataframe tbody tr th {\n",
              "        vertical-align: top;\n",
              "    }\n",
              "\n",
              "    .dataframe thead th {\n",
              "        text-align: right;\n",
              "    }\n",
              "</style>\n",
              "<table border=\"1\" class=\"dataframe\">\n",
              "  <thead>\n",
              "    <tr style=\"text-align: right;\">\n",
              "      <th></th>\n",
              "      <th>count</th>\n",
              "      <th>mean</th>\n",
              "      <th>std</th>\n",
              "      <th>min</th>\n",
              "      <th>25%</th>\n",
              "      <th>50%</th>\n",
              "      <th>75%</th>\n",
              "      <th>max</th>\n",
              "    </tr>\n",
              "  </thead>\n",
              "  <tbody>\n",
              "    <tr>\n",
              "      <th>Rank</th>\n",
              "      <td>20584.0</td>\n",
              "      <td>10292.500000</td>\n",
              "      <td>5942.233306</td>\n",
              "      <td>1.0</td>\n",
              "      <td>5146.75</td>\n",
              "      <td>10292.5</td>\n",
              "      <td>15438.25</td>\n",
              "      <td>20584.0</td>\n",
              "    </tr>\n",
              "    <tr>\n",
              "      <th>Total_points</th>\n",
              "      <td>20584.0</td>\n",
              "      <td>3.973717</td>\n",
              "      <td>3.980145</td>\n",
              "      <td>0.0</td>\n",
              "      <td>0.00</td>\n",
              "      <td>3.0</td>\n",
              "      <td>7.00</td>\n",
              "      <td>35.0</td>\n",
              "    </tr>\n",
              "    <tr>\n",
              "      <th>SkillIQ_score</th>\n",
              "      <td>20584.0</td>\n",
              "      <td>76.761951</td>\n",
              "      <td>79.339309</td>\n",
              "      <td>0.0</td>\n",
              "      <td>0.00</td>\n",
              "      <td>66.0</td>\n",
              "      <td>142.00</td>\n",
              "      <td>300.0</td>\n",
              "    </tr>\n",
              "    <tr>\n",
              "      <th>Learning_hours</th>\n",
              "      <td>20584.0</td>\n",
              "      <td>13.329868</td>\n",
              "      <td>16.328593</td>\n",
              "      <td>1.0</td>\n",
              "      <td>3.00</td>\n",
              "      <td>8.0</td>\n",
              "      <td>18.00</td>\n",
              "      <td>258.0</td>\n",
              "    </tr>\n",
              "  </tbody>\n",
              "</table>\n",
              "</div>"
            ],
            "text/plain": [
              "                  count          mean          std  ...      50%       75%      max\n",
              "Rank            20584.0  10292.500000  5942.233306  ...  10292.5  15438.25  20584.0\n",
              "Total_points    20584.0      3.973717     3.980145  ...      3.0      7.00     35.0\n",
              "SkillIQ_score   20584.0     76.761951    79.339309  ...     66.0    142.00    300.0\n",
              "Learning_hours  20584.0     13.329868    16.328593  ...      8.0     18.00    258.0\n",
              "\n",
              "[4 rows x 8 columns]"
            ]
          },
          "metadata": {
            "tags": []
          },
          "execution_count": 62
        }
      ]
    },
    {
      "cell_type": "markdown",
      "metadata": {
        "id": "p1fNMATRKiWj",
        "colab_type": "text"
      },
      "source": [
        "The summary descriptive Statistics data above tells us a lot about the entire data set;\n",
        "\n",
        "1. Total count of students as at the end of learning-Phase-1 is **20,584**.\n",
        "2. The average learning hours so far is 13 hours.\n",
        "3. The average Skill IQ Score is 77.\n",
        "4. The inter-quartile ranges also tell us that 75% of Learners did no more than 18 hours and scored no more than 142 IQ Scores.\n",
        "5. We can also see that the minimum Skill IQ Score is 0 and max  is 300, while minimum Learning hours is 1 and max is 258."
      ]
    },
    {
      "cell_type": "markdown",
      "metadata": {
        "id": "03TUaPrONEUs",
        "colab_type": "text"
      },
      "source": [
        "Let's see our data again"
      ]
    },
    {
      "cell_type": "code",
      "metadata": {
        "id": "zk6gGD6hNHUp",
        "colab_type": "code",
        "colab": {
          "base_uri": "https://localhost:8080/",
          "height": 343
        },
        "outputId": "4fe308a6-f996-49b3-eb59-c4d606d2b000"
      },
      "source": [
        "gads_df.head(10)"
      ],
      "execution_count": 63,
      "outputs": [
        {
          "output_type": "execute_result",
          "data": {
            "text/html": [
              "<div>\n",
              "<style scoped>\n",
              "    .dataframe tbody tr th:only-of-type {\n",
              "        vertical-align: middle;\n",
              "    }\n",
              "\n",
              "    .dataframe tbody tr th {\n",
              "        vertical-align: top;\n",
              "    }\n",
              "\n",
              "    .dataframe thead th {\n",
              "        text-align: right;\n",
              "    }\n",
              "</style>\n",
              "<table border=\"1\" class=\"dataframe\">\n",
              "  <thead>\n",
              "    <tr style=\"text-align: right;\">\n",
              "      <th></th>\n",
              "      <th>Rank</th>\n",
              "      <th>Name</th>\n",
              "      <th>Country</th>\n",
              "      <th>Total_points</th>\n",
              "      <th>SkillIQ_score</th>\n",
              "      <th>Learning_hours</th>\n",
              "    </tr>\n",
              "  </thead>\n",
              "  <tbody>\n",
              "    <tr>\n",
              "      <th>0</th>\n",
              "      <td>1</td>\n",
              "      <td>Lukman Ahmed</td>\n",
              "      <td>Nigeria</td>\n",
              "      <td>35</td>\n",
              "      <td>231</td>\n",
              "      <td>258</td>\n",
              "    </tr>\n",
              "    <tr>\n",
              "      <th>1</th>\n",
              "      <td>2</td>\n",
              "      <td>Okwuchukwu Nwachukwu</td>\n",
              "      <td>Egypt</td>\n",
              "      <td>30</td>\n",
              "      <td>289</td>\n",
              "      <td>191</td>\n",
              "    </tr>\n",
              "    <tr>\n",
              "      <th>2</th>\n",
              "      <td>3</td>\n",
              "      <td>Adebisi Yusuf</td>\n",
              "      <td>Nigeria</td>\n",
              "      <td>29</td>\n",
              "      <td>288</td>\n",
              "      <td>181</td>\n",
              "    </tr>\n",
              "    <tr>\n",
              "      <th>3</th>\n",
              "      <td>4</td>\n",
              "      <td>Pharis Muigai</td>\n",
              "      <td>Kenya</td>\n",
              "      <td>28</td>\n",
              "      <td>160</td>\n",
              "      <td>223</td>\n",
              "    </tr>\n",
              "    <tr>\n",
              "      <th>4</th>\n",
              "      <td>5</td>\n",
              "      <td>Evans Nandwa</td>\n",
              "      <td>Kenya</td>\n",
              "      <td>26</td>\n",
              "      <td>146</td>\n",
              "      <td>210</td>\n",
              "    </tr>\n",
              "    <tr>\n",
              "      <th>5</th>\n",
              "      <td>6</td>\n",
              "      <td>Gatchang Stephen</td>\n",
              "      <td>South Sudan</td>\n",
              "      <td>26</td>\n",
              "      <td>150</td>\n",
              "      <td>207</td>\n",
              "    </tr>\n",
              "    <tr>\n",
              "      <th>6</th>\n",
              "      <td>7</td>\n",
              "      <td>Francis Obetta</td>\n",
              "      <td>Nigeria</td>\n",
              "      <td>25</td>\n",
              "      <td>280</td>\n",
              "      <td>148</td>\n",
              "    </tr>\n",
              "    <tr>\n",
              "      <th>7</th>\n",
              "      <td>8</td>\n",
              "      <td>Khalil Henchi</td>\n",
              "      <td>Tunisia</td>\n",
              "      <td>25</td>\n",
              "      <td>111</td>\n",
              "      <td>211</td>\n",
              "    </tr>\n",
              "    <tr>\n",
              "      <th>8</th>\n",
              "      <td>9</td>\n",
              "      <td>Seyum Alemayehu</td>\n",
              "      <td>Ethiopia</td>\n",
              "      <td>24</td>\n",
              "      <td>274</td>\n",
              "      <td>137</td>\n",
              "    </tr>\n",
              "    <tr>\n",
              "      <th>9</th>\n",
              "      <td>10</td>\n",
              "      <td>Ngozichukwu Uzoigwe</td>\n",
              "      <td>Nigeria</td>\n",
              "      <td>24</td>\n",
              "      <td>119</td>\n",
              "      <td>197</td>\n",
              "    </tr>\n",
              "  </tbody>\n",
              "</table>\n",
              "</div>"
            ],
            "text/plain": [
              "   Rank                  Name  ... SkillIQ_score  Learning_hours\n",
              "0     1          Lukman Ahmed  ...           231             258\n",
              "1     2  Okwuchukwu Nwachukwu  ...           289             191\n",
              "2     3         Adebisi Yusuf  ...           288             181\n",
              "3     4         Pharis Muigai  ...           160             223\n",
              "4     5          Evans Nandwa  ...           146             210\n",
              "5     6      Gatchang Stephen  ...           150             207\n",
              "6     7        Francis Obetta  ...           280             148\n",
              "7     8         Khalil Henchi  ...           111             211\n",
              "8     9       Seyum Alemayehu  ...           274             137\n",
              "9    10   Ngozichukwu Uzoigwe  ...           119             197\n",
              "\n",
              "[10 rows x 6 columns]"
            ]
          },
          "metadata": {
            "tags": []
          },
          "execution_count": 63
        }
      ]
    },
    {
      "cell_type": "markdown",
      "metadata": {
        "id": "79nhM6mANWPM",
        "colab_type": "text"
      },
      "source": [
        "Let's finetune the data some more, let's replace the index with the rank column"
      ]
    },
    {
      "cell_type": "code",
      "metadata": {
        "id": "opuA1agJNU4L",
        "colab_type": "code",
        "colab": {
          "base_uri": "https://localhost:8080/",
          "height": 373
        },
        "outputId": "a42e130f-cd82-43b2-c9ad-0dc8601534ed"
      },
      "source": [
        "gads_df.set_index('Rank', drop=True, inplace=True)\n",
        "\n",
        "gads_df.head(10)"
      ],
      "execution_count": 64,
      "outputs": [
        {
          "output_type": "execute_result",
          "data": {
            "text/html": [
              "<div>\n",
              "<style scoped>\n",
              "    .dataframe tbody tr th:only-of-type {\n",
              "        vertical-align: middle;\n",
              "    }\n",
              "\n",
              "    .dataframe tbody tr th {\n",
              "        vertical-align: top;\n",
              "    }\n",
              "\n",
              "    .dataframe thead th {\n",
              "        text-align: right;\n",
              "    }\n",
              "</style>\n",
              "<table border=\"1\" class=\"dataframe\">\n",
              "  <thead>\n",
              "    <tr style=\"text-align: right;\">\n",
              "      <th></th>\n",
              "      <th>Name</th>\n",
              "      <th>Country</th>\n",
              "      <th>Total_points</th>\n",
              "      <th>SkillIQ_score</th>\n",
              "      <th>Learning_hours</th>\n",
              "    </tr>\n",
              "    <tr>\n",
              "      <th>Rank</th>\n",
              "      <th></th>\n",
              "      <th></th>\n",
              "      <th></th>\n",
              "      <th></th>\n",
              "      <th></th>\n",
              "    </tr>\n",
              "  </thead>\n",
              "  <tbody>\n",
              "    <tr>\n",
              "      <th>1</th>\n",
              "      <td>Lukman Ahmed</td>\n",
              "      <td>Nigeria</td>\n",
              "      <td>35</td>\n",
              "      <td>231</td>\n",
              "      <td>258</td>\n",
              "    </tr>\n",
              "    <tr>\n",
              "      <th>2</th>\n",
              "      <td>Okwuchukwu Nwachukwu</td>\n",
              "      <td>Egypt</td>\n",
              "      <td>30</td>\n",
              "      <td>289</td>\n",
              "      <td>191</td>\n",
              "    </tr>\n",
              "    <tr>\n",
              "      <th>3</th>\n",
              "      <td>Adebisi Yusuf</td>\n",
              "      <td>Nigeria</td>\n",
              "      <td>29</td>\n",
              "      <td>288</td>\n",
              "      <td>181</td>\n",
              "    </tr>\n",
              "    <tr>\n",
              "      <th>4</th>\n",
              "      <td>Pharis Muigai</td>\n",
              "      <td>Kenya</td>\n",
              "      <td>28</td>\n",
              "      <td>160</td>\n",
              "      <td>223</td>\n",
              "    </tr>\n",
              "    <tr>\n",
              "      <th>5</th>\n",
              "      <td>Evans Nandwa</td>\n",
              "      <td>Kenya</td>\n",
              "      <td>26</td>\n",
              "      <td>146</td>\n",
              "      <td>210</td>\n",
              "    </tr>\n",
              "    <tr>\n",
              "      <th>6</th>\n",
              "      <td>Gatchang Stephen</td>\n",
              "      <td>South Sudan</td>\n",
              "      <td>26</td>\n",
              "      <td>150</td>\n",
              "      <td>207</td>\n",
              "    </tr>\n",
              "    <tr>\n",
              "      <th>7</th>\n",
              "      <td>Francis Obetta</td>\n",
              "      <td>Nigeria</td>\n",
              "      <td>25</td>\n",
              "      <td>280</td>\n",
              "      <td>148</td>\n",
              "    </tr>\n",
              "    <tr>\n",
              "      <th>8</th>\n",
              "      <td>Khalil Henchi</td>\n",
              "      <td>Tunisia</td>\n",
              "      <td>25</td>\n",
              "      <td>111</td>\n",
              "      <td>211</td>\n",
              "    </tr>\n",
              "    <tr>\n",
              "      <th>9</th>\n",
              "      <td>Seyum Alemayehu</td>\n",
              "      <td>Ethiopia</td>\n",
              "      <td>24</td>\n",
              "      <td>274</td>\n",
              "      <td>137</td>\n",
              "    </tr>\n",
              "    <tr>\n",
              "      <th>10</th>\n",
              "      <td>Ngozichukwu Uzoigwe</td>\n",
              "      <td>Nigeria</td>\n",
              "      <td>24</td>\n",
              "      <td>119</td>\n",
              "      <td>197</td>\n",
              "    </tr>\n",
              "  </tbody>\n",
              "</table>\n",
              "</div>"
            ],
            "text/plain": [
              "                      Name      Country  ...  SkillIQ_score  Learning_hours\n",
              "Rank                                     ...                               \n",
              "1             Lukman Ahmed      Nigeria  ...            231             258\n",
              "2     Okwuchukwu Nwachukwu        Egypt  ...            289             191\n",
              "3            Adebisi Yusuf      Nigeria  ...            288             181\n",
              "4            Pharis Muigai        Kenya  ...            160             223\n",
              "5             Evans Nandwa        Kenya  ...            146             210\n",
              "6         Gatchang Stephen  South Sudan  ...            150             207\n",
              "7           Francis Obetta      Nigeria  ...            280             148\n",
              "8            Khalil Henchi      Tunisia  ...            111             211\n",
              "9          Seyum Alemayehu     Ethiopia  ...            274             137\n",
              "10     Ngozichukwu Uzoigwe      Nigeria  ...            119             197\n",
              "\n",
              "[10 rows x 5 columns]"
            ]
          },
          "metadata": {
            "tags": []
          },
          "execution_count": 64
        }
      ]
    },
    {
      "cell_type": "code",
      "metadata": {
        "id": "tcZ9xlU0UckT",
        "colab_type": "code",
        "colab": {
          "base_uri": "https://localhost:8080/",
          "height": 390
        },
        "outputId": "e7f53f69-a785-4969-82c8-5219cf4236bb"
      },
      "source": [
        "gads_df.plot(kind='hist', figsize=(8,6))\n",
        "plt.title('Histogram of Total-Points, Skill-IQ and Learning-Hours')\n",
        "plt.show()"
      ],
      "execution_count": 120,
      "outputs": [
        {
          "output_type": "display_data",
          "data": {
            "image/png": "[encoded data removed]",
            "text/plain": [
              "<Figure size 576x432 with 1 Axes>"
            ]
          },
          "metadata": {
            "tags": []
          }
        }
      ]
    },
    {
      "cell_type": "markdown",
      "metadata": {
        "id": "UR8iBbTDO3HZ",
        "colab_type": "text"
      },
      "source": [
        "Next, let's create a Data Frame of students that met either the minimum 100 points or 10 learning hours"
      ]
    },
    {
      "cell_type": "code",
      "metadata": {
        "id": "NPZCPngXPFRm",
        "colab_type": "code",
        "colab": {
          "base_uri": "https://localhost:8080/",
          "height": 225
        },
        "outputId": "d478b080-fba1-4d76-cae2-fc8f707015e5"
      },
      "source": [
        "qualified_students_df = gads_df[(gads_df['SkillIQ_score'] >= 100) | (gads_df['Learning_hours'] >= 10)]\n",
        "\n",
        "qualified_students_df.head()"
      ],
      "execution_count": 65,
      "outputs": [
        {
          "output_type": "execute_result",
          "data": {
            "text/html": [
              "<div>\n",
              "<style scoped>\n",
              "    .dataframe tbody tr th:only-of-type {\n",
              "        vertical-align: middle;\n",
              "    }\n",
              "\n",
              "    .dataframe tbody tr th {\n",
              "        vertical-align: top;\n",
              "    }\n",
              "\n",
              "    .dataframe thead th {\n",
              "        text-align: right;\n",
              "    }\n",
              "</style>\n",
              "<table border=\"1\" class=\"dataframe\">\n",
              "  <thead>\n",
              "    <tr style=\"text-align: right;\">\n",
              "      <th></th>\n",
              "      <th>Name</th>\n",
              "      <th>Country</th>\n",
              "      <th>Total_points</th>\n",
              "      <th>SkillIQ_score</th>\n",
              "      <th>Learning_hours</th>\n",
              "    </tr>\n",
              "    <tr>\n",
              "      <th>Rank</th>\n",
              "      <th></th>\n",
              "      <th></th>\n",
              "      <th></th>\n",
              "      <th></th>\n",
              "      <th></th>\n",
              "    </tr>\n",
              "  </thead>\n",
              "  <tbody>\n",
              "    <tr>\n",
              "      <th>1</th>\n",
              "      <td>Lukman Ahmed</td>\n",
              "      <td>Nigeria</td>\n",
              "      <td>35</td>\n",
              "      <td>231</td>\n",
              "      <td>258</td>\n",
              "    </tr>\n",
              "    <tr>\n",
              "      <th>2</th>\n",
              "      <td>Okwuchukwu Nwachukwu</td>\n",
              "      <td>Egypt</td>\n",
              "      <td>30</td>\n",
              "      <td>289</td>\n",
              "      <td>191</td>\n",
              "    </tr>\n",
              "    <tr>\n",
              "      <th>3</th>\n",
              "      <td>Adebisi Yusuf</td>\n",
              "      <td>Nigeria</td>\n",
              "      <td>29</td>\n",
              "      <td>288</td>\n",
              "      <td>181</td>\n",
              "    </tr>\n",
              "    <tr>\n",
              "      <th>4</th>\n",
              "      <td>Pharis Muigai</td>\n",
              "      <td>Kenya</td>\n",
              "      <td>28</td>\n",
              "      <td>160</td>\n",
              "      <td>223</td>\n",
              "    </tr>\n",
              "    <tr>\n",
              "      <th>5</th>\n",
              "      <td>Evans Nandwa</td>\n",
              "      <td>Kenya</td>\n",
              "      <td>26</td>\n",
              "      <td>146</td>\n",
              "      <td>210</td>\n",
              "    </tr>\n",
              "  </tbody>\n",
              "</table>\n",
              "</div>"
            ],
            "text/plain": [
              "                      Name  Country  ...  SkillIQ_score  Learning_hours\n",
              "Rank                                 ...                               \n",
              "1             Lukman Ahmed  Nigeria  ...            231             258\n",
              "2     Okwuchukwu Nwachukwu    Egypt  ...            289             191\n",
              "3            Adebisi Yusuf  Nigeria  ...            288             181\n",
              "4            Pharis Muigai    Kenya  ...            160             223\n",
              "5             Evans Nandwa    Kenya  ...            146             210\n",
              "\n",
              "[5 rows x 5 columns]"
            ]
          },
          "metadata": {
            "tags": []
          },
          "execution_count": 65
        }
      ]
    },
    {
      "cell_type": "markdown",
      "metadata": {
        "id": "h7EbkwHEPohm",
        "colab_type": "text"
      },
      "source": [
        "Let's see the total number of students that have this minimum qualification"
      ]
    },
    {
      "cell_type": "code",
      "metadata": {
        "id": "177rUjIaPust",
        "colab_type": "code",
        "colab": {
          "base_uri": "https://localhost:8080/",
          "height": 50
        },
        "outputId": "b03540cd-edab-4e15-d3f6-c293a76a18a6"
      },
      "source": [
        "print(f'The number of minimum qualified students is {len(qualified_students_df)}, out of {len(gads_df)} total students. \\\n",
        "\\nThis leaves a difference of {len(gads_df) - len(qualified_students_df)} Non-qualified students')"
      ],
      "execution_count": 66,
      "outputs": [
        {
          "output_type": "stream",
          "text": [
            "The number of minimum qualified students is 12435, out of 20584 total students. \n",
            "This leaves a difference of 8149 Non-qualified students\n"
          ],
          "name": "stdout"
        }
      ]
    },
    {
      "cell_type": "code",
      "metadata": {
        "id": "_PEY1zf7Q4P2",
        "colab_type": "code",
        "colab": {
          "base_uri": "https://localhost:8080/",
          "height": 136
        },
        "outputId": "782f4470-0f24-49b3-8838-fe3a5120a5a3"
      },
      "source": [
        "qualified_students_df.describe().T"
      ],
      "execution_count": 67,
      "outputs": [
        {
          "output_type": "execute_result",
          "data": {
            "text/html": [
              "<div>\n",
              "<style scoped>\n",
              "    .dataframe tbody tr th:only-of-type {\n",
              "        vertical-align: middle;\n",
              "    }\n",
              "\n",
              "    .dataframe tbody tr th {\n",
              "        vertical-align: top;\n",
              "    }\n",
              "\n",
              "    .dataframe thead th {\n",
              "        text-align: right;\n",
              "    }\n",
              "</style>\n",
              "<table border=\"1\" class=\"dataframe\">\n",
              "  <thead>\n",
              "    <tr style=\"text-align: right;\">\n",
              "      <th></th>\n",
              "      <th>count</th>\n",
              "      <th>mean</th>\n",
              "      <th>std</th>\n",
              "      <th>min</th>\n",
              "      <th>25%</th>\n",
              "      <th>50%</th>\n",
              "      <th>75%</th>\n",
              "      <th>max</th>\n",
              "    </tr>\n",
              "  </thead>\n",
              "  <tbody>\n",
              "    <tr>\n",
              "      <th>Total_points</th>\n",
              "      <td>12435.0</td>\n",
              "      <td>6.276076</td>\n",
              "      <td>3.477347</td>\n",
              "      <td>0.0</td>\n",
              "      <td>4.0</td>\n",
              "      <td>6.0</td>\n",
              "      <td>8.0</td>\n",
              "      <td>35.0</td>\n",
              "    </tr>\n",
              "    <tr>\n",
              "      <th>SkillIQ_score</th>\n",
              "      <td>12435.0</td>\n",
              "      <td>119.377483</td>\n",
              "      <td>73.256223</td>\n",
              "      <td>0.0</td>\n",
              "      <td>75.0</td>\n",
              "      <td>129.0</td>\n",
              "      <td>171.0</td>\n",
              "      <td>300.0</td>\n",
              "    </tr>\n",
              "    <tr>\n",
              "      <th>Learning_hours</th>\n",
              "      <td>12435.0</td>\n",
              "      <td>19.809409</td>\n",
              "      <td>18.221967</td>\n",
              "      <td>1.0</td>\n",
              "      <td>10.0</td>\n",
              "      <td>15.0</td>\n",
              "      <td>25.0</td>\n",
              "      <td>258.0</td>\n",
              "    </tr>\n",
              "  </tbody>\n",
              "</table>\n",
              "</div>"
            ],
            "text/plain": [
              "                  count        mean        std  min   25%    50%    75%    max\n",
              "Total_points    12435.0    6.276076   3.477347  0.0   4.0    6.0    8.0   35.0\n",
              "SkillIQ_score   12435.0  119.377483  73.256223  0.0  75.0  129.0  171.0  300.0\n",
              "Learning_hours  12435.0   19.809409  18.221967  1.0  10.0   15.0   25.0  258.0"
            ]
          },
          "metadata": {
            "tags": []
          },
          "execution_count": 67
        }
      ]
    },
    {
      "cell_type": "markdown",
      "metadata": {
        "id": "9rheG4VJKwpM",
        "colab_type": "text"
      },
      "source": [
        "The descriptive summary Statistics of Total Qulaified Students show that:-\n",
        "\n",
        "1. Total Qualified students as at the end of learning-Phase-1 is 12,435.\n",
        "2. The average learning hours for all qualified student is 20 hours.\n",
        "3. The average Skill IQ for Qualified students is 119.\n",
        "4. The inter-quartile ranges also tell us that 75% of Learners did no more than 25 hours and scored no more than 171 IQ Scores.\n",
        "5. We can also see that the minimum Skill IQ Score for Qualified Students is 0 and max is 300, while minimum Learning hours is 1 and max is still 258."
      ]
    },
    {
      "cell_type": "markdown",
      "metadata": {
        "id": "4l8xqdjYMuNn",
        "colab_type": "text"
      },
      "source": [
        "Let's see histograms of Qulaified Students Quantitaive Data"
      ]
    },
    {
      "cell_type": "code",
      "metadata": {
        "id": "5T0rNw7ENGZQ",
        "colab_type": "code",
        "colab": {
          "base_uri": "https://localhost:8080/",
          "height": 409
        },
        "outputId": "a9cce73c-1a33-43b6-e417-6ee47e1573f7"
      },
      "source": [
        "fig = plt.figure(figsize=(21,6))\n",
        "sns.set_style('ticks')\n",
        "fig.add_subplot(1,3,1)\n",
        "qualified_students_df.SkillIQ_score.plot(kind='hist', linewidth=2, edgecolor='black', color='red', bins=20)\n",
        "plt.title('Q-Students Skill-IQ Scores', fontsize=15)\n",
        "plt.xlabel('Skill-IQ Scores', fontsize=12)\n",
        "\n",
        "fig.add_subplot(1,3,2)\n",
        "qualified_students_df.Learning_hours.plot(kind='hist', linewidth=2, edgecolor='gold', color='purple', bins=20)\n",
        "plt.title('Q-Students Learning-Hours', fontsize=15)\n",
        "plt.xlabel('Learning-Hours', fontsize=12)\n",
        "\n",
        "fig.add_subplot(1,3,3)\n",
        "qualified_students_df.Total_points.plot(kind='hist', linewidth=2, edgecolor='black', color='skyblue', bins=20)\n",
        "plt.title('Q-Students Total-Points', fontsize=15)\n",
        "plt.xlabel('Total-Points', fontsize=12)\n",
        "\n",
        "plt.show()"
      ],
      "execution_count": 122,
      "outputs": [
        {
          "output_type": "display_data",
          "data": {
            "image/png": "[encoded data removed]",
            "text/plain": [
              "<Figure size 1512x432 with 3 Axes>"
            ]
          },
          "metadata": {
            "tags": []
          }
        }
      ]
    },
    {
      "cell_type": "markdown",
      "metadata": {
        "id": "MBqL3QuJUAlh",
        "colab_type": "text"
      },
      "source": [
        "<b><h3>Visual Analysis:</b></h3>"
      ]
    },
    {
      "cell_type": "markdown",
      "metadata": {
        "id": "ySE2KM6LUebJ",
        "colab_type": "text"
      },
      "source": [
        "Out of these 12,435 qualified students, let's see those who met both min IQ score and min learning hours together"
      ]
    },
    {
      "cell_type": "code",
      "metadata": {
        "id": "Y2olnOTvHygT",
        "colab_type": "code",
        "colab": {}
      },
      "source": [
        "min_iq_and_min_hours = qualified_students_df.query('SkillIQ_score >= 100 and Learning_hours >= 10')\n",
        "print(len(min_iq_and_min_hours))\n",
        "# let's see the head\n",
        "min_iq_and_min_hours.head()"
      ],
      "execution_count": null,
      "outputs": []
    },
    {
      "cell_type": "markdown",
      "metadata": {
        "id": "nOqwsVPLCWpR",
        "colab_type": "text"
      },
      "source": [
        "So out of total qualified 12,435 qualified students, we see that 5,561 met both min IQ and min hours. let's see the number that met only IQ or hours minimum."
      ]
    },
    {
      "cell_type": "code",
      "metadata": {
        "id": "Vnd_3DT0Crl-",
        "colab_type": "code",
        "colab": {}
      },
      "source": [
        "min_iq_only = qualified_students_df.query('SkillIQ_score >= 100 and Learning_hours < 10')\n",
        "len(min_iq_only)"
      ],
      "execution_count": null,
      "outputs": []
    },
    {
      "cell_type": "markdown",
      "metadata": {
        "id": "aPquF3OMDOUw",
        "colab_type": "text"
      },
      "source": [
        "So 3025 students out of the 12,435 students met only the minimum IQ.<br>\n",
        "We can simply deduct this to get those who met only min learning. but let's use pandas filtering to be sure. "
      ]
    },
    {
      "cell_type": "code",
      "metadata": {
        "id": "6PS0hixaDtyV",
        "colab_type": "code",
        "colab": {}
      },
      "source": [
        "min_hours_only = qualified_students_df.query('Learning_hours >= 10 and SkillIQ_score < 100')\n",
        "len(min_hours_only)"
      ],
      "execution_count": null,
      "outputs": []
    },
    {
      "cell_type": "markdown",
      "metadata": {
        "id": "lUWgF-DFGM7O",
        "colab_type": "text"
      },
      "source": [
        "Let's confirm the split"
      ]
    },
    {
      "cell_type": "code",
      "metadata": {
        "id": "g0zqv2oUGKXn",
        "colab_type": "code",
        "colab": {}
      },
      "source": [
        "len(min_hours_only) + len(min_iq_only) == len(min_iq_or_min_learning_df)"
      ],
      "execution_count": null,
      "outputs": []
    },
    {
      "cell_type": "markdown",
      "metadata": {
        "id": "iKVnmX67WCMi",
        "colab_type": "text"
      },
      "source": [
        "So from the above filtering we have been doing, we can see that:-\n",
        "\n",
        "1. Total Students by end of Learning-Phase 1 = **20,584**\n",
        "2. Total Qualified Students who met minimum learning and or minimum IQ score = **12,435**\n",
        "3. Total Qualified who met only minimum IQ Score = **3025**\n",
        "4. Total Qualified who met only minimum Hours = **3849**"
      ]
    },
    {
      "cell_type": "code",
      "metadata": {
        "id": "TuGCTxjAWzJK",
        "colab_type": "code",
        "colab": {}
      },
      "source": [
        "Stop"
      ],
      "execution_count": null,
      "outputs": []
    },
    {
      "cell_type": "markdown",
      "metadata": {
        "id": "zgA_z1qsV8hs",
        "colab_type": "text"
      },
      "source": [
        ""
      ]
    },
    {
      "cell_type": "markdown",
      "metadata": {
        "id": "bS6iC2JIpF9D",
        "colab_type": "text"
      },
      "source": [
        "Let's see the individual countries represented in the scheme"
      ]
    },
    {
      "cell_type": "code",
      "metadata": {
        "id": "7Eh17BjhpL4Y",
        "colab_type": "code",
        "colab": {}
      },
      "source": [
        "country_list = gads_df.Country.unique()\n",
        "country_list"
      ],
      "execution_count": null,
      "outputs": []
    },
    {
      "cell_type": "markdown",
      "metadata": {
        "id": "EINaqxW8pfCO",
        "colab_type": "text"
      },
      "source": [
        "Let's see howmany countries\n"
      ]
    },
    {
      "cell_type": "code",
      "metadata": {
        "id": "Enzuzcx8pilL",
        "colab_type": "code",
        "colab": {}
      },
      "source": [
        "len(country_list)"
      ],
      "execution_count": null,
      "outputs": []
    },
    {
      "cell_type": "markdown",
      "metadata": {
        "id": "vSlUJZR1ppvo",
        "colab_type": "text"
      },
      "source": [
        "Let's see the number of students per country"
      ]
    },
    {
      "cell_type": "code",
      "metadata": {
        "id": "Gx8C43qpp945",
        "colab_type": "code",
        "colab": {}
      },
      "source": [
        "count_df = gads_df.groupby('Country').size().to_frame()\n",
        "\n",
        "# Let's visualise the data frame\n",
        "count_df.head()"
      ],
      "execution_count": null,
      "outputs": []
    },
    {
      "cell_type": "markdown",
      "metadata": {
        "id": "T2E6eVzGu3_c",
        "colab_type": "text"
      },
      "source": [
        "Let's add the "
      ]
    },
    {
      "cell_type": "code",
      "metadata": {
        "id": "AATtyRSsq12Q",
        "colab_type": "code",
        "colab": {}
      },
      "source": [
        "count_df.index.name = None\n",
        "count_df.columns = ['Count']\n",
        "count_df.head()"
      ],
      "execution_count": null,
      "outputs": []
    },
    {
      "cell_type": "code",
      "metadata": {
        "id": "g87u31uatpGm",
        "colab_type": "code",
        "colab": {}
      },
      "source": [
        "count_df.sort_values(by='Count', ascending=True, inplace=True)"
      ],
      "execution_count": null,
      "outputs": []
    },
    {
      "cell_type": "code",
      "metadata": {
        "id": "0YmS-ZXcrhHD",
        "colab_type": "code",
        "colab": {}
      },
      "source": [
        "sns.set_style('ticks')\n",
        "count_df.plot(kind='barh', figsize=(12,12))\n",
        "plt.plot()"
      ],
      "execution_count": null,
      "outputs": []
    },
    {
      "cell_type": "markdown",
      "metadata": {
        "id": "LDLGrDDOdfWV",
        "colab_type": "text"
      },
      "source": [
        "Let's see the Probability Density Functions for the `Total points`, `skillIq Score` and `Learning hours`"
      ]
    },
    {
      "cell_type": "code",
      "metadata": {
        "id": "WST829VefCr0",
        "colab_type": "code",
        "colab": {}
      },
      "source": [
        "fig = plt.figure(figsize=(18,4))\n",
        "fig.add_subplot(1,3,1)\n",
        "gads_df['Total points'].plot.kde(color='red')\n",
        "plt.title('PDF Plot for Total points')\n",
        "\n",
        "fig.add_subplot(1,3,2)\n",
        "gads_df['SkillIQ Score'].plot.kde()\n",
        "plt.title('PDF Plot for Skill-IQ Scores')\n",
        "\n",
        "fig.add_subplot(1,3,3)\n",
        "gads_df['Learning hours'].plot.kde(color='green')\n",
        "plt.title('PDF Plot for Learning Hours')\n",
        "\n",
        "\n",
        "plt.show()"
      ],
      "execution_count": null,
      "outputs": []
    },
    {
      "cell_type": "markdown",
      "metadata": {
        "id": "1p4td32TpNv-",
        "colab_type": "text"
      },
      "source": [
        ""
      ]
    },
    {
      "cell_type": "code",
      "metadata": {
        "id": "F5Ivm0WGpORD",
        "colab_type": "code",
        "colab": {}
      },
      "source": [
        "fig = plt.figure(figsize=(18,4))\n",
        "fig.add_subplot(1,3,1)\n",
        "gads_df['Total points'].plot(kind='hist', color='red')\n",
        "plt.title('Hist Plot for Total points')\n",
        "\n",
        "fig.add_subplot(1,3,2)\n",
        "gads_df['SkillIQ Score'].plot(kind='hist')\n",
        "plt.title('Hist Plot for Skill-IQ Scores')\n",
        "\n",
        "fig.add_subplot(1,3,3)\n",
        "gads_df['Learning hours'].plot(kind='hist', color='green')\n",
        "plt.title('Hist Plot for Learning Hours')\n",
        "\n",
        "\n",
        "plt.show()"
      ],
      "execution_count": null,
      "outputs": []
    },
    {
      "cell_type": "markdown",
      "metadata": {
        "id": "jCKpq4-Otod-",
        "colab_type": "text"
      },
      "source": [
        "let's see active students. Those who either score a minmum of 100 or watch 10 hours"
      ]
    },
    {
      "cell_type": "code",
      "metadata": {
        "id": "CJodzjpYtxe2",
        "colab_type": "code",
        "colab": {}
      },
      "source": [
        "active_students_df = gads_df[(gads_df['Learning hours'] >= 10) | (gads_df['SkillIQ Score'] >= 100)]\n",
        "\n",
        "# Let's print out how many total students we have\n",
        "print(f'The total number of Active Students is: {len(active_students_df)}')\n",
        "\n",
        "# Let's see the first few data of the active_students_df\n",
        "active_students_df.head()"
      ],
      "execution_count": null,
      "outputs": []
    },
    {
      "cell_type": "markdown",
      "metadata": {
        "id": "9h3hOqACvLA5",
        "colab_type": "text"
      },
      "source": [
        "Let's sort the active students by skill-IQ score and learning hours "
      ]
    },
    {
      "cell_type": "code",
      "metadata": {
        "id": "3azxgr1tvKGY",
        "colab_type": "code",
        "colab": {}
      },
      "source": [
        "active_students_df.sort_values(by=['SkillIQ Score', 'Total points', 'Learning hours'], ascending=False, inplace=True)\n",
        "active_students_df.head()"
      ],
      "execution_count": null,
      "outputs": []
    },
    {
      "cell_type": "code",
      "metadata": {
        "id": "uypK3lko5DTE",
        "colab_type": "code",
        "colab": {}
      },
      "source": [
        "sns.distplot(gads_df['SkillIQ Score'], hist=True, color='r')\n",
        "plt.show()"
      ],
      "execution_count": null,
      "outputs": []
    },
    {
      "cell_type": "code",
      "metadata": {
        "id": "rneTTcPk5uZg",
        "colab_type": "code",
        "colab": {}
      },
      "source": [
        "sns.boxplot(gads_df['SkillIQ Score'])"
      ],
      "execution_count": null,
      "outputs": []
    },
    {
      "cell_type": "code",
      "metadata": {
        "id": "fn4uy9pXYKIf",
        "colab_type": "code",
        "colab": {}
      },
      "source": [
        "pd.plotting.scatter_matrix(gads_df[['SkillIQ Score', 'Total points', 'Learning hours']], figsize=[10,10], color='r')\n",
        "plt.suptitle('Scatter Matrix of Skill-IQ, Total-Points and Learning-Hours', fontsize=16, y=0.94)\n",
        "plt.show()"
      ],
      "execution_count": null,
      "outputs": []
    },
    {
      "cell_type": "code",
      "metadata": {
        "id": "C2hH_1msa8VW",
        "colab_type": "code",
        "colab": {}
      },
      "source": [
        "plt.figure(figsize=(10,8))\n",
        "corr = gads_df.drop('Rank', axis=1)\n",
        "corr_df = corr.corr()\n",
        "sns.heatmap(corr_df, annot=True, linewidths=3, linecolor='r')\n",
        "plt.title('Correlation Heatmap of Total-Points, Skill-IQ and Learning-hours', fontsize=16, y=1.5)\n",
        "plt.show()"
      ],
      "execution_count": null,
      "outputs": []
    },
    {
      "cell_type": "markdown",
      "metadata": {
        "id": "NDE17xgLdbvh",
        "colab_type": "text"
      },
      "source": [
        "Above Corr matrix shows that there is surprisingly no correlation between learning hours and skill-IQ. And none between learning hours and total points or total points and skill-iq. Each metric is independent and unique"
      ]
    },
    {
      "cell_type": "markdown",
      "metadata": {
        "id": "p6WE9BbMeGTN",
        "colab_type": "text"
      },
      "source": [
        "Let's check the top IQ scores, you may be surprised that learners without long watching time may score high IG scores"
      ]
    },
    {
      "cell_type": "code",
      "metadata": {
        "id": "z8RDhEDRd62G",
        "colab_type": "code",
        "colab": {}
      },
      "source": [
        ""
      ],
      "execution_count": null,
      "outputs": []
    }
  ]
}