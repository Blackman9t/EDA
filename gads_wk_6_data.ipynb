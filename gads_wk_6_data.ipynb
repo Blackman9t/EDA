{
  "nbformat": 4,
  "nbformat_minor": 0,
  "metadata": {
    "colab": {
      "name": "gads_wk_6_data.ipynb",
      "provenance": [],
      "collapsed_sections": [],
      "authorship_tag": "ABX9TyMmD9Ih4T4otsXzwzbpdard",
      "include_colab_link": true
    },
    "kernelspec": {
      "name": "python3",
      "display_name": "Python 3"
    }
  },
  "cells": [
    {
      "cell_type": "markdown",
      "metadata": {
        "id": "view-in-github",
        "colab_type": "text"
      },
      "source": [
        "<a href=\"https://colab.research.google.com/github/Lawrence-Krukrubo/EDA/blob/master/gads_wk_6_data.ipynb\" target=\"_parent\"><img src=\"https://colab.research.google.com/assets/colab-badge.svg\" alt=\"Open In Colab\"/></a>"
      ]
    },
    {
      "cell_type": "markdown",
      "metadata": {
        "id": "AG4aobX46e9S",
        "colab_type": "text"
      },
      "source": [
        "<font color='yellow'><b><h1>GADS 2020:</b></h1></font>"
      ]
    },
    {
      "cell_type": "markdown",
      "metadata": {
        "id": "tu7VSZig6G5F",
        "colab_type": "text"
      },
      "source": [
        "<h2><b>Analysing The Leader Board for Learners at the end of Learning Phase One</b></h2>\n",
        "\n",
        "<font color='orange'><h4>Date: 31st July 2020</h4></font>\n",
        "\n",
        "<font color='orange'><h4>Data Specialist: Lawrence Krukrubo</h4></font>"
      ]
    },
    {
      "cell_type": "code",
      "metadata": {
        "id": "OSRpKbOAmlXQ",
        "colab_type": "code",
        "colab": {}
      },
      "source": [
        "import numpy as np\n",
        "import pandas as pd\n",
        "import matplotlib.pyplot as plt\n",
        "import matplotlib.colors as colors\n",
        "import seaborn as sns\n",
        "from mpl_toolkits.mplot3d import Axes3D\n",
        "from bs4 import BeautifulSoup\n",
        "import requests  # library to handle requests"
      ],
      "execution_count": 362,
      "outputs": []
    },
    {
      "cell_type": "markdown",
      "metadata": {
        "id": "4Yu4vS3f-Udd",
        "colab_type": "text"
      },
      "source": [
        "build and deploy a model in [AML](https://thenewstack.io/build-and-deploy-a-machine-learning-model-with-azure-ml-service/)\n",
        "\n",
        "train and deploy with [colab](https://medium.com/tensorflow/train-on-google-colab-and-run-on-the-browser-a-case-study-8a45f9b1474e)\n",
        "\n",
        "See GCP link to deploy trained tensorflow models:[Link](https://cloud.google.com/ai-platform/prediction/docs/deploying-models)\n",
        "\n",
        "more links:\n",
        "\n",
        "1. [link](https://towardsdatascience.com/build-and-deploy-your-first-machine-learning-web-app-e020db344a99)\n",
        "\n",
        "\n",
        "2. [link](https://blog.cambridgespark.com/deploying-a-machine-learning-model-to-the-web-725688b851c7)\n",
        "\n",
        "3. [link](https://www.geeksforgeeks.org/deploy-machine-learning-model-using-flask/)\n",
        "\n",
        "4. [link](https://developer.ibm.com/tutorials/deploy-a-python-machine-learning-model-as-a-web-service/)"
      ]
    },
    {
      "cell_type": "code",
      "metadata": {
        "id": "DU1BBoFin-RW",
        "colab_type": "code",
        "colab": {}
      },
      "source": [
        "site_link = 'http://community.andela.com/index.php/leadership-board/'"
      ],
      "execution_count": 363,
      "outputs": []
    },
    {
      "cell_type": "markdown",
      "metadata": {
        "id": "3TWwS9yGoEr6",
        "colab_type": "text"
      },
      "source": [
        "We need to scrape the data containing the table from the website saved as `site_link`. <br>First, let's get the source code from the website"
      ]
    },
    {
      "cell_type": "code",
      "metadata": {
        "id": "M5yn9i5koOw6",
        "colab_type": "code",
        "colab": {}
      },
      "source": [
        "source = requests.get(site_link).text"
      ],
      "execution_count": 364,
      "outputs": []
    },
    {
      "cell_type": "markdown",
      "metadata": {
        "id": "3cxr87ZhpSpd",
        "colab_type": "text"
      },
      "source": [
        "Lets Use BeautifulSoup to parse it"
      ]
    },
    {
      "cell_type": "code",
      "metadata": {
        "id": "ArOfRrm-oOuQ",
        "colab_type": "code",
        "colab": {}
      },
      "source": [
        "soup = BeautifulSoup(source, 'lxml')\n",
        "\n",
        "# Let's pretty print it and see what it looks like\n",
        "\n",
        "#print(soup.prettify())"
      ],
      "execution_count": 365,
      "outputs": []
    },
    {
      "cell_type": "markdown",
      "metadata": {
        "id": "_Cudie84sCY4",
        "colab_type": "text"
      },
      "source": [
        "Next let's get the table that contains the data we want to scrape"
      ]
    },
    {
      "cell_type": "code",
      "metadata": {
        "id": "dsaY75jPsELN",
        "colab_type": "code",
        "colab": {
          "base_uri": "https://localhost:8080/",
          "height": 513
        },
        "outputId": "52b72f1d-1d26-4fc6-8c08-ae4f115edb96"
      },
      "source": [
        "my_table = soup.find_all('td')\n",
        "\n",
        "# Let's view the first 20 lines from the table\n",
        "my_table[:20]"
      ],
      "execution_count": 366,
      "outputs": [
        {
          "output_type": "execute_result",
          "data": {
            "text/plain": [
              "[<td width=\"112px\"><img alt=\"\" class=\"alignnone wp-image-3299\" height=\"111\" src=\"http://community.andela.com/wp-content/uploads/2020/06/Top-learner.png\" width=\"112\"/></td>,\n",
              " <td>\n",
              " <h3><strong><span style=\"font-size: 16px;\">Okwuchukwu Nwachukwu</span></strong></h3>\n",
              " <p>229 learning hours. <strong>Nigeria</strong>.</p></td>,\n",
              " <td width=\"112px\"><img alt=\"\" class=\"alignnone wp-image-3299\" height=\"111\" src=\"http://community.andela.com/wp-content/uploads/2020/06/Top-learner.png\" width=\"112\"/></td>,\n",
              " <td>\n",
              " <h3>Pharis Muigai</h3>\n",
              " <p>223 learning hours.<strong>Kenya.</strong></p></td>,\n",
              " <td width=\"191px\"><img alt=\"\" class=\"alignnone wp-image-3454\" height=\"103\" src=\"http://community.andela.com/wp-content/uploads/2020/06/skill-IQ-trimmed.png\" width=\"191\"/></td>,\n",
              " <td>\n",
              " <h3>Ahmed Hany</h3>\n",
              " <p>300 skill IQ Score. <strong>Egypt.</strong></p></td>,\n",
              " <td width=\"191px\"><img alt=\"\" class=\"alignnone wp-image-3454\" height=\"103\" src=\"http://community.andela.com/wp-content/uploads/2020/06/skill-IQ-trimmed.png\" width=\"191\"/></td>,\n",
              " <td>\n",
              " <h3>Godfred Asamoah</h3>\n",
              " <p>300 skill IQ Score. <strong>Ghana.</strong></p></td>,\n",
              " <td style=\"\">1</td>,\n",
              " <td style=\"\">Lukman Ahmed</td>,\n",
              " <td style=\"\">Nigeria</td>,\n",
              " <td style=\"\">35</td>,\n",
              " <td style=\"\">231</td>,\n",
              " <td style=\"\">258</td>,\n",
              " <td style=\"\">2</td>,\n",
              " <td style=\"\">Okwuchukwu Nwachukwu</td>,\n",
              " <td style=\"\">Nigeria</td>,\n",
              " <td style=\"\">34</td>,\n",
              " <td style=\"\">289</td>,\n",
              " <td style=\"\">229</td>]"
            ]
          },
          "metadata": {
            "tags": []
          },
          "execution_count": 366
        }
      ]
    },
    {
      "cell_type": "markdown",
      "metadata": {
        "id": "wuuUyXVfuxfN",
        "colab_type": "text"
      },
      "source": [
        "Next let's iterate through each link and append only the text parts"
      ]
    },
    {
      "cell_type": "code",
      "metadata": {
        "id": "WaBrVvlUsEGw",
        "colab_type": "code",
        "colab": {
          "base_uri": "https://localhost:8080/",
          "height": 34
        },
        "outputId": "888893a4-3c0e-4cc3-ece9-9426b0654de6"
      },
      "source": [
        "# First let's see what kind of object this table is\n",
        "type(my_table)"
      ],
      "execution_count": 367,
      "outputs": [
        {
          "output_type": "execute_result",
          "data": {
            "text/plain": [
              "bs4.element.ResultSet"
            ]
          },
          "metadata": {
            "tags": []
          },
          "execution_count": 367
        }
      ]
    },
    {
      "cell_type": "code",
      "metadata": {
        "id": "lvsuA7oWsEEn",
        "colab_type": "code",
        "colab": {
          "base_uri": "https://localhost:8080/",
          "height": 34
        },
        "outputId": "b2389724-f65c-4d21-dcb0-2064cf30f317"
      },
      "source": [
        "table_text = []\n",
        "\n",
        "for data in my_table:\n",
        "    table_text.append(data.text)\n",
        "\n",
        "print(len(table_text))"
      ],
      "execution_count": 368,
      "outputs": [
        {
          "output_type": "stream",
          "text": [
            "81434\n"
          ],
          "name": "stdout"
        }
      ]
    },
    {
      "cell_type": "markdown",
      "metadata": {
        "id": "b4yuw_q0v32f",
        "colab_type": "text"
      },
      "source": [
        "Let's see the cleaned text, without the html tags"
      ]
    },
    {
      "cell_type": "code",
      "metadata": {
        "id": "sUIJLCIGv9tE",
        "colab_type": "code",
        "colab": {
          "base_uri": "https://localhost:8080/",
          "height": 323
        },
        "outputId": "e4ea78c7-f201-423b-cd1a-8bc10554d8aa"
      },
      "source": [
        "# So we see that the relevent text we need starts from the index 8 till the end\n",
        "# So let's display from just 8 to 26, displaying data for first 3 students\n",
        "\n",
        "table_text[8:26]"
      ],
      "execution_count": 369,
      "outputs": [
        {
          "output_type": "execute_result",
          "data": {
            "text/plain": [
              "['1',\n",
              " 'Lukman Ahmed',\n",
              " 'Nigeria',\n",
              " '35',\n",
              " '231',\n",
              " '258',\n",
              " '2',\n",
              " 'Okwuchukwu Nwachukwu',\n",
              " 'Nigeria',\n",
              " '34',\n",
              " '289',\n",
              " '229',\n",
              " '3',\n",
              " 'Adebisi Yusuf',\n",
              " 'Nigeria',\n",
              " '30',\n",
              " '288',\n",
              " '186']"
            ]
          },
          "metadata": {
            "tags": []
          },
          "execution_count": 369
        }
      ]
    },
    {
      "cell_type": "markdown",
      "metadata": {
        "id": "qaqbaOhd-YIT",
        "colab_type": "text"
      },
      "source": [
        "Therefore let's make the table_text to start from index 8 till the end"
      ]
    },
    {
      "cell_type": "code",
      "metadata": {
        "id": "Um3WZdQo-e8A",
        "colab_type": "code",
        "colab": {
          "base_uri": "https://localhost:8080/",
          "height": 34
        },
        "outputId": "99a55821-5bc0-4aa5-c1cd-2a8aa8072370"
      },
      "source": [
        "table_text = table_text[8:]\n",
        "\n",
        "# Let's sconfirm the length\n",
        "len(table_text)"
      ],
      "execution_count": 370,
      "outputs": [
        {
          "output_type": "execute_result",
          "data": {
            "text/plain": [
              "81426"
            ]
          },
          "metadata": {
            "tags": []
          },
          "execution_count": 370
        }
      ]
    },
    {
      "cell_type": "markdown",
      "metadata": {
        "id": "CSfWBCvL0_sW",
        "colab_type": "text"
      },
      "source": [
        "Next, we create a dictionary with the right table columns as keys, then append the data for each student in the dictionary"
      ]
    },
    {
      "cell_type": "code",
      "metadata": {
        "id": "NoygBgb11KQA",
        "colab_type": "code",
        "colab": {}
      },
      "source": [
        "student_dict = {'Rank':[], 'Name':[], 'Country':[], 'Total_points':[], 'SkillIQ_score':[], 'Learning_hours':[]}"
      ],
      "execution_count": 371,
      "outputs": []
    },
    {
      "cell_type": "markdown",
      "metadata": {
        "id": "D14tpj0C120w",
        "colab_type": "text"
      },
      "source": [
        "So now we need to iterate through the list of table texts and append student details accordingly to the students dictionary above."
      ]
    },
    {
      "cell_type": "code",
      "metadata": {
        "id": "GxC-8sSE6g1e",
        "colab_type": "code",
        "colab": {
          "base_uri": "https://localhost:8080/",
          "height": 34
        },
        "outputId": "49fed101-db13-4bb7-d1b1-166677bc141d"
      },
      "source": [
        "# First let's make a copy of the table_text to be on the safe side\n",
        "table_text_copy = table_text[:]\n",
        "len(table_text_copy)"
      ],
      "execution_count": 372,
      "outputs": [
        {
          "output_type": "execute_result",
          "data": {
            "text/plain": [
              "81426"
            ]
          },
          "metadata": {
            "tags": []
          },
          "execution_count": 372
        }
      ]
    },
    {
      "cell_type": "code",
      "metadata": {
        "id": "vBPKEJut2FNv",
        "colab_type": "code",
        "colab": {}
      },
      "source": [
        "stopper = 6  # setting an index stopper variable\n",
        "\n",
        "while True:\n",
        "    \n",
        "    if not table_text_copy: \n",
        "        break\n",
        "\n",
        "    for i in range(stopper):\n",
        "        if i == 1:\n",
        "            student_dict['Name'].append(table_text_copy[i])\n",
        "        elif i == 2:\n",
        "            student_dict['Country'].append(table_text_copy[i])\n",
        "        elif i == 3:\n",
        "            student_dict['Total_points'].append(table_text_copy[i])\n",
        "        elif i == 4:\n",
        "            student_dict['SkillIQ_score'].append(table_text_copy[i])\n",
        "        elif i == 5:\n",
        "            student_dict['Learning_hours'].append(table_text_copy[i])\n",
        "        else:\n",
        "            student_dict['Rank'].append(table_text_copy[i])\n",
        "\n",
        "    if table_text_copy:\n",
        "        table_text_copy = table_text_copy[stopper:]"
      ],
      "execution_count": 373,
      "outputs": []
    },
    {
      "cell_type": "markdown",
      "metadata": {
        "id": "94aYpGpdBwAC",
        "colab_type": "text"
      },
      "source": [
        "Now that we have a dictionary containing details for all learners as at 31st July, lets start data preprocessing.<br> First, let's put the data set in a pandas Data Frame"
      ]
    },
    {
      "cell_type": "code",
      "metadata": {
        "id": "1rFw89c-D7rA",
        "colab_type": "code",
        "colab": {
          "base_uri": "https://localhost:8080/",
          "height": 204
        },
        "outputId": "3d4cadb8-808f-4c4a-8c62-25aa362845e9"
      },
      "source": [
        "gads_df = pd.DataFrame(student_dict)\n",
        "gads_df.head()"
      ],
      "execution_count": 374,
      "outputs": [
        {
          "output_type": "execute_result",
          "data": {
            "text/html": [
              "<div>\n",
              "<style scoped>\n",
              "    .dataframe tbody tr th:only-of-type {\n",
              "        vertical-align: middle;\n",
              "    }\n",
              "\n",
              "    .dataframe tbody tr th {\n",
              "        vertical-align: top;\n",
              "    }\n",
              "\n",
              "    .dataframe thead th {\n",
              "        text-align: right;\n",
              "    }\n",
              "</style>\n",
              "<table border=\"1\" class=\"dataframe\">\n",
              "  <thead>\n",
              "    <tr style=\"text-align: right;\">\n",
              "      <th></th>\n",
              "      <th>Rank</th>\n",
              "      <th>Name</th>\n",
              "      <th>Country</th>\n",
              "      <th>Total_points</th>\n",
              "      <th>SkillIQ_score</th>\n",
              "      <th>Learning_hours</th>\n",
              "    </tr>\n",
              "  </thead>\n",
              "  <tbody>\n",
              "    <tr>\n",
              "      <th>0</th>\n",
              "      <td>1</td>\n",
              "      <td>Lukman Ahmed</td>\n",
              "      <td>Nigeria</td>\n",
              "      <td>35</td>\n",
              "      <td>231</td>\n",
              "      <td>258</td>\n",
              "    </tr>\n",
              "    <tr>\n",
              "      <th>1</th>\n",
              "      <td>2</td>\n",
              "      <td>Okwuchukwu Nwachukwu</td>\n",
              "      <td>Nigeria</td>\n",
              "      <td>34</td>\n",
              "      <td>289</td>\n",
              "      <td>229</td>\n",
              "    </tr>\n",
              "    <tr>\n",
              "      <th>2</th>\n",
              "      <td>3</td>\n",
              "      <td>Adebisi Yusuf</td>\n",
              "      <td>Nigeria</td>\n",
              "      <td>30</td>\n",
              "      <td>288</td>\n",
              "      <td>186</td>\n",
              "    </tr>\n",
              "    <tr>\n",
              "      <th>3</th>\n",
              "      <td>4</td>\n",
              "      <td>Pharis Muigai</td>\n",
              "      <td>Kenya</td>\n",
              "      <td>28</td>\n",
              "      <td>151</td>\n",
              "      <td>223</td>\n",
              "    </tr>\n",
              "    <tr>\n",
              "      <th>4</th>\n",
              "      <td>5</td>\n",
              "      <td>Evans Nandwa</td>\n",
              "      <td>Kenya</td>\n",
              "      <td>27</td>\n",
              "      <td>146</td>\n",
              "      <td>217</td>\n",
              "    </tr>\n",
              "  </tbody>\n",
              "</table>\n",
              "</div>"
            ],
            "text/plain": [
              "  Rank                  Name  Country Total_points SkillIQ_score Learning_hours\n",
              "0    1          Lukman Ahmed  Nigeria           35           231            258\n",
              "1    2  Okwuchukwu Nwachukwu  Nigeria           34           289            229\n",
              "2    3         Adebisi Yusuf  Nigeria           30           288            186\n",
              "3    4         Pharis Muigai    Kenya           28           151            223\n",
              "4    5          Evans Nandwa    Kenya           27           146            217"
            ]
          },
          "metadata": {
            "tags": []
          },
          "execution_count": 374
        }
      ]
    },
    {
      "cell_type": "markdown",
      "metadata": {
        "id": "LhanaZqbHqqj",
        "colab_type": "text"
      },
      "source": [
        "Let's see the shape of the data set to confirm we captured all records for all students on the leader board"
      ]
    },
    {
      "cell_type": "code",
      "metadata": {
        "id": "_Bekkd78H0Rv",
        "colab_type": "code",
        "colab": {
          "base_uri": "https://localhost:8080/",
          "height": 34
        },
        "outputId": "40e2e1a5-0a01-406c-eac0-734007675d1a"
      },
      "source": [
        "print(gads_df.shape)"
      ],
      "execution_count": 375,
      "outputs": [
        {
          "output_type": "stream",
          "text": [
            "(13571, 6)\n"
          ],
          "name": "stdout"
        }
      ]
    },
    {
      "cell_type": "markdown",
      "metadata": {
        "id": "dOgV0u4LrSxk",
        "colab_type": "text"
      },
      "source": [
        "Some questions to look at:\n",
        "1. The Top 5000 Learners: what are their qualities, mean learning time, divide by 6 to find mean weekly learning time. mean top score and any other metric \n",
        "2. The Least 5000 learners:\n",
        "3. The Top Learners per country\n",
        "4. The range of scores in the data set.\n",
        "5. Find active students: defined as those who score minimum of 100 or minimum of 10 hours\n",
        "6. recall how students earn points\n",
        "7. Sort the data by students points alone, deleting skill-iq and learning hours\n",
        "8. Sort the data by students skill-IQ alone, deleting points and learning hours\n",
        "8. Sort the data by learning hours alone, deleting skill-iq and points\n",
        "9. For each sort, select the top 5000 students\n",
        "10. Then find the total students from the top 5000 per list that appear on all the sorted list as top learners \n",
        "11. Then merge that list together taking the points, learning hours and skill-iq\n",
        "12. Bin the entire data set into top-performers, ave-performers and low-performers and train a neural network to rightly classify them."
      ]
    },
    {
      "cell_type": "code",
      "metadata": {
        "id": "UgQU8fcensbB",
        "colab_type": "code",
        "colab": {
          "base_uri": "https://localhost:8080/",
          "height": 238
        },
        "outputId": "5c21fe48-535a-4135-c35c-8fc45aaa94d5"
      },
      "source": [
        "gads_df.info()"
      ],
      "execution_count": 376,
      "outputs": [
        {
          "output_type": "stream",
          "text": [
            "<class 'pandas.core.frame.DataFrame'>\n",
            "RangeIndex: 13571 entries, 0 to 13570\n",
            "Data columns (total 6 columns):\n",
            " #   Column          Non-Null Count  Dtype \n",
            "---  ------          --------------  ----- \n",
            " 0   Rank            13571 non-null  object\n",
            " 1   Name            13571 non-null  object\n",
            " 2   Country         13571 non-null  object\n",
            " 3   Total_points    13571 non-null  object\n",
            " 4   SkillIQ_score   13571 non-null  object\n",
            " 5   Learning_hours  13571 non-null  object\n",
            "dtypes: object(6)\n",
            "memory usage: 636.3+ KB\n"
          ],
          "name": "stdout"
        }
      ]
    },
    {
      "cell_type": "markdown",
      "metadata": {
        "id": "USRwBTn0F2ey",
        "colab_type": "text"
      },
      "source": [
        "From the info() method, we can see that all the data is type object or categorical.<br> We need to convert the numerical columns to integers so we can make use them for our analysis"
      ]
    },
    {
      "cell_type": "code",
      "metadata": {
        "id": "C0P46Eywnvg9",
        "colab_type": "code",
        "colab": {}
      },
      "source": [
        "gads_df[['Rank', 'Total_points', 'SkillIQ_score', 'Learning_hours']] = gads_df[['Rank', 'Total_points', 'SkillIQ_score', 'Learning_hours']].astype('int')"
      ],
      "execution_count": 377,
      "outputs": []
    },
    {
      "cell_type": "markdown",
      "metadata": {
        "id": "x3d_uWdJG_td",
        "colab_type": "text"
      },
      "source": [
        "Let's see the info() method again"
      ]
    },
    {
      "cell_type": "code",
      "metadata": {
        "id": "lSzPyXXGG7xA",
        "colab_type": "code",
        "colab": {
          "base_uri": "https://localhost:8080/",
          "height": 238
        },
        "outputId": "462dc776-70e9-4286-9787-bd09dec962df"
      },
      "source": [
        "gads_df.info()"
      ],
      "execution_count": 378,
      "outputs": [
        {
          "output_type": "stream",
          "text": [
            "<class 'pandas.core.frame.DataFrame'>\n",
            "RangeIndex: 13571 entries, 0 to 13570\n",
            "Data columns (total 6 columns):\n",
            " #   Column          Non-Null Count  Dtype \n",
            "---  ------          --------------  ----- \n",
            " 0   Rank            13571 non-null  int64 \n",
            " 1   Name            13571 non-null  object\n",
            " 2   Country         13571 non-null  object\n",
            " 3   Total_points    13571 non-null  int64 \n",
            " 4   SkillIQ_score   13571 non-null  int64 \n",
            " 5   Learning_hours  13571 non-null  int64 \n",
            "dtypes: int64(4), object(2)\n",
            "memory usage: 636.3+ KB\n"
          ],
          "name": "stdout"
        }
      ]
    },
    {
      "cell_type": "markdown",
      "metadata": {
        "id": "bi7PePLsHJMZ",
        "colab_type": "text"
      },
      "source": [
        "Nice one, let's see some summary Statistics about the data"
      ]
    },
    {
      "cell_type": "code",
      "metadata": {
        "id": "NH9NdgOgHOog",
        "colab_type": "code",
        "colab": {
          "base_uri": "https://localhost:8080/",
          "height": 173
        },
        "outputId": "6b3c6c60-b4f1-4a63-bc49-42a42024a78f"
      },
      "source": [
        "gads_df.describe().T"
      ],
      "execution_count": 379,
      "outputs": [
        {
          "output_type": "execute_result",
          "data": {
            "text/html": [
              "<div>\n",
              "<style scoped>\n",
              "    .dataframe tbody tr th:only-of-type {\n",
              "        vertical-align: middle;\n",
              "    }\n",
              "\n",
              "    .dataframe tbody tr th {\n",
              "        vertical-align: top;\n",
              "    }\n",
              "\n",
              "    .dataframe thead th {\n",
              "        text-align: right;\n",
              "    }\n",
              "</style>\n",
              "<table border=\"1\" class=\"dataframe\">\n",
              "  <thead>\n",
              "    <tr style=\"text-align: right;\">\n",
              "      <th></th>\n",
              "      <th>count</th>\n",
              "      <th>mean</th>\n",
              "      <th>std</th>\n",
              "      <th>min</th>\n",
              "      <th>25%</th>\n",
              "      <th>50%</th>\n",
              "      <th>75%</th>\n",
              "      <th>max</th>\n",
              "    </tr>\n",
              "  </thead>\n",
              "  <tbody>\n",
              "    <tr>\n",
              "      <th>Rank</th>\n",
              "      <td>13571.0</td>\n",
              "      <td>6786.000000</td>\n",
              "      <td>3917.754586</td>\n",
              "      <td>1.0</td>\n",
              "      <td>3393.5</td>\n",
              "      <td>6786.0</td>\n",
              "      <td>10178.5</td>\n",
              "      <td>13571.0</td>\n",
              "    </tr>\n",
              "    <tr>\n",
              "      <th>Total_points</th>\n",
              "      <td>13571.0</td>\n",
              "      <td>6.269914</td>\n",
              "      <td>3.450057</td>\n",
              "      <td>0.0</td>\n",
              "      <td>4.0</td>\n",
              "      <td>6.0</td>\n",
              "      <td>8.0</td>\n",
              "      <td>35.0</td>\n",
              "    </tr>\n",
              "    <tr>\n",
              "      <th>SkillIQ_score</th>\n",
              "      <td>13571.0</td>\n",
              "      <td>120.315010</td>\n",
              "      <td>72.272350</td>\n",
              "      <td>0.0</td>\n",
              "      <td>80.0</td>\n",
              "      <td>129.0</td>\n",
              "      <td>170.0</td>\n",
              "      <td>300.0</td>\n",
              "    </tr>\n",
              "    <tr>\n",
              "      <th>Learning_hours</th>\n",
              "      <td>13571.0</td>\n",
              "      <td>19.388402</td>\n",
              "      <td>18.632124</td>\n",
              "      <td>0.0</td>\n",
              "      <td>9.0</td>\n",
              "      <td>15.0</td>\n",
              "      <td>24.0</td>\n",
              "      <td>258.0</td>\n",
              "    </tr>\n",
              "  </tbody>\n",
              "</table>\n",
              "</div>"
            ],
            "text/plain": [
              "                  count         mean          std  ...     50%      75%      max\n",
              "Rank            13571.0  6786.000000  3917.754586  ...  6786.0  10178.5  13571.0\n",
              "Total_points    13571.0     6.269914     3.450057  ...     6.0      8.0     35.0\n",
              "SkillIQ_score   13571.0   120.315010    72.272350  ...   129.0    170.0    300.0\n",
              "Learning_hours  13571.0    19.388402    18.632124  ...    15.0     24.0    258.0\n",
              "\n",
              "[4 rows x 8 columns]"
            ]
          },
          "metadata": {
            "tags": []
          },
          "execution_count": 379
        }
      ]
    },
    {
      "cell_type": "markdown",
      "metadata": {
        "id": "p1fNMATRKiWj",
        "colab_type": "text"
      },
      "source": [
        "The summary descriptive Statistics data above tells us a lot about the entire data set;\n",
        "\n",
        "1. Total count of learners as at 30th July for learning-Phase-1 is **12,969**.\n",
        "2. The average learning hours so far is 19 hours.\n",
        "3. The average Skill IQ Score is 117.\n",
        "4. The inter-quartile ranges also tell us that 75% of Learners did no more than 24 hours and scored no more than 168 IQ Scores.\n",
        "5. We can also see that the minimum Skill IQ Score is 0 and max  is 300, while minimum Learning hours is 0 and max is 258."
      ]
    },
    {
      "cell_type": "markdown",
      "metadata": {
        "id": "03TUaPrONEUs",
        "colab_type": "text"
      },
      "source": [
        "Let's see our data again"
      ]
    },
    {
      "cell_type": "code",
      "metadata": {
        "id": "zk6gGD6hNHUp",
        "colab_type": "code",
        "colab": {
          "base_uri": "https://localhost:8080/",
          "height": 359
        },
        "outputId": "8b098dfc-9cfd-4f63-dd0a-a1b8117c5246"
      },
      "source": [
        "gads_df.head(10)"
      ],
      "execution_count": 380,
      "outputs": [
        {
          "output_type": "execute_result",
          "data": {
            "text/html": [
              "<div>\n",
              "<style scoped>\n",
              "    .dataframe tbody tr th:only-of-type {\n",
              "        vertical-align: middle;\n",
              "    }\n",
              "\n",
              "    .dataframe tbody tr th {\n",
              "        vertical-align: top;\n",
              "    }\n",
              "\n",
              "    .dataframe thead th {\n",
              "        text-align: right;\n",
              "    }\n",
              "</style>\n",
              "<table border=\"1\" class=\"dataframe\">\n",
              "  <thead>\n",
              "    <tr style=\"text-align: right;\">\n",
              "      <th></th>\n",
              "      <th>Rank</th>\n",
              "      <th>Name</th>\n",
              "      <th>Country</th>\n",
              "      <th>Total_points</th>\n",
              "      <th>SkillIQ_score</th>\n",
              "      <th>Learning_hours</th>\n",
              "    </tr>\n",
              "  </thead>\n",
              "  <tbody>\n",
              "    <tr>\n",
              "      <th>0</th>\n",
              "      <td>1</td>\n",
              "      <td>Lukman Ahmed</td>\n",
              "      <td>Nigeria</td>\n",
              "      <td>35</td>\n",
              "      <td>231</td>\n",
              "      <td>258</td>\n",
              "    </tr>\n",
              "    <tr>\n",
              "      <th>1</th>\n",
              "      <td>2</td>\n",
              "      <td>Okwuchukwu Nwachukwu</td>\n",
              "      <td>Nigeria</td>\n",
              "      <td>34</td>\n",
              "      <td>289</td>\n",
              "      <td>229</td>\n",
              "    </tr>\n",
              "    <tr>\n",
              "      <th>2</th>\n",
              "      <td>3</td>\n",
              "      <td>Adebisi Yusuf</td>\n",
              "      <td>Nigeria</td>\n",
              "      <td>30</td>\n",
              "      <td>288</td>\n",
              "      <td>186</td>\n",
              "    </tr>\n",
              "    <tr>\n",
              "      <th>3</th>\n",
              "      <td>4</td>\n",
              "      <td>Pharis Muigai</td>\n",
              "      <td>Kenya</td>\n",
              "      <td>28</td>\n",
              "      <td>151</td>\n",
              "      <td>223</td>\n",
              "    </tr>\n",
              "    <tr>\n",
              "      <th>4</th>\n",
              "      <td>5</td>\n",
              "      <td>Evans Nandwa</td>\n",
              "      <td>Kenya</td>\n",
              "      <td>27</td>\n",
              "      <td>146</td>\n",
              "      <td>217</td>\n",
              "    </tr>\n",
              "    <tr>\n",
              "      <th>5</th>\n",
              "      <td>6</td>\n",
              "      <td>Gatchang Stephen</td>\n",
              "      <td>South Sudan</td>\n",
              "      <td>26</td>\n",
              "      <td>150</td>\n",
              "      <td>209</td>\n",
              "    </tr>\n",
              "    <tr>\n",
              "      <th>6</th>\n",
              "      <td>7</td>\n",
              "      <td>Francis Obetta</td>\n",
              "      <td>Nigeria</td>\n",
              "      <td>25</td>\n",
              "      <td>280</td>\n",
              "      <td>148</td>\n",
              "    </tr>\n",
              "    <tr>\n",
              "      <th>7</th>\n",
              "      <td>8</td>\n",
              "      <td>Khalil Henchi</td>\n",
              "      <td>Tunisia</td>\n",
              "      <td>25</td>\n",
              "      <td>111</td>\n",
              "      <td>211</td>\n",
              "    </tr>\n",
              "    <tr>\n",
              "      <th>8</th>\n",
              "      <td>9</td>\n",
              "      <td>Seyum Alemayehu</td>\n",
              "      <td>Ethiopia</td>\n",
              "      <td>24</td>\n",
              "      <td>274</td>\n",
              "      <td>138</td>\n",
              "    </tr>\n",
              "    <tr>\n",
              "      <th>9</th>\n",
              "      <td>10</td>\n",
              "      <td>Ngozichukwu Uzoigwe</td>\n",
              "      <td>Nigeria</td>\n",
              "      <td>24</td>\n",
              "      <td>119</td>\n",
              "      <td>200</td>\n",
              "    </tr>\n",
              "  </tbody>\n",
              "</table>\n",
              "</div>"
            ],
            "text/plain": [
              "   Rank                  Name  ... SkillIQ_score  Learning_hours\n",
              "0     1          Lukman Ahmed  ...           231             258\n",
              "1     2  Okwuchukwu Nwachukwu  ...           289             229\n",
              "2     3         Adebisi Yusuf  ...           288             186\n",
              "3     4         Pharis Muigai  ...           151             223\n",
              "4     5          Evans Nandwa  ...           146             217\n",
              "5     6      Gatchang Stephen  ...           150             209\n",
              "6     7        Francis Obetta  ...           280             148\n",
              "7     8         Khalil Henchi  ...           111             211\n",
              "8     9       Seyum Alemayehu  ...           274             138\n",
              "9    10   Ngozichukwu Uzoigwe  ...           119             200\n",
              "\n",
              "[10 rows x 6 columns]"
            ]
          },
          "metadata": {
            "tags": []
          },
          "execution_count": 380
        }
      ]
    },
    {
      "cell_type": "markdown",
      "metadata": {
        "id": "79nhM6mANWPM",
        "colab_type": "text"
      },
      "source": [
        "Let's finetune the data some more, let's replace the index with the rank column"
      ]
    },
    {
      "cell_type": "code",
      "metadata": {
        "id": "opuA1agJNU4L",
        "colab_type": "code",
        "colab": {
          "base_uri": "https://localhost:8080/",
          "height": 390
        },
        "outputId": "3eb607a9-7a08-4ef4-dfbe-4dab16b7925d"
      },
      "source": [
        "gads_df.set_index('Rank', drop=True, inplace=True)\n",
        "\n",
        "gads_df.head(10)"
      ],
      "execution_count": 381,
      "outputs": [
        {
          "output_type": "execute_result",
          "data": {
            "text/html": [
              "<div>\n",
              "<style scoped>\n",
              "    .dataframe tbody tr th:only-of-type {\n",
              "        vertical-align: middle;\n",
              "    }\n",
              "\n",
              "    .dataframe tbody tr th {\n",
              "        vertical-align: top;\n",
              "    }\n",
              "\n",
              "    .dataframe thead th {\n",
              "        text-align: right;\n",
              "    }\n",
              "</style>\n",
              "<table border=\"1\" class=\"dataframe\">\n",
              "  <thead>\n",
              "    <tr style=\"text-align: right;\">\n",
              "      <th></th>\n",
              "      <th>Name</th>\n",
              "      <th>Country</th>\n",
              "      <th>Total_points</th>\n",
              "      <th>SkillIQ_score</th>\n",
              "      <th>Learning_hours</th>\n",
              "    </tr>\n",
              "    <tr>\n",
              "      <th>Rank</th>\n",
              "      <th></th>\n",
              "      <th></th>\n",
              "      <th></th>\n",
              "      <th></th>\n",
              "      <th></th>\n",
              "    </tr>\n",
              "  </thead>\n",
              "  <tbody>\n",
              "    <tr>\n",
              "      <th>1</th>\n",
              "      <td>Lukman Ahmed</td>\n",
              "      <td>Nigeria</td>\n",
              "      <td>35</td>\n",
              "      <td>231</td>\n",
              "      <td>258</td>\n",
              "    </tr>\n",
              "    <tr>\n",
              "      <th>2</th>\n",
              "      <td>Okwuchukwu Nwachukwu</td>\n",
              "      <td>Nigeria</td>\n",
              "      <td>34</td>\n",
              "      <td>289</td>\n",
              "      <td>229</td>\n",
              "    </tr>\n",
              "    <tr>\n",
              "      <th>3</th>\n",
              "      <td>Adebisi Yusuf</td>\n",
              "      <td>Nigeria</td>\n",
              "      <td>30</td>\n",
              "      <td>288</td>\n",
              "      <td>186</td>\n",
              "    </tr>\n",
              "    <tr>\n",
              "      <th>4</th>\n",
              "      <td>Pharis Muigai</td>\n",
              "      <td>Kenya</td>\n",
              "      <td>28</td>\n",
              "      <td>151</td>\n",
              "      <td>223</td>\n",
              "    </tr>\n",
              "    <tr>\n",
              "      <th>5</th>\n",
              "      <td>Evans Nandwa</td>\n",
              "      <td>Kenya</td>\n",
              "      <td>27</td>\n",
              "      <td>146</td>\n",
              "      <td>217</td>\n",
              "    </tr>\n",
              "    <tr>\n",
              "      <th>6</th>\n",
              "      <td>Gatchang Stephen</td>\n",
              "      <td>South Sudan</td>\n",
              "      <td>26</td>\n",
              "      <td>150</td>\n",
              "      <td>209</td>\n",
              "    </tr>\n",
              "    <tr>\n",
              "      <th>7</th>\n",
              "      <td>Francis Obetta</td>\n",
              "      <td>Nigeria</td>\n",
              "      <td>25</td>\n",
              "      <td>280</td>\n",
              "      <td>148</td>\n",
              "    </tr>\n",
              "    <tr>\n",
              "      <th>8</th>\n",
              "      <td>Khalil Henchi</td>\n",
              "      <td>Tunisia</td>\n",
              "      <td>25</td>\n",
              "      <td>111</td>\n",
              "      <td>211</td>\n",
              "    </tr>\n",
              "    <tr>\n",
              "      <th>9</th>\n",
              "      <td>Seyum Alemayehu</td>\n",
              "      <td>Ethiopia</td>\n",
              "      <td>24</td>\n",
              "      <td>274</td>\n",
              "      <td>138</td>\n",
              "    </tr>\n",
              "    <tr>\n",
              "      <th>10</th>\n",
              "      <td>Ngozichukwu Uzoigwe</td>\n",
              "      <td>Nigeria</td>\n",
              "      <td>24</td>\n",
              "      <td>119</td>\n",
              "      <td>200</td>\n",
              "    </tr>\n",
              "  </tbody>\n",
              "</table>\n",
              "</div>"
            ],
            "text/plain": [
              "                      Name      Country  ...  SkillIQ_score  Learning_hours\n",
              "Rank                                     ...                               \n",
              "1             Lukman Ahmed      Nigeria  ...            231             258\n",
              "2     Okwuchukwu Nwachukwu      Nigeria  ...            289             229\n",
              "3            Adebisi Yusuf      Nigeria  ...            288             186\n",
              "4            Pharis Muigai        Kenya  ...            151             223\n",
              "5             Evans Nandwa        Kenya  ...            146             217\n",
              "6         Gatchang Stephen  South Sudan  ...            150             209\n",
              "7           Francis Obetta      Nigeria  ...            280             148\n",
              "8            Khalil Henchi      Tunisia  ...            111             211\n",
              "9          Seyum Alemayehu     Ethiopia  ...            274             138\n",
              "10     Ngozichukwu Uzoigwe      Nigeria  ...            119             200\n",
              "\n",
              "[10 rows x 5 columns]"
            ]
          },
          "metadata": {
            "tags": []
          },
          "execution_count": 381
        }
      ]
    },
    {
      "cell_type": "code",
      "metadata": {
        "id": "tcZ9xlU0UckT",
        "colab_type": "code",
        "colab": {
          "base_uri": "https://localhost:8080/",
          "height": 391
        },
        "outputId": "518def16-9e65-45a3-f40c-ca55701d19ec"
      },
      "source": [
        "sns.set_style('ticks')\n",
        "gads_df.plot(kind='hist', figsize=(8,6))\n",
        "plt.title('Histogram of Total-Points, Skill-IQ and Learning-Hours',fontsize=14, fontweight='bold')\n",
        "plt.show()"
      ],
      "execution_count": 382,
      "outputs": [
        {
          "output_type": "display_data",
          "data": {
            "image/png": "[encoded data removed]",
            "text/plain": [
              "<Figure size 576x432 with 1 Axes>"
            ]
          },
          "metadata": {
            "tags": []
          }
        }
      ]
    },
    {
      "cell_type": "markdown",
      "metadata": {
        "id": "vyaHqdsZOFqu",
        "colab_type": "text"
      },
      "source": [
        "<h3>What does the Histogram tell us?</h3>\n",
        "\n",
        "1. Total points have a distribution between 0 and 25\n",
        "2. Learning Hours is concentrated between 0 and 25, but we have about 2000 students learning between 25 and 50 hours. We have about 400 students learning between 50 and 100 hours. Finally we have an outlier of very few students betwen 100 and 258 learning hours.\n",
        "3. The distribution of SkillIQ score has a rather uniform distribution, but ofcourse it peaks around 120 to 150 bin."
      ]
    },
    {
      "cell_type": "markdown",
      "metadata": {
        "id": "UR8iBbTDO3HZ",
        "colab_type": "text"
      },
      "source": [
        "Next, let's create a Data Frame of students that met either the minimum 100 points or 10 learning hours"
      ]
    },
    {
      "cell_type": "code",
      "metadata": {
        "id": "NPZCPngXPFRm",
        "colab_type": "code",
        "colab": {
          "base_uri": "https://localhost:8080/",
          "height": 235
        },
        "outputId": "428a8e76-419d-4246-a02a-8b313e93d618"
      },
      "source": [
        "qualified_students_df = gads_df[(gads_df['SkillIQ_score'] >= 100) | (gads_df['Learning_hours'] >= 10)]\n",
        "\n",
        "qualified_students_df.head()"
      ],
      "execution_count": 383,
      "outputs": [
        {
          "output_type": "execute_result",
          "data": {
            "text/html": [
              "<div>\n",
              "<style scoped>\n",
              "    .dataframe tbody tr th:only-of-type {\n",
              "        vertical-align: middle;\n",
              "    }\n",
              "\n",
              "    .dataframe tbody tr th {\n",
              "        vertical-align: top;\n",
              "    }\n",
              "\n",
              "    .dataframe thead th {\n",
              "        text-align: right;\n",
              "    }\n",
              "</style>\n",
              "<table border=\"1\" class=\"dataframe\">\n",
              "  <thead>\n",
              "    <tr style=\"text-align: right;\">\n",
              "      <th></th>\n",
              "      <th>Name</th>\n",
              "      <th>Country</th>\n",
              "      <th>Total_points</th>\n",
              "      <th>SkillIQ_score</th>\n",
              "      <th>Learning_hours</th>\n",
              "    </tr>\n",
              "    <tr>\n",
              "      <th>Rank</th>\n",
              "      <th></th>\n",
              "      <th></th>\n",
              "      <th></th>\n",
              "      <th></th>\n",
              "      <th></th>\n",
              "    </tr>\n",
              "  </thead>\n",
              "  <tbody>\n",
              "    <tr>\n",
              "      <th>1</th>\n",
              "      <td>Lukman Ahmed</td>\n",
              "      <td>Nigeria</td>\n",
              "      <td>35</td>\n",
              "      <td>231</td>\n",
              "      <td>258</td>\n",
              "    </tr>\n",
              "    <tr>\n",
              "      <th>2</th>\n",
              "      <td>Okwuchukwu Nwachukwu</td>\n",
              "      <td>Nigeria</td>\n",
              "      <td>34</td>\n",
              "      <td>289</td>\n",
              "      <td>229</td>\n",
              "    </tr>\n",
              "    <tr>\n",
              "      <th>3</th>\n",
              "      <td>Adebisi Yusuf</td>\n",
              "      <td>Nigeria</td>\n",
              "      <td>30</td>\n",
              "      <td>288</td>\n",
              "      <td>186</td>\n",
              "    </tr>\n",
              "    <tr>\n",
              "      <th>4</th>\n",
              "      <td>Pharis Muigai</td>\n",
              "      <td>Kenya</td>\n",
              "      <td>28</td>\n",
              "      <td>151</td>\n",
              "      <td>223</td>\n",
              "    </tr>\n",
              "    <tr>\n",
              "      <th>5</th>\n",
              "      <td>Evans Nandwa</td>\n",
              "      <td>Kenya</td>\n",
              "      <td>27</td>\n",
              "      <td>146</td>\n",
              "      <td>217</td>\n",
              "    </tr>\n",
              "  </tbody>\n",
              "</table>\n",
              "</div>"
            ],
            "text/plain": [
              "                      Name  Country  ...  SkillIQ_score  Learning_hours\n",
              "Rank                                 ...                               \n",
              "1             Lukman Ahmed  Nigeria  ...            231             258\n",
              "2     Okwuchukwu Nwachukwu  Nigeria  ...            289             229\n",
              "3            Adebisi Yusuf  Nigeria  ...            288             186\n",
              "4            Pharis Muigai    Kenya  ...            151             223\n",
              "5             Evans Nandwa    Kenya  ...            146             217\n",
              "\n",
              "[5 rows x 5 columns]"
            ]
          },
          "metadata": {
            "tags": []
          },
          "execution_count": 383
        }
      ]
    },
    {
      "cell_type": "markdown",
      "metadata": {
        "id": "h7EbkwHEPohm",
        "colab_type": "text"
      },
      "source": [
        "Let's see the total number of students that have this minimum qualification"
      ]
    },
    {
      "cell_type": "code",
      "metadata": {
        "id": "177rUjIaPust",
        "colab_type": "code",
        "colab": {
          "base_uri": "https://localhost:8080/",
          "height": 51
        },
        "outputId": "36e254da-f2f2-4c10-b947-01f624e3643a"
      },
      "source": [
        "print(f'The number of minimum qualified students is {len(qualified_students_df)}, out of {len(gads_df)} total students. \\\n",
        "\\nThis leaves a difference of {len(gads_df) - len(qualified_students_df)} Non-qualified students')"
      ],
      "execution_count": 384,
      "outputs": [
        {
          "output_type": "stream",
          "text": [
            "The number of minimum qualified students is 13571, out of 13571 total students. \n",
            "This leaves a difference of 0 Non-qualified students\n"
          ],
          "name": "stdout"
        }
      ]
    },
    {
      "cell_type": "markdown",
      "metadata": {
        "id": "KEqnczilSpje",
        "colab_type": "text"
      },
      "source": [
        "Wow! The data as at today 31st July states that out of 13,571 students, all students are quaified. This means every learner did atleast 10 learning hours or 100 skillIQ or both."
      ]
    },
    {
      "cell_type": "code",
      "metadata": {
        "id": "p0cFKTt3UDZE",
        "colab_type": "code",
        "colab": {
          "base_uri": "https://localhost:8080/",
          "height": 235
        },
        "outputId": "88069c46-5dd0-4d75-fa6f-4e7d0a0a0314"
      },
      "source": [
        "gads_df.head()"
      ],
      "execution_count": 385,
      "outputs": [
        {
          "output_type": "execute_result",
          "data": {
            "text/html": [
              "<div>\n",
              "<style scoped>\n",
              "    .dataframe tbody tr th:only-of-type {\n",
              "        vertical-align: middle;\n",
              "    }\n",
              "\n",
              "    .dataframe tbody tr th {\n",
              "        vertical-align: top;\n",
              "    }\n",
              "\n",
              "    .dataframe thead th {\n",
              "        text-align: right;\n",
              "    }\n",
              "</style>\n",
              "<table border=\"1\" class=\"dataframe\">\n",
              "  <thead>\n",
              "    <tr style=\"text-align: right;\">\n",
              "      <th></th>\n",
              "      <th>Name</th>\n",
              "      <th>Country</th>\n",
              "      <th>Total_points</th>\n",
              "      <th>SkillIQ_score</th>\n",
              "      <th>Learning_hours</th>\n",
              "    </tr>\n",
              "    <tr>\n",
              "      <th>Rank</th>\n",
              "      <th></th>\n",
              "      <th></th>\n",
              "      <th></th>\n",
              "      <th></th>\n",
              "      <th></th>\n",
              "    </tr>\n",
              "  </thead>\n",
              "  <tbody>\n",
              "    <tr>\n",
              "      <th>1</th>\n",
              "      <td>Lukman Ahmed</td>\n",
              "      <td>Nigeria</td>\n",
              "      <td>35</td>\n",
              "      <td>231</td>\n",
              "      <td>258</td>\n",
              "    </tr>\n",
              "    <tr>\n",
              "      <th>2</th>\n",
              "      <td>Okwuchukwu Nwachukwu</td>\n",
              "      <td>Nigeria</td>\n",
              "      <td>34</td>\n",
              "      <td>289</td>\n",
              "      <td>229</td>\n",
              "    </tr>\n",
              "    <tr>\n",
              "      <th>3</th>\n",
              "      <td>Adebisi Yusuf</td>\n",
              "      <td>Nigeria</td>\n",
              "      <td>30</td>\n",
              "      <td>288</td>\n",
              "      <td>186</td>\n",
              "    </tr>\n",
              "    <tr>\n",
              "      <th>4</th>\n",
              "      <td>Pharis Muigai</td>\n",
              "      <td>Kenya</td>\n",
              "      <td>28</td>\n",
              "      <td>151</td>\n",
              "      <td>223</td>\n",
              "    </tr>\n",
              "    <tr>\n",
              "      <th>5</th>\n",
              "      <td>Evans Nandwa</td>\n",
              "      <td>Kenya</td>\n",
              "      <td>27</td>\n",
              "      <td>146</td>\n",
              "      <td>217</td>\n",
              "    </tr>\n",
              "  </tbody>\n",
              "</table>\n",
              "</div>"
            ],
            "text/plain": [
              "                      Name  Country  ...  SkillIQ_score  Learning_hours\n",
              "Rank                                 ...                               \n",
              "1             Lukman Ahmed  Nigeria  ...            231             258\n",
              "2     Okwuchukwu Nwachukwu  Nigeria  ...            289             229\n",
              "3            Adebisi Yusuf  Nigeria  ...            288             186\n",
              "4            Pharis Muigai    Kenya  ...            151             223\n",
              "5             Evans Nandwa    Kenya  ...            146             217\n",
              "\n",
              "[5 rows x 5 columns]"
            ]
          },
          "metadata": {
            "tags": []
          },
          "execution_count": 385
        }
      ]
    },
    {
      "cell_type": "markdown",
      "metadata": {
        "id": "4l8xqdjYMuNn",
        "colab_type": "text"
      },
      "source": [
        "Let's see histograms of Qualified Students Quantitaive Data"
      ]
    },
    {
      "cell_type": "code",
      "metadata": {
        "id": "5T0rNw7ENGZQ",
        "colab_type": "code",
        "colab": {
          "base_uri": "https://localhost:8080/",
          "height": 409
        },
        "outputId": "b94b3f52-500c-4b9c-9af1-463037d97e8d"
      },
      "source": [
        "fig = plt.figure(figsize=(21,6))\n",
        "sns.set_style('ticks')\n",
        "fig.add_subplot(1,3,1)\n",
        "qualified_students_df.SkillIQ_score.plot(kind='hist', linewidth=2, edgecolor='black', color='red', bins=20)\n",
        "plt.title('Q-Students Skill-IQ Scores', fontsize=15, fontweight='heavy')\n",
        "plt.xlabel('Skill-IQ Scores', fontsize=12)\n",
        "\n",
        "fig.add_subplot(1,3,2)\n",
        "qualified_students_df.Learning_hours.plot(kind='hist', linewidth=2, edgecolor='gold', color='purple', bins=20)\n",
        "plt.title('Q-Students Learning-Hours', fontsize=15, fontweight='heavy')\n",
        "plt.xlabel('Learning-Hours', fontsize=12)\n",
        "\n",
        "fig.add_subplot(1,3,3)\n",
        "qualified_students_df.Total_points.plot(kind='hist', linewidth=2, edgecolor='black', color='skyblue', bins=20)\n",
        "plt.title('Q-Students Total-Points', fontsize=15, fontweight='heavy')\n",
        "plt.xlabel('Total-Points', fontsize=12)\n",
        "\n",
        "plt.show()"
      ],
      "execution_count": 386,
      "outputs": [
        {
          "output_type": "display_data",
          "data": {
            "image/png": "[encoded data removed]",
            "text/plain": [
              "<Figure size 1512x432 with 3 Axes>"
            ]
          },
          "metadata": {
            "tags": []
          }
        }
      ]
    },
    {
      "cell_type": "markdown",
      "metadata": {
        "id": "71foskvXjutU",
        "colab_type": "text"
      },
      "source": [
        "<h3>Interpret The Histogram</h3>"
      ]
    },
    {
      "cell_type": "markdown",
      "metadata": {
        "id": "MJZNyZsHONH7",
        "colab_type": "text"
      },
      "source": [
        "Let's see a Box-Plot of the distributions of qualified students"
      ]
    },
    {
      "cell_type": "code",
      "metadata": {
        "id": "h97SaNOdT3xY",
        "colab_type": "code",
        "colab": {
          "base_uri": "https://localhost:8080/",
          "height": 377
        },
        "outputId": "b58017ee-d9c5-4433-aca0-ee4458ff20b7"
      },
      "source": [
        "qualified_metrics = qualified_students_df[['SkillIQ_score', 'Learning_hours', 'Total_points']]\n",
        "\n",
        "fig = plt.figure(figsize=(18,6))\n",
        "sns.set_style('ticks')\n",
        "ax0 = fig.add_subplot(131)\n",
        "ax1 = fig.add_subplot(132)\n",
        "ax2 = fig.add_subplot(133)\n",
        "\n",
        "sns.boxplot(qualified_metrics.Total_points, ax=ax0, orient='v')\n",
        "ax0.set_title('Q-Students Box-Plot of Total Points',fontweight='heavy')\n",
        "\n",
        "sns.boxplot(qualified_metrics.SkillIQ_score, color='r', orient='v', ax=ax1)\n",
        "ax1.set_title('Q-Students Box-Plot of SkillIQ-score',fontweight='heavy')\n",
        "\n",
        "sns.boxplot(qualified_metrics.Learning_hours, color='purple', orient='v', ax=ax2)\n",
        "ax2.set_title('Q-Students Box-Plot of learning-hours',fontweight='heavy')\n",
        "\n",
        "plt.show()"
      ],
      "execution_count": 387,
      "outputs": [
        {
          "output_type": "display_data",
          "data": {
            "image/png": "[encoded data removed]",
            "text/plain": [
              "<Figure size 1296x432 with 3 Axes>"
            ]
          },
          "metadata": {
            "tags": []
          }
        }
      ]
    },
    {
      "cell_type": "markdown",
      "metadata": {
        "id": "W7WDGN85j_zf",
        "colab_type": "text"
      },
      "source": [
        "<h3>Interpret The Box-Plot</h3>"
      ]
    },
    {
      "cell_type": "markdown",
      "metadata": {
        "id": "MBqL3QuJUAlh",
        "colab_type": "text"
      },
      "source": [
        "<b><h3>Visual Analysis:</b></h3>"
      ]
    },
    {
      "cell_type": "code",
      "metadata": {
        "id": "sJercbVzWKjt",
        "colab_type": "code",
        "colab": {
          "base_uri": "https://localhost:8080/",
          "height": 235
        },
        "outputId": "a872faaf-b096-4bed-d542-1938df83b45a"
      },
      "source": [
        "qualified_students_df.head()"
      ],
      "execution_count": 388,
      "outputs": [
        {
          "output_type": "execute_result",
          "data": {
            "text/html": [
              "<div>\n",
              "<style scoped>\n",
              "    .dataframe tbody tr th:only-of-type {\n",
              "        vertical-align: middle;\n",
              "    }\n",
              "\n",
              "    .dataframe tbody tr th {\n",
              "        vertical-align: top;\n",
              "    }\n",
              "\n",
              "    .dataframe thead th {\n",
              "        text-align: right;\n",
              "    }\n",
              "</style>\n",
              "<table border=\"1\" class=\"dataframe\">\n",
              "  <thead>\n",
              "    <tr style=\"text-align: right;\">\n",
              "      <th></th>\n",
              "      <th>Name</th>\n",
              "      <th>Country</th>\n",
              "      <th>Total_points</th>\n",
              "      <th>SkillIQ_score</th>\n",
              "      <th>Learning_hours</th>\n",
              "    </tr>\n",
              "    <tr>\n",
              "      <th>Rank</th>\n",
              "      <th></th>\n",
              "      <th></th>\n",
              "      <th></th>\n",
              "      <th></th>\n",
              "      <th></th>\n",
              "    </tr>\n",
              "  </thead>\n",
              "  <tbody>\n",
              "    <tr>\n",
              "      <th>1</th>\n",
              "      <td>Lukman Ahmed</td>\n",
              "      <td>Nigeria</td>\n",
              "      <td>35</td>\n",
              "      <td>231</td>\n",
              "      <td>258</td>\n",
              "    </tr>\n",
              "    <tr>\n",
              "      <th>2</th>\n",
              "      <td>Okwuchukwu Nwachukwu</td>\n",
              "      <td>Nigeria</td>\n",
              "      <td>34</td>\n",
              "      <td>289</td>\n",
              "      <td>229</td>\n",
              "    </tr>\n",
              "    <tr>\n",
              "      <th>3</th>\n",
              "      <td>Adebisi Yusuf</td>\n",
              "      <td>Nigeria</td>\n",
              "      <td>30</td>\n",
              "      <td>288</td>\n",
              "      <td>186</td>\n",
              "    </tr>\n",
              "    <tr>\n",
              "      <th>4</th>\n",
              "      <td>Pharis Muigai</td>\n",
              "      <td>Kenya</td>\n",
              "      <td>28</td>\n",
              "      <td>151</td>\n",
              "      <td>223</td>\n",
              "    </tr>\n",
              "    <tr>\n",
              "      <th>5</th>\n",
              "      <td>Evans Nandwa</td>\n",
              "      <td>Kenya</td>\n",
              "      <td>27</td>\n",
              "      <td>146</td>\n",
              "      <td>217</td>\n",
              "    </tr>\n",
              "  </tbody>\n",
              "</table>\n",
              "</div>"
            ],
            "text/plain": [
              "                      Name  Country  ...  SkillIQ_score  Learning_hours\n",
              "Rank                                 ...                               \n",
              "1             Lukman Ahmed  Nigeria  ...            231             258\n",
              "2     Okwuchukwu Nwachukwu  Nigeria  ...            289             229\n",
              "3            Adebisi Yusuf  Nigeria  ...            288             186\n",
              "4            Pharis Muigai    Kenya  ...            151             223\n",
              "5             Evans Nandwa    Kenya  ...            146             217\n",
              "\n",
              "[5 rows x 5 columns]"
            ]
          },
          "metadata": {
            "tags": []
          },
          "execution_count": 388
        }
      ]
    },
    {
      "cell_type": "code",
      "metadata": {
        "id": "7Z6RLqCyWRyM",
        "colab_type": "code",
        "colab": {
          "base_uri": "https://localhost:8080/",
          "height": 111
        },
        "outputId": "70d22517-b14b-47b5-96bd-175f7aa9ed4c"
      },
      "source": [
        "Lawrence_data = qualified_students_df[qualified_students_df.Name == 'Lawrence Krukrubo']\n",
        "Lawrence_data"
      ],
      "execution_count": 389,
      "outputs": [
        {
          "output_type": "execute_result",
          "data": {
            "text/html": [
              "<div>\n",
              "<style scoped>\n",
              "    .dataframe tbody tr th:only-of-type {\n",
              "        vertical-align: middle;\n",
              "    }\n",
              "\n",
              "    .dataframe tbody tr th {\n",
              "        vertical-align: top;\n",
              "    }\n",
              "\n",
              "    .dataframe thead th {\n",
              "        text-align: right;\n",
              "    }\n",
              "</style>\n",
              "<table border=\"1\" class=\"dataframe\">\n",
              "  <thead>\n",
              "    <tr style=\"text-align: right;\">\n",
              "      <th></th>\n",
              "      <th>Name</th>\n",
              "      <th>Country</th>\n",
              "      <th>Total_points</th>\n",
              "      <th>SkillIQ_score</th>\n",
              "      <th>Learning_hours</th>\n",
              "    </tr>\n",
              "    <tr>\n",
              "      <th>Rank</th>\n",
              "      <th></th>\n",
              "      <th></th>\n",
              "      <th></th>\n",
              "      <th></th>\n",
              "      <th></th>\n",
              "    </tr>\n",
              "  </thead>\n",
              "  <tbody>\n",
              "    <tr>\n",
              "      <th>2556</th>\n",
              "      <td>Lawrence Krukrubo</td>\n",
              "      <td>Nigeria</td>\n",
              "      <td>9</td>\n",
              "      <td>199</td>\n",
              "      <td>16</td>\n",
              "    </tr>\n",
              "  </tbody>\n",
              "</table>\n",
              "</div>"
            ],
            "text/plain": [
              "                   Name  Country  Total_points  SkillIQ_score  Learning_hours\n",
              "Rank                                                                         \n",
              "2556  Lawrence Krukrubo  Nigeria             9            199              16"
            ]
          },
          "metadata": {
            "tags": []
          },
          "execution_count": 389
        }
      ]
    },
    {
      "cell_type": "markdown",
      "metadata": {
        "id": "ySE2KM6LUebJ",
        "colab_type": "text"
      },
      "source": [
        "Out of these 13,571 total qualified students, let's see those who met only minimum IQ scores"
      ]
    },
    {
      "cell_type": "code",
      "metadata": {
        "id": "Y2olnOTvHygT",
        "colab_type": "code",
        "colab": {
          "base_uri": "https://localhost:8080/",
          "height": 252
        },
        "outputId": "83542506-9487-443b-906c-db329989d356"
      },
      "source": [
        "skill_only = qualified_students_df.query('SkillIQ_score >= 100 and Learning_hours < 10')\n",
        "print(len(skill_only))\n",
        "# let's see the head\n",
        "skill_only.head()"
      ],
      "execution_count": 390,
      "outputs": [
        {
          "output_type": "stream",
          "text": [
            "3603\n"
          ],
          "name": "stdout"
        },
        {
          "output_type": "execute_result",
          "data": {
            "text/html": [
              "<div>\n",
              "<style scoped>\n",
              "    .dataframe tbody tr th:only-of-type {\n",
              "        vertical-align: middle;\n",
              "    }\n",
              "\n",
              "    .dataframe tbody tr th {\n",
              "        vertical-align: top;\n",
              "    }\n",
              "\n",
              "    .dataframe thead th {\n",
              "        text-align: right;\n",
              "    }\n",
              "</style>\n",
              "<table border=\"1\" class=\"dataframe\">\n",
              "  <thead>\n",
              "    <tr style=\"text-align: right;\">\n",
              "      <th></th>\n",
              "      <th>Name</th>\n",
              "      <th>Country</th>\n",
              "      <th>Total_points</th>\n",
              "      <th>SkillIQ_score</th>\n",
              "      <th>Learning_hours</th>\n",
              "    </tr>\n",
              "    <tr>\n",
              "      <th>Rank</th>\n",
              "      <th></th>\n",
              "      <th></th>\n",
              "      <th></th>\n",
              "      <th></th>\n",
              "      <th></th>\n",
              "    </tr>\n",
              "  </thead>\n",
              "  <tbody>\n",
              "    <tr>\n",
              "      <th>661</th>\n",
              "      <td>Lameck Otieno</td>\n",
              "      <td>Kenya</td>\n",
              "      <td>12</td>\n",
              "      <td>298</td>\n",
              "      <td>6</td>\n",
              "    </tr>\n",
              "    <tr>\n",
              "      <th>675</th>\n",
              "      <td>Oluwasegun Wahaab</td>\n",
              "      <td>Nigeria</td>\n",
              "      <td>12</td>\n",
              "      <td>292</td>\n",
              "      <td>8</td>\n",
              "    </tr>\n",
              "    <tr>\n",
              "      <th>727</th>\n",
              "      <td>Maduabughichi Achilefu</td>\n",
              "      <td>Nigeria</td>\n",
              "      <td>12</td>\n",
              "      <td>284</td>\n",
              "      <td>9</td>\n",
              "    </tr>\n",
              "    <tr>\n",
              "      <th>798</th>\n",
              "      <td>Latevi Severin Lawson-Avunsu</td>\n",
              "      <td>Togo</td>\n",
              "      <td>12</td>\n",
              "      <td>298</td>\n",
              "      <td>2</td>\n",
              "    </tr>\n",
              "    <tr>\n",
              "      <th>826</th>\n",
              "      <td>Adewale Ijalana</td>\n",
              "      <td>Nigeria</td>\n",
              "      <td>12</td>\n",
              "      <td>290</td>\n",
              "      <td>5</td>\n",
              "    </tr>\n",
              "  </tbody>\n",
              "</table>\n",
              "</div>"
            ],
            "text/plain": [
              "                              Name  Country  ...  SkillIQ_score  Learning_hours\n",
              "Rank                                         ...                               \n",
              "661                  Lameck Otieno    Kenya  ...            298               6\n",
              "675              Oluwasegun Wahaab  Nigeria  ...            292               8\n",
              "727         Maduabughichi Achilefu  Nigeria  ...            284               9\n",
              "798   Latevi Severin Lawson-Avunsu     Togo  ...            298               2\n",
              "826                Adewale Ijalana  Nigeria  ...            290               5\n",
              "\n",
              "[5 rows x 5 columns]"
            ]
          },
          "metadata": {
            "tags": []
          },
          "execution_count": 390
        }
      ]
    },
    {
      "cell_type": "markdown",
      "metadata": {
        "id": "nOqwsVPLCWpR",
        "colab_type": "text"
      },
      "source": [
        "So out of total qualified students, we see that 3603 met the cut-off mark for SkillIQ_scores only, <br>without meeting the cut-off mark of 10 learning hours."
      ]
    },
    {
      "cell_type": "markdown",
      "metadata": {
        "id": "OqMSY2jec-zR",
        "colab_type": "text"
      },
      "source": [
        "Now Let's see those who met only cut-off for learning hours, without meetin Skill_IQ score"
      ]
    },
    {
      "cell_type": "code",
      "metadata": {
        "id": "Vnd_3DT0Crl-",
        "colab_type": "code",
        "colab": {
          "base_uri": "https://localhost:8080/",
          "height": 252
        },
        "outputId": "209b42ce-5e85-40bf-ac34-ef94c5d0ae07"
      },
      "source": [
        "learning_only = qualified_students_df.query('SkillIQ_score < 100 and Learning_hours >= 10')\n",
        "print(len(learning_only))\n",
        "learning_only.head()"
      ],
      "execution_count": 391,
      "outputs": [
        {
          "output_type": "stream",
          "text": [
            "4051\n"
          ],
          "name": "stdout"
        },
        {
          "output_type": "execute_result",
          "data": {
            "text/html": [
              "<div>\n",
              "<style scoped>\n",
              "    .dataframe tbody tr th:only-of-type {\n",
              "        vertical-align: middle;\n",
              "    }\n",
              "\n",
              "    .dataframe tbody tr th {\n",
              "        vertical-align: top;\n",
              "    }\n",
              "\n",
              "    .dataframe thead th {\n",
              "        text-align: right;\n",
              "    }\n",
              "</style>\n",
              "<table border=\"1\" class=\"dataframe\">\n",
              "  <thead>\n",
              "    <tr style=\"text-align: right;\">\n",
              "      <th></th>\n",
              "      <th>Name</th>\n",
              "      <th>Country</th>\n",
              "      <th>Total_points</th>\n",
              "      <th>SkillIQ_score</th>\n",
              "      <th>Learning_hours</th>\n",
              "    </tr>\n",
              "    <tr>\n",
              "      <th>Rank</th>\n",
              "      <th></th>\n",
              "      <th></th>\n",
              "      <th></th>\n",
              "      <th></th>\n",
              "      <th></th>\n",
              "    </tr>\n",
              "  </thead>\n",
              "  <tbody>\n",
              "    <tr>\n",
              "      <th>68</th>\n",
              "      <td>Olusegun Mayungbe</td>\n",
              "      <td>Nigeria</td>\n",
              "      <td>18</td>\n",
              "      <td>58</td>\n",
              "      <td>158</td>\n",
              "    </tr>\n",
              "    <tr>\n",
              "      <th>118</th>\n",
              "      <td>Bola Bally</td>\n",
              "      <td>Ghana</td>\n",
              "      <td>16</td>\n",
              "      <td>91</td>\n",
              "      <td>129</td>\n",
              "    </tr>\n",
              "    <tr>\n",
              "      <th>123</th>\n",
              "      <td>Mark Edosa</td>\n",
              "      <td>Nigeria</td>\n",
              "      <td>16</td>\n",
              "      <td>0</td>\n",
              "      <td>166</td>\n",
              "    </tr>\n",
              "    <tr>\n",
              "      <th>144</th>\n",
              "      <td>Patience Udoh</td>\n",
              "      <td>Nigeria</td>\n",
              "      <td>16</td>\n",
              "      <td>0</td>\n",
              "      <td>162</td>\n",
              "    </tr>\n",
              "    <tr>\n",
              "      <th>192</th>\n",
              "      <td>Tochukwu Nwosu</td>\n",
              "      <td>Nigeria</td>\n",
              "      <td>15</td>\n",
              "      <td>0</td>\n",
              "      <td>155</td>\n",
              "    </tr>\n",
              "  </tbody>\n",
              "</table>\n",
              "</div>"
            ],
            "text/plain": [
              "                   Name  Country  Total_points  SkillIQ_score  Learning_hours\n",
              "Rank                                                                         \n",
              "68    Olusegun Mayungbe  Nigeria            18             58             158\n",
              "118          Bola Bally    Ghana            16             91             129\n",
              "123          Mark Edosa  Nigeria            16              0             166\n",
              "144       Patience Udoh  Nigeria            16              0             162\n",
              "192      Tochukwu Nwosu  Nigeria            15              0             155"
            ]
          },
          "metadata": {
            "tags": []
          },
          "execution_count": 391
        }
      ]
    },
    {
      "cell_type": "markdown",
      "metadata": {
        "id": "aPquF3OMDOUw",
        "colab_type": "text"
      },
      "source": [
        "So out of total qualified students, we see that 4051 met the cut-off mark for Learning_hours only, <br>Without meeting the cut-off mark for SkillIQ."
      ]
    },
    {
      "cell_type": "markdown",
      "metadata": {
        "id": "vacIw2gRfESP",
        "colab_type": "text"
      },
      "source": [
        "Finally, let's see the data for Qualified stuedents that met both minimum skillIQ and learning hours"
      ]
    },
    {
      "cell_type": "code",
      "metadata": {
        "id": "6PS0hixaDtyV",
        "colab_type": "code",
        "colab": {
          "base_uri": "https://localhost:8080/",
          "height": 252
        },
        "outputId": "5e967712-8c37-4f09-d1a5-a0be4ce18d67"
      },
      "source": [
        "min_skill_and_hours = qualified_students_df.query('SkillIQ_score >=100 and Learning_hours >=10')\n",
        "print(len(min_skill_and_hours))\n",
        "min_skill_and_hours.head()"
      ],
      "execution_count": 392,
      "outputs": [
        {
          "output_type": "stream",
          "text": [
            "5917\n"
          ],
          "name": "stdout"
        },
        {
          "output_type": "execute_result",
          "data": {
            "text/html": [
              "<div>\n",
              "<style scoped>\n",
              "    .dataframe tbody tr th:only-of-type {\n",
              "        vertical-align: middle;\n",
              "    }\n",
              "\n",
              "    .dataframe tbody tr th {\n",
              "        vertical-align: top;\n",
              "    }\n",
              "\n",
              "    .dataframe thead th {\n",
              "        text-align: right;\n",
              "    }\n",
              "</style>\n",
              "<table border=\"1\" class=\"dataframe\">\n",
              "  <thead>\n",
              "    <tr style=\"text-align: right;\">\n",
              "      <th></th>\n",
              "      <th>Name</th>\n",
              "      <th>Country</th>\n",
              "      <th>Total_points</th>\n",
              "      <th>SkillIQ_score</th>\n",
              "      <th>Learning_hours</th>\n",
              "    </tr>\n",
              "    <tr>\n",
              "      <th>Rank</th>\n",
              "      <th></th>\n",
              "      <th></th>\n",
              "      <th></th>\n",
              "      <th></th>\n",
              "      <th></th>\n",
              "    </tr>\n",
              "  </thead>\n",
              "  <tbody>\n",
              "    <tr>\n",
              "      <th>1</th>\n",
              "      <td>Lukman Ahmed</td>\n",
              "      <td>Nigeria</td>\n",
              "      <td>35</td>\n",
              "      <td>231</td>\n",
              "      <td>258</td>\n",
              "    </tr>\n",
              "    <tr>\n",
              "      <th>2</th>\n",
              "      <td>Okwuchukwu Nwachukwu</td>\n",
              "      <td>Nigeria</td>\n",
              "      <td>34</td>\n",
              "      <td>289</td>\n",
              "      <td>229</td>\n",
              "    </tr>\n",
              "    <tr>\n",
              "      <th>3</th>\n",
              "      <td>Adebisi Yusuf</td>\n",
              "      <td>Nigeria</td>\n",
              "      <td>30</td>\n",
              "      <td>288</td>\n",
              "      <td>186</td>\n",
              "    </tr>\n",
              "    <tr>\n",
              "      <th>4</th>\n",
              "      <td>Pharis Muigai</td>\n",
              "      <td>Kenya</td>\n",
              "      <td>28</td>\n",
              "      <td>151</td>\n",
              "      <td>223</td>\n",
              "    </tr>\n",
              "    <tr>\n",
              "      <th>5</th>\n",
              "      <td>Evans Nandwa</td>\n",
              "      <td>Kenya</td>\n",
              "      <td>27</td>\n",
              "      <td>146</td>\n",
              "      <td>217</td>\n",
              "    </tr>\n",
              "  </tbody>\n",
              "</table>\n",
              "</div>"
            ],
            "text/plain": [
              "                      Name  Country  ...  SkillIQ_score  Learning_hours\n",
              "Rank                                 ...                               \n",
              "1             Lukman Ahmed  Nigeria  ...            231             258\n",
              "2     Okwuchukwu Nwachukwu  Nigeria  ...            289             229\n",
              "3            Adebisi Yusuf  Nigeria  ...            288             186\n",
              "4            Pharis Muigai    Kenya  ...            151             223\n",
              "5             Evans Nandwa    Kenya  ...            146             217\n",
              "\n",
              "[5 rows x 5 columns]"
            ]
          },
          "metadata": {
            "tags": []
          },
          "execution_count": 392
        }
      ]
    },
    {
      "cell_type": "markdown",
      "metadata": {
        "id": "lUWgF-DFGM7O",
        "colab_type": "text"
      },
      "source": [
        "Let's confirm the split"
      ]
    },
    {
      "cell_type": "code",
      "metadata": {
        "id": "g0zqv2oUGKXn",
        "colab_type": "code",
        "colab": {
          "base_uri": "https://localhost:8080/",
          "height": 34
        },
        "outputId": "88e5b73b-6345-45e6-ca76-9a2447575979"
      },
      "source": [
        "len(skill_only) + len(learning_only) + len(min_skill_and_hours)== len(qualified_students_df)"
      ],
      "execution_count": 393,
      "outputs": [
        {
          "output_type": "execute_result",
          "data": {
            "text/plain": [
              "True"
            ]
          },
          "metadata": {
            "tags": []
          },
          "execution_count": 393
        }
      ]
    },
    {
      "cell_type": "markdown",
      "metadata": {
        "id": "4Y0pGM4hjaIf",
        "colab_type": "text"
      },
      "source": [
        "let's visualize this split, first let's create a method to split the status column accordind to the 3 groups we created just now"
      ]
    },
    {
      "cell_type": "code",
      "metadata": {
        "id": "hc4J8tipjwG2",
        "colab_type": "code",
        "colab": {}
      },
      "source": [
        "def split(row):\n",
        "    if row[3] >= 100 and row[4] >= 10:\n",
        "        return 'IQ-and-Hours'\n",
        "    elif row[3] >= 100 and row[4] < 10:\n",
        "        return 'IQ-Only'\n",
        "    else:\n",
        "        return \"Hours-Only\""
      ],
      "execution_count": 394,
      "outputs": []
    },
    {
      "cell_type": "code",
      "metadata": {
        "id": "R3gGmvxzn_I_",
        "colab_type": "code",
        "colab": {}
      },
      "source": [
        "qualified_students_df['Status'] = qualified_students_df.apply(split, axis=1)"
      ],
      "execution_count": 395,
      "outputs": []
    },
    {
      "cell_type": "code",
      "metadata": {
        "id": "Dw5sPA7koSdw",
        "colab_type": "code",
        "colab": {
          "base_uri": "https://localhost:8080/",
          "height": 235
        },
        "outputId": "2af84c28-b5ad-4959-ba35-055d27c6d2a0"
      },
      "source": [
        "qualified_students_df.head(5)"
      ],
      "execution_count": 396,
      "outputs": [
        {
          "output_type": "execute_result",
          "data": {
            "text/html": [
              "<div>\n",
              "<style scoped>\n",
              "    .dataframe tbody tr th:only-of-type {\n",
              "        vertical-align: middle;\n",
              "    }\n",
              "\n",
              "    .dataframe tbody tr th {\n",
              "        vertical-align: top;\n",
              "    }\n",
              "\n",
              "    .dataframe thead th {\n",
              "        text-align: right;\n",
              "    }\n",
              "</style>\n",
              "<table border=\"1\" class=\"dataframe\">\n",
              "  <thead>\n",
              "    <tr style=\"text-align: right;\">\n",
              "      <th></th>\n",
              "      <th>Name</th>\n",
              "      <th>Country</th>\n",
              "      <th>Total_points</th>\n",
              "      <th>SkillIQ_score</th>\n",
              "      <th>Learning_hours</th>\n",
              "      <th>Status</th>\n",
              "    </tr>\n",
              "    <tr>\n",
              "      <th>Rank</th>\n",
              "      <th></th>\n",
              "      <th></th>\n",
              "      <th></th>\n",
              "      <th></th>\n",
              "      <th></th>\n",
              "      <th></th>\n",
              "    </tr>\n",
              "  </thead>\n",
              "  <tbody>\n",
              "    <tr>\n",
              "      <th>1</th>\n",
              "      <td>Lukman Ahmed</td>\n",
              "      <td>Nigeria</td>\n",
              "      <td>35</td>\n",
              "      <td>231</td>\n",
              "      <td>258</td>\n",
              "      <td>IQ-and-Hours</td>\n",
              "    </tr>\n",
              "    <tr>\n",
              "      <th>2</th>\n",
              "      <td>Okwuchukwu Nwachukwu</td>\n",
              "      <td>Nigeria</td>\n",
              "      <td>34</td>\n",
              "      <td>289</td>\n",
              "      <td>229</td>\n",
              "      <td>IQ-and-Hours</td>\n",
              "    </tr>\n",
              "    <tr>\n",
              "      <th>3</th>\n",
              "      <td>Adebisi Yusuf</td>\n",
              "      <td>Nigeria</td>\n",
              "      <td>30</td>\n",
              "      <td>288</td>\n",
              "      <td>186</td>\n",
              "      <td>IQ-and-Hours</td>\n",
              "    </tr>\n",
              "    <tr>\n",
              "      <th>4</th>\n",
              "      <td>Pharis Muigai</td>\n",
              "      <td>Kenya</td>\n",
              "      <td>28</td>\n",
              "      <td>151</td>\n",
              "      <td>223</td>\n",
              "      <td>IQ-and-Hours</td>\n",
              "    </tr>\n",
              "    <tr>\n",
              "      <th>5</th>\n",
              "      <td>Evans Nandwa</td>\n",
              "      <td>Kenya</td>\n",
              "      <td>27</td>\n",
              "      <td>146</td>\n",
              "      <td>217</td>\n",
              "      <td>IQ-and-Hours</td>\n",
              "    </tr>\n",
              "  </tbody>\n",
              "</table>\n",
              "</div>"
            ],
            "text/plain": [
              "                      Name  Country  ...  Learning_hours        Status\n",
              "Rank                                 ...                              \n",
              "1             Lukman Ahmed  Nigeria  ...             258  IQ-and-Hours\n",
              "2     Okwuchukwu Nwachukwu  Nigeria  ...             229  IQ-and-Hours\n",
              "3            Adebisi Yusuf  Nigeria  ...             186  IQ-and-Hours\n",
              "4            Pharis Muigai    Kenya  ...             223  IQ-and-Hours\n",
              "5             Evans Nandwa    Kenya  ...             217  IQ-and-Hours\n",
              "\n",
              "[5 rows x 6 columns]"
            ]
          },
          "metadata": {
            "tags": []
          },
          "execution_count": 396
        }
      ]
    },
    {
      "cell_type": "markdown",
      "metadata": {
        "id": "cQ8KrPWwpVB7",
        "colab_type": "text"
      },
      "source": [
        "Let's visualize this split"
      ]
    },
    {
      "cell_type": "code",
      "metadata": {
        "id": "xwfaVLMCpZBU",
        "colab_type": "code",
        "colab": {
          "base_uri": "https://localhost:8080/",
          "height": 484
        },
        "outputId": "5664328b-4ab7-40c4-88ee-a4cc496a5445"
      },
      "source": [
        "pie_df = qualified_students_df['Status'].value_counts().to_frame()\n",
        "\n",
        "sns.set_style('ticks')\n",
        "pie_df['Status'].plot(kind='pie',\n",
        "            autopct='%1.1f%%',\n",
        "            figsize=(12,8),\n",
        "            startangle=90,\n",
        "            shadow=True,\n",
        "            labels=None,\n",
        "            pctdistance=1.12,\n",
        "            colors=['blue','magenta','yellowgreen'],\n",
        "            explode=[0.0,0.03,0.03]\n",
        "            )\n",
        "plt.title('Pie-chart showing split of Qualified Students',y=1, fontsize=16, fontweight='bold')\n",
        "plt.axis('equal')  # This creates a perfect equal circle\n",
        "plt.legend(pie_df.index, loc='upper left')\n",
        "plt.show()"
      ],
      "execution_count": 397,
      "outputs": [
        {
          "output_type": "display_data",
          "data": {
            "image/png": "[encoded data removed]",
            "text/plain": [
              "<Figure size 864x576 with 1 Axes>"
            ]
          },
          "metadata": {
            "tags": []
          }
        }
      ]
    },
    {
      "cell_type": "markdown",
      "metadata": {
        "id": "uB0JZ-lt50-Q",
        "colab_type": "text"
      },
      "source": [
        "So from the Piechart, we can see that:-<br>\n",
        "Out of the Qualified 13,571 learners,\n",
        "\n",
        "1. 43.6% or 5,917 learners qualified on both SkillIQ and Learning_hours.\n",
        "2. 29% or 4,051 learners, qualified on only Learning-Hours.\n",
        "3. 26.5% or 3,603 learners, qualified on only SkillIQ scores."
      ]
    },
    {
      "cell_type": "markdown",
      "metadata": {
        "id": "dfrt29wrEwVD",
        "colab_type": "text"
      },
      "source": [
        "Let's compare the average Learning hours of students who qualified for both SkillIQ and Learning hours, to those who only qualified by learning hours. Then we do the same comparison using the data fro SkillIQ"
      ]
    },
    {
      "cell_type": "code",
      "metadata": {
        "id": "JhZ8QV13FHxs",
        "colab_type": "code",
        "colab": {
          "base_uri": "https://localhost:8080/",
          "height": 80
        },
        "outputId": "1838b935-157f-4590-e40f-637ed18f2130"
      },
      "source": [
        "average_hours = pd.DataFrame()\n",
        "average_hours['minIQ+minHours'] = [np.mean(min_skill_and_hours.Learning_hours)]\n",
        "average_hours['minHours_only'] = [np.mean(learning_only.Learning_hours)]\n",
        "\n",
        "# Let's see the average hours\n",
        "average_hours"
      ],
      "execution_count": 398,
      "outputs": [
        {
          "output_type": "execute_result",
          "data": {
            "text/html": [
              "<div>\n",
              "<style scoped>\n",
              "    .dataframe tbody tr th:only-of-type {\n",
              "        vertical-align: middle;\n",
              "    }\n",
              "\n",
              "    .dataframe tbody tr th {\n",
              "        vertical-align: top;\n",
              "    }\n",
              "\n",
              "    .dataframe thead th {\n",
              "        text-align: right;\n",
              "    }\n",
              "</style>\n",
              "<table border=\"1\" class=\"dataframe\">\n",
              "  <thead>\n",
              "    <tr style=\"text-align: right;\">\n",
              "      <th></th>\n",
              "      <th>minIQ+minHours</th>\n",
              "      <th>minHours_only</th>\n",
              "    </tr>\n",
              "  </thead>\n",
              "  <tbody>\n",
              "    <tr>\n",
              "      <th>0</th>\n",
              "      <td>27.80142</td>\n",
              "      <td>20.711676</td>\n",
              "    </tr>\n",
              "  </tbody>\n",
              "</table>\n",
              "</div>"
            ],
            "text/plain": [
              "   minIQ+minHours  minHours_only\n",
              "0        27.80142      20.711676"
            ]
          },
          "metadata": {
            "tags": []
          },
          "execution_count": 398
        }
      ]
    },
    {
      "cell_type": "code",
      "metadata": {
        "id": "Z5v5HPpEeKPj",
        "colab_type": "code",
        "colab": {
          "base_uri": "https://localhost:8080/",
          "height": 80
        },
        "outputId": "57a1ad95-a03a-45c2-e93f-4f5ea0d1f843"
      },
      "source": [
        "average_skill = pd.DataFrame()\n",
        "average_skill['minIQ+minHours'] = [np.mean(min_skill_and_hours.SkillIQ_score)]\n",
        "average_skill['minIQ_only'] = [np.mean(skill_only.SkillIQ_score)]\n",
        "\n",
        "# let'see the average Skill IQ\n",
        "average_skill"
      ],
      "execution_count": 399,
      "outputs": [
        {
          "output_type": "execute_result",
          "data": {
            "text/html": [
              "<div>\n",
              "<style scoped>\n",
              "    .dataframe tbody tr th:only-of-type {\n",
              "        vertical-align: middle;\n",
              "    }\n",
              "\n",
              "    .dataframe tbody tr th {\n",
              "        vertical-align: top;\n",
              "    }\n",
              "\n",
              "    .dataframe thead th {\n",
              "        text-align: right;\n",
              "    }\n",
              "</style>\n",
              "<table border=\"1\" class=\"dataframe\">\n",
              "  <thead>\n",
              "    <tr style=\"text-align: right;\">\n",
              "      <th></th>\n",
              "      <th>minIQ+minHours</th>\n",
              "      <th>minIQ_only</th>\n",
              "    </tr>\n",
              "  </thead>\n",
              "  <tbody>\n",
              "    <tr>\n",
              "      <th>0</th>\n",
              "      <td>161.430455</td>\n",
              "      <td>156.214821</td>\n",
              "    </tr>\n",
              "  </tbody>\n",
              "</table>\n",
              "</div>"
            ],
            "text/plain": [
              "   minIQ+minHours  minIQ_only\n",
              "0      161.430455  156.214821"
            ]
          },
          "metadata": {
            "tags": []
          },
          "execution_count": 399
        }
      ]
    },
    {
      "cell_type": "code",
      "metadata": {
        "id": "E_CDAbhrG-xe",
        "colab_type": "code",
        "colab": {
          "base_uri": "https://localhost:8080/",
          "height": 405
        },
        "outputId": "525ff2f2-2889-43ce-f195-6b8422a6ca69"
      },
      "source": [
        "fig = plt.figure(figsize=(16,6))\n",
        "ax0 = fig.add_subplot(121)\n",
        "ax1 = fig.add_subplot(122)\n",
        "\n",
        "average_hours.plot(kind='bar',align='center',legend='reverse',ax=ax0)\n",
        "ax0.text(-0.15,25,'28',color='w', fontweight='bold', fontsize=15)\n",
        "ax0.text(0.11,18,'21',color='w', fontweight='bold', fontsize=15)\n",
        "ax0.set_title('Average Learning-Hours Comparison', fontsize=16, fontweight='bold')\n",
        "ax0.set_xlabel('Average-Learning-Hours',fontsize=13, fontweight='heavy')\n",
        "\n",
        "average_skill.plot(kind='bar',align='center',legend='reverse', color=['red', 'yellowgreen'], ax=ax1)\n",
        "ax1.text(-0.15,152,'161',color='w', fontweight='bold', fontsize=15)\n",
        "ax1.text(0.1,148,'156',color='w', fontweight='bold', fontsize=15)\n",
        "ax1.set_title('Average Skill-IQ Comparison', fontsize=16, fontweight='bold')\n",
        "ax1.set_xlabel('Average-SkillIQ-Scores',fontsize=13, fontweight='heavy')\n",
        "\n",
        "plt.show()"
      ],
      "execution_count": 400,
      "outputs": [
        {
          "output_type": "display_data",
          "data": {
            "image/png": "[encoded data removed]",
            "text/plain": [
              "<Figure size 1152x432 with 2 Axes>"
            ]
          },
          "metadata": {
            "tags": []
          }
        }
      ]
    },
    {
      "cell_type": "markdown",
      "metadata": {
        "id": "D59GZbnVjHtv",
        "colab_type": "text"
      },
      "source": [
        "<b><h4>Average Comparison Inference:</h4></b>\n",
        "We can clearly see that:-<br>\n",
        "Learners who meet both the minimum skill-IQ score and minimum Learning-Hours seem to be the most serious set of learners. This is because:-\n",
        "\n",
        "1. On average, they score 33% higher learning hours than those who only qualify on learning hours, and...\n",
        "2. On average they score 3% higher IQ scores than those who only qualify on IQ scores."
      ]
    },
    {
      "cell_type": "markdown",
      "metadata": {
        "id": "YWwn0398mT0H",
        "colab_type": "text"
      },
      "source": [
        "<b><h4>Correlation Moment:</h4></b>\n",
        "\n",
        "Correlation measures the strength of the relationship between 2 or more distributions. It has a range of -1 to 1. positive correlation tends to show from around 0.4 and -0.4 for negative correlation. While, values around 0 show a weak or insignificant correlation "
      ]
    },
    {
      "cell_type": "code",
      "metadata": {
        "id": "RdBJK66qnUPj",
        "colab_type": "code",
        "colab": {
          "base_uri": "https://localhost:8080/",
          "height": 392
        },
        "outputId": "3fc5b7f2-bcdf-4f76-db76-ef461586b9b9"
      },
      "source": [
        "corr_data = qualified_metrics.corr()\n",
        "\n",
        "plt.figure(figsize=(10,6))\n",
        "sns.heatmap(corr_data, annot=True, cmap='YlOrBr')\n",
        "plt.title('Corr: Skill-IQ, learning-Hours and Total-Points',fontsize=14, fontweight='heavy')\n",
        "plt.show()"
      ],
      "execution_count": 401,
      "outputs": [
        {
          "output_type": "display_data",
          "data": {
            "image/png": "[encoded data removed]",
            "text/plain": [
              "<Figure size 720x432 with 2 Axes>"
            ]
          },
          "metadata": {
            "tags": []
          }
        }
      ]
    },
    {
      "cell_type": "markdown",
      "metadata": {
        "id": "EEC_SCOstNJt",
        "colab_type": "text"
      },
      "source": [
        "<h4>Corr matrix Inference:</h4>\n",
        "The correlation matrix shows some very interesting insights\n",
        "\n",
        "1. Total-Points and SkillIQ-score are strongly correlated (0.84). This means as one increases, the other is very likely to increase too.\n",
        "2. Total-Points and learning hours are positively correlated (0.55). This means as one incrreasesm the other generally tends to increase too.\n",
        "3. Amazingly, Learning-Hours and Skill-IQ scores have virtually no correlation at all (0.012).<br>In statistics we say correlation does not imply causation.Yet it is a wonder that scoring high IQ appears to have nothing to do with watching long-hours of content and also watching long hours of content appears to have nothing to do with scoring a high IQ score."
      ]
    },
    {
      "cell_type": "markdown",
      "metadata": {
        "id": "vJxMdHdxzIbf",
        "colab_type": "text"
      },
      "source": [
        "Let's visualize this relationship using Bubble and Scatter plots\n"
      ]
    },
    {
      "cell_type": "code",
      "metadata": {
        "id": "-UFezWW-vx6E",
        "colab_type": "code",
        "colab": {}
      },
      "source": [
        "skill_range = np.max(qualified_students_df.SkillIQ_score) - np.min(qualified_students_df.SkillIQ_score)\n",
        "hour_range = np.max(qualified_students_df.Learning_hours) - np.min(qualified_students_df.Learning_hours)\n",
        "\n",
        "skill_norm = (qualified_students_df.SkillIQ_score - np.min(qualified_students_df.SkillIQ_score)) / skill_range\n",
        "hour_norm = (qualified_students_df.SkillIQ_score - np.min(qualified_students_df.SkillIQ_score)) / hour_range"
      ],
      "execution_count": 403,
      "outputs": []
    },
    {
      "cell_type": "code",
      "metadata": {
        "id": "_iVtb60b4Kqz",
        "colab_type": "code",
        "colab": {
          "base_uri": "https://localhost:8080/",
          "height": 235
        },
        "outputId": "08a87c3e-4d13-4a1e-9fe4-e0f044ffa48e"
      },
      "source": [
        "qualified_metrics.head()"
      ],
      "execution_count": 405,
      "outputs": [
        {
          "output_type": "execute_result",
          "data": {
            "text/html": [
              "<div>\n",
              "<style scoped>\n",
              "    .dataframe tbody tr th:only-of-type {\n",
              "        vertical-align: middle;\n",
              "    }\n",
              "\n",
              "    .dataframe tbody tr th {\n",
              "        vertical-align: top;\n",
              "    }\n",
              "\n",
              "    .dataframe thead th {\n",
              "        text-align: right;\n",
              "    }\n",
              "</style>\n",
              "<table border=\"1\" class=\"dataframe\">\n",
              "  <thead>\n",
              "    <tr style=\"text-align: right;\">\n",
              "      <th></th>\n",
              "      <th>SkillIQ_score</th>\n",
              "      <th>Learning_hours</th>\n",
              "      <th>Total_points</th>\n",
              "    </tr>\n",
              "    <tr>\n",
              "      <th>Rank</th>\n",
              "      <th></th>\n",
              "      <th></th>\n",
              "      <th></th>\n",
              "    </tr>\n",
              "  </thead>\n",
              "  <tbody>\n",
              "    <tr>\n",
              "      <th>1</th>\n",
              "      <td>231</td>\n",
              "      <td>258</td>\n",
              "      <td>35</td>\n",
              "    </tr>\n",
              "    <tr>\n",
              "      <th>2</th>\n",
              "      <td>289</td>\n",
              "      <td>229</td>\n",
              "      <td>34</td>\n",
              "    </tr>\n",
              "    <tr>\n",
              "      <th>3</th>\n",
              "      <td>288</td>\n",
              "      <td>186</td>\n",
              "      <td>30</td>\n",
              "    </tr>\n",
              "    <tr>\n",
              "      <th>4</th>\n",
              "      <td>151</td>\n",
              "      <td>223</td>\n",
              "      <td>28</td>\n",
              "    </tr>\n",
              "    <tr>\n",
              "      <th>5</th>\n",
              "      <td>146</td>\n",
              "      <td>217</td>\n",
              "      <td>27</td>\n",
              "    </tr>\n",
              "  </tbody>\n",
              "</table>\n",
              "</div>"
            ],
            "text/plain": [
              "      SkillIQ_score  Learning_hours  Total_points\n",
              "Rank                                             \n",
              "1               231             258            35\n",
              "2               289             229            34\n",
              "3               288             186            30\n",
              "4               151             223            28\n",
              "5               146             217            27"
            ]
          },
          "metadata": {
            "tags": []
          },
          "execution_count": 405
        }
      ]
    },
    {
      "cell_type": "code",
      "metadata": {
        "id": "a5bO81l-53wY",
        "colab_type": "code",
        "colab": {
          "base_uri": "https://localhost:8080/",
          "height": 406
        },
        "outputId": "1c3c81b3-c105-4d1e-b47e-fcb2ade12bb1"
      },
      "source": [
        "fig = plt.figure(figsize=(21,6))\n",
        "sns.set_style('ticks')\n",
        "\n",
        "ax0 = fig.add_subplot(131)\n",
        "ax1 = fig.add_subplot(132)\n",
        "ax2 = fig.add_subplot(133)\n",
        "\n",
        "qualified_metrics.plot(kind='scatter',\n",
        "        x='Total_points',\n",
        "        y='Learning_hours',\n",
        "        color='red',\n",
        "        ax=ax0)\n",
        "ax0.set_title('Corr: Total-Points vs Learning-Hours',fontsize=14,fontweight='heavy')\n",
        "\n",
        "\n",
        "qualified_metrics.plot(kind='scatter',\n",
        "        x='Total_points',\n",
        "        y='SkillIQ_score',\n",
        "        color='mediumaquamarine',\n",
        "        ax=ax1)\n",
        "ax1.set_title('Corr: Total-Points vs Skill-IQ',fontsize=14,fontweight='heavy')\n",
        "\n",
        "\n",
        "qualified_metrics.plot(kind='scatter',\n",
        "        x='Learning_hours',\n",
        "        y='SkillIQ_score',\n",
        "        color='sandybrown',\n",
        "        ax=ax2)\n",
        "ax2.set_title('Corr: Learning-Hours vs Skill-IQ',fontsize=14,fontweight='heavy')\n",
        "\n",
        "\n",
        "plt.show()"
      ],
      "execution_count": 430,
      "outputs": [
        {
          "output_type": "display_data",
          "data": {
            "image/png": "[encoded data removed]",
            "text/plain": [
              "<Figure size 1512x432 with 3 Axes>"
            ]
          },
          "metadata": {
            "tags": []
          }
        }
      ]
    },
    {
      "cell_type": "markdown",
      "metadata": {
        "id": "Ldhr4iYdDE_e",
        "colab_type": "text"
      },
      "source": [
        "<h4>PDF Plots:</h4>\n",
        "\n",
        "We can also see the probability-Density-Function Plots for each metric below"
      ]
    },
    {
      "cell_type": "code",
      "metadata": {
        "id": "4022K1PyChe6",
        "colab_type": "code",
        "colab": {
          "base_uri": "https://localhost:8080/",
          "height": 281
        },
        "outputId": "39616efe-9011-4e39-ec4c-ed236c88410e"
      },
      "source": [
        "fig = plt.figure(figsize=(18,4))\n",
        "fig.add_subplot(1,3,1)\n",
        "qualified_students_df['Total_points'].plot.kde(color='red')\n",
        "plt.title('PDF Plot for Total points')\n",
        "\n",
        "fig.add_subplot(1,3,2)\n",
        "qualified_students_df['SkillIQ_score'].plot.kde()\n",
        "plt.title('PDF Plot for Skill-IQ Scores')\n",
        "\n",
        "fig.add_subplot(1,3,3)\n",
        "qualified_students_df['Learning_hours'].plot.kde(color='green')\n",
        "plt.title('PDF Plot for Learning Hours')\n",
        "\n",
        "\n",
        "plt.show()"
      ],
      "execution_count": 432,
      "outputs": [
        {
          "output_type": "display_data",
          "data": {
            "image/png": "[encoded data removed]",
            "text/plain": [
              "<Figure size 1296x288 with 3 Axes>"
            ]
          },
          "metadata": {
            "tags": []
          }
        }
      ]
    },
    {
      "cell_type": "markdown",
      "metadata": {
        "id": "WMizlVFdBVCx",
        "colab_type": "text"
      },
      "source": [
        "<h3><b>Country Analysis</b></h3>"
      ]
    },
    {
      "cell_type": "markdown",
      "metadata": {
        "id": "RVUVZv2zByop",
        "colab_type": "text"
      },
      "source": [
        "First, let's see the list of countries represented as at end of Phase One"
      ]
    },
    {
      "cell_type": "code",
      "metadata": {
        "id": "dTAwPNB_9Q0U",
        "colab_type": "code",
        "colab": {
          "base_uri": "https://localhost:8080/",
          "height": 255
        },
        "outputId": "7467bc3a-df80-4873-b68c-213fb29a5581"
      },
      "source": [
        "country_list = qualified_students_df.Country.unique()\n",
        "print(len(country_list))\n",
        "country_list"
      ],
      "execution_count": 441,
      "outputs": [
        {
          "output_type": "stream",
          "text": [
            "52\n"
          ],
          "name": "stdout"
        },
        {
          "output_type": "execute_result",
          "data": {
            "text/plain": [
              "array(['Nigeria', 'Kenya', 'South Sudan', 'Tunisia', 'Ethiopia',\n",
              "       'Morocco', 'Egypt', 'Algeria', 'Ghana', 'Zimbabwe', 'Swaziland',\n",
              "       'Togo', 'South Africa', 'Uganda', 'Mauritius',\n",
              "       'Tanzania, United Republic Of', 'Chad', 'Rwanda', 'Cameroon',\n",
              "       'Benin', 'Mauritania', 'Zambia', 'Malawi', 'Congo, (Kinshasa)',\n",
              "       'Sierra Leone', 'Mozambique', 'Madagascar', 'Namibia', 'Mali',\n",
              "       'Botswana', 'Gabon', 'Democratic Republic Of Congo',\n",
              "       'Congo (Brazzaville)', 'Burkina Faso', 'Burundi', 'Guinea',\n",
              "       'Senegal', 'Somalia', \"Côte D'Ivoire\", 'Republic Of Congo',\n",
              "       'Angola', 'Gambia', 'Lesotho', 'Liberia', 'Libya', 'Niger',\n",
              "       'Sudan', 'Cape Verde', 'Libyan Arab Jamahiriya',\n",
              "       'Central African Republic', 'Eritrea', 'Equatorial Guinea'],\n",
              "      dtype=object)"
            ]
          },
          "metadata": {
            "tags": []
          },
          "execution_count": 441
        }
      ]
    },
    {
      "cell_type": "markdown",
      "metadata": {
        "id": "bS6iC2JIpF9D",
        "colab_type": "text"
      },
      "source": [
        "Let's see the Top 10 countries with highest number of Qualified Students"
      ]
    },
    {
      "cell_type": "code",
      "metadata": {
        "id": "7Eh17BjhpL4Y",
        "colab_type": "code",
        "colab": {
          "base_uri": "https://localhost:8080/",
          "height": 235
        },
        "outputId": "f88f8e99-ac34-4a61-cded-804731774208"
      },
      "source": [
        "country_df = qualified_students_df.groupby('Country').size().to_frame()\n",
        "country_df.columns = ['Count']\n",
        "country_df['Pct-Total'] = (country_df.Count / len(qualified_students_df))* 100\n",
        "country_df.head()"
      ],
      "execution_count": 442,
      "outputs": [
        {
          "output_type": "execute_result",
          "data": {
            "text/html": [
              "<div>\n",
              "<style scoped>\n",
              "    .dataframe tbody tr th:only-of-type {\n",
              "        vertical-align: middle;\n",
              "    }\n",
              "\n",
              "    .dataframe tbody tr th {\n",
              "        vertical-align: top;\n",
              "    }\n",
              "\n",
              "    .dataframe thead th {\n",
              "        text-align: right;\n",
              "    }\n",
              "</style>\n",
              "<table border=\"1\" class=\"dataframe\">\n",
              "  <thead>\n",
              "    <tr style=\"text-align: right;\">\n",
              "      <th></th>\n",
              "      <th>Count</th>\n",
              "      <th>Pct-Total</th>\n",
              "    </tr>\n",
              "    <tr>\n",
              "      <th>Country</th>\n",
              "      <th></th>\n",
              "      <th></th>\n",
              "    </tr>\n",
              "  </thead>\n",
              "  <tbody>\n",
              "    <tr>\n",
              "      <th>Algeria</th>\n",
              "      <td>127</td>\n",
              "      <td>0.935819</td>\n",
              "    </tr>\n",
              "    <tr>\n",
              "      <th>Angola</th>\n",
              "      <td>19</td>\n",
              "      <td>0.140004</td>\n",
              "    </tr>\n",
              "    <tr>\n",
              "      <th>Benin</th>\n",
              "      <td>68</td>\n",
              "      <td>0.501068</td>\n",
              "    </tr>\n",
              "    <tr>\n",
              "      <th>Botswana</th>\n",
              "      <td>55</td>\n",
              "      <td>0.405276</td>\n",
              "    </tr>\n",
              "    <tr>\n",
              "      <th>Burkina Faso</th>\n",
              "      <td>18</td>\n",
              "      <td>0.132636</td>\n",
              "    </tr>\n",
              "  </tbody>\n",
              "</table>\n",
              "</div>"
            ],
            "text/plain": [
              "              Count  Pct-Total\n",
              "Country                       \n",
              "Algeria         127   0.935819\n",
              "Angola           19   0.140004\n",
              "Benin            68   0.501068\n",
              "Botswana         55   0.405276\n",
              "Burkina Faso     18   0.132636"
            ]
          },
          "metadata": {
            "tags": []
          },
          "execution_count": 442
        }
      ]
    },
    {
      "cell_type": "markdown",
      "metadata": {
        "id": "xuzYuQbbGYLX",
        "colab_type": "text"
      },
      "source": [
        "Now let's sort the countries in descending order"
      ]
    },
    {
      "cell_type": "code",
      "metadata": {
        "id": "Um1veDxcFm0W",
        "colab_type": "code",
        "colab": {
          "base_uri": "https://localhost:8080/",
          "height": 390
        },
        "outputId": "66e6c56b-6727-4da7-c736-5648fd6102c4"
      },
      "source": [
        "country_df.sort_values(by='Pct-Total', ascending=False, inplace=True)\n",
        "country_df.head(10)"
      ],
      "execution_count": 443,
      "outputs": [
        {
          "output_type": "execute_result",
          "data": {
            "text/html": [
              "<div>\n",
              "<style scoped>\n",
              "    .dataframe tbody tr th:only-of-type {\n",
              "        vertical-align: middle;\n",
              "    }\n",
              "\n",
              "    .dataframe tbody tr th {\n",
              "        vertical-align: top;\n",
              "    }\n",
              "\n",
              "    .dataframe thead th {\n",
              "        text-align: right;\n",
              "    }\n",
              "</style>\n",
              "<table border=\"1\" class=\"dataframe\">\n",
              "  <thead>\n",
              "    <tr style=\"text-align: right;\">\n",
              "      <th></th>\n",
              "      <th>Count</th>\n",
              "      <th>Pct-Total</th>\n",
              "    </tr>\n",
              "    <tr>\n",
              "      <th>Country</th>\n",
              "      <th></th>\n",
              "      <th></th>\n",
              "    </tr>\n",
              "  </thead>\n",
              "  <tbody>\n",
              "    <tr>\n",
              "      <th>Nigeria</th>\n",
              "      <td>6123</td>\n",
              "      <td>45.118267</td>\n",
              "    </tr>\n",
              "    <tr>\n",
              "      <th>Kenya</th>\n",
              "      <td>2310</td>\n",
              "      <td>17.021590</td>\n",
              "    </tr>\n",
              "    <tr>\n",
              "      <th>South Africa</th>\n",
              "      <td>1148</td>\n",
              "      <td>8.459215</td>\n",
              "    </tr>\n",
              "    <tr>\n",
              "      <th>Ghana</th>\n",
              "      <td>696</td>\n",
              "      <td>5.128583</td>\n",
              "    </tr>\n",
              "    <tr>\n",
              "      <th>Uganda</th>\n",
              "      <td>442</td>\n",
              "      <td>3.256945</td>\n",
              "    </tr>\n",
              "    <tr>\n",
              "      <th>Egypt</th>\n",
              "      <td>421</td>\n",
              "      <td>3.102203</td>\n",
              "    </tr>\n",
              "    <tr>\n",
              "      <th>Zimbabwe</th>\n",
              "      <td>330</td>\n",
              "      <td>2.431656</td>\n",
              "    </tr>\n",
              "    <tr>\n",
              "      <th>Cameroon</th>\n",
              "      <td>298</td>\n",
              "      <td>2.195859</td>\n",
              "    </tr>\n",
              "    <tr>\n",
              "      <th>Ethiopia</th>\n",
              "      <td>224</td>\n",
              "      <td>1.650578</td>\n",
              "    </tr>\n",
              "    <tr>\n",
              "      <th>Tanzania, United Republic Of</th>\n",
              "      <td>166</td>\n",
              "      <td>1.223197</td>\n",
              "    </tr>\n",
              "  </tbody>\n",
              "</table>\n",
              "</div>"
            ],
            "text/plain": [
              "                              Count  Pct-Total\n",
              "Country                                       \n",
              "Nigeria                        6123  45.118267\n",
              "Kenya                          2310  17.021590\n",
              "South Africa                   1148   8.459215\n",
              "Ghana                           696   5.128583\n",
              "Uganda                          442   3.256945\n",
              "Egypt                           421   3.102203\n",
              "Zimbabwe                        330   2.431656\n",
              "Cameroon                        298   2.195859\n",
              "Ethiopia                        224   1.650578\n",
              "Tanzania, United Republic Of    166   1.223197"
            ]
          },
          "metadata": {
            "tags": []
          },
          "execution_count": 443
        }
      ]
    },
    {
      "cell_type": "code",
      "metadata": {
        "id": "5J5qtetuFmmr",
        "colab_type": "code",
        "colab": {}
      },
      "source": [
        ""
      ],
      "execution_count": null,
      "outputs": []
    },
    {
      "cell_type": "markdown",
      "metadata": {
        "id": "EINaqxW8pfCO",
        "colab_type": "text"
      },
      "source": [
        "Let's see howmany countries\n"
      ]
    },
    {
      "cell_type": "code",
      "metadata": {
        "id": "Enzuzcx8pilL",
        "colab_type": "code",
        "colab": {}
      },
      "source": [
        "len(country_list)"
      ],
      "execution_count": null,
      "outputs": []
    },
    {
      "cell_type": "markdown",
      "metadata": {
        "id": "vSlUJZR1ppvo",
        "colab_type": "text"
      },
      "source": [
        "Let's see the number of students per country"
      ]
    },
    {
      "cell_type": "code",
      "metadata": {
        "id": "Gx8C43qpp945",
        "colab_type": "code",
        "colab": {}
      },
      "source": [
        "count_df = gads_df.groupby('Country').size().to_frame()\n",
        "\n",
        "# Let's visualise the data frame\n",
        "count_df.head()"
      ],
      "execution_count": null,
      "outputs": []
    },
    {
      "cell_type": "markdown",
      "metadata": {
        "id": "T2E6eVzGu3_c",
        "colab_type": "text"
      },
      "source": [
        "Let's add the "
      ]
    },
    {
      "cell_type": "code",
      "metadata": {
        "id": "AATtyRSsq12Q",
        "colab_type": "code",
        "colab": {}
      },
      "source": [
        "count_df.index.name = None\n",
        "count_df.columns = ['Count']\n",
        "count_df.head()"
      ],
      "execution_count": null,
      "outputs": []
    },
    {
      "cell_type": "code",
      "metadata": {
        "id": "g87u31uatpGm",
        "colab_type": "code",
        "colab": {}
      },
      "source": [
        "count_df.sort_values(by='Count', ascending=True, inplace=True)"
      ],
      "execution_count": null,
      "outputs": []
    },
    {
      "cell_type": "code",
      "metadata": {
        "id": "0YmS-ZXcrhHD",
        "colab_type": "code",
        "colab": {}
      },
      "source": [
        "sns.set_style('ticks')\n",
        "count_df.plot(kind='barh', figsize=(12,12))\n",
        "plt.plot()"
      ],
      "execution_count": null,
      "outputs": []
    },
    {
      "cell_type": "code",
      "metadata": {
        "id": "z8RDhEDRd62G",
        "colab_type": "code",
        "colab": {}
      },
      "source": [
        ""
      ],
      "execution_count": null,
      "outputs": []
    }
  ]
}