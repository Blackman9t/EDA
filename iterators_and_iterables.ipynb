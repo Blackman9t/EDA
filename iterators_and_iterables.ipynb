{
  "nbformat": 4,
  "nbformat_minor": 0,
  "metadata": {
    "colab": {
      "name": "iterators_and_iterables.ipynb",
      "provenance": [],
      "collapsed_sections": [],
      "include_colab_link": true
    },
    "kernelspec": {
      "name": "python3",
      "display_name": "Python 3"
    },
    "accelerator": "GPU"
  },
  "cells": [
    {
      "cell_type": "markdown",
      "metadata": {
        "id": "view-in-github",
        "colab_type": "text"
      },
      "source": [
        "<a href=\"https://colab.research.google.com/github/Blackman9t/EDA/blob/master/iterators_and_iterables.ipynb\" target=\"_parent\"><img src=\"https://colab.research.google.com/assets/colab-badge.svg\" alt=\"Open In Colab\"/></a>"
      ]
    },
    {
      "cell_type": "markdown",
      "metadata": {
        "id": "ZreG0jIbufDk",
        "colab_type": "text"
      },
      "source": [
        "## Iterables and Iterators"
      ]
    },
    {
      "cell_type": "markdown",
      "metadata": {
        "id": "2K1ymjrokwhH",
        "colab_type": "text"
      },
      "source": [
        "Some examples of iterables are lists, strings and range() objects, dictionaries, files, e.t.c.\n",
        "The actual definition of an iterable is an object that has an associated iter() method.\n",
        "Once this iter() object is applied to an iterable, an iterator object is created.\n",
        "Under the hood, this is what a for loop is doing, it takes an iterable, applies an iter() method and creates an\n",
        "iterator and iterates through it."
      ]
    },
    {
      "cell_type": "markdown",
      "metadata": {
        "id": "eB6Ce4NalElv",
        "colab_type": "text"
      },
      "source": [
        "An iterator is defined as an object that has an associated next() method that produces the consecutive values.\n",
        "To create an iterator from an iterable, all we need to do is use the function iter() and pass it the iterable.\n",
        "Then once we have the iterator defined, we pass it to the next() method and this returns the first value.\n",
        "calling next() again returns the next value and so on... Until there are no more values to return and then it throws\n",
        "us a StopIterationError"
      ]
    },
    {
      "cell_type": "markdown",
      "metadata": {
        "id": "3GIOoAt6lOgg",
        "colab_type": "text"
      },
      "source": [
        "We can also print all values of the iterator at once using the * operator. Referred to as the splat operator\n",
        "in some circles. this *operator unpacks all elements of an iterator or an iterable. Be warned though that once we use\n",
        "The * operator on an iterable or iterator in a program, we cannot use it again as there are no more values to return.\n",
        "E.G print(*IT)\n",
        "An iterator object does not have the get_item() method so cannot be indexed using square brackets."
      ]
    },
    {
      "cell_type": "markdown",
      "metadata": {
        "id": "O-3BzabElSq3",
        "colab_type": "text"
      },
      "source": [
        "**USING ITERATORS ON A PYTHON FILE**"
      ]
    },
    {
      "cell_type": "code",
      "metadata": {
        "id": "QQZVUofJkaeX",
        "colab_type": "code",
        "outputId": "4744b169-5218-4907-e0b4-dba3caeb0660",
        "colab": {
          "resources": {
            "http://localhost:8080/nbextensions/google.colab/files.js": {
              "data": "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",
              "ok": true,
              "headers": [
                [
                  "content-type",
                  "application/javascript"
                ]
              ],
              "status": 200,
              "status_text": ""
            }
          },
          "base_uri": "https://localhost:8080/",
          "height": 74
        }
      },
      "source": [
        "# Let's load the .txt file from our local computer desktop\n",
        "from google.colab import files\n",
        "uploaded = files.upload()"
      ],
      "execution_count": 1,
      "outputs": [
        {
          "output_type": "display_data",
          "data": {
            "text/html": [
              "\n",
              "     <input type=\"file\" id=\"files-304ac706-9bbe-47e7-9c54-09c370176e6e\" name=\"files[]\" multiple disabled />\n",
              "     <output id=\"result-304ac706-9bbe-47e7-9c54-09c370176e6e\">\n",
              "      Upload widget is only available when the cell has been executed in the\n",
              "      current browser session. Please rerun this cell to enable.\n",
              "      </output>\n",
              "      <script src=\"/nbextensions/google.colab/files.js\"></script> "
            ],
            "text/plain": [
              "<IPython.core.display.HTML object>"
            ]
          },
          "metadata": {
            "tags": []
          }
        },
        {
          "output_type": "stream",
          "text": [
            "Saving movie_quotes.txt to movie_quotes.txt\n"
          ],
          "name": "stdout"
        }
      ]
    },
    {
      "cell_type": "code",
      "metadata": {
        "id": "FSbVQIccniij",
        "colab_type": "code",
        "outputId": "81742eae-6bba-42c1-8eb0-21bff8fa427e",
        "colab": {
          "base_uri": "https://localhost:8080/",
          "height": 34
        }
      },
      "source": [
        "type(uploaded)"
      ],
      "execution_count": 2,
      "outputs": [
        {
          "output_type": "execute_result",
          "data": {
            "text/plain": [
              "dict"
            ]
          },
          "metadata": {
            "tags": []
          },
          "execution_count": 2
        }
      ]
    },
    {
      "cell_type": "code",
      "metadata": {
        "id": "5wEtAQcTnl1P",
        "colab_type": "code",
        "outputId": "faed405f-8fc3-4029-c64d-f17af09443fb",
        "colab": {
          "base_uri": "https://localhost:8080/",
          "height": 34
        }
      },
      "source": [
        "uploaded.keys()"
      ],
      "execution_count": 3,
      "outputs": [
        {
          "output_type": "execute_result",
          "data": {
            "text/plain": [
              "dict_keys(['movie_quotes.txt'])"
            ]
          },
          "metadata": {
            "tags": []
          },
          "execution_count": 3
        }
      ]
    },
    {
      "cell_type": "code",
      "metadata": {
        "id": "YvPHAInopoE-",
        "colab_type": "code",
        "colab": {}
      },
      "source": [
        "# Let's decode the srt byte object to utf 8\n",
        "file_name = \"movie_quotes.txt\"\n",
        "data = uploaded[file_name].decode(\"utf-8\").split(\"\\r\\n\")"
      ],
      "execution_count": 0,
      "outputs": []
    },
    {
      "cell_type": "code",
      "metadata": {
        "id": "J4eQ0qqtqTAx",
        "colab_type": "code",
        "outputId": "90606105-208b-4ce7-a4ff-82291e379178",
        "colab": {
          "base_uri": "https://localhost:8080/",
          "height": 34
        }
      },
      "source": [
        "data[1]"
      ],
      "execution_count": 5,
      "outputs": [
        {
          "output_type": "execute_result",
          "data": {
            "text/plain": [
              "''"
            ]
          },
          "metadata": {
            "tags": []
          },
          "execution_count": 5
        }
      ]
    },
    {
      "cell_type": "code",
      "metadata": {
        "id": "aUjQ-N8eqMJR",
        "colab_type": "code",
        "outputId": "3b0ac7f5-a168-430c-9037-54503ae0e38c",
        "colab": {
          "base_uri": "https://localhost:8080/",
          "height": 353
        }
      },
      "source": [
        "# Now let's clean the data file and remove the empty spaces appended when we decoded it\n",
        "movie_quotes = []\n",
        "for i in data:\n",
        "    if i == '':\n",
        "        continue\n",
        "    else:\n",
        "        movie_quotes.append(i)\n",
        "movie_quotes"
      ],
      "execution_count": 6,
      "outputs": [
        {
          "output_type": "execute_result",
          "data": {
            "text/plain": [
              "[\"1.Frankly, my dear, I don't give a damn--Gone With the Wind, 1939\",\n",
              " \"2.I'm going to make him an offer he can't refuse.--The Godfather, 1972\",\n",
              " \"3.You don't understand! I coulda had class. I coulda been a contender. I could've been somebody, instead of a bum, which is what I am.--On the Waterfront, 1954\",\n",
              " \"4.Toto, I've got a feeling we're not in Kansas anymore.--The Wizard of Oz, 1939\",\n",
              " '5.Go ahead, make my day.--Sudden Impact, 1983',\n",
              " \"6.All right, Mr. DeMille, I'm ready for my close-up.--Sunset Blvd., 1950\",\n",
              " '7.May the Force be with you.--Star Wars, 1977',\n",
              " \"8.Fasten your seatbelts. It's going to be a bumpy night.--All About Eve, 1950\",\n",
              " \"9.Love means never having to say you're sorry.--Love Story, 1970\",\n",
              " '10.Get your stinking paws off me, you damned dirty ape.--Planet of the Apes, 1968',\n",
              " '11.Fuck a zombie!?--Charlaine Harris, Dead in the Family',\n",
              " '12. Suck my dick!',\n",
              " \"13.I'm not gonna die. Because today, I'm going to kill the motherfucker!\",\n",
              " '14.Does he look like a bitch?',\n",
              " \"15.You stupid fucking cunt. You, Williamson, I'm talking to you, shithead. You just cost me $6,000. Six thousand dollars, and one Cadillac.\",\n",
              " '16.Does he have a semblance of a harlot?',\n",
              " \"17.KING KONG AIN'T GOT SHIT ON ME!\",\n",
              " '18.NOW FUCK OFF AND DIE, YOU FUCKED UP SLAG!',\n",
              " \"19.I'm just a fucked-up girl who's lookin for my own peace of mind; don't assign me yours.\",\n",
              " '20.Sit your five-dollar ass down before I make change']"
            ]
          },
          "metadata": {
            "tags": []
          },
          "execution_count": 6
        }
      ]
    },
    {
      "cell_type": "code",
      "metadata": {
        "id": "xYo2Lem0mSDV",
        "colab_type": "code",
        "colab": {}
      },
      "source": [
        "iterator = iter(movie_quotes)  # creating an iterator object by simply passing the file iterable to the iter() method."
      ],
      "execution_count": 0,
      "outputs": []
    },
    {
      "cell_type": "markdown",
      "metadata": {
        "id": "OY7I2BAntuNZ",
        "colab_type": "text"
      },
      "source": [
        "Now let's use the next() method on the iterator obj to print out the first five lines"
      ]
    },
    {
      "cell_type": "code",
      "metadata": {
        "id": "v8WB_eNEt2lB",
        "colab_type": "code",
        "outputId": "48dafb29-fd5f-4030-d8cb-b035055239d2",
        "colab": {
          "base_uri": "https://localhost:8080/",
          "height": 101
        }
      },
      "source": [
        "for i in range(5):\n",
        "    print(next(iterator))  # passing the iterator obj to the next() method prints each file line one by one\n"
      ],
      "execution_count": 8,
      "outputs": [
        {
          "output_type": "stream",
          "text": [
            "1.Frankly, my dear, I don't give a damn--Gone With the Wind, 1939\n",
            "2.I'm going to make him an offer he can't refuse.--The Godfather, 1972\n",
            "3.You don't understand! I coulda had class. I coulda been a contender. I could've been somebody, instead of a bum, which is what I am.--On the Waterfront, 1954\n",
            "4.Toto, I've got a feeling we're not in Kansas anymore.--The Wizard of Oz, 1939\n",
            "5.Go ahead, make my day.--Sudden Impact, 1983\n"
          ],
          "name": "stdout"
        }
      ]
    },
    {
      "cell_type": "markdown",
      "metadata": {
        "id": "T6Cz6M84vBUi",
        "colab_type": "text"
      },
      "source": [
        "**USING ENUMERATE WITH ITERATORS**"
      ]
    },
    {
      "cell_type": "markdown",
      "metadata": {
        "id": "nUW-eM-ivcUj",
        "colab_type": "text"
      },
      "source": [
        "Enumerate will allow us to add a counter to any iterable<br>\n",
        "\n",
        "Enumerate is a function that takes any iterable as argument, such as a list and returns a special enumerate object,\n",
        "which consists of pairs of the index of elements af an iterable as well as the elements too.\n",
        "Thus, it produces the index-value pairs of the items in the iterable.\n",
        "we can use the function list() to turn this enumerate object into a list of tuples.\n",
        "\n",
        "The enumerate object itself is also an iterable, and we can loop over it, while unpacking its elements using\n",
        "The clause :- For index, value in enumerate(item_name)...\n",
        "It's the default behavior of enumerate to begin indexing at 0, although we can alter this by passing a second argument\n",
        "To the enumerate function for example:- start = 10... to start enumerating its index from 10 and not default 0.\n",
        "\n",
        "\n"
      ]
    },
    {
      "cell_type": "code",
      "metadata": {
        "id": "RvCitwj7wnuP",
        "colab_type": "code",
        "colab": {}
      },
      "source": [
        "# Create a list of strings: mutants\n",
        "mutants = ['charles xavier', \n",
        "            'bobby drake', \n",
        "            'kurt wagner', \n",
        "            'max eisenhardt', \n",
        "            'kitty pryde']"
      ],
      "execution_count": 0,
      "outputs": []
    },
    {
      "cell_type": "code",
      "metadata": {
        "id": "ThxrOP0Swv_6",
        "colab_type": "code",
        "colab": {}
      },
      "source": [
        "# Now, Create a list of tuples: mutant_list, do this by passing\n",
        "# the enumerate object to a list as seen below\n",
        "mutant_list = list(enumerate(mutants, start=1))"
      ],
      "execution_count": 0,
      "outputs": []
    },
    {
      "cell_type": "code",
      "metadata": {
        "id": "lj3Dx0_CxCdj",
        "colab_type": "code",
        "outputId": "5a266182-7f14-4e39-b660-433d1cc125ea",
        "colab": {
          "base_uri": "https://localhost:8080/",
          "height": 34
        }
      },
      "source": [
        "# Print the list of tuples\n",
        "print(mutant_list)"
      ],
      "execution_count": 11,
      "outputs": [
        {
          "output_type": "stream",
          "text": [
            "[(1, 'charles xavier'), (2, 'bobby drake'), (3, 'kurt wagner'), (4, 'max eisenhardt'), (5, 'kitty pryde')]\n"
          ],
          "name": "stdout"
        }
      ]
    },
    {
      "cell_type": "code",
      "metadata": {
        "id": "KD-nIuaOxV2P",
        "colab_type": "code",
        "outputId": "157695db-94ac-4e91-8aa8-5c157acb4d36",
        "colab": {
          "base_uri": "https://localhost:8080/",
          "height": 101
        }
      },
      "source": [
        "# Now, let's Unpack and print the tuple pairs\n",
        "for index1, value1 in enumerate(mutants, start=1):\n",
        "    print(index1, value1)"
      ],
      "execution_count": 0,
      "outputs": [
        {
          "output_type": "stream",
          "text": [
            "1 charles xavier\n",
            "2 bobby drake\n",
            "3 kurt wagner\n",
            "4 max eisenhardt\n",
            "5 kitty pryde\n"
          ],
          "name": "stdout"
        }
      ]
    },
    {
      "cell_type": "markdown",
      "metadata": {
        "id": "1u7Uvgj4wbyy",
        "colab_type": "text"
      },
      "source": [
        "**USING ZIP WITH ITERATORS**"
      ]
    },
    {
      "cell_type": "markdown",
      "metadata": {
        "id": "Uum1vot4wElC",
        "colab_type": "text"
      },
      "source": [
        "Zip will allow us to stitch together an arbitrary number of iterables.<br>\n",
        "It takes any number of iterables and returns a zip object that is an iterator of tuples.\n",
        "\n",
        "If you wanted to print the values of a zip object, you can convert it into a list and then print it. Printing just a zip object will not return the values unless you unpack it first.\n",
        "\n",
        "Zip accepts an arbitrary number of iterables and returns an iterator of tuples.\n",
        "for example zipping two lists of equal lengths together, creates a zip object, which is an iterator of tuples.\n",
        "we can use a for loop over the zip object and print the tuples.\n",
        "we could also use the * or splat operator to print all the elements.\n"
      ]
    },
    {
      "cell_type": "code",
      "metadata": {
        "id": "Aj2Az-86vJDp",
        "colab_type": "code",
        "colab": {}
      },
      "source": [
        "# Let's create three arbitrary lists or iterables of equal length\n",
        "mutants = ['him', 'her', 'them', 'they']\n",
        "aliases = ['she', 'he', 'thou', 'thee']\n",
        "powers = ['train', 'eat', 'rest', 'exercise']"
      ],
      "execution_count": 0,
      "outputs": []
    },
    {
      "cell_type": "code",
      "metadata": {
        "id": "OfQwfX3Iyg-a",
        "colab_type": "code",
        "colab": {}
      },
      "source": [
        "# Next, we Create a list of tuples: mutant_data using zip() on the 3 lists \n",
        "# and list() on the zip object\n",
        "mutant_data = list(zip(mutants, aliases, powers))"
      ],
      "execution_count": 0,
      "outputs": []
    },
    {
      "cell_type": "code",
      "metadata": {
        "id": "RiT9IK6Yy02O",
        "colab_type": "code",
        "outputId": "2925614e-3103-4645-a8a1-e3281adb5abc",
        "colab": {
          "base_uri": "https://localhost:8080/",
          "height": 34
        }
      },
      "source": [
        "# Print the list of tuples\n",
        "print(mutant_data)"
      ],
      "execution_count": 14,
      "outputs": [
        {
          "output_type": "stream",
          "text": [
            "[('him', 'she', 'train'), ('her', 'he', 'eat'), ('them', 'thou', 'rest'), ('they', 'thee', 'exercise')]\n"
          ],
          "name": "stdout"
        }
      ]
    },
    {
      "cell_type": "code",
      "metadata": {
        "id": "p0cmw6kry67q",
        "colab_type": "code",
        "colab": {}
      },
      "source": [
        "# Create a zip object using the three lists: mutant_zip\n",
        "mutant_zip = zip(mutants, aliases, powers)"
      ],
      "execution_count": 0,
      "outputs": []
    },
    {
      "cell_type": "code",
      "metadata": {
        "id": "FtH4XDyFzAIT",
        "colab_type": "code",
        "outputId": "6b7f4d3b-a32a-4a54-d02e-f0451767beee",
        "colab": {
          "base_uri": "https://localhost:8080/",
          "height": 34
        }
      },
      "source": [
        "# Let's see the zip object\n",
        "print(mutant_zip)"
      ],
      "execution_count": 16,
      "outputs": [
        {
          "output_type": "stream",
          "text": [
            "<zip object at 0x7f6bede82088>\n"
          ],
          "name": "stdout"
        }
      ]
    },
    {
      "cell_type": "code",
      "metadata": {
        "id": "1k_jNMv9zHYi",
        "colab_type": "code",
        "outputId": "0d4a0c6e-6072-42a5-d0a0-34a093be9d9f",
        "colab": {
          "base_uri": "https://localhost:8080/",
          "height": 84
        }
      },
      "source": [
        "# Now, let's Unpack the zip object and print the tuple values\n",
        "for value1, value2, value3 in mutant_zip:\n",
        "    print(value1, value2, value3)"
      ],
      "execution_count": 17,
      "outputs": [
        {
          "output_type": "stream",
          "text": [
            "him she train\n",
            "her he eat\n",
            "them thou rest\n",
            "they thee exercise\n"
          ],
          "name": "stdout"
        }
      ]
    },
    {
      "cell_type": "markdown",
      "metadata": {
        "id": "W6ZpCxl_zXgu",
        "colab_type": "text"
      },
      "source": [
        "**USING * and ZIP to 'UNZIP'**"
      ]
    },
    {
      "cell_type": "markdown",
      "metadata": {
        "id": "sO6YiPscznkY",
        "colab_type": "text"
      },
      "source": [
        "There is no unzip function for doing the reverse of what zip() does. We can, however, reverse what has been zipped together by using zip() with a little help from *.<BR> * unpacks an iterable such as a list or a tuple into positional arguments in a function call."
      ]
    },
    {
      "cell_type": "code",
      "metadata": {
        "id": "h3HcQ4_ozfDQ",
        "colab_type": "code",
        "colab": {}
      },
      "source": [
        "# Create a zip object from two lists, mutants and powers: z1\n",
        "z1 = zip(mutants, powers)"
      ],
      "execution_count": 0,
      "outputs": []
    },
    {
      "cell_type": "code",
      "metadata": {
        "id": "561wvljsz-Ns",
        "colab_type": "code",
        "outputId": "04cfa651-ce2b-47ff-9399-6c099eeea0c2",
        "colab": {
          "base_uri": "https://localhost:8080/",
          "height": 34
        }
      },
      "source": [
        "# Print the tuples in z1 by unpacking with *\n",
        "print(*z1)"
      ],
      "execution_count": 22,
      "outputs": [
        {
          "output_type": "stream",
          "text": [
            "('him', 'train') ('her', 'eat') ('them', 'rest') ('they', 'exercise')\n"
          ],
          "name": "stdout"
        }
      ]
    },
    {
      "cell_type": "markdown",
      "metadata": {
        "id": "LrEr5yxu0PyM",
        "colab_type": "text"
      },
      "source": [
        "Because the previous print() call would have exhausted the elements in z1, recreate the zip object you defined earlier and assign the result again to z1."
      ]
    },
    {
      "cell_type": "code",
      "metadata": {
        "id": "isX4O57M0GSE",
        "colab_type": "code",
        "colab": {}
      },
      "source": [
        "# Re-create a zip object from mutants and powers: z1\n",
        "z1 = zip(mutants, powers)"
      ],
      "execution_count": 0,
      "outputs": []
    },
    {
      "cell_type": "code",
      "metadata": {
        "id": "JGSzHAKl0Yky",
        "colab_type": "code",
        "colab": {}
      },
      "source": [
        "# 'Unzip' the tuples in z1 by unpacking with * and zip(): result1, result2\n",
        "result1, result2 = zip(*z1)"
      ],
      "execution_count": 0,
      "outputs": []
    },
    {
      "cell_type": "code",
      "metadata": {
        "id": "opq3q2K9czF7",
        "colab_type": "code",
        "colab": {
          "base_uri": "https://localhost:8080/",
          "height": 34
        },
        "outputId": "ff2e5341-4ce6-4a8a-c4a4-59963b37ad4d"
      },
      "source": [
        "print(result1)"
      ],
      "execution_count": 26,
      "outputs": [
        {
          "output_type": "stream",
          "text": [
            "('him', 'her', 'them', 'they')\n"
          ],
          "name": "stdout"
        }
      ]
    },
    {
      "cell_type": "code",
      "metadata": {
        "id": "-_csgIKrdB7N",
        "colab_type": "code",
        "colab": {
          "base_uri": "https://localhost:8080/",
          "height": 34
        },
        "outputId": "e93946aa-a96f-4a5c-9ab5-4077cd46145c"
      },
      "source": [
        "print(result2)"
      ],
      "execution_count": 27,
      "outputs": [
        {
          "output_type": "stream",
          "text": [
            "('train', 'eat', 'rest', 'exercise')\n"
          ],
          "name": "stdout"
        }
      ]
    },
    {
      "cell_type": "code",
      "metadata": {
        "id": "58dojz6x0cmY",
        "colab_type": "code",
        "outputId": "3210a2c7-a2c4-4c9a-eaab-d25b0a416c14",
        "colab": {
          "base_uri": "https://localhost:8080/",
          "height": 34
        }
      },
      "source": [
        "# Check if unpacked tuples are equivalent to original tuples\n",
        "set(result1).difference(set(mutants))"
      ],
      "execution_count": 28,
      "outputs": [
        {
          "output_type": "execute_result",
          "data": {
            "text/plain": [
              "set()"
            ]
          },
          "metadata": {
            "tags": []
          },
          "execution_count": 28
        }
      ]
    },
    {
      "cell_type": "code",
      "metadata": {
        "id": "O2OuQ8R21Ll-",
        "colab_type": "code",
        "outputId": "ed668edd-1312-4dd2-ea36-be981f4ab64e",
        "colab": {
          "base_uri": "https://localhost:8080/",
          "height": 34
        }
      },
      "source": [
        "# Check if unpacked tuples are equivalent to original tuples\n",
        "set(result2).difference(set(powers))"
      ],
      "execution_count": 29,
      "outputs": [
        {
          "output_type": "execute_result",
          "data": {
            "text/plain": [
              "set()"
            ]
          },
          "metadata": {
            "tags": []
          },
          "execution_count": 29
        }
      ]
    },
    {
      "cell_type": "markdown",
      "metadata": {
        "id": "NnuaDxGh2T8F",
        "colab_type": "text"
      },
      "source": [
        "**USING ITERATORS TO LOAD LARGE FILES INTO MEMORY**"
      ]
    },
    {
      "cell_type": "markdown",
      "metadata": {
        "id": "apxKHlyC70C_",
        "colab_type": "text"
      },
      "source": [
        "**Processing large amounts of movie ratings data**"
      ]
    },
    {
      "cell_type": "markdown",
      "metadata": {
        "id": "FsTBGd_V8zq-",
        "colab_type": "text"
      },
      "source": [
        "Sometimes, the data we have to process reaches a size that is too much for a computer's memory to handle. This is a common problem faced by data scientists. A solution to this is to process an entire data source chunk by chunk, instead of a single go all at once."
      ]
    },
    {
      "cell_type": "markdown",
      "metadata": {
        "id": "GJ6q2I2O_N3J",
        "colab_type": "text"
      },
      "source": [
        "To acquire and extract the data, simply run the following Bash scripts:\n",
        "Dataset acquired from [GroupLens](http://grouplens.org/datasets/movielens/). Lets download the dataset. To download the data, we will use !wget to download it from IBM Object Storage."
      ]
    },
    {
      "cell_type": "code",
      "metadata": {
        "id": "mwtBDyxO2cc_",
        "colab_type": "code",
        "outputId": "d1ee246e-357e-465d-eaf5-afae0bd15d9d",
        "colab": {
          "base_uri": "https://localhost:8080/",
          "height": 319
        }
      },
      "source": [
        "!wget -O moviedataset.zip https://s3-api.us-geo.objectstorage.softlayer.net/cf-courses-data/CognitiveClass/ML0101ENv3/labs/moviedataset.zip\n",
        "print('unziping ...')\n",
        "!unzip -o -j moviedataset.zip "
      ],
      "execution_count": 30,
      "outputs": [
        {
          "output_type": "stream",
          "text": [
            "--2020-01-22 22:53:51--  https://s3-api.us-geo.objectstorage.softlayer.net/cf-courses-data/CognitiveClass/ML0101ENv3/labs/moviedataset.zip\n",
            "Resolving s3-api.us-geo.objectstorage.softlayer.net (s3-api.us-geo.objectstorage.softlayer.net)... 67.228.254.196\n",
            "Connecting to s3-api.us-geo.objectstorage.softlayer.net (s3-api.us-geo.objectstorage.softlayer.net)|67.228.254.196|:443... connected.\n",
            "HTTP request sent, awaiting response... 200 OK\n",
            "Length: 160301210 (153M) [application/zip]\n",
            "Saving to: ‘moviedataset.zip’\n",
            "\n",
            "moviedataset.zip    100%[===================>] 152.88M  34.4MB/s    in 5.1s    \n",
            "\n",
            "2020-01-22 22:53:56 (29.9 MB/s) - ‘moviedataset.zip’ saved [160301210/160301210]\n",
            "\n",
            "unziping ...\n",
            "Archive:  moviedataset.zip\n",
            "  inflating: links.csv               \n",
            "  inflating: movies.csv              \n",
            "  inflating: ratings.csv             \n",
            "  inflating: README.txt              \n",
            "  inflating: tags.csv                \n"
          ],
          "name": "stdout"
        }
      ]
    },
    {
      "cell_type": "markdown",
      "metadata": {
        "id": "-RyNbwot_n0j",
        "colab_type": "text"
      },
      "source": [
        "Now we're ready to start working with the data.<br>\n",
        "It's important to note that the object returned by a pandas read_csv function is an iterable itself."
      ]
    },
    {
      "cell_type": "code",
      "metadata": {
        "id": "PGxLuObJ_ql-",
        "colab_type": "code",
        "colab": {}
      },
      "source": [
        "# Let's import pandas to help us read the data set.\n",
        "import pandas as pd"
      ],
      "execution_count": 0,
      "outputs": []
    },
    {
      "cell_type": "markdown",
      "metadata": {
        "id": "conFcc_1Dded",
        "colab_type": "text"
      },
      "source": [
        "Let's take a sneak peek at the ratings.csv file"
      ]
    },
    {
      "cell_type": "code",
      "metadata": {
        "id": "uKbHw23RAcd6",
        "colab_type": "code",
        "outputId": "589bc239-fb72-4620-f8bf-ff6c0395b182",
        "colab": {
          "base_uri": "https://localhost:8080/",
          "height": 34
        }
      },
      "source": [
        "ratings_df = pd.read_csv('ratings.csv')\n",
        "print(ratings_df.shape)"
      ],
      "execution_count": 46,
      "outputs": [
        {
          "output_type": "stream",
          "text": [
            "(22884377, 4)\n"
          ],
          "name": "stdout"
        }
      ]
    },
    {
      "cell_type": "markdown",
      "metadata": {
        "id": "_BNZsBLgBNhC",
        "colab_type": "text"
      },
      "source": [
        "We can see that the ratings dataframe has over twenty-two million rows and is a very large data set.<br>\n",
        "To perform computations on it, we need to use an iterator "
      ]
    },
    {
      "cell_type": "code",
      "metadata": {
        "id": "RIKctuBTeYLk",
        "colab_type": "code",
        "colab": {
          "base_uri": "https://localhost:8080/",
          "height": 195
        },
        "outputId": "9d9d00a2-af0b-4784-f948-492d82b4c0e3"
      },
      "source": [
        "ratings_df.head()"
      ],
      "execution_count": 47,
      "outputs": [
        {
          "output_type": "execute_result",
          "data": {
            "text/html": [
              "<div>\n",
              "<style scoped>\n",
              "    .dataframe tbody tr th:only-of-type {\n",
              "        vertical-align: middle;\n",
              "    }\n",
              "\n",
              "    .dataframe tbody tr th {\n",
              "        vertical-align: top;\n",
              "    }\n",
              "\n",
              "    .dataframe thead th {\n",
              "        text-align: right;\n",
              "    }\n",
              "</style>\n",
              "<table border=\"1\" class=\"dataframe\">\n",
              "  <thead>\n",
              "    <tr style=\"text-align: right;\">\n",
              "      <th></th>\n",
              "      <th>userId</th>\n",
              "      <th>movieId</th>\n",
              "      <th>rating</th>\n",
              "      <th>timestamp</th>\n",
              "    </tr>\n",
              "  </thead>\n",
              "  <tbody>\n",
              "    <tr>\n",
              "      <th>0</th>\n",
              "      <td>1</td>\n",
              "      <td>169</td>\n",
              "      <td>2.5</td>\n",
              "      <td>1204927694</td>\n",
              "    </tr>\n",
              "    <tr>\n",
              "      <th>1</th>\n",
              "      <td>1</td>\n",
              "      <td>2471</td>\n",
              "      <td>3.0</td>\n",
              "      <td>1204927438</td>\n",
              "    </tr>\n",
              "    <tr>\n",
              "      <th>2</th>\n",
              "      <td>1</td>\n",
              "      <td>48516</td>\n",
              "      <td>5.0</td>\n",
              "      <td>1204927435</td>\n",
              "    </tr>\n",
              "    <tr>\n",
              "      <th>3</th>\n",
              "      <td>2</td>\n",
              "      <td>2571</td>\n",
              "      <td>3.5</td>\n",
              "      <td>1436165433</td>\n",
              "    </tr>\n",
              "    <tr>\n",
              "      <th>4</th>\n",
              "      <td>2</td>\n",
              "      <td>109487</td>\n",
              "      <td>4.0</td>\n",
              "      <td>1436165496</td>\n",
              "    </tr>\n",
              "  </tbody>\n",
              "</table>\n",
              "</div>"
            ],
            "text/plain": [
              "   userId  movieId  rating   timestamp\n",
              "0       1      169     2.5  1204927694\n",
              "1       1     2471     3.0  1204927438\n",
              "2       1    48516     5.0  1204927435\n",
              "3       2     2571     3.5  1436165433\n",
              "4       2   109487     4.0  1436165496"
            ]
          },
          "metadata": {
            "tags": []
          },
          "execution_count": 47
        }
      ]
    },
    {
      "cell_type": "code",
      "metadata": {
        "id": "7swZRUi5Ja9X",
        "colab_type": "code",
        "outputId": "27d0f900-0fba-48bf-cfed-0bc5864f231d",
        "colab": {
          "base_uri": "https://localhost:8080/",
          "height": 166
        }
      },
      "source": [
        "ratings_df.describe().T"
      ],
      "execution_count": 48,
      "outputs": [
        {
          "output_type": "execute_result",
          "data": {
            "text/html": [
              "<div>\n",
              "<style scoped>\n",
              "    .dataframe tbody tr th:only-of-type {\n",
              "        vertical-align: middle;\n",
              "    }\n",
              "\n",
              "    .dataframe tbody tr th {\n",
              "        vertical-align: top;\n",
              "    }\n",
              "\n",
              "    .dataframe thead th {\n",
              "        text-align: right;\n",
              "    }\n",
              "</style>\n",
              "<table border=\"1\" class=\"dataframe\">\n",
              "  <thead>\n",
              "    <tr style=\"text-align: right;\">\n",
              "      <th></th>\n",
              "      <th>count</th>\n",
              "      <th>mean</th>\n",
              "      <th>std</th>\n",
              "      <th>min</th>\n",
              "      <th>25%</th>\n",
              "      <th>50%</th>\n",
              "      <th>75%</th>\n",
              "      <th>max</th>\n",
              "    </tr>\n",
              "  </thead>\n",
              "  <tbody>\n",
              "    <tr>\n",
              "      <th>userId</th>\n",
              "      <td>22884377.0</td>\n",
              "      <td>1.235452e+05</td>\n",
              "      <td>7.147469e+04</td>\n",
              "      <td>1.0</td>\n",
              "      <td>61339.0</td>\n",
              "      <td>1.233220e+05</td>\n",
              "      <td>1.855250e+05</td>\n",
              "      <td>2.477530e+05</td>\n",
              "    </tr>\n",
              "    <tr>\n",
              "      <th>movieId</th>\n",
              "      <td>22884377.0</td>\n",
              "      <td>1.140816e+04</td>\n",
              "      <td>2.413688e+04</td>\n",
              "      <td>1.0</td>\n",
              "      <td>920.0</td>\n",
              "      <td>2.329000e+03</td>\n",
              "      <td>5.218000e+03</td>\n",
              "      <td>1.517110e+05</td>\n",
              "    </tr>\n",
              "    <tr>\n",
              "      <th>rating</th>\n",
              "      <td>22884377.0</td>\n",
              "      <td>3.526077e+00</td>\n",
              "      <td>1.061173e+00</td>\n",
              "      <td>0.5</td>\n",
              "      <td>3.0</td>\n",
              "      <td>3.500000e+00</td>\n",
              "      <td>4.000000e+00</td>\n",
              "      <td>5.000000e+00</td>\n",
              "    </tr>\n",
              "    <tr>\n",
              "      <th>timestamp</th>\n",
              "      <td>22884377.0</td>\n",
              "      <td>1.128959e+09</td>\n",
              "      <td>1.819892e+08</td>\n",
              "      <td>789652004.0</td>\n",
              "      <td>974763898.0</td>\n",
              "      <td>1.115685e+09</td>\n",
              "      <td>1.271194e+09</td>\n",
              "      <td>1.454054e+09</td>\n",
              "    </tr>\n",
              "  </tbody>\n",
              "</table>\n",
              "</div>"
            ],
            "text/plain": [
              "                count          mean  ...           75%           max\n",
              "userId     22884377.0  1.235452e+05  ...  1.855250e+05  2.477530e+05\n",
              "movieId    22884377.0  1.140816e+04  ...  5.218000e+03  1.517110e+05\n",
              "rating     22884377.0  3.526077e+00  ...  4.000000e+00  5.000000e+00\n",
              "timestamp  22884377.0  1.128959e+09  ...  1.271194e+09  1.454054e+09\n",
              "\n",
              "[4 rows x 8 columns]"
            ]
          },
          "metadata": {
            "tags": []
          },
          "execution_count": 48
        }
      ]
    },
    {
      "cell_type": "markdown",
      "metadata": {
        "id": "Es4vnhuEX69K",
        "colab_type": "text"
      },
      "source": [
        "Let's check the memory consumption of the ratings_df dataframe"
      ]
    },
    {
      "cell_type": "code",
      "metadata": {
        "id": "_09eDxNPXnjf",
        "colab_type": "code",
        "outputId": "dea79f14-2700-41a9-b3a8-d8c06df0d4b6",
        "colab": {
          "base_uri": "https://localhost:8080/",
          "height": 134
        }
      },
      "source": [
        "current_memory = ratings_df.memory_usage().sum()\n",
        "print('Total Current memory is-', current_memory,'Bytes.')\n",
        "\n",
        "ratings_df.memory_usage()"
      ],
      "execution_count": 49,
      "outputs": [
        {
          "output_type": "stream",
          "text": [
            "Total Current memory is- 732300192 Bytes.\n"
          ],
          "name": "stdout"
        },
        {
          "output_type": "execute_result",
          "data": {
            "text/plain": [
              "Index              128\n",
              "userId       183075016\n",
              "movieId      183075016\n",
              "rating       183075016\n",
              "timestamp    183075016\n",
              "dtype: int64"
            ]
          },
          "metadata": {
            "tags": []
          },
          "execution_count": 49
        }
      ]
    },
    {
      "cell_type": "markdown",
      "metadata": {
        "id": "Y5LYxrG2EYBw",
        "colab_type": "text"
      },
      "source": [
        "Let's see the types of ratings available"
      ]
    },
    {
      "cell_type": "code",
      "metadata": {
        "id": "R5T-JhToEdMY",
        "colab_type": "code",
        "outputId": "e4595528-7eb1-4ee4-db3e-bcca4dca6556",
        "colab": {
          "base_uri": "https://localhost:8080/",
          "height": 34
        }
      },
      "source": [
        "rate_keys = list(ratings_df['rating'].unique())\n",
        "rate_keys = sorted(rate_keys, reverse=True)  # let's sort the ratings keys from highest to lowest\n",
        "rate_keys"
      ],
      "execution_count": 50,
      "outputs": [
        {
          "output_type": "execute_result",
          "data": {
            "text/plain": [
              "[5.0, 4.5, 4.0, 3.5, 3.0, 2.5, 2.0, 1.5, 1.0, 0.5]"
            ]
          },
          "metadata": {
            "tags": []
          },
          "execution_count": 50
        }
      ]
    },
    {
      "cell_type": "markdown",
      "metadata": {
        "id": "NNRsxii3EHZv",
        "colab_type": "text"
      },
      "source": [
        "Let's use the chunksize attribute of the pandas read_csv function to read the ratings csv in chunks.<br>\n",
        "Our goal is to count the amount of movie ratings per rating scale from the entire ratings data set.<br>\n",
        "For example, out of the 22 million plus ratings, how many were 5. or 2.5 or 1."
      ]
    },
    {
      "cell_type": "code",
      "metadata": {
        "id": "xCcQSts9DGKA",
        "colab_type": "code",
        "outputId": "6d6895aa-3e00-4127-82cb-7cd18aff4914",
        "colab": {
          "base_uri": "https://localhost:8080/",
          "height": 185
        }
      },
      "source": [
        "# First let's create a dictionary whose keys are the unique rating scales using a simple for loop\n",
        "ratings_dict = {}\n",
        "for i in rate_keys:\n",
        "    ratings_dict[i] = 0\n",
        "ratings_dict"
      ],
      "execution_count": 51,
      "outputs": [
        {
          "output_type": "execute_result",
          "data": {
            "text/plain": [
              "{0.5: 0,\n",
              " 1.0: 0,\n",
              " 1.5: 0,\n",
              " 2.0: 0,\n",
              " 2.5: 0,\n",
              " 3.0: 0,\n",
              " 3.5: 0,\n",
              " 4.0: 0,\n",
              " 4.5: 0,\n",
              " 5.0: 0}"
            ]
          },
          "metadata": {
            "tags": []
          },
          "execution_count": 51
        }
      ]
    },
    {
      "cell_type": "code",
      "metadata": {
        "id": "gMMuOkICNduu",
        "colab_type": "code",
        "outputId": "541c94b2-3a4c-4cb5-cb54-b120ce219c9a",
        "colab": {
          "base_uri": "https://localhost:8080/",
          "height": 67
        }
      },
      "source": [
        "ave_bytes = 0\n",
        "count = 0\n",
        "# This Outer loop selects repeated chunks of 1,000,000 rows of data \n",
        "for index, chunk in enumerate(pd.read_csv('ratings.csv', chunksize= 1000000),start=1):\n",
        "    ave_bytes += chunk.memory_usage().sum()\n",
        "    # This inner loop iterates through the rate keys only.Then it does \n",
        "    # vectorised selections on the dataframe to select count of each rate key.\n",
        "    for i in rate_keys:\n",
        "        count = len(chunk[chunk['rating'] == i])\n",
        "        ratings_dict[i] += count\n",
        "        \n",
        "print(\"Total number of chunks:\",index)\n",
        "ave_bytes = ave_bytes / index\n",
        "print(\"Average bytes per loop:\",ave_bytes)\n",
        "print(ratings_dict)"
      ],
      "execution_count": 52,
      "outputs": [
        {
          "output_type": "stream",
          "text": [
            "Total number of chunks: 23\n",
            "Average bytes per loop: 31839265.04347826\n",
            "{5.0: 3358218, 4.5: 1813922, 4.0: 6265623, 3.5: 2592375, 3.0: 4783899, 2.5: 1044176, 2.0: 1603254, 1.5: 337605, 1.0: 769654, 0.5: 315651}\n"
          ],
          "name": "stdout"
        }
      ]
    },
    {
      "cell_type": "code",
      "metadata": {
        "id": "3DSA6gVZPymp",
        "colab_type": "code",
        "outputId": "d1b84140-f0af-486e-d56d-b36c7de4ecb8",
        "colab": {
          "base_uri": "https://localhost:8080/",
          "height": 34
        }
      },
      "source": [
        "# Let's add the total ratings to see if we get same as the 22.8 million plus\n",
        "sum(list(ratings_dict.values()))"
      ],
      "execution_count": 53,
      "outputs": [
        {
          "output_type": "execute_result",
          "data": {
            "text/plain": [
              "22884377"
            ]
          },
          "metadata": {
            "tags": []
          },
          "execution_count": 53
        }
      ]
    },
    {
      "cell_type": "code",
      "metadata": {
        "id": "UGZN0Aa3Q9Iq",
        "colab_type": "code",
        "outputId": "3d7be32d-a5fe-4f75-f7fe-7789338d1d07",
        "colab": {
          "base_uri": "https://localhost:8080/",
          "height": 34
        }
      },
      "source": [
        "# Let's also get the key with the highest rating value\n",
        "# We can simply do this using the operator module:-\n",
        "import operator\n",
        "max(ratings_dict.items(), key=operator.itemgetter(1))"
      ],
      "execution_count": 56,
      "outputs": [
        {
          "output_type": "execute_result",
          "data": {
            "text/plain": [
              "(4.0, 6265623)"
            ]
          },
          "metadata": {
            "tags": []
          },
          "execution_count": 56
        }
      ]
    },
    {
      "cell_type": "code",
      "metadata": {
        "id": "vYMmLOm-a-Ez",
        "colab_type": "code",
        "outputId": "9b9ebdba-35e7-4e34-dcba-66401c1b6824",
        "colab": {
          "base_uri": "https://localhost:8080/",
          "height": 34
        }
      },
      "source": [
        "# The minimum rating key and count is:\n",
        "min(ratings_dict.items(), key=operator.itemgetter(1))"
      ],
      "execution_count": 57,
      "outputs": [
        {
          "output_type": "execute_result",
          "data": {
            "text/plain": [
              "(0.5, 315651)"
            ]
          },
          "metadata": {
            "tags": []
          },
          "execution_count": 57
        }
      ]
    },
    {
      "cell_type": "markdown",
      "metadata": {
        "id": "T3Duus_rP0Nm",
        "colab_type": "text"
      },
      "source": [
        "Let's display our ratings_dict in a pandas Dataframe for better viewing"
      ]
    },
    {
      "cell_type": "code",
      "metadata": {
        "id": "-v7XjHO_XX6X",
        "colab_type": "code",
        "outputId": "964f7d11-136e-42f9-857c-0c91686f7b41",
        "colab": {
          "base_uri": "https://localhost:8080/",
          "height": 34
        }
      },
      "source": [
        "# First let's change each integer value in the dictionary to a list. \n",
        "# Because each column in a Dataframe should be a list or series, not numbers.\n",
        "\n",
        "empty_list = []\n",
        "for i,j in ratings_dict.items():\n",
        "    empty_list.append(j)\n",
        "    ratings_dict[i] = empty_list\n",
        "    empty_list = []\n",
        "print(ratings_dict)"
      ],
      "execution_count": 58,
      "outputs": [
        {
          "output_type": "stream",
          "text": [
            "{5.0: [3358218], 4.5: [1813922], 4.0: [6265623], 3.5: [2592375], 3.0: [4783899], 2.5: [1044176], 2.0: [1603254], 1.5: [337605], 1.0: [769654], 0.5: [315651]}\n"
          ],
          "name": "stdout"
        }
      ]
    },
    {
      "cell_type": "code",
      "metadata": {
        "id": "VNUrXWYagZyJ",
        "colab_type": "code",
        "outputId": "53d948fa-d0c9-4daf-b5e9-d962141dabf7",
        "colab": {
          "base_uri": "https://localhost:8080/",
          "height": 343
        }
      },
      "source": [
        "# Now we can create our DataFrame with a named index and column\n",
        "ratings_dict_df = pd.DataFrame(ratings_dict).T  # Let's tranpose it from row to column vector\n",
        "ratings_dict_df = ratings_dict_df.reset_index()  # Let's reset the index from the rating keys back to default\n",
        "ratings_dict_df.columns=['Rating_Keys','Count']\n",
        "ratings_dict_df"
      ],
      "execution_count": 69,
      "outputs": [
        {
          "output_type": "execute_result",
          "data": {
            "text/html": [
              "<div>\n",
              "<style scoped>\n",
              "    .dataframe tbody tr th:only-of-type {\n",
              "        vertical-align: middle;\n",
              "    }\n",
              "\n",
              "    .dataframe tbody tr th {\n",
              "        vertical-align: top;\n",
              "    }\n",
              "\n",
              "    .dataframe thead th {\n",
              "        text-align: right;\n",
              "    }\n",
              "</style>\n",
              "<table border=\"1\" class=\"dataframe\">\n",
              "  <thead>\n",
              "    <tr style=\"text-align: right;\">\n",
              "      <th></th>\n",
              "      <th>Rating_Keys</th>\n",
              "      <th>Count</th>\n",
              "    </tr>\n",
              "  </thead>\n",
              "  <tbody>\n",
              "    <tr>\n",
              "      <th>0</th>\n",
              "      <td>5.0</td>\n",
              "      <td>3358218</td>\n",
              "    </tr>\n",
              "    <tr>\n",
              "      <th>1</th>\n",
              "      <td>4.5</td>\n",
              "      <td>1813922</td>\n",
              "    </tr>\n",
              "    <tr>\n",
              "      <th>2</th>\n",
              "      <td>4.0</td>\n",
              "      <td>6265623</td>\n",
              "    </tr>\n",
              "    <tr>\n",
              "      <th>3</th>\n",
              "      <td>3.5</td>\n",
              "      <td>2592375</td>\n",
              "    </tr>\n",
              "    <tr>\n",
              "      <th>4</th>\n",
              "      <td>3.0</td>\n",
              "      <td>4783899</td>\n",
              "    </tr>\n",
              "    <tr>\n",
              "      <th>5</th>\n",
              "      <td>2.5</td>\n",
              "      <td>1044176</td>\n",
              "    </tr>\n",
              "    <tr>\n",
              "      <th>6</th>\n",
              "      <td>2.0</td>\n",
              "      <td>1603254</td>\n",
              "    </tr>\n",
              "    <tr>\n",
              "      <th>7</th>\n",
              "      <td>1.5</td>\n",
              "      <td>337605</td>\n",
              "    </tr>\n",
              "    <tr>\n",
              "      <th>8</th>\n",
              "      <td>1.0</td>\n",
              "      <td>769654</td>\n",
              "    </tr>\n",
              "    <tr>\n",
              "      <th>9</th>\n",
              "      <td>0.5</td>\n",
              "      <td>315651</td>\n",
              "    </tr>\n",
              "  </tbody>\n",
              "</table>\n",
              "</div>"
            ],
            "text/plain": [
              "   Rating_Keys    Count\n",
              "0          5.0  3358218\n",
              "1          4.5  1813922\n",
              "2          4.0  6265623\n",
              "3          3.5  2592375\n",
              "4          3.0  4783899\n",
              "5          2.5  1044176\n",
              "6          2.0  1603254\n",
              "7          1.5   337605\n",
              "8          1.0   769654\n",
              "9          0.5   315651"
            ]
          },
          "metadata": {
            "tags": []
          },
          "execution_count": 69
        }
      ]
    },
    {
      "cell_type": "markdown",
      "metadata": {
        "id": "s5i_JyZRkfwN",
        "colab_type": "text"
      },
      "source": [
        "Let's visualize the distribution of rating values using a simple bar chart "
      ]
    },
    {
      "cell_type": "code",
      "metadata": {
        "id": "kjeJc4TPkxb0",
        "colab_type": "code",
        "colab": {
          "base_uri": "https://localhost:8080/",
          "height": 416
        },
        "outputId": "8151d18d-74d6-418a-d4d7-930447012184"
      },
      "source": [
        "import matplotlib.pyplot as plt\n",
        "\n",
        "ratings_dict_df.plot(kind='bar', x = 'Rating_Keys' , y = 'Count', figsize = (8,6), colormap = 'Spectral')\n",
        "y_ticks_custom = ['6,000,000', '5,000,000','4,000,000','3,000,000','2,000,000','1,000,000']\n",
        "plt.yticks([6000000,5000000,4000000,3000000,2000000,1000000], y_ticks_custom)\n",
        "plt.title('Movie Rating Keys-Count', color='gold', fontsize=16)\n",
        "plt.ylabel('Count', color='gold', fontsize = 14)\n",
        "plt.xlabel('Rating_keys', color='gold', fontsize = 14)\n",
        "plt.xticks(color = 'w')\n",
        "plt.yticks(color = 'w')\n",
        "plt.show()"
      ],
      "execution_count": 111,
      "outputs": [
        {
          "output_type": "display_data",
          "data": {
            "image/png": "[encoded data removed]",
            "text/plain": [
              "<Figure size 576x432 with 1 Axes>"
            ]
          },
          "metadata": {
            "tags": []
          }
        }
      ]
    },
    {
      "cell_type": "markdown",
      "metadata": {
        "id": "1eF-piX0jgo_",
        "colab_type": "text"
      },
      "source": [
        "### Let's calculate the Average of The movie ratings.\n",
        "Note that since each count has numerous entries, we need to calculate the **Weighted-Average** of the distribution.<br>\n",
        "This simply means we multiply each rating key by the number of times it was rated and we add them all together and divide by the total number of ratings."
      ]
    },
    {
      "cell_type": "code",
      "metadata": {
        "id": "uORHjbNJmEYQ",
        "colab_type": "code",
        "colab": {}
      },
      "source": [
        "# First, let's add a column of product of each Rating keys by the count.\n",
        "ratings_dict_df['Sum'] = ratings_dict_df.Rating_Keys.values * ratings_dict_df.Count.values"
      ],
      "execution_count": 0,
      "outputs": []
    },
    {
      "cell_type": "code",
      "metadata": {
        "id": "ago5kjTklr03",
        "colab_type": "code",
        "outputId": "af147c09-31df-4a74-c6f7-fd3ee3b08704",
        "colab": {
          "base_uri": "https://localhost:8080/",
          "height": 343
        }
      },
      "source": [
        "ratings_dict_df"
      ],
      "execution_count": 115,
      "outputs": [
        {
          "output_type": "execute_result",
          "data": {
            "text/html": [
              "<div>\n",
              "<style scoped>\n",
              "    .dataframe tbody tr th:only-of-type {\n",
              "        vertical-align: middle;\n",
              "    }\n",
              "\n",
              "    .dataframe tbody tr th {\n",
              "        vertical-align: top;\n",
              "    }\n",
              "\n",
              "    .dataframe thead th {\n",
              "        text-align: right;\n",
              "    }\n",
              "</style>\n",
              "<table border=\"1\" class=\"dataframe\">\n",
              "  <thead>\n",
              "    <tr style=\"text-align: right;\">\n",
              "      <th></th>\n",
              "      <th>Rating_Keys</th>\n",
              "      <th>Count</th>\n",
              "      <th>Sum</th>\n",
              "    </tr>\n",
              "  </thead>\n",
              "  <tbody>\n",
              "    <tr>\n",
              "      <th>0</th>\n",
              "      <td>5.0</td>\n",
              "      <td>3358218</td>\n",
              "      <td>16791090.0</td>\n",
              "    </tr>\n",
              "    <tr>\n",
              "      <th>1</th>\n",
              "      <td>4.5</td>\n",
              "      <td>1813922</td>\n",
              "      <td>8162649.0</td>\n",
              "    </tr>\n",
              "    <tr>\n",
              "      <th>2</th>\n",
              "      <td>4.0</td>\n",
              "      <td>6265623</td>\n",
              "      <td>25062492.0</td>\n",
              "    </tr>\n",
              "    <tr>\n",
              "      <th>3</th>\n",
              "      <td>3.5</td>\n",
              "      <td>2592375</td>\n",
              "      <td>9073312.5</td>\n",
              "    </tr>\n",
              "    <tr>\n",
              "      <th>4</th>\n",
              "      <td>3.0</td>\n",
              "      <td>4783899</td>\n",
              "      <td>14351697.0</td>\n",
              "    </tr>\n",
              "    <tr>\n",
              "      <th>5</th>\n",
              "      <td>2.5</td>\n",
              "      <td>1044176</td>\n",
              "      <td>2610440.0</td>\n",
              "    </tr>\n",
              "    <tr>\n",
              "      <th>6</th>\n",
              "      <td>2.0</td>\n",
              "      <td>1603254</td>\n",
              "      <td>3206508.0</td>\n",
              "    </tr>\n",
              "    <tr>\n",
              "      <th>7</th>\n",
              "      <td>1.5</td>\n",
              "      <td>337605</td>\n",
              "      <td>506407.5</td>\n",
              "    </tr>\n",
              "    <tr>\n",
              "      <th>8</th>\n",
              "      <td>1.0</td>\n",
              "      <td>769654</td>\n",
              "      <td>769654.0</td>\n",
              "    </tr>\n",
              "    <tr>\n",
              "      <th>9</th>\n",
              "      <td>0.5</td>\n",
              "      <td>315651</td>\n",
              "      <td>157825.5</td>\n",
              "    </tr>\n",
              "  </tbody>\n",
              "</table>\n",
              "</div>"
            ],
            "text/plain": [
              "   Rating_Keys    Count         Sum\n",
              "0          5.0  3358218  16791090.0\n",
              "1          4.5  1813922   8162649.0\n",
              "2          4.0  6265623  25062492.0\n",
              "3          3.5  2592375   9073312.5\n",
              "4          3.0  4783899  14351697.0\n",
              "5          2.5  1044176   2610440.0\n",
              "6          2.0  1603254   3206508.0\n",
              "7          1.5   337605    506407.5\n",
              "8          1.0   769654    769654.0\n",
              "9          0.5   315651    157825.5"
            ]
          },
          "metadata": {
            "tags": []
          },
          "execution_count": 115
        }
      ]
    },
    {
      "cell_type": "code",
      "metadata": {
        "id": "41he8ZrLkVCO",
        "colab_type": "code",
        "outputId": "700cea76-b667-49f1-b19b-92d860963d44",
        "colab": {
          "base_uri": "https://localhost:8080/",
          "height": 34
        }
      },
      "source": [
        "Weighted_ave = sum(ratings_dict_df.Sum) / len(ratings_df)\n",
        "Weighted_ave"
      ],
      "execution_count": 116,
      "outputs": [
        {
          "output_type": "execute_result",
          "data": {
            "text/plain": [
              "3.5260770044122243"
            ]
          },
          "metadata": {
            "tags": []
          },
          "execution_count": 116
        }
      ]
    },
    {
      "cell_type": "markdown",
      "metadata": {
        "id": "2Dl4zJisoY1E",
        "colab_type": "text"
      },
      "source": [
        "Finally, we can see that the average rating for any given movie judging from the Group Movielens Data Set is 3.5 out of a Scale of 5...<br>\n",
        "Not bad atall for an aspiring Movie Director"
      ]
    },
    {
      "cell_type": "code",
      "metadata": {
        "id": "4QFCUTkwoqWp",
        "colab_type": "code",
        "colab": {}
      },
      "source": [
        ""
      ],
      "execution_count": 0,
      "outputs": []
    }
  ]
}