{
  "nbformat": 4,
  "nbformat_minor": 0,
  "metadata": {
    "colab": {
      "name": "model_development (1).ipynb",
      "provenance": [],
      "collapsed_sections": [
        "pL6QGM1lhCjq"
      ],
      "include_colab_link": true
    },
    "kernelspec": {
      "name": "python3",
      "display_name": "Python 3"
    },
    "accelerator": "GPU"
  },
  "cells": [
    {
      "cell_type": "markdown",
      "metadata": {
        "id": "view-in-github",
        "colab_type": "text"
      },
      "source": [
        "<a href=\"https://colab.research.google.com/github/Lawrence-Krukrubo/EDA/blob/master/model_development_(1).ipynb\" target=\"_parent\"><img src=\"https://colab.research.google.com/assets/colab-badge.svg\" alt=\"Open In Colab\"/></a>"
      ]
    },
    {
      "cell_type": "markdown",
      "metadata": {
        "id": "jL46lqS1hCiL",
        "colab_type": "text"
      },
      "source": [
        "<u><h3>Learning Objectives Include:</h3></u>\n",
        "    \n",
        "    * Simple and Multiple Linear Regression\n",
        "    * Model Evaluation using Visualization\n",
        "    * Polynomial Regression and Pipelines\n",
        "    * R-Squared and MSE for In-Sample Evaluation\n",
        "    * Prediction and Decision Making\n",
        "    \n",
        "<h4>Question:-</h4>\n",
        "    \n",
        "   <h5>How can we determine a fair value for a used car?</h5>"
      ]
    },
    {
      "cell_type": "code",
      "metadata": {
        "id": "P2mzBw4ChCiM",
        "colab_type": "code",
        "colab": {}
      },
      "source": [
        "import pandas as pd\n",
        "import numpy as np\n",
        "import matplotlib.pyplot as plt\n",
        "import seaborn as sns\n",
        "import scipy.stats as stats"
      ],
      "execution_count": null,
      "outputs": []
    },
    {
      "cell_type": "code",
      "metadata": {
        "id": "eFDpr1liVedq",
        "colab_type": "code",
        "colab": {
          "base_uri": "https://localhost:8080/",
          "height": 121
        },
        "outputId": "eac44579-4086-4ecd-c600-0639efcd86d6"
      },
      "source": [
        "from google.colab import drive\n",
        "drive.mount('/content/gdrive')"
      ],
      "execution_count": null,
      "outputs": [
        {
          "output_type": "stream",
          "text": [
            "Go to this URL in a browser: https://accounts.google.com/o/oauth2/auth?client_id=947318989803-6bn6qk8qdgf4n4g3pfee6491hc0brc4i.apps.googleusercontent.com&redirect_uri=urn%3Aietf%3Awg%3Aoauth%3A2.0%3Aoob&scope=email%20https%3A%2F%2Fwww.googleapis.com%2Fauth%2Fdocs.test%20https%3A%2F%2Fwww.googleapis.com%2Fauth%2Fdrive%20https%3A%2F%2Fwww.googleapis.com%2Fauth%2Fdrive.photos.readonly%20https%3A%2F%2Fwww.googleapis.com%2Fauth%2Fpeopleapi.readonly&response_type=code\n",
            "\n",
            "Enter your authorization code:\n",
            "··········\n",
            "Mounted at /content/gdrive\n"
          ],
          "name": "stdout"
        }
      ]
    },
    {
      "cell_type": "code",
      "metadata": {
        "id": "ybUKu8j6XLQp",
        "colab_type": "code",
        "colab": {}
      },
      "source": [
        "file_data = ''\n",
        "with open('/content/gdrive/My Drive/Colab_Notebooks/IBM_cognitive_class_learning/adjusted_df.csv' ) as f:\n",
        "    file_data = f.read()"
      ],
      "execution_count": null,
      "outputs": []
    },
    {
      "cell_type": "code",
      "metadata": {
        "id": "AF3a4Tp3XqR9",
        "colab_type": "code",
        "colab": {
          "base_uri": "https://localhost:8080/",
          "height": 328
        },
        "outputId": "ee0228c8-8f20-44d4-c1a8-badbf33fc13d"
      },
      "source": [
        "import sys\n",
        "if sys.version_info[0] < 3: \n",
        "    from StringIO import StringIO\n",
        "else:\n",
        "    from io import StringIO\n",
        "\n",
        "TESTDATA = StringIO(file_data)\n",
        "\n",
        "adjusted_df = pd.read_csv(TESTDATA, sep=\",\")\n",
        "\n",
        "adjusted_df.head()"
      ],
      "execution_count": null,
      "outputs": [
        {
          "output_type": "execute_result",
          "data": {
            "text/html": [
              "<div>\n",
              "<style scoped>\n",
              "    .dataframe tbody tr th:only-of-type {\n",
              "        vertical-align: middle;\n",
              "    }\n",
              "\n",
              "    .dataframe tbody tr th {\n",
              "        vertical-align: top;\n",
              "    }\n",
              "\n",
              "    .dataframe thead th {\n",
              "        text-align: right;\n",
              "    }\n",
              "</style>\n",
              "<table border=\"1\" class=\"dataframe\">\n",
              "  <thead>\n",
              "    <tr style=\"text-align: right;\">\n",
              "      <th></th>\n",
              "      <th>Unnamed: 0</th>\n",
              "      <th>symboling</th>\n",
              "      <th>normalized-losses</th>\n",
              "      <th>make</th>\n",
              "      <th>fuel-type</th>\n",
              "      <th>aspiration</th>\n",
              "      <th>num-of-doors</th>\n",
              "      <th>body-style</th>\n",
              "      <th>drive-wheels</th>\n",
              "      <th>engine-location</th>\n",
              "      <th>...</th>\n",
              "      <th>fuel-system</th>\n",
              "      <th>bore</th>\n",
              "      <th>stroke</th>\n",
              "      <th>compression-ratio</th>\n",
              "      <th>horsepower</th>\n",
              "      <th>peak-rpm</th>\n",
              "      <th>city-mpg</th>\n",
              "      <th>highway-mpg</th>\n",
              "      <th>price</th>\n",
              "      <th>price_binned</th>\n",
              "    </tr>\n",
              "  </thead>\n",
              "  <tbody>\n",
              "    <tr>\n",
              "      <th>0</th>\n",
              "      <td>0</td>\n",
              "      <td>3</td>\n",
              "      <td>?</td>\n",
              "      <td>alfa-romero</td>\n",
              "      <td>gas</td>\n",
              "      <td>std</td>\n",
              "      <td>two</td>\n",
              "      <td>convertible</td>\n",
              "      <td>rwd</td>\n",
              "      <td>front</td>\n",
              "      <td>...</td>\n",
              "      <td>mpfi</td>\n",
              "      <td>3.47</td>\n",
              "      <td>2.68</td>\n",
              "      <td>9.0</td>\n",
              "      <td>111</td>\n",
              "      <td>5000</td>\n",
              "      <td>21</td>\n",
              "      <td>27</td>\n",
              "      <td>13495</td>\n",
              "      <td>Low</td>\n",
              "    </tr>\n",
              "    <tr>\n",
              "      <th>1</th>\n",
              "      <td>1</td>\n",
              "      <td>3</td>\n",
              "      <td>?</td>\n",
              "      <td>alfa-romero</td>\n",
              "      <td>gas</td>\n",
              "      <td>std</td>\n",
              "      <td>two</td>\n",
              "      <td>convertible</td>\n",
              "      <td>rwd</td>\n",
              "      <td>front</td>\n",
              "      <td>...</td>\n",
              "      <td>mpfi</td>\n",
              "      <td>3.47</td>\n",
              "      <td>2.68</td>\n",
              "      <td>9.0</td>\n",
              "      <td>111</td>\n",
              "      <td>5000</td>\n",
              "      <td>21</td>\n",
              "      <td>27</td>\n",
              "      <td>16500</td>\n",
              "      <td>Low</td>\n",
              "    </tr>\n",
              "    <tr>\n",
              "      <th>2</th>\n",
              "      <td>2</td>\n",
              "      <td>1</td>\n",
              "      <td>?</td>\n",
              "      <td>alfa-romero</td>\n",
              "      <td>gas</td>\n",
              "      <td>std</td>\n",
              "      <td>two</td>\n",
              "      <td>hatchback</td>\n",
              "      <td>rwd</td>\n",
              "      <td>front</td>\n",
              "      <td>...</td>\n",
              "      <td>mpfi</td>\n",
              "      <td>2.68</td>\n",
              "      <td>3.47</td>\n",
              "      <td>9.0</td>\n",
              "      <td>154</td>\n",
              "      <td>5000</td>\n",
              "      <td>19</td>\n",
              "      <td>26</td>\n",
              "      <td>16500</td>\n",
              "      <td>Low</td>\n",
              "    </tr>\n",
              "    <tr>\n",
              "      <th>3</th>\n",
              "      <td>3</td>\n",
              "      <td>2</td>\n",
              "      <td>164</td>\n",
              "      <td>audi</td>\n",
              "      <td>gas</td>\n",
              "      <td>std</td>\n",
              "      <td>four</td>\n",
              "      <td>sedan</td>\n",
              "      <td>fwd</td>\n",
              "      <td>front</td>\n",
              "      <td>...</td>\n",
              "      <td>mpfi</td>\n",
              "      <td>3.19</td>\n",
              "      <td>3.40</td>\n",
              "      <td>10.0</td>\n",
              "      <td>102</td>\n",
              "      <td>5500</td>\n",
              "      <td>24</td>\n",
              "      <td>30</td>\n",
              "      <td>13950</td>\n",
              "      <td>Low</td>\n",
              "    </tr>\n",
              "    <tr>\n",
              "      <th>4</th>\n",
              "      <td>4</td>\n",
              "      <td>2</td>\n",
              "      <td>164</td>\n",
              "      <td>audi</td>\n",
              "      <td>gas</td>\n",
              "      <td>std</td>\n",
              "      <td>four</td>\n",
              "      <td>sedan</td>\n",
              "      <td>4wd</td>\n",
              "      <td>front</td>\n",
              "      <td>...</td>\n",
              "      <td>mpfi</td>\n",
              "      <td>3.19</td>\n",
              "      <td>3.40</td>\n",
              "      <td>8.0</td>\n",
              "      <td>115</td>\n",
              "      <td>5500</td>\n",
              "      <td>18</td>\n",
              "      <td>22</td>\n",
              "      <td>17450</td>\n",
              "      <td>Low</td>\n",
              "    </tr>\n",
              "  </tbody>\n",
              "</table>\n",
              "<p>5 rows × 28 columns</p>\n",
              "</div>"
            ],
            "text/plain": [
              "   Unnamed: 0  symboling normalized-losses         make fuel-type aspiration  \\\n",
              "0           0          3                 ?  alfa-romero       gas        std   \n",
              "1           1          3                 ?  alfa-romero       gas        std   \n",
              "2           2          1                 ?  alfa-romero       gas        std   \n",
              "3           3          2               164         audi       gas        std   \n",
              "4           4          2               164         audi       gas        std   \n",
              "\n",
              "  num-of-doors   body-style drive-wheels engine-location  ...  fuel-system  \\\n",
              "0          two  convertible          rwd           front  ...         mpfi   \n",
              "1          two  convertible          rwd           front  ...         mpfi   \n",
              "2          two    hatchback          rwd           front  ...         mpfi   \n",
              "3         four        sedan          fwd           front  ...         mpfi   \n",
              "4         four        sedan          4wd           front  ...         mpfi   \n",
              "\n",
              "   bore  stroke  compression-ratio  horsepower peak-rpm city-mpg  highway-mpg  \\\n",
              "0  3.47    2.68                9.0         111     5000       21           27   \n",
              "1  3.47    2.68                9.0         111     5000       21           27   \n",
              "2  2.68    3.47                9.0         154     5000       19           26   \n",
              "3  3.19    3.40               10.0         102     5500       24           30   \n",
              "4  3.19    3.40                8.0         115     5500       18           22   \n",
              "\n",
              "   price  price_binned  \n",
              "0  13495           Low  \n",
              "1  16500           Low  \n",
              "2  16500           Low  \n",
              "3  13950           Low  \n",
              "4  17450           Low  \n",
              "\n",
              "[5 rows x 28 columns]"
            ]
          },
          "metadata": {
            "tags": []
          },
          "execution_count": 4
        }
      ]
    },
    {
      "cell_type": "markdown",
      "metadata": {
        "id": "ZLysmmo3bsCJ",
        "colab_type": "text"
      },
      "source": [
        "The first column is unnecessary and should be dropped. Let's do so now"
      ]
    },
    {
      "cell_type": "code",
      "metadata": {
        "id": "kw7lxTJwYwv2",
        "colab_type": "code",
        "colab": {}
      },
      "source": [
        "adjusted_df = adjusted_df.iloc[:, 1:]"
      ],
      "execution_count": null,
      "outputs": []
    },
    {
      "cell_type": "code",
      "metadata": {
        "id": "eGleIbHdbkD6",
        "colab_type": "code",
        "colab": {
          "base_uri": "https://localhost:8080/",
          "height": 328
        },
        "outputId": "0c718366-f5f9-4ced-c247-ad503ea82bbc"
      },
      "source": [
        "adjusted_df.head()"
      ],
      "execution_count": null,
      "outputs": [
        {
          "output_type": "execute_result",
          "data": {
            "text/html": [
              "<div>\n",
              "<style scoped>\n",
              "    .dataframe tbody tr th:only-of-type {\n",
              "        vertical-align: middle;\n",
              "    }\n",
              "\n",
              "    .dataframe tbody tr th {\n",
              "        vertical-align: top;\n",
              "    }\n",
              "\n",
              "    .dataframe thead th {\n",
              "        text-align: right;\n",
              "    }\n",
              "</style>\n",
              "<table border=\"1\" class=\"dataframe\">\n",
              "  <thead>\n",
              "    <tr style=\"text-align: right;\">\n",
              "      <th></th>\n",
              "      <th>symboling</th>\n",
              "      <th>normalized-losses</th>\n",
              "      <th>make</th>\n",
              "      <th>fuel-type</th>\n",
              "      <th>aspiration</th>\n",
              "      <th>num-of-doors</th>\n",
              "      <th>body-style</th>\n",
              "      <th>drive-wheels</th>\n",
              "      <th>engine-location</th>\n",
              "      <th>wheel-base</th>\n",
              "      <th>...</th>\n",
              "      <th>fuel-system</th>\n",
              "      <th>bore</th>\n",
              "      <th>stroke</th>\n",
              "      <th>compression-ratio</th>\n",
              "      <th>horsepower</th>\n",
              "      <th>peak-rpm</th>\n",
              "      <th>city-mpg</th>\n",
              "      <th>highway-mpg</th>\n",
              "      <th>price</th>\n",
              "      <th>price_binned</th>\n",
              "    </tr>\n",
              "  </thead>\n",
              "  <tbody>\n",
              "    <tr>\n",
              "      <th>0</th>\n",
              "      <td>3</td>\n",
              "      <td>?</td>\n",
              "      <td>alfa-romero</td>\n",
              "      <td>gas</td>\n",
              "      <td>std</td>\n",
              "      <td>two</td>\n",
              "      <td>convertible</td>\n",
              "      <td>rwd</td>\n",
              "      <td>front</td>\n",
              "      <td>88.6</td>\n",
              "      <td>...</td>\n",
              "      <td>mpfi</td>\n",
              "      <td>3.47</td>\n",
              "      <td>2.68</td>\n",
              "      <td>9.0</td>\n",
              "      <td>111</td>\n",
              "      <td>5000</td>\n",
              "      <td>21</td>\n",
              "      <td>27</td>\n",
              "      <td>13495</td>\n",
              "      <td>Low</td>\n",
              "    </tr>\n",
              "    <tr>\n",
              "      <th>1</th>\n",
              "      <td>3</td>\n",
              "      <td>?</td>\n",
              "      <td>alfa-romero</td>\n",
              "      <td>gas</td>\n",
              "      <td>std</td>\n",
              "      <td>two</td>\n",
              "      <td>convertible</td>\n",
              "      <td>rwd</td>\n",
              "      <td>front</td>\n",
              "      <td>88.6</td>\n",
              "      <td>...</td>\n",
              "      <td>mpfi</td>\n",
              "      <td>3.47</td>\n",
              "      <td>2.68</td>\n",
              "      <td>9.0</td>\n",
              "      <td>111</td>\n",
              "      <td>5000</td>\n",
              "      <td>21</td>\n",
              "      <td>27</td>\n",
              "      <td>16500</td>\n",
              "      <td>Low</td>\n",
              "    </tr>\n",
              "    <tr>\n",
              "      <th>2</th>\n",
              "      <td>1</td>\n",
              "      <td>?</td>\n",
              "      <td>alfa-romero</td>\n",
              "      <td>gas</td>\n",
              "      <td>std</td>\n",
              "      <td>two</td>\n",
              "      <td>hatchback</td>\n",
              "      <td>rwd</td>\n",
              "      <td>front</td>\n",
              "      <td>94.5</td>\n",
              "      <td>...</td>\n",
              "      <td>mpfi</td>\n",
              "      <td>2.68</td>\n",
              "      <td>3.47</td>\n",
              "      <td>9.0</td>\n",
              "      <td>154</td>\n",
              "      <td>5000</td>\n",
              "      <td>19</td>\n",
              "      <td>26</td>\n",
              "      <td>16500</td>\n",
              "      <td>Low</td>\n",
              "    </tr>\n",
              "    <tr>\n",
              "      <th>3</th>\n",
              "      <td>2</td>\n",
              "      <td>164</td>\n",
              "      <td>audi</td>\n",
              "      <td>gas</td>\n",
              "      <td>std</td>\n",
              "      <td>four</td>\n",
              "      <td>sedan</td>\n",
              "      <td>fwd</td>\n",
              "      <td>front</td>\n",
              "      <td>99.8</td>\n",
              "      <td>...</td>\n",
              "      <td>mpfi</td>\n",
              "      <td>3.19</td>\n",
              "      <td>3.40</td>\n",
              "      <td>10.0</td>\n",
              "      <td>102</td>\n",
              "      <td>5500</td>\n",
              "      <td>24</td>\n",
              "      <td>30</td>\n",
              "      <td>13950</td>\n",
              "      <td>Low</td>\n",
              "    </tr>\n",
              "    <tr>\n",
              "      <th>4</th>\n",
              "      <td>2</td>\n",
              "      <td>164</td>\n",
              "      <td>audi</td>\n",
              "      <td>gas</td>\n",
              "      <td>std</td>\n",
              "      <td>four</td>\n",
              "      <td>sedan</td>\n",
              "      <td>4wd</td>\n",
              "      <td>front</td>\n",
              "      <td>99.4</td>\n",
              "      <td>...</td>\n",
              "      <td>mpfi</td>\n",
              "      <td>3.19</td>\n",
              "      <td>3.40</td>\n",
              "      <td>8.0</td>\n",
              "      <td>115</td>\n",
              "      <td>5500</td>\n",
              "      <td>18</td>\n",
              "      <td>22</td>\n",
              "      <td>17450</td>\n",
              "      <td>Low</td>\n",
              "    </tr>\n",
              "  </tbody>\n",
              "</table>\n",
              "<p>5 rows × 27 columns</p>\n",
              "</div>"
            ],
            "text/plain": [
              "   symboling normalized-losses         make fuel-type aspiration num-of-doors  \\\n",
              "0          3                 ?  alfa-romero       gas        std          two   \n",
              "1          3                 ?  alfa-romero       gas        std          two   \n",
              "2          1                 ?  alfa-romero       gas        std          two   \n",
              "3          2               164         audi       gas        std         four   \n",
              "4          2               164         audi       gas        std         four   \n",
              "\n",
              "    body-style drive-wheels engine-location  wheel-base  ...  fuel-system  \\\n",
              "0  convertible          rwd           front        88.6  ...         mpfi   \n",
              "1  convertible          rwd           front        88.6  ...         mpfi   \n",
              "2    hatchback          rwd           front        94.5  ...         mpfi   \n",
              "3        sedan          fwd           front        99.8  ...         mpfi   \n",
              "4        sedan          4wd           front        99.4  ...         mpfi   \n",
              "\n",
              "   bore  stroke  compression-ratio horsepower peak-rpm  city-mpg highway-mpg  \\\n",
              "0  3.47    2.68                9.0        111     5000        21          27   \n",
              "1  3.47    2.68                9.0        111     5000        21          27   \n",
              "2  2.68    3.47                9.0        154     5000        19          26   \n",
              "3  3.19    3.40               10.0        102     5500        24          30   \n",
              "4  3.19    3.40                8.0        115     5500        18          22   \n",
              "\n",
              "   price  price_binned  \n",
              "0  13495           Low  \n",
              "1  16500           Low  \n",
              "2  16500           Low  \n",
              "3  13950           Low  \n",
              "4  17450           Low  \n",
              "\n",
              "[5 rows x 27 columns]"
            ]
          },
          "metadata": {
            "tags": []
          },
          "execution_count": 6
        }
      ]
    },
    {
      "cell_type": "code",
      "metadata": {
        "id": "psdqtMl-hCie",
        "colab_type": "code",
        "colab": {
          "base_uri": "https://localhost:8080/",
          "height": 34
        },
        "outputId": "7eae371c-7fa1-4b48-b3bf-85b624ec8590"
      },
      "source": [
        "adjusted_df.shape"
      ],
      "execution_count": null,
      "outputs": [
        {
          "output_type": "execute_result",
          "data": {
            "text/plain": [
              "(201, 27)"
            ]
          },
          "metadata": {
            "tags": []
          },
          "execution_count": 7
        }
      ]
    },
    {
      "cell_type": "markdown",
      "metadata": {
        "id": "0kPjcUdBcceZ",
        "colab_type": "text"
      },
      "source": [
        "Let's check the number of missing values in the data set"
      ]
    },
    {
      "cell_type": "code",
      "metadata": {
        "id": "wXBGe1HdciH_",
        "colab_type": "code",
        "colab": {
          "base_uri": "https://localhost:8080/",
          "height": 134
        },
        "outputId": "d0c02b8b-1b1a-4df9-ccad-c6eb30980dbc"
      },
      "source": [
        "adjusted_df.columns"
      ],
      "execution_count": null,
      "outputs": [
        {
          "output_type": "execute_result",
          "data": {
            "text/plain": [
              "Index(['symboling', 'normalized-losses', 'make', 'fuel-type', 'aspiration',\n",
              "       'num-of-doors', 'body-style', 'drive-wheels', 'engine-location',\n",
              "       'wheel-base', 'length', 'width', 'height', 'curb-weight', 'engine-type',\n",
              "       'num-of-cylinders', 'engine-size', 'fuel-system', 'bore', 'stroke',\n",
              "       'compression-ratio', 'horsepower', 'peak-rpm', 'city-mpg',\n",
              "       'highway-mpg', 'price', 'price_binned'],\n",
              "      dtype='object')"
            ]
          },
          "metadata": {
            "tags": []
          },
          "execution_count": 8
        }
      ]
    },
    {
      "cell_type": "code",
      "metadata": {
        "id": "2jCkf0swhCii",
        "colab_type": "code",
        "colab": {
          "base_uri": "https://localhost:8080/",
          "height": 554
        },
        "outputId": "80e5778a-4850-4722-efb3-256c82bf8d0c"
      },
      "source": [
        "adjusted_df.info()"
      ],
      "execution_count": null,
      "outputs": [
        {
          "output_type": "stream",
          "text": [
            "<class 'pandas.core.frame.DataFrame'>\n",
            "RangeIndex: 201 entries, 0 to 200\n",
            "Data columns (total 27 columns):\n",
            "symboling            201 non-null int64\n",
            "normalized-losses    201 non-null object\n",
            "make                 201 non-null object\n",
            "fuel-type            201 non-null object\n",
            "aspiration           201 non-null object\n",
            "num-of-doors         201 non-null object\n",
            "body-style           201 non-null object\n",
            "drive-wheels         201 non-null object\n",
            "engine-location      201 non-null object\n",
            "wheel-base           201 non-null float64\n",
            "length               201 non-null float64\n",
            "width                201 non-null float64\n",
            "height               201 non-null float64\n",
            "curb-weight          201 non-null int64\n",
            "engine-type          201 non-null object\n",
            "num-of-cylinders     201 non-null object\n",
            "engine-size          201 non-null int64\n",
            "fuel-system          201 non-null object\n",
            "bore                 201 non-null float64\n",
            "stroke               201 non-null float64\n",
            "compression-ratio    201 non-null float64\n",
            "horsepower           201 non-null int64\n",
            "peak-rpm             201 non-null int64\n",
            "city-mpg             201 non-null int64\n",
            "highway-mpg          201 non-null int64\n",
            "price                201 non-null int64\n",
            "price_binned         199 non-null object\n",
            "dtypes: float64(7), int64(8), object(12)\n",
            "memory usage: 42.5+ KB\n"
          ],
          "name": "stdout"
        }
      ]
    },
    {
      "cell_type": "markdown",
      "metadata": {
        "id": "yRxLWWoQhCim",
        "colab_type": "text"
      },
      "source": [
        "#### We need to do some data wrangling and distribution analysis"
      ]
    },
    {
      "cell_type": "code",
      "metadata": {
        "id": "Fbfg5_AZhCin",
        "colab_type": "code",
        "colab": {
          "base_uri": "https://localhost:8080/",
          "height": 84
        },
        "outputId": "e21f5424-44d9-4fbd-decc-b6d7b51176b1"
      },
      "source": [
        "# Let's clean the num-of-doors column or feature.\n",
        "\n",
        "# Lets view the unque elements in this column and count of each unique element\n",
        "\n",
        "adjusted_df.groupby('num-of-doors').size()"
      ],
      "execution_count": null,
      "outputs": [
        {
          "output_type": "execute_result",
          "data": {
            "text/plain": [
              "num-of-doors\n",
              "four    115\n",
              "two      86\n",
              "dtype: int64"
            ]
          },
          "metadata": {
            "tags": []
          },
          "execution_count": 10
        }
      ]
    },
    {
      "cell_type": "code",
      "metadata": {
        "id": "mqA_MZV5hCiq",
        "colab_type": "code",
        "colab": {
          "base_uri": "https://localhost:8080/",
          "height": 84
        },
        "outputId": "72054539-db1f-4c3e-ce5b-3e0be3e8cc01"
      },
      "source": [
        "# Next lets replace missing values to the mode, which is clearly four door cars\n",
        "\n",
        "adjusted_df['num-of-doors'].replace('?','four', inplace=True)\n",
        "\n",
        "# Next let's see the update\n",
        "adjusted_df.groupby('num-of-doors').size()"
      ],
      "execution_count": null,
      "outputs": [
        {
          "output_type": "execute_result",
          "data": {
            "text/plain": [
              "num-of-doors\n",
              "four    115\n",
              "two      86\n",
              "dtype: int64"
            ]
          },
          "metadata": {
            "tags": []
          },
          "execution_count": 11
        }
      ]
    },
    {
      "cell_type": "markdown",
      "metadata": {
        "id": "qkDCi246hCiu",
        "colab_type": "text"
      },
      "source": [
        "#### Let's investigate the relationship between num-of-doors and price"
      ]
    },
    {
      "cell_type": "code",
      "metadata": {
        "id": "v0PJcPW7hCiv",
        "colab_type": "code",
        "colab": {
          "base_uri": "https://localhost:8080/",
          "height": 514
        },
        "outputId": "e3e11996-362d-4746-87ed-66581abefe9b"
      },
      "source": [
        "plt.figure(figsize=(10,8))\n",
        "sns.set_style('ticks')\n",
        "\n",
        "plt.title('Boxplot showing relations between Num-of-Doors and Price', fontsize=14)\n",
        "sns.boxplot('num-of-doors', 'price', data=adjusted_df)\n",
        "plt.xticks(color='aqua')\n",
        "plt.yticks(color='aqua')\n",
        "#plt.xlabel(color='aqua')\n",
        "#plt.ylabel(color='aqua')\n",
        "\n",
        "plt.show()"
      ],
      "execution_count": null,
      "outputs": [
        {
          "output_type": "display_data",
          "data": {
            "image/png": "[encoded data removed]",
            "text/plain": [
              "<Figure size 720x576 with 1 Axes>"
            ]
          },
          "metadata": {
            "tags": []
          }
        }
      ]
    },
    {
      "cell_type": "code",
      "metadata": {
        "id": "64Inda4khCiy",
        "colab_type": "code",
        "colab": {
          "base_uri": "https://localhost:8080/",
          "height": 136
        },
        "outputId": "6563cd3a-16f4-47ba-b316-eb378d109c25"
      },
      "source": [
        "# Let's find the average price for two and four door vehicles\n",
        "\n",
        "adjusted_df[['num-of-doors', 'price']].groupby('num-of-doors').mean()"
      ],
      "execution_count": null,
      "outputs": [
        {
          "output_type": "execute_result",
          "data": {
            "text/html": [
              "<div>\n",
              "<style scoped>\n",
              "    .dataframe tbody tr th:only-of-type {\n",
              "        vertical-align: middle;\n",
              "    }\n",
              "\n",
              "    .dataframe tbody tr th {\n",
              "        vertical-align: top;\n",
              "    }\n",
              "\n",
              "    .dataframe thead th {\n",
              "        text-align: right;\n",
              "    }\n",
              "</style>\n",
              "<table border=\"1\" class=\"dataframe\">\n",
              "  <thead>\n",
              "    <tr style=\"text-align: right;\">\n",
              "      <th></th>\n",
              "      <th>price</th>\n",
              "    </tr>\n",
              "    <tr>\n",
              "      <th>num-of-doors</th>\n",
              "      <th></th>\n",
              "    </tr>\n",
              "  </thead>\n",
              "  <tbody>\n",
              "    <tr>\n",
              "      <th>four</th>\n",
              "      <td>13498.034783</td>\n",
              "    </tr>\n",
              "    <tr>\n",
              "      <th>two</th>\n",
              "      <td>12818.127907</td>\n",
              "    </tr>\n",
              "  </tbody>\n",
              "</table>\n",
              "</div>"
            ],
            "text/plain": [
              "                     price\n",
              "num-of-doors              \n",
              "four          13498.034783\n",
              "two           12818.127907"
            ]
          },
          "metadata": {
            "tags": []
          },
          "execution_count": 13
        }
      ]
    },
    {
      "cell_type": "markdown",
      "metadata": {
        "id": "8nfODbDohCi2",
        "colab_type": "text"
      },
      "source": [
        "_**From the box plot above and the groupby() method above, we can see that there is little difference between a 4 door and 2 door vehicle. So the num-of-doors categorical variable is not a good indicator or predictor of the price of cars**_\n",
        "\n",
        "\n",
        "\n"
      ]
    },
    {
      "cell_type": "markdown",
      "metadata": {
        "id": "gO7klEjchCi3",
        "colab_type": "text"
      },
      "source": [
        "#### Let's investigate the relationship between num-of-cylinders and price"
      ]
    },
    {
      "cell_type": "code",
      "metadata": {
        "id": "dZzz7UcxhCi4",
        "colab_type": "code",
        "colab": {
          "base_uri": "https://localhost:8080/",
          "height": 168
        },
        "outputId": "e3f42f7e-60bd-40d2-d7dd-e30bd621c23c"
      },
      "source": [
        "# first lets group the column and see the types and count of unique elements\n",
        "\n",
        "adjusted_df.groupby('num-of-cylinders').size()"
      ],
      "execution_count": null,
      "outputs": [
        {
          "output_type": "execute_result",
          "data": {
            "text/plain": [
              "num-of-cylinders\n",
              "eight       4\n",
              "five       10\n",
              "four      157\n",
              "six        24\n",
              "three       1\n",
              "twelve      1\n",
              "two         4\n",
              "dtype: int64"
            ]
          },
          "metadata": {
            "tags": []
          },
          "execution_count": 14
        }
      ]
    },
    {
      "cell_type": "code",
      "metadata": {
        "id": "k-5KpF6UhCi8",
        "colab_type": "code",
        "colab": {
          "base_uri": "https://localhost:8080/",
          "height": 513
        },
        "outputId": "b2ee255e-fa13-48b8-a200-69b8f2e1bff5"
      },
      "source": [
        "# Let's create some boxplot visualization\n",
        "\n",
        "plt.figure(figsize=(10,8))\n",
        "plt.title('Boxplot showing relations between Num-of-Cylinders and Price')\n",
        "sns.boxplot('num-of-cylinders', 'price', data=adjusted_df)\n",
        "plt.show()"
      ],
      "execution_count": null,
      "outputs": [
        {
          "output_type": "display_data",
          "data": {
            "image/png": "[encoded data removed]",
            "text/plain": [
              "<Figure size 720x576 with 1 Axes>"
            ]
          },
          "metadata": {
            "tags": []
          }
        }
      ]
    },
    {
      "cell_type": "code",
      "metadata": {
        "id": "agk4X-2uhCjC",
        "colab_type": "code",
        "colab": {
          "base_uri": "https://localhost:8080/",
          "height": 284
        },
        "outputId": "12647202-1e70-4549-f7b9-1635ff04832c"
      },
      "source": [
        "adjusted_df[['num-of-cylinders','price']].groupby('num-of-cylinders').mean()"
      ],
      "execution_count": null,
      "outputs": [
        {
          "output_type": "execute_result",
          "data": {
            "text/html": [
              "<div>\n",
              "<style scoped>\n",
              "    .dataframe tbody tr th:only-of-type {\n",
              "        vertical-align: middle;\n",
              "    }\n",
              "\n",
              "    .dataframe tbody tr th {\n",
              "        vertical-align: top;\n",
              "    }\n",
              "\n",
              "    .dataframe thead th {\n",
              "        text-align: right;\n",
              "    }\n",
              "</style>\n",
              "<table border=\"1\" class=\"dataframe\">\n",
              "  <thead>\n",
              "    <tr style=\"text-align: right;\">\n",
              "      <th></th>\n",
              "      <th>price</th>\n",
              "    </tr>\n",
              "    <tr>\n",
              "      <th>num-of-cylinders</th>\n",
              "      <th></th>\n",
              "    </tr>\n",
              "  </thead>\n",
              "  <tbody>\n",
              "    <tr>\n",
              "      <th>eight</th>\n",
              "      <td>38900.000000</td>\n",
              "    </tr>\n",
              "    <tr>\n",
              "      <th>five</th>\n",
              "      <td>22007.600000</td>\n",
              "    </tr>\n",
              "    <tr>\n",
              "      <th>four</th>\n",
              "      <td>10303.197452</td>\n",
              "    </tr>\n",
              "    <tr>\n",
              "      <th>six</th>\n",
              "      <td>23671.833333</td>\n",
              "    </tr>\n",
              "    <tr>\n",
              "      <th>three</th>\n",
              "      <td>5151.000000</td>\n",
              "    </tr>\n",
              "    <tr>\n",
              "      <th>twelve</th>\n",
              "      <td>36000.000000</td>\n",
              "    </tr>\n",
              "    <tr>\n",
              "      <th>two</th>\n",
              "      <td>13020.000000</td>\n",
              "    </tr>\n",
              "  </tbody>\n",
              "</table>\n",
              "</div>"
            ],
            "text/plain": [
              "                         price\n",
              "num-of-cylinders              \n",
              "eight             38900.000000\n",
              "five              22007.600000\n",
              "four              10303.197452\n",
              "six               23671.833333\n",
              "three              5151.000000\n",
              "twelve            36000.000000\n",
              "two               13020.000000"
            ]
          },
          "metadata": {
            "tags": []
          },
          "execution_count": 16
        }
      ]
    },
    {
      "cell_type": "markdown",
      "metadata": {
        "id": "_x7HxTcfhCjG",
        "colab_type": "text"
      },
      "source": [
        "**From the box plot above and the groupby() method above, we can see that there is significant difference between the various num-of-cylinders variable, except 5 and 6 cylinders which are almost identical.**  \n",
        "**So this categorical variable is possibly a good indicator or predictor of the price of cars**_\n",
        "\n",
        "\n"
      ]
    },
    {
      "cell_type": "markdown",
      "metadata": {
        "id": "QcN_N9fBhCjH",
        "colab_type": "text"
      },
      "source": [
        "<h3>What is a Model?</h3>\n",
        "\n",
        "**A model can be thought as a mathematical equation used to Predict a Value, given One or More other Values,**  \n",
        "**Relating one or more independent variables or features to dependent variables.**\n",
        "\n",
        "_Usually the more relevant data you have, the more accurate your model is_"
      ]
    },
    {
      "cell_type": "markdown",
      "metadata": {
        "id": "1U7dJ0mShCjJ",
        "colab_type": "text"
      },
      "source": [
        "<u><h3>Linear Regression and Multiple Linear Regression:</h3></u>"
      ]
    },
    {
      "cell_type": "markdown",
      "metadata": {
        "id": "sExxdpvchCjK",
        "colab_type": "text"
      },
      "source": [
        "**Linear regression:** Refers to the use of one independent variable to make a prediction.  \n",
        "**Multiple Linear Regression:** Refers to the use of multiple independent variables to make a prediction."
      ]
    },
    {
      "cell_type": "markdown",
      "metadata": {
        "id": "-AeAbINChCjM",
        "colab_type": "text"
      },
      "source": [
        "### Simple Linear Regression:  \n",
        "$y = b_0 + b_1x$  \n",
        "\n",
        "\n",
        "$y$ = **The dependent variable or target variable.**  \n",
        "$x$ = **The independent variable or feature or the predictor.**  \n",
        "$b_0$ = **The intercept or where the regression line meets the target variable y.**  \n",
        "$b_1$ = **The slope.**\n",
        "\n"
      ]
    },
    {
      "cell_type": "markdown",
      "metadata": {
        "id": "C_ShnG-KhCjO",
        "colab_type": "text"
      },
      "source": [
        "<u><h4>Process Summary for Simple Linear Regression</h4></u>  \n",
        "\n",
        "* **We have a set of Training Points**.  \n",
        "* **We use these Training Points to train or Fit the Model and get Parameters($b_0,b_1$).**  \n",
        "* **We then use these parameters in the Model**  \n",
        "* **We now have a model... and we put a hat on the y($y^$) to show the model is an estimate.**  \n",
        "* **We can use this model to predict values that we have never seen.**  \n",
        "* _**Don't forget that our model is not always correct... sometimes due to the noise in the data, or other factors.**_"
      ]
    },
    {
      "cell_type": "markdown",
      "metadata": {
        "id": "ItjKCGLuhCjP",
        "colab_type": "text"
      },
      "source": [
        "<u><h3>Fitting a simple linear regression Model in Python</h3></u> \n",
        "\n",
        "* **Import Linear_model from scikit-learn.**  \n",
        "*(from sklearn.linear_model import LinearRegression)*  \n",
        "\n",
        "\n",
        "* **Create a Linear_regression object using the constructor.**  \n",
        "_lm=LinearRegression()_  \n",
        "\n",
        "\n",
        "* **We define the Predictr variable($X$) and Target variable($Y$).**  \n",
        "\n",
        "\n",
        "* **Then use the method .fit() to fit the model and find parameters $b_0,b_1$.**  \n",
        "_lm.fit(X,Y)_  \n",
        "\n",
        "\n",
        "* **We can obtain a prediction using the .predict() method.**  \n",
        "_Yhat = lm.predict(X)_  \n",
        "\n",
        "\n",
        "* **The output is an array, which has the same number of samples as the input $X$.**  \n",
        "\n",
        "\n",
        "* **The intercept $b_0$ is an attribute of the object** _lm_**. It is the value of $Y$ when $X$ is $0$.**<br>\n",
        "*we can view the intercept by- lm.intercept_*  \n",
        "\n",
        "\n",
        "* **The slope $b_1$ is also an attribute of the object** _lm_**. It is the value with which $Y$ changes due to 1 unit change in $X$**  \n",
        "*we can view the slope by- lm.coef_*\n",
        "\n"
      ]
    },
    {
      "cell_type": "markdown",
      "metadata": {
        "id": "XlbhGg9ChCjR",
        "colab_type": "text"
      },
      "source": [
        "<h4>let's create a simple linear regression model using highway-mpg to predict price</h4>"
      ]
    },
    {
      "cell_type": "code",
      "metadata": {
        "id": "zXbUGzochCjS",
        "colab_type": "code",
        "colab": {}
      },
      "source": [
        "# Step one_ importing scikit learn\n",
        "\n",
        "from sklearn.linear_model import LinearRegression"
      ],
      "execution_count": null,
      "outputs": []
    },
    {
      "cell_type": "code",
      "metadata": {
        "id": "_UNmoFDahCjU",
        "colab_type": "code",
        "colab": {
          "base_uri": "https://localhost:8080/",
          "height": 50
        },
        "outputId": "8f398f75-83de-47a5-c648-415d2e48eab2"
      },
      "source": [
        "# Step two_ creating a linear_regression object \n",
        "\n",
        "lm = LinearRegression()\n",
        "lm"
      ],
      "execution_count": null,
      "outputs": [
        {
          "output_type": "execute_result",
          "data": {
            "text/plain": [
              "LinearRegression(copy_X=True, fit_intercept=True, n_jobs=None,\n",
              "         normalize=False)"
            ]
          },
          "metadata": {
            "tags": []
          },
          "execution_count": 18
        }
      ]
    },
    {
      "cell_type": "code",
      "metadata": {
        "id": "9xviL5DbhCjX",
        "colab_type": "code",
        "colab": {}
      },
      "source": [
        "# Step threeA_ Defining X and Y, both or X must be in 2D or like a dataframe, not a series.\n",
        "\n",
        "X = adjusted_df[['highway-mpg']]\n",
        "Y = adjusted_df['price']"
      ],
      "execution_count": null,
      "outputs": []
    },
    {
      "cell_type": "code",
      "metadata": {
        "id": "4vahZP9HhCja",
        "colab_type": "code",
        "colab": {
          "base_uri": "https://localhost:8080/",
          "height": 50
        },
        "outputId": "f1ddb8a1-f654-46bc-d739-c90ba8d69284"
      },
      "source": [
        "# Step threeB_ lets fit the model to find our intercept(b0) and slope(b1)\n",
        "\n",
        "lm.fit(X,Y)"
      ],
      "execution_count": null,
      "outputs": [
        {
          "output_type": "execute_result",
          "data": {
            "text/plain": [
              "LinearRegression(copy_X=True, fit_intercept=True, n_jobs=None,\n",
              "         normalize=False)"
            ]
          },
          "metadata": {
            "tags": []
          },
          "execution_count": 20
        }
      ]
    },
    {
      "cell_type": "code",
      "metadata": {
        "scrolled": true,
        "id": "uK5jHJ7ghCjd",
        "colab_type": "code",
        "colab": {
          "base_uri": "https://localhost:8080/",
          "height": 874
        },
        "outputId": "50dee5e6-e222-4d0d-b426-c1b60d3b5bc9"
      },
      "source": [
        "# Let's predict Y based on X\n",
        "\n",
        "Yhat = lm.predict(X)\n",
        "Yhat"
      ],
      "execution_count": null,
      "outputs": [
        {
          "output_type": "execute_result",
          "data": {
            "text/plain": [
              "array([16236.50464347, 16236.50464347, 17058.23802179, 13771.3045085 ,\n",
              "       20345.17153508, 17879.97140011, 17879.97140011, 17879.97140011,\n",
              "       21988.63829172, 14593.03788682, 14593.03788682, 15414.77126514,\n",
              "       15414.77126514, 17879.97140011, 20345.17153508, 20345.17153508,\n",
              "       21988.63829172, -5128.5631929 ,  3088.77059031,  3088.77059031,\n",
              "        4732.23734696,  7197.43748192, 13771.3045085 ,  7197.43748192,\n",
              "        7197.43748192,  7197.43748192, 13771.3045085 , 13771.3045085 ,\n",
              "       18701.70477843, -5950.29657123,  7197.43748192,  3910.50396864,\n",
              "       10484.37099521, 10484.37099521, 10484.37099521, 10484.37099521,\n",
              "       11306.10437353, 11306.10437353, 11306.10437353, 11306.10437353,\n",
              "       15414.77126514, 12949.57113018, 14593.03788682, 14593.03788682,\n",
              "       22810.37167004, 22810.37167004, 24453.83842668, 12949.57113018,\n",
              "        7197.43748192,  7197.43748192,  7197.43748192,  7197.43748192,\n",
              "       19523.43815675, 19523.43815675, 19523.43815675, 19523.43815675,\n",
              "       12127.83775186, 12127.83775186, 12127.83775186, 12127.83775186,\n",
              "        3910.50396864, 12127.83775186, 16236.50464347,  6375.7041036 ,\n",
              "       17879.97140011, 17879.97140011, 17879.97140011, 17879.97140011,\n",
              "       23632.10504836, 23632.10504836, 25275.57180501, 25275.57180501,\n",
              "       18701.70477843,  4732.23734696,  7197.43748192,  7197.43748192,\n",
              "       13771.3045085 , 13771.3045085 , 12127.83775186, 18701.70477843,\n",
              "       18701.70477843, 18701.70477843, 12127.83775186, 12127.83775186,\n",
              "       13771.3045085 , 13771.3045085 ,  8019.17086025, -2663.36305794,\n",
              "        8019.17086025,  8019.17086025,  8019.17086025,  8019.17086025,\n",
              "        8019.17086025,  8019.17086025,  8019.17086025,  8019.17086025,\n",
              "       10484.37099521, 10484.37099521, 20345.17153508, 20345.17153508,\n",
              "       17879.97140011, 17879.97140011, 19523.43815675, 17879.97140011,\n",
              "       18701.70477843, 11306.10437353, 18701.70477843, 17879.97140011,\n",
              "       18701.70477843, 11306.10437353, 18701.70477843, 17879.97140011,\n",
              "       18701.70477843, 11306.10437353, 18701.70477843,  4732.23734696,\n",
              "       13771.3045085 ,  7197.43748192,  7197.43748192,  7197.43748192,\n",
              "       13771.3045085 , 18701.70477843, 16236.50464347, 17879.97140011,\n",
              "       17879.97140011, 17879.97140011, 12949.57113018, 12949.57113018,\n",
              "       15414.77126514, 15414.77126514, 15414.77126514, 15414.77126514,\n",
              "       17058.23802179, 17058.23802179,  8840.90423857, 12949.57113018,\n",
              "       12949.57113018,  8019.17086025, 11306.10437353, 12127.83775186,\n",
              "       17879.97140011, 14593.03788682, 12127.83775186, 12949.57113018,\n",
              "       14593.03788682, 19523.43815675,  6375.7041036 ,  7197.43748192,\n",
              "        7197.43748192,  8019.17086025, 12127.83775186, 12127.83775186,\n",
              "        8019.17086025,  8019.17086025,  8840.90423857,  -198.16292297,\n",
              "        -198.16292297, 10484.37099521, 10484.37099521, 10484.37099521,\n",
              "       10484.37099521, 14593.03788682, 14593.03788682, 13771.3045085 ,\n",
              "       13771.3045085 , 13771.3045085 , 13771.3045085 , 13771.3045085 ,\n",
              "       13771.3045085 , 10484.37099521, 11306.10437353, 12127.83775186,\n",
              "       12127.83775186, 12127.83775186, 18701.70477843, 18701.70477843,\n",
              "       18701.70477843, 18701.70477843,   623.57045535, 10484.37099521,\n",
              "         623.57045535, 10484.37099521, 10484.37099521,  3910.50396864,\n",
              "       12127.83775186, 14593.03788682, 14593.03788682, 18701.70477843,\n",
              "        7197.43748192, 12949.57113018, 15414.77126514, 15414.77126514,\n",
              "       15414.77126514, 15414.77126514, 20345.17153508, 20345.17153508,\n",
              "       15414.77126514, 17879.97140011, 19523.43815675, 16236.50464347,\n",
              "       17879.97140011])"
            ]
          },
          "metadata": {
            "tags": []
          },
          "execution_count": 21
        }
      ]
    },
    {
      "cell_type": "code",
      "metadata": {
        "id": "Rk3Vio_OhCjg",
        "colab_type": "code",
        "colab": {
          "base_uri": "https://localhost:8080/",
          "height": 34
        },
        "outputId": "413067a0-06b6-4774-9923-cfca1f20513f"
      },
      "source": [
        "# To view our intercept\n",
        "\n",
        "intercept = lm.intercept_\n",
        "intercept"
      ],
      "execution_count": null,
      "outputs": [
        {
          "output_type": "execute_result",
          "data": {
            "text/plain": [
              "38423.3058581574"
            ]
          },
          "metadata": {
            "tags": []
          },
          "execution_count": 22
        }
      ]
    },
    {
      "cell_type": "code",
      "metadata": {
        "id": "7reiIeVahCjl",
        "colab_type": "code",
        "colab": {
          "base_uri": "https://localhost:8080/",
          "height": 34
        },
        "outputId": "e434c8cc-026e-431b-9cfe-abbcccaba8d4"
      },
      "source": [
        "# To view the slope\n",
        "\n",
        "slope = lm.coef_\n",
        "slope"
      ],
      "execution_count": null,
      "outputs": [
        {
          "output_type": "execute_result",
          "data": {
            "text/plain": [
              "array([-821.73337832])"
            ]
          },
          "metadata": {
            "tags": []
          },
          "execution_count": 23
        }
      ]
    },
    {
      "cell_type": "markdown",
      "metadata": {
        "id": "pL6QGM1lhCjq",
        "colab_type": "text"
      },
      "source": [
        "#### The relationship between Highway-mpg and Price is given by;  \n",
        "<h3>$y = b_0 + b_1x$</h3> \n",
        "<h4>This is same as yhat(Price)  =  intercept  +  slope * Highway-mpg</h4>  \n",
        "$Price(Yhat) = 38423.3059 + (-821.7334)* Highway-mpg(X)$"
      ]
    },
    {
      "cell_type": "code",
      "metadata": {
        "id": "eyEwwTe4hCjs",
        "colab_type": "code",
        "colab": {}
      },
      "source": [
        ""
      ],
      "execution_count": null,
      "outputs": []
    },
    {
      "cell_type": "markdown",
      "metadata": {
        "id": "FXK7TyCAhCjv",
        "colab_type": "text"
      },
      "source": [
        "### Multiple Linear Regression"
      ]
    },
    {
      "cell_type": "markdown",
      "metadata": {
        "id": "3MzQUUXXhCjw",
        "colab_type": "text"
      },
      "source": [
        "**This method is used to explain the relationship between:-**  \n",
        "    **One continous Target variable(Y) and,**\n",
        "    **Two or more Independent or Predictor variables(X).**"
      ]
    },
    {
      "cell_type": "markdown",
      "metadata": {
        "id": "5i6YhnaFhCjz",
        "colab_type": "text"
      },
      "source": [
        "<u><h3>Fitting a Multiple Linear Regression Model in Python</h3></u> "
      ]
    },
    {
      "cell_type": "markdown",
      "metadata": {
        "id": "hzAEcSxIhCj0",
        "colab_type": "text"
      },
      "source": [
        "**1. Let's extract our multiple variables, for example:- horsepower, curb-weight, engine-size, highway-mpg.**"
      ]
    },
    {
      "cell_type": "code",
      "metadata": {
        "id": "K3OxImxxhCj1",
        "colab_type": "code",
        "colab": {}
      },
      "source": [
        "predictors = adjusted_df[['horsepower','curb-weight','engine-size','highway-mpg']]\n",
        "target = adjusted_df[['price']]"
      ],
      "execution_count": null,
      "outputs": []
    },
    {
      "cell_type": "code",
      "metadata": {
        "id": "YethUwFjWEMC",
        "colab_type": "code",
        "colab": {
          "base_uri": "https://localhost:8080/",
          "height": 195
        },
        "outputId": "d9240d1c-fa11-4c1d-c225-838f71e6cecf"
      },
      "source": [
        "predictors.head()"
      ],
      "execution_count": null,
      "outputs": [
        {
          "output_type": "execute_result",
          "data": {
            "text/html": [
              "<div>\n",
              "<style scoped>\n",
              "    .dataframe tbody tr th:only-of-type {\n",
              "        vertical-align: middle;\n",
              "    }\n",
              "\n",
              "    .dataframe tbody tr th {\n",
              "        vertical-align: top;\n",
              "    }\n",
              "\n",
              "    .dataframe thead th {\n",
              "        text-align: right;\n",
              "    }\n",
              "</style>\n",
              "<table border=\"1\" class=\"dataframe\">\n",
              "  <thead>\n",
              "    <tr style=\"text-align: right;\">\n",
              "      <th></th>\n",
              "      <th>horsepower</th>\n",
              "      <th>curb-weight</th>\n",
              "      <th>engine-size</th>\n",
              "      <th>highway-mpg</th>\n",
              "    </tr>\n",
              "  </thead>\n",
              "  <tbody>\n",
              "    <tr>\n",
              "      <th>0</th>\n",
              "      <td>111</td>\n",
              "      <td>2548</td>\n",
              "      <td>130</td>\n",
              "      <td>27</td>\n",
              "    </tr>\n",
              "    <tr>\n",
              "      <th>1</th>\n",
              "      <td>111</td>\n",
              "      <td>2548</td>\n",
              "      <td>130</td>\n",
              "      <td>27</td>\n",
              "    </tr>\n",
              "    <tr>\n",
              "      <th>2</th>\n",
              "      <td>154</td>\n",
              "      <td>2823</td>\n",
              "      <td>152</td>\n",
              "      <td>26</td>\n",
              "    </tr>\n",
              "    <tr>\n",
              "      <th>3</th>\n",
              "      <td>102</td>\n",
              "      <td>2337</td>\n",
              "      <td>109</td>\n",
              "      <td>30</td>\n",
              "    </tr>\n",
              "    <tr>\n",
              "      <th>4</th>\n",
              "      <td>115</td>\n",
              "      <td>2824</td>\n",
              "      <td>136</td>\n",
              "      <td>22</td>\n",
              "    </tr>\n",
              "  </tbody>\n",
              "</table>\n",
              "</div>"
            ],
            "text/plain": [
              "   horsepower  curb-weight  engine-size  highway-mpg\n",
              "0         111         2548          130           27\n",
              "1         111         2548          130           27\n",
              "2         154         2823          152           26\n",
              "3         102         2337          109           30\n",
              "4         115         2824          136           22"
            ]
          },
          "metadata": {
            "tags": []
          },
          "execution_count": 78
        }
      ]
    },
    {
      "cell_type": "code",
      "metadata": {
        "id": "Z7NgeK7SWJwH",
        "colab_type": "code",
        "colab": {
          "base_uri": "https://localhost:8080/",
          "height": 195
        },
        "outputId": "fc591f92-d267-422c-9f31-0cfefe587cf9"
      },
      "source": [
        "target.head()"
      ],
      "execution_count": null,
      "outputs": [
        {
          "output_type": "execute_result",
          "data": {
            "text/html": [
              "<div>\n",
              "<style scoped>\n",
              "    .dataframe tbody tr th:only-of-type {\n",
              "        vertical-align: middle;\n",
              "    }\n",
              "\n",
              "    .dataframe tbody tr th {\n",
              "        vertical-align: top;\n",
              "    }\n",
              "\n",
              "    .dataframe thead th {\n",
              "        text-align: right;\n",
              "    }\n",
              "</style>\n",
              "<table border=\"1\" class=\"dataframe\">\n",
              "  <thead>\n",
              "    <tr style=\"text-align: right;\">\n",
              "      <th></th>\n",
              "      <th>price</th>\n",
              "    </tr>\n",
              "  </thead>\n",
              "  <tbody>\n",
              "    <tr>\n",
              "      <th>0</th>\n",
              "      <td>13495</td>\n",
              "    </tr>\n",
              "    <tr>\n",
              "      <th>1</th>\n",
              "      <td>16500</td>\n",
              "    </tr>\n",
              "    <tr>\n",
              "      <th>2</th>\n",
              "      <td>16500</td>\n",
              "    </tr>\n",
              "    <tr>\n",
              "      <th>3</th>\n",
              "      <td>13950</td>\n",
              "    </tr>\n",
              "    <tr>\n",
              "      <th>4</th>\n",
              "      <td>17450</td>\n",
              "    </tr>\n",
              "  </tbody>\n",
              "</table>\n",
              "</div>"
            ],
            "text/plain": [
              "   price\n",
              "0  13495\n",
              "1  16500\n",
              "2  16500\n",
              "3  13950\n",
              "4  17450"
            ]
          },
          "metadata": {
            "tags": []
          },
          "execution_count": 79
        }
      ]
    },
    {
      "cell_type": "markdown",
      "metadata": {
        "id": "3OHghvg5hCj5",
        "colab_type": "text"
      },
      "source": [
        "**2. Let's train our model as before using the predictor and target variables.**"
      ]
    },
    {
      "cell_type": "code",
      "metadata": {
        "id": "ITDk4cN6hCj6",
        "colab_type": "code",
        "colab": {}
      },
      "source": [
        "dm = LinearRegression()"
      ],
      "execution_count": null,
      "outputs": []
    },
    {
      "cell_type": "code",
      "metadata": {
        "id": "fPHhxoWOhCj_",
        "colab_type": "code",
        "colab": {
          "base_uri": "https://localhost:8080/",
          "height": 50
        },
        "outputId": "f25d7217-7b01-4a49-bbad-ebc801aeda60"
      },
      "source": [
        "dm.fit(predictors, target)"
      ],
      "execution_count": null,
      "outputs": [
        {
          "output_type": "execute_result",
          "data": {
            "text/plain": [
              "LinearRegression(copy_X=True, fit_intercept=True, n_jobs=None,\n",
              "         normalize=False)"
            ]
          },
          "metadata": {
            "tags": []
          },
          "execution_count": 26
        }
      ]
    },
    {
      "cell_type": "markdown",
      "metadata": {
        "id": "jhcLJjHdhCkC",
        "colab_type": "text"
      },
      "source": [
        "**3. We can also obtain a prediction using .predict() method.**"
      ]
    },
    {
      "cell_type": "code",
      "metadata": {
        "id": "N0K1-oF1hCkD",
        "colab_type": "code",
        "colab": {
          "base_uri": "https://localhost:8080/",
          "height": 3394
        },
        "outputId": "6a79e3e4-0cf5-40c2-ef80-26252ca1b087"
      },
      "source": [
        "y_hat = dm.predict(predictors)\n",
        "y_hat[:10]"
      ],
      "execution_count": null,
      "outputs": [
        {
          "output_type": "execute_result",
          "data": {
            "text/plain": [
              "array([[13698.85778289],\n",
              "       [13698.85778289],\n",
              "       [19060.76025662],\n",
              "       [10622.56954462],\n",
              "       [15517.80397408],\n",
              "       [13866.3588934 ],\n",
              "       [15453.85157065],\n",
              "       [15972.02425462],\n",
              "       [17616.00370851],\n",
              "       [10723.68588681],\n",
              "       [10723.68588681],\n",
              "       [17803.79147047],\n",
              "       [18062.87781246],\n",
              "       [19318.18046058],\n",
              "       [26975.16641031],\n",
              "       [27681.76552481],\n",
              "       [28196.73880474],\n",
              "       [  661.58360623],\n",
              "       [ 5654.06306047],\n",
              "       [ 5818.93618719],\n",
              "       [ 5482.04322973],\n",
              "       [ 5371.25425648],\n",
              "       [ 8742.84597963],\n",
              "       [ 5799.92438595],\n",
              "       [ 5903.55892274],\n",
              "       [ 5903.55892274],\n",
              "       [ 9039.61760772],\n",
              "       [11860.1657957 ],\n",
              "       [18771.78037028],\n",
              "       [ 4819.14470406],\n",
              "       [ 5695.83675197],\n",
              "       [ 4009.73430516],\n",
              "       [ 6118.10807334],\n",
              "       [ 6193.47864556],\n",
              "       [ 6447.85432678],\n",
              "       [ 6513.80357747],\n",
              "       [ 9478.30849252],\n",
              "       [ 9727.97351298],\n",
              "       [ 9798.63342443],\n",
              "       [10118.95835634],\n",
              "       [11179.2652944 ],\n",
              "       [10426.02969796],\n",
              "       [ 9457.42065748],\n",
              "       [12624.09524878],\n",
              "       [34467.43321646],\n",
              "       [34467.43321646],\n",
              "       [44007.09183834],\n",
              "       [ 5260.07730888],\n",
              "       [ 5565.69152075],\n",
              "       [ 5589.24482457],\n",
              "       [ 5777.67125511],\n",
              "       [ 5801.22455892],\n",
              "       [ 7338.95460277],\n",
              "       [ 7338.95460277],\n",
              "       [ 7362.50790658],\n",
              "       [10546.93917904],\n",
              "       [11012.26232314],\n",
              "       [11130.02884222],\n",
              "       [11012.26232314],\n",
              "       [11130.02884222],\n",
              "       [10578.95885715],\n",
              "       [11200.68875367],\n",
              "       [15571.490721  ],\n",
              "       [13085.71391859],\n",
              "       [23138.91296155],\n",
              "       [24245.91824094],\n",
              "       [23044.69974628],\n",
              "       [24340.1314562 ],\n",
              "       [29812.06512092],\n",
              "       [29552.97877894],\n",
              "       [38074.0722011 ],\n",
              "       [36877.07433608],\n",
              "       [19549.76084227],\n",
              "       [ 5842.65379369],\n",
              "       [ 5854.34200029],\n",
              "       [ 6136.98164609],\n",
              "       [ 8822.92721261],\n",
              "       [11612.47561319],\n",
              "       [10958.91833318],\n",
              "       [18875.41490707],\n",
              "       [19289.95305424],\n",
              "       [19313.50635806],\n",
              "       [11133.21278142],\n",
              "       [11321.63921196],\n",
              "       [11767.92741838],\n",
              "       [11767.92741838],\n",
              "       [ 6019.0239487 ],\n",
              "       [ 6837.28965541],\n",
              "       [ 6155.63311083],\n",
              "       [ 6249.8463261 ],\n",
              "       [ 6654.96315175],\n",
              "       [ 6311.08491603],\n",
              "       [ 6673.8057948 ],\n",
              "       [ 6405.29813129],\n",
              "       [ 6716.20174167],\n",
              "       [ 6579.59257954],\n",
              "       [11335.29045921],\n",
              "       [11231.65592242],\n",
              "       [22446.82028903],\n",
              "       [23393.66310247],\n",
              "       [22392.73613556],\n",
              "       [22874.88075106],\n",
              "       [25272.98310297],\n",
              "       [23195.20568297],\n",
              "       [14244.61377301],\n",
              "       [17907.39080149],\n",
              "       [15233.85253332],\n",
              "       [18709.53749736],\n",
              "       [14396.11827822],\n",
              "       [18166.47714348],\n",
              "       [15385.35703853],\n",
              "       [18968.62383935],\n",
              "       [14503.700115  ],\n",
              "       [18166.47714348],\n",
              "       [18322.71746772],\n",
              "       [ 5679.89098179],\n",
              "       [ 8742.84597963],\n",
              "       [ 5799.92438595],\n",
              "       [ 5903.55892274],\n",
              "       [ 7506.16364454],\n",
              "       [11860.1657957 ],\n",
              "       [18804.75499562],\n",
              "       [18212.62867181],\n",
              "       [24977.15405216],\n",
              "       [24977.15405216],\n",
              "       [25184.42312575],\n",
              "       [13671.25144396],\n",
              "       [13110.68281312],\n",
              "       [13467.73655266],\n",
              "       [13642.03100091],\n",
              "       [13698.55893007],\n",
              "       [13938.802629  ],\n",
              "       [16790.02227104],\n",
              "       [16973.73804081],\n",
              "       [ 6740.51067385],\n",
              "       [ 7995.96777754],\n",
              "       [ 8561.24706914],\n",
              "       [ 8819.4305086 ],\n",
              "       [ 8883.69161196],\n",
              "       [10198.85208936],\n",
              "       [ 9506.83319882],\n",
              "       [11803.32105847],\n",
              "       [ 9317.82803055],\n",
              "       [10703.6484194 ],\n",
              "       [ 9819.42495654],\n",
              "       [12241.23561885],\n",
              "       [ 5761.66323901],\n",
              "       [ 5983.81992325],\n",
              "       [ 5866.05340417],\n",
              "       [ 7077.4488487 ],\n",
              "       [ 6939.9071676 ],\n",
              "       [10802.64899354],\n",
              "       [ 7058.6431396 ],\n",
              "       [ 7190.54164097],\n",
              "       [ 8159.08568392],\n",
              "       [ 8565.31191915],\n",
              "       [ 7489.17830701],\n",
              "       [ 7140.99125765],\n",
              "       [ 7225.78315139],\n",
              "       [ 7362.39231353],\n",
              "       [ 7527.26544024],\n",
              "       [ 9889.18603034],\n",
              "       [10054.05915705],\n",
              "       [15343.01855716],\n",
              "       [15324.17591411],\n",
              "       [15394.83582556],\n",
              "       [15997.80040327],\n",
              "       [16162.67352999],\n",
              "       [17392.15598922],\n",
              "       [11238.5200007 ],\n",
              "       [ 9928.42777974],\n",
              "       [11579.19883238],\n",
              "       [11579.19883238],\n",
              "       [11786.46790596],\n",
              "       [21630.41517968],\n",
              "       [21818.84161021],\n",
              "       [22091.61300606],\n",
              "       [21372.01216183],\n",
              "       [ 7189.31105981],\n",
              "       [ 9252.87798532],\n",
              "       [ 7203.4430421 ],\n",
              "       [ 9267.00996761],\n",
              "       [ 9563.7815957 ],\n",
              "       [ 8175.46544729],\n",
              "       [10414.5525751 ],\n",
              "       [ 9549.16402287],\n",
              "       [ 9393.71221768],\n",
              "       [14554.87099321],\n",
              "       [ 9252.51861477],\n",
              "       [10971.03567747],\n",
              "       [16507.03617911],\n",
              "       [17081.73679223],\n",
              "       [16615.38137666],\n",
              "       [17119.42207834],\n",
              "       [18598.74473128],\n",
              "       [19126.33873678],\n",
              "       [16695.46260964],\n",
              "       [19515.98997626],\n",
              "       [20473.47732485],\n",
              "       [17802.05633088],\n",
              "       [17102.84632036]])"
            ]
          },
          "metadata": {
            "tags": []
          },
          "execution_count": 27
        }
      ]
    },
    {
      "cell_type": "markdown",
      "metadata": {
        "id": "Y75dbwEehCkG",
        "colab_type": "text"
      },
      "source": [
        "**4. The intercept $b_0$ is an attribute of the object.**"
      ]
    },
    {
      "cell_type": "code",
      "metadata": {
        "id": "T5F1UxpthCkG",
        "colab_type": "code",
        "colab": {
          "base_uri": "https://localhost:8080/",
          "height": 34
        },
        "outputId": "4e50de10-59ed-4092-9952-e89c0eae4b89"
      },
      "source": [
        "prd_intacpt = dm.intercept_ \n",
        "prd_intacpt"
      ],
      "execution_count": null,
      "outputs": [
        {
          "output_type": "execute_result",
          "data": {
            "text/plain": [
              "array([-15851.38131585])"
            ]
          },
          "metadata": {
            "tags": []
          },
          "execution_count": 28
        }
      ]
    },
    {
      "cell_type": "markdown",
      "metadata": {
        "id": "-ER1yGexhCkJ",
        "colab_type": "text"
      },
      "source": [
        "**5. The slope $b_1$ is also an attribute of the object.**  \n",
        "**Note that the slope or coefficient of each variable is returned in a 2D array in multiple linear regression model.**"
      ]
    },
    {
      "cell_type": "code",
      "metadata": {
        "id": "lwHmfceEhCkK",
        "colab_type": "code",
        "colab": {
          "base_uri": "https://localhost:8080/",
          "height": 34
        },
        "outputId": "9d0d0bc0-9a50-47d7-82e4-1b7145ba9d2b"
      },
      "source": [
        "prd_slope = dm.coef_\n",
        "prd_slope"
      ],
      "execution_count": null,
      "outputs": [
        {
          "output_type": "execute_result",
          "data": {
            "text/plain": [
              "array([[53.79091839,  4.71066076, 81.38140595, 36.92965775]])"
            ]
          },
          "metadata": {
            "tags": []
          },
          "execution_count": 29
        }
      ]
    },
    {
      "cell_type": "markdown",
      "metadata": {
        "id": "kWVChwcehCkP",
        "colab_type": "text"
      },
      "source": [
        "<h3>Let's visualize the multiple linear regression equation, replacing the independent var names with actual names.</h3> "
      ]
    },
    {
      "cell_type": "markdown",
      "metadata": {
        "id": "2p6zXWEthCkP",
        "colab_type": "text"
      },
      "source": [
        "### The Estimated Linear Model for Multiple Linear Regression is:  \n",
        "<h3>$y^$ $= b_0 + b_1x_1 + b_2x_2 + b_3x_3 + b_4x_4$.</h3>  \n",
        "\n",
        "_($y^$ is the predicted variable, $b_0$ is the intercept, $b_1$ is the coef or slope of var $x_1$, same as $b_2$$x_2$...$b_n$$x_n$.)_ \n",
        "\n",
        "_**which can be further wriiten as the following, in response to our four independent variables**_  \n",
        "\n",
        "\n",
        "**Price** $= -15851.38 + (53.79*horsepower) + (4.71*curb-weight) + (81.38*engine-size) + (36.93*highway-mpg)$ >"
      ]
    },
    {
      "cell_type": "code",
      "metadata": {
        "id": "FlVBgwvshCkR",
        "colab_type": "code",
        "colab": {}
      },
      "source": [
        ""
      ],
      "execution_count": null,
      "outputs": []
    },
    {
      "cell_type": "markdown",
      "metadata": {
        "id": "y96EMxalhCkV",
        "colab_type": "text"
      },
      "source": [
        "<h3>Model Evaluation using Visualization</h3>"
      ]
    },
    {
      "cell_type": "markdown",
      "metadata": {
        "id": "c9_AanVkhCkW",
        "colab_type": "text"
      },
      "source": [
        "<h3><u>Residual Plot:</u></h3>  \n",
        "\n",
        "**This represents the error between the actual value. Examining the predicted value and actual value, we see a difference.**  \n",
        "**We obtain that value by subtracting the predicted value from the actual target value.  \n",
        "We then plot that value on the vertical axis. With the dependent(target) variable on the horizontal axis.**  \n",
        "\n",
        "**Similarly, for the second variable we repeat the process above.**  \n",
        "\n",
        "<h4><u>Indication:<u></h4>  \n",
        "    \n",
        " * _we expect to see the results to have zero mean, distributed evenly along the x axis with similar variance._ \n",
        " * _There should be no curvature and the variance should be uniform all across, not rising or falling at some point_  \n",
        " * _When we look at a regression plot, the residual is the distance from the data point to the fitted regression line._  \n",
        " \n",
        "<p>So what is a <b>Residual plot</b>?</p>\n",
        "\n",
        "<p>A residual plot is a graph that shows the residuals on the vertical y-axis and the independent variable on the horizontal x-axis.</p>\n",
        "\n",
        "<p>What do we pay attention to when looking at a residual plot?</p>\n",
        "\n",
        "<p>We look at the spread of the residuals:</p>\n",
        "\n",
        "<p>- If the points in a residual plot are <b>randomly spread out around the x-axis</b>, then a <b>linear model is appropriate</b> for the data. Why is that? Randomly spread out residuals means that the variance is constant, and thus the linear model is a good fit for this data.</p>\n",
        "<b>Residual plots are ideal for visualizing the spread of the data in Simple Linear Regression Models</b>"
      ]
    },
    {
      "cell_type": "markdown",
      "metadata": {
        "id": "WyOhxLiJhCkX",
        "colab_type": "text"
      },
      "source": [
        "<u><b>Plotting a Residual Plot</b></u>"
      ]
    },
    {
      "cell_type": "code",
      "metadata": {
        "id": "hWPGE04ahCkY",
        "colab_type": "code",
        "colab": {
          "base_uri": "https://localhost:8080/",
          "height": 621
        },
        "outputId": "5020b728-5581-4eae-fb4a-80e6c3349ec9"
      },
      "source": [
        "plt.figure(figsize=(12,10))\n",
        "plt.title('Residplot for Highway-mpg and Price')\n",
        "sns.residplot(adjusted_df['highway-mpg'], target)\n",
        "plt.show()"
      ],
      "execution_count": null,
      "outputs": [
        {
          "output_type": "display_data",
          "data": {
            "image/png": "[encoded data removed]",
            "text/plain": [
              "<Figure size 864x720 with 1 Axes>"
            ]
          },
          "metadata": {
            "tags": []
          }
        }
      ]
    },
    {
      "cell_type": "code",
      "metadata": {
        "id": "48L8K2p2hCkc",
        "colab_type": "code",
        "colab": {}
      },
      "source": [
        ""
      ],
      "execution_count": null,
      "outputs": []
    },
    {
      "cell_type": "markdown",
      "metadata": {
        "id": "IH1mzeNzhCke",
        "colab_type": "text"
      },
      "source": [
        "<h3><u>Distribution Plots:</u></h3>  \n",
        "    \n",
        "   **Distplots count the predicted values versus the actual values.**  \n",
        "   **Distplots are extremely useful for visualizing models with morethan one independent variable or feature** "
      ]
    },
    {
      "cell_type": "code",
      "metadata": {
        "id": "r7X9E50ihCkf",
        "colab_type": "code",
        "colab": {
          "base_uri": "https://localhost:8080/",
          "height": 530
        },
        "outputId": "4872ad92-86e4-445d-f458-55ca04b2d9d1"
      },
      "source": [
        "plt.figure(figsize=(10,8))\n",
        "plt.title('Distplot for Single Linear Regression Model-lm: Highway-mpg')\n",
        "plt.ylabel('Highway-mpg')\n",
        "ax1 = sns.distplot(adjusted_df['price'], hist=False, color='r', label='Actual Value')\n",
        "sns.distplot(Yhat, hist=False, color='b', ax = ax1, label='Fitted Value')"
      ],
      "execution_count": null,
      "outputs": [
        {
          "output_type": "execute_result",
          "data": {
            "text/plain": [
              "<matplotlib.axes._subplots.AxesSubplot at 0x7f3548591ef0>"
            ]
          },
          "metadata": {
            "tags": []
          },
          "execution_count": 31
        },
        {
          "output_type": "display_data",
          "data": {
            "image/png": "[encoded data removed]",
            "text/plain": [
              "<Figure size 720x576 with 1 Axes>"
            ]
          },
          "metadata": {
            "tags": []
          }
        }
      ]
    },
    {
      "cell_type": "markdown",
      "metadata": {
        "id": "bPJg2vN8hCkh",
        "colab_type": "text"
      },
      "source": [
        "_**The Distplot above for SLR has no values for car price from 30000 - 50000. This suggests that either a Non-linear model may be suitable for the model or we simply need more data to make the model more accurate.**_"
      ]
    },
    {
      "cell_type": "code",
      "metadata": {
        "id": "zPkbCcK3hCki",
        "colab_type": "code",
        "colab": {
          "base_uri": "https://localhost:8080/",
          "height": 499
        },
        "outputId": "2b2f2217-c3a7-4391-8a70-ecd00dcda998"
      },
      "source": [
        "plt.figure(figsize=(10,8))\n",
        "plt.title('SLR Model Scatter plot- Highway-mpg and Price')\n",
        "plt.scatter(X,Y, color = 'r')\n",
        "plt.plot(X, Yhat, color='b')\n",
        "plt.show()"
      ],
      "execution_count": null,
      "outputs": [
        {
          "output_type": "display_data",
          "data": {
            "image/png": "[encoded data removed]",
            "text/plain": [
              "<Figure size 720x576 with 1 Axes>"
            ]
          },
          "metadata": {
            "tags": []
          }
        }
      ]
    },
    {
      "cell_type": "code",
      "metadata": {
        "id": "N0dDRpWUhCkl",
        "colab_type": "code",
        "colab": {
          "base_uri": "https://localhost:8080/",
          "height": 530
        },
        "outputId": "6e223ef0-f4ea-4e61-a4b8-d6bca98fbe72"
      },
      "source": [
        "#First set the size,title and labels\n",
        "plt.figure(figsize=(10,8))\n",
        "plt.title('Regplot for Single Linear Regression Model- Highway mpg')\n",
        "plt.xlabel('Highway-mpg')\n",
        "\n",
        "# next let's convert Y from a dataframe to a pandas series so we can fit it in the regplot\n",
        "Yh = Y.squeeze()\n",
        "\n",
        "# Then plot using regplot\n",
        "sns.regplot(Yhat, Yh , line_kws={'color':'red', 'linewidth':2.5})\n",
        "\n",
        "plt.ylim(0,)"
      ],
      "execution_count": null,
      "outputs": [
        {
          "output_type": "execute_result",
          "data": {
            "text/plain": [
              "(0, 48264.00707227395)"
            ]
          },
          "metadata": {
            "tags": []
          },
          "execution_count": 76
        },
        {
          "output_type": "display_data",
          "data": {
            "image/png": "[encoded data removed]",
            "text/plain": [
              "<Figure size 720x576 with 1 Axes>"
            ]
          },
          "metadata": {
            "tags": []
          }
        }
      ]
    },
    {
      "cell_type": "code",
      "metadata": {
        "id": "diY1-7djhCkp",
        "colab_type": "code",
        "colab": {
          "base_uri": "https://localhost:8080/",
          "height": 516
        },
        "outputId": "e70bc202-5cf5-431c-a5cb-0fe017af82b6"
      },
      "source": [
        "plt.figure(figsize=(10,8))\n",
        "plt.title('Distplot for MLR Model-dm:- horsepower, curb-weight, engine-size, highway-mpg')\n",
        "ax1 = sns.distplot(target, hist=False, color='r', label='Actual Value')\n",
        "sns.distplot(y_hat, hist=False, color='b', ax = ax1, label='Fitted Value')"
      ],
      "execution_count": null,
      "outputs": [
        {
          "output_type": "execute_result",
          "data": {
            "text/plain": [
              "<matplotlib.axes._subplots.AxesSubplot at 0x7f35438e2f98>"
            ]
          },
          "metadata": {
            "tags": []
          },
          "execution_count": 34
        },
        {
          "output_type": "display_data",
          "data": {
            "image/png": "[encoded data removed]",
            "text/plain": [
              "<Figure size 720x576 with 1 Axes>"
            ]
          },
          "metadata": {
            "tags": []
          }
        }
      ]
    },
    {
      "cell_type": "code",
      "metadata": {
        "id": "EAkbU5NqhCkt",
        "colab_type": "code",
        "colab": {
          "base_uri": "https://localhost:8080/",
          "height": 516
        },
        "outputId": "71c73842-a878-44b5-e620-7c741e79f87c"
      },
      "source": [
        "#First set the size,\n",
        "plt.figure(figsize=(10,8))\n",
        "plt.title('Regplot for MLR Model:- horsepower, curb-weight, engine-size, highway-mpg')\n",
        "\n",
        "# next let's convert target from a dataframe to a pandas series, so we can fit it in the regplot\n",
        "Yh = target.squeeze()\n",
        "\n",
        "# Then plot using regplot\n",
        "sns.regplot(y_hat, Yh, color='r', line_kws={'color':'navy','linewidth':2.5})\n",
        "\n",
        "plt.ylim(0,)"
      ],
      "execution_count": null,
      "outputs": [
        {
          "output_type": "execute_result",
          "data": {
            "text/plain": [
              "(0, 52410.725281170555)"
            ]
          },
          "metadata": {
            "tags": []
          },
          "execution_count": 77
        },
        {
          "output_type": "display_data",
          "data": {
            "image/png": "[encoded data removed]",
            "text/plain": [
              "<Figure size 720x576 with 1 Axes>"
            ]
          },
          "metadata": {
            "tags": []
          }
        }
      ]
    },
    {
      "cell_type": "markdown",
      "metadata": {
        "id": "u7TT7tlbhCkx",
        "colab_type": "text"
      },
      "source": [
        "<u><h3>Polynomial Regression and Pipelines</h3></u>  \n",
        "\n",
        "What do we do when a linear model is not the best fit for our data?  \n",
        "We transform our data into a <b>Polynomial</b>, then use linear regression to fit the parameter.\n",
        "\n",
        "<b>Pipelines</b> are a way to simplify our code\n",
        "\n",
        "<b>Polynomial</b> regression is a special case of linear regresion. This method is better fit for describing curvilinear relations. <b>A Curvilinear relationship</b> is what we get by squaring or setting higher order terms for the predictor variables, transforming the data. \n",
        "\n",
        "<u><h4>Common types of Polynomial Regression Models:<h4></u>\n",
        "    <b>1. Quadratic model:</b>   \n",
        "    $y^$  =  $b_0 + b_1x^2 + b_2x^2.$\n",
        "    \n",
        "    \n",
        "_This means the predictor variable is Squared in the model. This is a Second order Polynomial Regression._\n",
        "    \n",
        "  \n",
        "   <b>2. Cubic model:</b>   \n",
        "    $y^$  =  $b_0 + b_1x^2 + b_2x^2 + b_3x^3.$\n",
        "    \n",
        "    \n",
        "_This means the predictor variable is Cubed in the model. This is a Third Order Polynomial Regression._\n",
        "\n",
        "\n",
        "<b>3. Higher Order:</b>   \n",
        "    $y^$  =  $b_0 + b_1x^2 + b_2x^2 + b_3x^3 +...$\n",
        "    \n",
        "    \n",
        "_There also exists Higher Order Polynomial Regression, when a good fit hasn't been achieved by 2nd or 3rd Order ._\n",
        "    \n",
        "    \n",
        "\n",
        "\n",
        "**The degree of the regression makes a big difference and can result in a better fit if we pick the right value.**  \n",
        "**In all cases, the relationship between the variable and the parameters or coefficients is always linear.**"
      ]
    },
    {
      "cell_type": "markdown",
      "metadata": {
        "id": "-qHYLoTzhCky",
        "colab_type": "text"
      },
      "source": [
        "<h3>PLR Model for Highway-mpg and Price</h3>"
      ]
    },
    {
      "cell_type": "markdown",
      "metadata": {
        "id": "ET2Ozt9jhCky",
        "colab_type": "text"
      },
      "source": [
        "<h4>Approach_One</h4>"
      ]
    },
    {
      "cell_type": "code",
      "metadata": {
        "id": "frUhZb06hCkz",
        "colab_type": "code",
        "colab": {}
      },
      "source": [
        "from sklearn.preprocessing import PolynomialFeatures"
      ],
      "execution_count": null,
      "outputs": []
    },
    {
      "cell_type": "code",
      "metadata": {
        "id": "KVm5i-m7hCk2",
        "colab_type": "code",
        "colab": {
          "base_uri": "https://localhost:8080/",
          "height": 34
        },
        "outputId": "cf891305-cd06-4a91-aff9-c2a5d6d3d52f"
      },
      "source": [
        "poly = PolynomialFeatures(degree=6)\n",
        "poly"
      ],
      "execution_count": null,
      "outputs": [
        {
          "output_type": "execute_result",
          "data": {
            "text/plain": [
              "PolynomialFeatures(degree=6, include_bias=True, interaction_only=False)"
            ]
          },
          "metadata": {
            "tags": []
          },
          "execution_count": 37
        }
      ]
    },
    {
      "cell_type": "code",
      "metadata": {
        "id": "1Mj6x8uQhCk7",
        "colab_type": "code",
        "colab": {}
      },
      "source": [
        "# remember we defined highway-mpg as X before, so we just use it here\n",
        "\n",
        "X_poly = poly.fit_transform(X)"
      ],
      "execution_count": null,
      "outputs": []
    },
    {
      "cell_type": "code",
      "metadata": {
        "id": "e10O8kLrhCk-",
        "colab_type": "code",
        "colab": {}
      },
      "source": [
        "# Let's now create a new Linear Regression Model\n",
        "\n",
        "lm3 = LinearRegression()"
      ],
      "execution_count": null,
      "outputs": []
    },
    {
      "cell_type": "code",
      "metadata": {
        "id": "HLspG7xGhClB",
        "colab_type": "code",
        "colab": {
          "base_uri": "https://localhost:8080/",
          "height": 50
        },
        "outputId": "869aa4ac-ceb4-4e30-9e17-2666a6717174"
      },
      "source": [
        "# let's train the new linear model with the polynomial features of X the predictor variable and Y the target\n",
        "\n",
        "lm3.fit(X_poly, Y)"
      ],
      "execution_count": null,
      "outputs": [
        {
          "output_type": "execute_result",
          "data": {
            "text/plain": [
              "LinearRegression(copy_X=True, fit_intercept=True, n_jobs=None,\n",
              "         normalize=False)"
            ]
          },
          "metadata": {
            "tags": []
          },
          "execution_count": 40
        }
      ]
    },
    {
      "cell_type": "code",
      "metadata": {
        "id": "8-sbUz4GhClE",
        "colab_type": "code",
        "colab": {}
      },
      "source": [
        "result = lm3.predict(X_poly)"
      ],
      "execution_count": null,
      "outputs": []
    },
    {
      "cell_type": "markdown",
      "metadata": {
        "id": "_yokWrHihClG",
        "colab_type": "text"
      },
      "source": [
        "<h4>Visualizing PLR model Distplot of Highway-mpg and Price</h4>"
      ]
    },
    {
      "cell_type": "code",
      "metadata": {
        "id": "LiN4gUVUhClG",
        "colab_type": "code",
        "colab": {
          "base_uri": "https://localhost:8080/",
          "height": 513
        },
        "outputId": "c585b8bd-1bee-4143-dc0f-b452267fa9bd"
      },
      "source": [
        "plt.figure(figsize=(10,8))\n",
        "plt.title('PLR Distplot for SLR Model-lm3: Highway-mpg and Price')\n",
        "ax1 = sns.distplot(Y, hist=False, color='r', label='Target')\n",
        "sns.distplot(result, hist=False, color='b', label='Fitted', ax=ax1)\n",
        "plt.show()"
      ],
      "execution_count": null,
      "outputs": [
        {
          "output_type": "display_data",
          "data": {
            "image/png": "[encoded data removed]",
            "text/plain": [
              "<Figure size 720x576 with 1 Axes>"
            ]
          },
          "metadata": {
            "tags": []
          }
        }
      ]
    },
    {
      "cell_type": "code",
      "metadata": {
        "id": "MqOv2ux5hClJ",
        "colab_type": "code",
        "colab": {
          "base_uri": "https://localhost:8080/",
          "height": 499
        },
        "outputId": "979bcd3d-9102-4db5-fa95-9e6236eb7a93"
      },
      "source": [
        "plt.figure(figsize=(10,8))\n",
        "plt.title('Regplot showing PLR for SLR Model highway-mpg and Price')\n",
        "Yh = Y.squeeze()\n",
        "sns.regplot(result,Yh,color='b')\n",
        "plt.show()"
      ],
      "execution_count": null,
      "outputs": [
        {
          "output_type": "display_data",
          "data": {
            "image/png": "[encoded data removed]",
            "text/plain": [
              "<Figure size 720x576 with 1 Axes>"
            ]
          },
          "metadata": {
            "tags": []
          }
        }
      ]
    },
    {
      "cell_type": "code",
      "metadata": {
        "id": "HayxrXyfhClL",
        "colab_type": "code",
        "colab": {
          "base_uri": "https://localhost:8080/",
          "height": 34
        },
        "outputId": "b3884ffc-1880-41bd-e0d4-5f01a873ddd3"
      },
      "source": [
        "lm3.score(X_poly,Y)"
      ],
      "execution_count": null,
      "outputs": [
        {
          "output_type": "execute_result",
          "data": {
            "text/plain": [
              "0.6819542423719372"
            ]
          },
          "metadata": {
            "tags": []
          },
          "execution_count": 44
        }
      ]
    },
    {
      "cell_type": "markdown",
      "metadata": {
        "id": "WR5M2Dl2hClN",
        "colab_type": "text"
      },
      "source": [
        "<h4>Approach_Two</h4>"
      ]
    },
    {
      "cell_type": "code",
      "metadata": {
        "id": "-RPOFvq_hClP",
        "colab_type": "code",
        "colab": {
          "base_uri": "https://localhost:8080/",
          "height": 284
        },
        "outputId": "4a08e83c-bdc1-433c-86b3-f79dee2fbc87"
      },
      "source": [
        "# First, let's look at the highway-mpg stats once again\n",
        "\n",
        "adjusted_df[['highway-mpg']].describe()"
      ],
      "execution_count": null,
      "outputs": [
        {
          "output_type": "execute_result",
          "data": {
            "text/html": [
              "<div>\n",
              "<style scoped>\n",
              "    .dataframe tbody tr th:only-of-type {\n",
              "        vertical-align: middle;\n",
              "    }\n",
              "\n",
              "    .dataframe tbody tr th {\n",
              "        vertical-align: top;\n",
              "    }\n",
              "\n",
              "    .dataframe thead th {\n",
              "        text-align: right;\n",
              "    }\n",
              "</style>\n",
              "<table border=\"1\" class=\"dataframe\">\n",
              "  <thead>\n",
              "    <tr style=\"text-align: right;\">\n",
              "      <th></th>\n",
              "      <th>highway-mpg</th>\n",
              "    </tr>\n",
              "  </thead>\n",
              "  <tbody>\n",
              "    <tr>\n",
              "      <th>count</th>\n",
              "      <td>201.000000</td>\n",
              "    </tr>\n",
              "    <tr>\n",
              "      <th>mean</th>\n",
              "      <td>30.686567</td>\n",
              "    </tr>\n",
              "    <tr>\n",
              "      <th>std</th>\n",
              "      <td>6.815150</td>\n",
              "    </tr>\n",
              "    <tr>\n",
              "      <th>min</th>\n",
              "      <td>16.000000</td>\n",
              "    </tr>\n",
              "    <tr>\n",
              "      <th>25%</th>\n",
              "      <td>25.000000</td>\n",
              "    </tr>\n",
              "    <tr>\n",
              "      <th>50%</th>\n",
              "      <td>30.000000</td>\n",
              "    </tr>\n",
              "    <tr>\n",
              "      <th>75%</th>\n",
              "      <td>34.000000</td>\n",
              "    </tr>\n",
              "    <tr>\n",
              "      <th>max</th>\n",
              "      <td>54.000000</td>\n",
              "    </tr>\n",
              "  </tbody>\n",
              "</table>\n",
              "</div>"
            ],
            "text/plain": [
              "       highway-mpg\n",
              "count   201.000000\n",
              "mean     30.686567\n",
              "std       6.815150\n",
              "min      16.000000\n",
              "25%      25.000000\n",
              "50%      30.000000\n",
              "75%      34.000000\n",
              "max      54.000000"
            ]
          },
          "metadata": {
            "tags": []
          },
          "execution_count": 45
        }
      ]
    },
    {
      "cell_type": "code",
      "metadata": {
        "id": "pPQnCrA2hClR",
        "colab_type": "code",
        "colab": {}
      },
      "source": [
        "# Let's set the poly method\n",
        "\n",
        "def plotpoly(model, predictors,target, name):\n",
        "    x_new = np.linspace(15,55,100)\n",
        "    y_new = model(x_new)\n",
        "    \n",
        "    plt.figure(figsize=(8,6))\n",
        "    plt.plot(predictors, target,'.', x_new, y_new,'--')\n",
        "    plt.title(\"Polynomial Fit for Highway-mpg and Price\")\n",
        "    ax = plt.gca()\n",
        "    ax.set_facecolor((0.890, 0.890, 0.890))\n",
        "    #fig = plt.gcf()\n",
        "    plt.xlabel(name)\n",
        "    plt.ylabel('Price of Cars')\n",
        "    \n",
        "    plt.show()\n",
        "    plt.close()"
      ],
      "execution_count": null,
      "outputs": []
    },
    {
      "cell_type": "code",
      "metadata": {
        "id": "rEB9UR3OhClS",
        "colab_type": "code",
        "colab": {}
      },
      "source": [
        "# Let's set the variables\n",
        "\n",
        "X = adjusted_df['highway-mpg']\n",
        "Y = adjusted_df['price'] "
      ],
      "execution_count": null,
      "outputs": []
    },
    {
      "cell_type": "markdown",
      "metadata": {
        "id": "xNOKIV13hClU",
        "colab_type": "text"
      },
      "source": [
        "Let's fit the polynomial using the function <b>polyfit</b>, then use the function <b>poly1d</b> to display the polynomial function."
      ]
    },
    {
      "cell_type": "code",
      "metadata": {
        "id": "WQMYM39ihClU",
        "colab_type": "code",
        "colab": {
          "base_uri": "https://localhost:8080/",
          "height": 50
        },
        "outputId": "41a003eb-fbdc-416b-b154-be0e3f377cfe"
      },
      "source": [
        "# Here we use a polynomial of the third order- cubic model.\n",
        "\n",
        "f = np.polyfit(X,Y,6)\n",
        "p = np.poly1d(f)\n",
        "\n",
        "print(p)"
      ],
      "execution_count": null,
      "outputs": [
        {
          "output_type": "stream",
          "text": [
            "           6          5         4         3             2\n",
            "0.0007207 x - 0.1559 x + 13.69 x - 625.9 x + 1.575e+04 x - 2.088e+05 x + 1.171e+06\n"
          ],
          "name": "stdout"
        }
      ]
    },
    {
      "cell_type": "code",
      "metadata": {
        "scrolled": true,
        "id": "bgmKAWyEhClW",
        "colab_type": "code",
        "colab": {
          "base_uri": "https://localhost:8080/",
          "height": 404
        },
        "outputId": "3c965548-20fa-4c4d-91ad-44aaab893143"
      },
      "source": [
        "# Let's plot the function\n",
        "\n",
        "plotpoly(p, X, Y, 'Highway-mpg')"
      ],
      "execution_count": null,
      "outputs": [
        {
          "output_type": "display_data",
          "data": {
            "image/png": "[encoded data removed]",
            "text/plain": [
              "<Figure size 576x432 with 1 Axes>"
            ]
          },
          "metadata": {
            "tags": []
          }
        }
      ]
    },
    {
      "cell_type": "markdown",
      "metadata": {
        "id": "9oFmWHk-hClY",
        "colab_type": "text"
      },
      "source": [
        "<h3>PLR for MLR</h3>"
      ]
    },
    {
      "cell_type": "code",
      "metadata": {
        "id": "zczVUqduhClZ",
        "colab_type": "code",
        "colab": {
          "base_uri": "https://localhost:8080/",
          "height": 34
        },
        "outputId": "a63d8bff-dc85-44cb-9065-422ec530ae87"
      },
      "source": [
        "# First let's create a polynomial feature model\n",
        "\n",
        "Mpoly = PolynomialFeatures(degree=4)\n",
        "Mpoly"
      ],
      "execution_count": null,
      "outputs": [
        {
          "output_type": "execute_result",
          "data": {
            "text/plain": [
              "PolynomialFeatures(degree=4, include_bias=True, interaction_only=False)"
            ]
          },
          "metadata": {
            "tags": []
          },
          "execution_count": 50
        }
      ]
    },
    {
      "cell_type": "code",
      "metadata": {
        "id": "M7Ra5v12hClb",
        "colab_type": "code",
        "colab": {
          "base_uri": "https://localhost:8080/",
          "height": 34
        },
        "outputId": "d76119a8-9949-4c79-e4f6-53df7e52ccbb"
      },
      "source": [
        "# lets confirm the shape of the predictor or independent variable before polynomially fitting it\n",
        "\n",
        "predictors.shape"
      ],
      "execution_count": null,
      "outputs": [
        {
          "output_type": "execute_result",
          "data": {
            "text/plain": [
              "(201, 4)"
            ]
          },
          "metadata": {
            "tags": []
          },
          "execution_count": 51
        }
      ]
    },
    {
      "cell_type": "code",
      "metadata": {
        "id": "qlNHXNsMhCle",
        "colab_type": "code",
        "colab": {
          "base_uri": "https://localhost:8080/",
          "height": 34
        },
        "outputId": "14d3bd1d-014f-403d-ed05-322380bc6031"
      },
      "source": [
        "# Let's fit it and confirm the shape\n",
        "\n",
        "predict_fit= Mpoly.fit_transform(predictors)\n",
        "predict_fit.shape"
      ],
      "execution_count": null,
      "outputs": [
        {
          "output_type": "execute_result",
          "data": {
            "text/plain": [
              "(201, 70)"
            ]
          },
          "metadata": {
            "tags": []
          },
          "execution_count": 52
        }
      ]
    },
    {
      "cell_type": "code",
      "metadata": {
        "id": "H9Mrl_nrhClg",
        "colab_type": "code",
        "colab": {}
      },
      "source": [
        "lm4 = LinearRegression()"
      ],
      "execution_count": null,
      "outputs": []
    },
    {
      "cell_type": "code",
      "metadata": {
        "id": "1htmAsJIhClj",
        "colab_type": "code",
        "colab": {
          "base_uri": "https://localhost:8080/",
          "height": 50
        },
        "outputId": "cd370956-6117-4c03-bdac-6e361865b89a"
      },
      "source": [
        "lm4.fit(predict_fit, target)"
      ],
      "execution_count": null,
      "outputs": [
        {
          "output_type": "execute_result",
          "data": {
            "text/plain": [
              "LinearRegression(copy_X=True, fit_intercept=True, n_jobs=None,\n",
              "         normalize=False)"
            ]
          },
          "metadata": {
            "tags": []
          },
          "execution_count": 54
        }
      ]
    },
    {
      "cell_type": "code",
      "metadata": {
        "id": "wvJgRh0RhClm",
        "colab_type": "code",
        "colab": {}
      },
      "source": [
        "mlr_result = lm4.predict(predict_fit)"
      ],
      "execution_count": null,
      "outputs": []
    },
    {
      "cell_type": "markdown",
      "metadata": {
        "id": "6dJpLXzPhClo",
        "colab_type": "text"
      },
      "source": [
        "<h4>PLR for MLR Visualization</h4>"
      ]
    },
    {
      "cell_type": "code",
      "metadata": {
        "scrolled": false,
        "id": "UZZY5zsMhClp",
        "colab_type": "code",
        "colab": {
          "base_uri": "https://localhost:8080/",
          "height": 499
        },
        "outputId": "87de1071-6da0-4d19-d18d-74ba21f03b85"
      },
      "source": [
        "plt.figure(figsize=(10,8))\n",
        "plt.title('Distplot showing PLR for MLR Model- lm4')\n",
        "ax1 = sns.distplot(target, hist=False, color='r', label=\"Target\")\n",
        "sns.distplot(mlr_result, hist=False, color='b', label='Fitted', ax=ax1)\n",
        "plt.show()"
      ],
      "execution_count": null,
      "outputs": [
        {
          "output_type": "display_data",
          "data": {
            "image/png": "[encoded data removed]",
            "text/plain": [
              "<Figure size 720x576 with 1 Axes>"
            ]
          },
          "metadata": {
            "tags": []
          }
        }
      ]
    },
    {
      "cell_type": "code",
      "metadata": {
        "id": "WAb8fmGnhClr",
        "colab_type": "code",
        "colab": {
          "base_uri": "https://localhost:8080/",
          "height": 513
        },
        "outputId": "5a4b1d84-fdb4-4af9-d3d3-4e9ec02de9f8"
      },
      "source": [
        "plt.figure(figsize=(10,8))\n",
        "plt.title('Regplot showing PLR for MLR Model-lm4')\n",
        "plt.xlabel('Prediction')\n",
        "plt.grid(color='b')\n",
        "\n",
        "# Let's flatten mlr_result and target to 1-D to fit into the Regplot.\n",
        "yp = mlr_result.squeeze()\n",
        "tg = target.squeeze()\n",
        "\n",
        "sns.regplot(yp, tg, color = 'r')\n",
        "plt.show()"
      ],
      "execution_count": null,
      "outputs": [
        {
          "output_type": "display_data",
          "data": {
            "image/png": "[encoded data removed]",
            "text/plain": [
              "<Figure size 720x576 with 1 Axes>"
            ]
          },
          "metadata": {
            "tags": []
          }
        }
      ]
    },
    {
      "cell_type": "markdown",
      "metadata": {
        "id": "ovbUL2mqhClv",
        "colab_type": "text"
      },
      "source": [
        "<h3>Prediction and Decision Making</h3>  \n",
        "How can we deduce if our Model is correct?   \n",
        "To determine final best fit, we do the following, \n",
        "\n",
        "    1. Determine that our Model results actually make sense.  \n",
        "    2. Use Visualization  \n",
        "    3. Use Numerical measures for evaluation  \n",
        "    4. Compare Models"
      ]
    },
    {
      "cell_type": "code",
      "metadata": {
        "id": "fckArQTyhClw",
        "colab_type": "code",
        "colab": {
          "base_uri": "https://localhost:8080/",
          "height": 77
        },
        "outputId": "ede794b9-6acd-4e0b-e203-1096f6d5fa42"
      },
      "source": [
        "# For example using the Simple Linear Regression Model, lets view a specific result\n",
        "\n",
        "x = [30]\n",
        "x = pd.DataFrame(x)\n",
        "x"
      ],
      "execution_count": null,
      "outputs": [
        {
          "output_type": "execute_result",
          "data": {
            "text/html": [
              "<div>\n",
              "<style scoped>\n",
              "    .dataframe tbody tr th:only-of-type {\n",
              "        vertical-align: middle;\n",
              "    }\n",
              "\n",
              "    .dataframe tbody tr th {\n",
              "        vertical-align: top;\n",
              "    }\n",
              "\n",
              "    .dataframe thead th {\n",
              "        text-align: right;\n",
              "    }\n",
              "</style>\n",
              "<table border=\"1\" class=\"dataframe\">\n",
              "  <thead>\n",
              "    <tr style=\"text-align: right;\">\n",
              "      <th></th>\n",
              "      <th>0</th>\n",
              "    </tr>\n",
              "  </thead>\n",
              "  <tbody>\n",
              "    <tr>\n",
              "      <th>0</th>\n",
              "      <td>30</td>\n",
              "    </tr>\n",
              "  </tbody>\n",
              "</table>\n",
              "</div>"
            ],
            "text/plain": [
              "    0\n",
              "0  30"
            ]
          },
          "metadata": {
            "tags": []
          },
          "execution_count": 58
        }
      ]
    },
    {
      "cell_type": "code",
      "metadata": {
        "id": "4yAN7OIFhCly",
        "colab_type": "code",
        "colab": {
          "base_uri": "https://localhost:8080/",
          "height": 34
        },
        "outputId": "48eb0763-84c0-4f47-82da-8fe76a7e31b7"
      },
      "source": [
        "# Now let's pass x as a predictor variable to our SLR Model lm.\n",
        "\n",
        "lm.predict(x)"
      ],
      "execution_count": null,
      "outputs": [
        {
          "output_type": "execute_result",
          "data": {
            "text/plain": [
              "array([13771.3045085])"
            ]
          },
          "metadata": {
            "tags": []
          },
          "execution_count": 59
        }
      ]
    },
    {
      "cell_type": "code",
      "metadata": {
        "id": "S6pNzWpthCl0",
        "colab_type": "code",
        "colab": {
          "base_uri": "https://localhost:8080/",
          "height": 34
        },
        "outputId": "7362eccb-f146-43f2-b7d7-2208366d44b3"
      },
      "source": [
        "# Let's check the coef or slope again of our Model lm\n",
        "lm.coef_"
      ],
      "execution_count": null,
      "outputs": [
        {
          "output_type": "execute_result",
          "data": {
            "text/plain": [
              "array([-821.73337832])"
            ]
          },
          "metadata": {
            "tags": []
          },
          "execution_count": 60
        }
      ]
    },
    {
      "cell_type": "markdown",
      "metadata": {
        "id": "i-UcZ0OehCl3",
        "colab_type": "text"
      },
      "source": [
        "The result 13771.30 above seems a fair result. For example the value is not negative, extremely high or extremely low.  \n",
        "If we recall the expression for SLR from above <h3>$y = b_0 + b_1x$</h3>  \n",
        "_This means that Price ($y^$) = 38423.31 - 821.73 * highway-mpg._  \n",
        "The coefficient or slope ($-821.73$) corresponds to the multiple of the highway-mpg feature.  \n",
        "**As such, an increase in 1(one) unit of highway-mpg would result to a decrease in car price by approximately $821.73.**"
      ]
    },
    {
      "cell_type": "markdown",
      "metadata": {
        "id": "QxnGIuRmhCl3",
        "colab_type": "text"
      },
      "source": [
        "<h3>Pipelines:</h3><br>Data Pipelines simplify the steps of processing the data. We use the module <b>Pipeline</b> to create a pipeline. We also use <b>StandardScaler</b> as a step in our pipeline."
      ]
    },
    {
      "cell_type": "code",
      "metadata": {
        "id": "JRQdS1AVhCl4",
        "colab_type": "code",
        "colab": {}
      },
      "source": [
        "from sklearn.pipeline import Pipeline\n",
        "from sklearn.preprocessing import StandardScaler"
      ],
      "execution_count": null,
      "outputs": []
    },
    {
      "cell_type": "markdown",
      "metadata": {
        "id": "6_imJbM_hCl6",
        "colab_type": "text"
      },
      "source": [
        "<h5>We create the pipeline, by creating a list of tuples including the name of the model or estimator and its corresponding constructor.</h5>"
      ]
    },
    {
      "cell_type": "code",
      "metadata": {
        "id": "ckmx_kxahCl7",
        "colab_type": "code",
        "colab": {}
      },
      "source": [
        "input = [('scale',StandardScaler()),('Poly',PolynomialFeatures(include_bias=False,degree=4)),('model',LinearRegression())]"
      ],
      "execution_count": null,
      "outputs": []
    },
    {
      "cell_type": "markdown",
      "metadata": {
        "id": "FHjouYHChCl-",
        "colab_type": "text"
      },
      "source": [
        "<h5>we input the list as an argument to the pipeline constructor</h5>"
      ]
    },
    {
      "cell_type": "code",
      "metadata": {
        "id": "jvrjXW2OhCl-",
        "colab_type": "code",
        "colab": {
          "base_uri": "https://localhost:8080/",
          "height": 87
        },
        "outputId": "f1159d01-b60b-4873-b8f7-405b286f44e3"
      },
      "source": [
        "pipe = Pipeline(input)\n",
        "pipe"
      ],
      "execution_count": null,
      "outputs": [
        {
          "output_type": "execute_result",
          "data": {
            "text/plain": [
              "Pipeline(memory=None,\n",
              "     steps=[('scale', StandardScaler(copy=True, with_mean=True, with_std=True)), ('Poly', PolynomialFeatures(degree=4, include_bias=False, interaction_only=False)), ('model', LinearRegression(copy_X=True, fit_intercept=True, n_jobs=None,\n",
              "         normalize=False))])"
            ]
          },
          "metadata": {
            "tags": []
          },
          "execution_count": 63
        }
      ]
    },
    {
      "cell_type": "markdown",
      "metadata": {
        "id": "5w2L3uR3hCmB",
        "colab_type": "text"
      },
      "source": [
        "<h5>We can normalize the data, perform a transform and fit the model simultaneously.</h5>"
      ]
    },
    {
      "cell_type": "code",
      "metadata": {
        "id": "VlW9LbFXhCmC",
        "colab_type": "code",
        "colab": {
          "base_uri": "https://localhost:8080/",
          "height": 154
        },
        "outputId": "d3052d66-f895-4b83-8b5f-d37d58018289"
      },
      "source": [
        "pipe.fit(predictors,target)"
      ],
      "execution_count": null,
      "outputs": [
        {
          "output_type": "stream",
          "text": [
            "/usr/local/lib/python3.6/dist-packages/sklearn/preprocessing/data.py:645: DataConversionWarning: Data with input dtype int64 were all converted to float64 by StandardScaler.\n",
            "  return self.partial_fit(X, y)\n",
            "/usr/local/lib/python3.6/dist-packages/sklearn/base.py:467: DataConversionWarning: Data with input dtype int64 were all converted to float64 by StandardScaler.\n",
            "  return self.fit(X, y, **fit_params).transform(X)\n"
          ],
          "name": "stderr"
        },
        {
          "output_type": "execute_result",
          "data": {
            "text/plain": [
              "Pipeline(memory=None,\n",
              "     steps=[('scale', StandardScaler(copy=True, with_mean=True, with_std=True)), ('Poly', PolynomialFeatures(degree=4, include_bias=False, interaction_only=False)), ('model', LinearRegression(copy_X=True, fit_intercept=True, n_jobs=None,\n",
              "         normalize=False))])"
            ]
          },
          "metadata": {
            "tags": []
          },
          "execution_count": 64
        }
      ]
    },
    {
      "cell_type": "markdown",
      "metadata": {
        "id": "4VUjwbX9hCmD",
        "colab_type": "text"
      },
      "source": [
        "<h5>Similarly, we can normalize the data, perform a transform and produce a prediction simultaneously</h5>"
      ]
    },
    {
      "cell_type": "code",
      "metadata": {
        "id": "BO4qV6bDhCmD",
        "colab_type": "code",
        "colab": {
          "base_uri": "https://localhost:8080/",
          "height": 134
        },
        "outputId": "08abadb5-b4a3-4859-d3e7-44b502c70dab"
      },
      "source": [
        "ypipe = pipe.predict(predictors)\n",
        "ypipe[:5]"
      ],
      "execution_count": null,
      "outputs": [
        {
          "output_type": "stream",
          "text": [
            "/usr/local/lib/python3.6/dist-packages/sklearn/pipeline.py:331: DataConversionWarning: Data with input dtype int64 were all converted to float64 by StandardScaler.\n",
            "  Xt = transform.transform(Xt)\n"
          ],
          "name": "stderr"
        },
        {
          "output_type": "execute_result",
          "data": {
            "text/plain": [
              "array([[12928.99045666],\n",
              "       [12928.99045666],\n",
              "       [18022.58993052],\n",
              "       [12688.01094654],\n",
              "       [16758.47834554]])"
            ]
          },
          "metadata": {
            "tags": []
          },
          "execution_count": 65
        }
      ]
    },
    {
      "cell_type": "code",
      "metadata": {
        "id": "nnzse8iFhCmF",
        "colab_type": "code",
        "colab": {
          "base_uri": "https://localhost:8080/",
          "height": 516
        },
        "outputId": "e30063d9-a81e-4d46-e867-29b27b684925"
      },
      "source": [
        "plt.figure(figsize=(10,8))\n",
        "plt.title('Distplot showing Pipe-Model fit for MLR')\n",
        "ax1 = sns.distplot(target, hist=False, label='Target', color='r')\n",
        "sns.distplot(ypipe, hist=False, label='Fitted', color='b', ax=ax1)\n"
      ],
      "execution_count": null,
      "outputs": [
        {
          "output_type": "execute_result",
          "data": {
            "text/plain": [
              "<matplotlib.axes._subplots.AxesSubplot at 0x7f3543812fd0>"
            ]
          },
          "metadata": {
            "tags": []
          },
          "execution_count": 66
        },
        {
          "output_type": "display_data",
          "data": {
            "image/png": "[encoded data removed]",
            "text/plain": [
              "<Figure size 720x576 with 1 Axes>"
            ]
          },
          "metadata": {
            "tags": []
          }
        }
      ]
    },
    {
      "cell_type": "code",
      "metadata": {
        "id": "C8U9HTMKhCmG",
        "colab_type": "code",
        "colab": {
          "base_uri": "https://localhost:8080/",
          "height": 513
        },
        "outputId": "4f911573-0cde-4acb-9daf-1dd7e7c09de1"
      },
      "source": [
        "plt.figure(figsize=(10,8))\n",
        "plt.title('Regplot showing Pipe-Model with MLR')\n",
        "plt.xlabel('Prediction')\n",
        "plt.grid(color='b')\n",
        "\n",
        "# Let's flatten ypipe and target to 1-D to fit into the Regplot.\n",
        "yp = ypipe.squeeze()\n",
        "tg = target.squeeze()\n",
        "\n",
        "sns.regplot(yp, tg, color = 'r')\n",
        "plt.show()"
      ],
      "execution_count": null,
      "outputs": [
        {
          "output_type": "display_data",
          "data": {
            "image/png": "[encoded data removed]",
            "text/plain": [
              "<Figure size 720x576 with 1 Axes>"
            ]
          },
          "metadata": {
            "tags": []
          }
        }
      ]
    },
    {
      "cell_type": "markdown",
      "metadata": {
        "id": "-p2bjCmUhCmH",
        "colab_type": "text"
      },
      "source": [
        "<h3>Measures for In-Sample Model Evaluation</h3>  \n",
        "\n",
        "These measures are a way to numerically measure how good the model fits on our data set.  \n",
        "<u>Two important measures to determine the fit of a Model are:</u>  \n",
        "<b>Mean Squared Error (MSE):</b>  \n",
        "    To find the MSE, we calculate the differnce between $y$ and $y^$ for all data points in our model prediction. Then we square each difference and sum all the differences and divide that sum by the number of data points or samples predicted.  \n",
        "<b>R-Squared $(R^2)$:</b>  \n",
        "    This is also called the coefficient of determination. It's a measure to determine how close the original data is to the fitted regression line. Think about it as comparing a regression model to a simple model of the mean of the data points.  \n",
        "    If the variable(s) is a good predictor, then our model should perform better than just the mean. For the most part, it returns values between 0 and 1.  \n",
        "    If $R^2$ is negative, it is a possible indication of over-fitting the model.  \n",
        "    <b>The closer to 1, the better the model fit and Vice-versa</b>.  \n",
        "    <h3>$R^2$ = $(1 - \\frac{MSE-of-Regression-Line}{MSE-of-The-Average-of-The-Data})$</h3> "
      ]
    },
    {
      "cell_type": "markdown",
      "metadata": {
        "id": "v7DJ5SMMZJu2",
        "colab_type": "text"
      },
      "source": [
        "RESIDUAL VARIANCE AND R-SQUARE<br>\n",
        "R-Square, also known as the Coefficient of determination is a commonly used statistic to evaluate model fit. R-square is 1 minus the ratio of residual variability. When the variability of the residual values around the regression line relative to the overall variability is small, the predictions from the regression equation are good. For example, if there is no relationship between the X and Y variables, then the ratio of the residual variability of the Y variable to the original variance is equal to 1.0. Then R-square would be 0. If X and Y are perfectly related then there is no residual variance and the ratio of variance would be 0.0, making R-square = 1. In most cases, the ratio and R-square will fall somewhere between these extremes, that is, between 0.0 and 1.0. This ratio value is immediately interpretable in the following manner. If we have an R-square of 0.4 then we know that the variability of the Y values around the regression line is 1-0.4 times the original variance; in other words we have explained 40% of the original variability, and are left with 60% residual variability. Ideally, we would like to explain most if not all of the original variability. The R-square value is an indicator of how well the model fits the data (e.g., an R-square close to 1.0 indicates that we have accounted for almost all of the variability with the variables specified in the model).\n",
        "[link](http://www.statsoft.com/Textbook/Multiple-Regression)"
      ]
    },
    {
      "cell_type": "markdown",
      "metadata": {
        "id": "_mQDbNlFbepk",
        "colab_type": "text"
      },
      "source": [
        "Predicted Values and Residuals<br>\n",
        "\tA predicted value is calculated as $^yi=b0+b1xi,1+b2xi,2+…$, where the b values come from statistical software and the x-values are specified by us.<br>\n",
        "\tA residual (error) term is calculated as $ei=yi−yi_{hat}$, the difference between an actual and a predicted value of y.<br>\n",
        "\tA plot of residuals versus predicted values ideally should resemble a horizontal random band. Departures from this form indicates difficulties with the model and/or data.<br>\n",
        "\tOther residual analyses can be done exactly as we did in simple regression. For instance, we might wish to examine a normal probability plot (NPP) of the residuals. <br>Additional plots to consider are plots of residuals versus each x-variable separately. This might help us identify sources of curvature or nonconstant variance.[link](https://newonlinecourses.science.psu.edu/stat501/node/311/)\n",
        "\n"
      ]
    },
    {
      "cell_type": "markdown",
      "metadata": {
        "id": "XU2YFSdJhCmH",
        "colab_type": "text"
      },
      "source": [
        "<h3>To find the MSE in Python...</h3>"
      ]
    },
    {
      "cell_type": "code",
      "metadata": {
        "id": "CieAeGvlhCmI",
        "colab_type": "code",
        "colab": {}
      },
      "source": [
        "# first import mean_squared_error from sklearn\n",
        "\n",
        "from sklearn.metrics import mean_squared_error"
      ],
      "execution_count": null,
      "outputs": []
    },
    {
      "cell_type": "code",
      "metadata": {
        "id": "5aWD0nXAhCmJ",
        "colab_type": "code",
        "colab": {
          "base_uri": "https://localhost:8080/",
          "height": 34
        },
        "outputId": "9dcd6132-28dd-47a0-afed-222bd861d3f3"
      },
      "source": [
        "# Lets apply the MSE to the prediction for SLR\n",
        "\n",
        "error_lm = mean_squared_error(target, Yhat)\n",
        "error_lm"
      ],
      "execution_count": null,
      "outputs": [
        {
          "output_type": "execute_result",
          "data": {
            "text/plain": [
              "31635042.944639888"
            ]
          },
          "metadata": {
            "tags": []
          },
          "execution_count": 69
        }
      ]
    },
    {
      "cell_type": "code",
      "metadata": {
        "id": "yU_1mUqjhCmL",
        "colab_type": "code",
        "colab": {
          "base_uri": "https://localhost:8080/",
          "height": 34
        },
        "outputId": "e5ba5cac-05d9-4e67-fab8-6d75486a3283"
      },
      "source": [
        "# Lets apply the MSE to the prediction for SLR using PLR\n",
        "\n",
        "error_lm3 = mean_squared_error(Y, result)\n",
        "error_lm3"
      ],
      "execution_count": null,
      "outputs": [
        {
          "output_type": "execute_result",
          "data": {
            "text/plain": [
              "19986521.828300446"
            ]
          },
          "metadata": {
            "tags": []
          },
          "execution_count": 70
        }
      ]
    },
    {
      "cell_type": "code",
      "metadata": {
        "id": "e66KkOHyhCmN",
        "colab_type": "code",
        "colab": {
          "base_uri": "https://localhost:8080/",
          "height": 34
        },
        "outputId": "945e40ef-ee1b-4fab-fd96-b53550044b7b"
      },
      "source": [
        "# Lets apply the MSE to the prediction for MLR \n",
        "\n",
        "error_dm = mean_squared_error(target, y_hat)\n",
        "error_dm"
      ],
      "execution_count": null,
      "outputs": [
        {
          "output_type": "execute_result",
          "data": {
            "text/plain": [
              "11971078.721508587"
            ]
          },
          "metadata": {
            "tags": []
          },
          "execution_count": 71
        }
      ]
    },
    {
      "cell_type": "code",
      "metadata": {
        "id": "1LMjHGbehCmP",
        "colab_type": "code",
        "colab": {
          "base_uri": "https://localhost:8080/",
          "height": 34
        },
        "outputId": "0837b8b5-1262-40b9-a4c0-2dc1ab4dc43a"
      },
      "source": [
        "# Let's apply the MSE to the prediction for MLR using PLR\n",
        "\n",
        "error_lm4 = mean_squared_error(target, mlr_result)\n",
        "error_lm4"
      ],
      "execution_count": null,
      "outputs": [
        {
          "output_type": "execute_result",
          "data": {
            "text/plain": [
              "2771433.279109169"
            ]
          },
          "metadata": {
            "tags": []
          },
          "execution_count": 72
        }
      ]
    },
    {
      "cell_type": "code",
      "metadata": {
        "id": "1Rq4lfX-hCmQ",
        "colab_type": "code",
        "colab": {
          "base_uri": "https://localhost:8080/",
          "height": 34
        },
        "outputId": "20e000f6-2b58-4320-fe99-006f2981ee19"
      },
      "source": [
        "pipe_error = mean_squared_error(target, ypipe)\n",
        "pipe_error"
      ],
      "execution_count": null,
      "outputs": [
        {
          "output_type": "execute_result",
          "data": {
            "text/plain": [
              "2505507.199076078"
            ]
          },
          "metadata": {
            "tags": []
          },
          "execution_count": 73
        }
      ]
    },
    {
      "cell_type": "markdown",
      "metadata": {
        "id": "50qq_dd5hCmR",
        "colab_type": "text"
      },
      "source": [
        "<h3>To find $R^2$ in Python...</h3>  \n",
        "    <b>We use the .score() method on our model to find the R squared. Then pass to it our variable or variables and the actual target</b>"
      ]
    },
    {
      "cell_type": "code",
      "metadata": {
        "id": "BHAIDBXChCmR",
        "colab_type": "code",
        "colab": {
          "base_uri": "https://localhost:8080/",
          "height": 508
        },
        "outputId": "3a86fa89-a800-44c9-b25f-8266c1379736"
      },
      "source": [
        "# To calculate coefficient of determination for SLR model\n",
        "\n",
        "lm.score(X,Y)"
      ],
      "execution_count": null,
      "outputs": [
        {
          "output_type": "error",
          "ename": "ValueError",
          "evalue": "ignored",
          "traceback": [
            "\u001b[0;31m---------------------------------------------------------------------------\u001b[0m",
            "\u001b[0;31mValueError\u001b[0m                                Traceback (most recent call last)",
            "\u001b[0;32m<ipython-input-74-456476360e92>\u001b[0m in \u001b[0;36m<module>\u001b[0;34m()\u001b[0m\n\u001b[1;32m      1\u001b[0m \u001b[0;34m\u001b[0m\u001b[0m\n\u001b[0;32m----> 2\u001b[0;31m \u001b[0mlm\u001b[0m\u001b[0;34m.\u001b[0m\u001b[0mscore\u001b[0m\u001b[0;34m(\u001b[0m\u001b[0mX\u001b[0m\u001b[0;34m,\u001b[0m\u001b[0mY\u001b[0m\u001b[0;34m)\u001b[0m\u001b[0;34m\u001b[0m\u001b[0;34m\u001b[0m\u001b[0m\n\u001b[0m",
            "\u001b[0;32m/usr/local/lib/python3.6/dist-packages/sklearn/base.py\u001b[0m in \u001b[0;36mscore\u001b[0;34m(self, X, y, sample_weight)\u001b[0m\n\u001b[1;32m    328\u001b[0m \u001b[0;34m\u001b[0m\u001b[0m\n\u001b[1;32m    329\u001b[0m         \u001b[0;32mfrom\u001b[0m \u001b[0;34m.\u001b[0m\u001b[0mmetrics\u001b[0m \u001b[0;32mimport\u001b[0m \u001b[0mr2_score\u001b[0m\u001b[0;34m\u001b[0m\u001b[0;34m\u001b[0m\u001b[0m\n\u001b[0;32m--> 330\u001b[0;31m         return r2_score(y, self.predict(X), sample_weight=sample_weight,\n\u001b[0m\u001b[1;32m    331\u001b[0m                         multioutput='variance_weighted')\n\u001b[1;32m    332\u001b[0m \u001b[0;34m\u001b[0m\u001b[0m\n",
            "\u001b[0;32m/usr/local/lib/python3.6/dist-packages/sklearn/linear_model/base.py\u001b[0m in \u001b[0;36mpredict\u001b[0;34m(self, X)\u001b[0m\n\u001b[1;32m    211\u001b[0m             \u001b[0mReturns\u001b[0m \u001b[0mpredicted\u001b[0m \u001b[0mvalues\u001b[0m\u001b[0;34m.\u001b[0m\u001b[0;34m\u001b[0m\u001b[0;34m\u001b[0m\u001b[0m\n\u001b[1;32m    212\u001b[0m         \"\"\"\n\u001b[0;32m--> 213\u001b[0;31m         \u001b[0;32mreturn\u001b[0m \u001b[0mself\u001b[0m\u001b[0;34m.\u001b[0m\u001b[0m_decision_function\u001b[0m\u001b[0;34m(\u001b[0m\u001b[0mX\u001b[0m\u001b[0;34m)\u001b[0m\u001b[0;34m\u001b[0m\u001b[0;34m\u001b[0m\u001b[0m\n\u001b[0m\u001b[1;32m    214\u001b[0m \u001b[0;34m\u001b[0m\u001b[0m\n\u001b[1;32m    215\u001b[0m     \u001b[0m_preprocess_data\u001b[0m \u001b[0;34m=\u001b[0m \u001b[0mstaticmethod\u001b[0m\u001b[0;34m(\u001b[0m\u001b[0m_preprocess_data\u001b[0m\u001b[0;34m)\u001b[0m\u001b[0;34m\u001b[0m\u001b[0;34m\u001b[0m\u001b[0m\n",
            "\u001b[0;32m/usr/local/lib/python3.6/dist-packages/sklearn/linear_model/base.py\u001b[0m in \u001b[0;36m_decision_function\u001b[0;34m(self, X)\u001b[0m\n\u001b[1;32m    194\u001b[0m         \u001b[0mcheck_is_fitted\u001b[0m\u001b[0;34m(\u001b[0m\u001b[0mself\u001b[0m\u001b[0;34m,\u001b[0m \u001b[0;34m\"coef_\"\u001b[0m\u001b[0;34m)\u001b[0m\u001b[0;34m\u001b[0m\u001b[0;34m\u001b[0m\u001b[0m\n\u001b[1;32m    195\u001b[0m \u001b[0;34m\u001b[0m\u001b[0m\n\u001b[0;32m--> 196\u001b[0;31m         \u001b[0mX\u001b[0m \u001b[0;34m=\u001b[0m \u001b[0mcheck_array\u001b[0m\u001b[0;34m(\u001b[0m\u001b[0mX\u001b[0m\u001b[0;34m,\u001b[0m \u001b[0maccept_sparse\u001b[0m\u001b[0;34m=\u001b[0m\u001b[0;34m[\u001b[0m\u001b[0;34m'csr'\u001b[0m\u001b[0;34m,\u001b[0m \u001b[0;34m'csc'\u001b[0m\u001b[0;34m,\u001b[0m \u001b[0;34m'coo'\u001b[0m\u001b[0;34m]\u001b[0m\u001b[0;34m)\u001b[0m\u001b[0;34m\u001b[0m\u001b[0;34m\u001b[0m\u001b[0m\n\u001b[0m\u001b[1;32m    197\u001b[0m         return safe_sparse_dot(X, self.coef_.T,\n\u001b[1;32m    198\u001b[0m                                dense_output=True) + self.intercept_\n",
            "\u001b[0;32m/usr/local/lib/python3.6/dist-packages/sklearn/utils/validation.py\u001b[0m in \u001b[0;36mcheck_array\u001b[0;34m(array, accept_sparse, accept_large_sparse, dtype, order, copy, force_all_finite, ensure_2d, allow_nd, ensure_min_samples, ensure_min_features, warn_on_dtype, estimator)\u001b[0m\n\u001b[1;32m    550\u001b[0m                     \u001b[0;34m\"Reshape your data either using array.reshape(-1, 1) if \"\u001b[0m\u001b[0;34m\u001b[0m\u001b[0;34m\u001b[0m\u001b[0m\n\u001b[1;32m    551\u001b[0m                     \u001b[0;34m\"your data has a single feature or array.reshape(1, -1) \"\u001b[0m\u001b[0;34m\u001b[0m\u001b[0;34m\u001b[0m\u001b[0m\n\u001b[0;32m--> 552\u001b[0;31m                     \"if it contains a single sample.\".format(array))\n\u001b[0m\u001b[1;32m    553\u001b[0m \u001b[0;34m\u001b[0m\u001b[0m\n\u001b[1;32m    554\u001b[0m         \u001b[0;31m# in the future np.flexible dtypes will be handled like object dtypes\u001b[0m\u001b[0;34m\u001b[0m\u001b[0;34m\u001b[0m\u001b[0;34m\u001b[0m\u001b[0m\n",
            "\u001b[0;31mValueError\u001b[0m: Expected 2D array, got 1D array instead:\narray=[27 27 26 30 22 25 25 25 20 29 29 28 28 25 22 22 20 53 43 43 41 38 30 38\n 38 38 30 30 24 54 38 42 34 34 34 34 33 33 33 33 28 31 29 29 19 19 17 31\n 38 38 38 38 23 23 23 23 32 32 32 32 42 32 27 39 25 25 25 25 18 18 16 16\n 24 41 38 38 30 30 32 24 24 24 32 32 30 30 37 50 37 37 37 37 37 37 37 37\n 34 34 22 22 25 25 23 25 24 33 24 25 24 33 24 25 24 33 24 41 30 38 38 38\n 30 24 27 25 25 25 31 31 28 28 28 28 26 26 36 31 31 37 33 32 25 29 32 31\n 29 23 39 38 38 37 32 32 37 37 36 47 47 34 34 34 34 29 29 30 30 30 30 30\n 30 34 33 32 32 32 24 24 24 24 46 34 46 34 34 42 32 29 29 24 38 31 28 28\n 28 28 22 22 28 25 23 27 25].\nReshape your data either using array.reshape(-1, 1) if your data has a single feature or array.reshape(1, -1) if it contains a single sample."
          ]
        }
      ]
    },
    {
      "cell_type": "code",
      "metadata": {
        "id": "4L-IcfY1hCmW",
        "colab_type": "code",
        "colab": {}
      },
      "source": [
        "# To calculate coefficient of determination for SLR model using PLR\n",
        "\n",
        "lm3.score(X_poly,Y)"
      ],
      "execution_count": null,
      "outputs": []
    },
    {
      "cell_type": "code",
      "metadata": {
        "id": "zAwetShwhCmX",
        "colab_type": "code",
        "colab": {}
      },
      "source": [
        "# To calculate the coeefficient of determination for MLR model\n",
        "\n",
        "dm.score(predictors, target)"
      ],
      "execution_count": null,
      "outputs": []
    },
    {
      "cell_type": "code",
      "metadata": {
        "id": "OAokoQCnhCmY",
        "colab_type": "code",
        "colab": {}
      },
      "source": [
        "# to calculate the coefficient of drtermination for MLR model using PLR\n",
        "\n",
        "lm4.score(predict_fit, target)"
      ],
      "execution_count": null,
      "outputs": []
    },
    {
      "cell_type": "code",
      "metadata": {
        "id": "eiEtKwb0hCmZ",
        "colab_type": "code",
        "colab": {}
      },
      "source": [
        "pipe.score(predictors,target)"
      ],
      "execution_count": null,
      "outputs": []
    },
    {
      "cell_type": "markdown",
      "metadata": {
        "id": "2J2d-SDThCma",
        "colab_type": "text"
      },
      "source": [
        "<font color='red'><h4>We can clearly see that so far, The Model with the <font color='blue'>least MSE and Most $R^2$</font> is model <font color='black'>lm4</font>. No doubt, the best model at the moment.</h4></font>"
      ]
    },
    {
      "cell_type": "code",
      "metadata": {
        "id": "8E7A9CqMhCmb",
        "colab_type": "code",
        "colab": {}
      },
      "source": [
        "test = np.empty([5,3])\n",
        "chart = pd.DataFrame(test, columns=['Model-Name','MSE', \"R-Squ'd\"])\n",
        "chart['Model-Name'] = ['lm','lm3','dm','lm4','pipe']\n",
        "chart['MSE'] = [31635042.944639895,19986521.832416017,11971078.721508589,2775223.6246514544,2505507.199076076]\n",
        "chart[\"R-Squ'd\"] = [0.4965911884339175,0.6819542423064463,0.8095040830858192,0.955837833722536,0.9601298343844714]\n",
        "chart['MSE'] = np.round(chart['MSE'].astype('float64'),2)\n",
        "chart[\"R-Squ'd\"] = np.round(chart[\"R-Squ'd\"].astype('float64'),4)\n",
        "chart.sort_values('MSE',ascending=True,inplace=True)\n",
        "chart.sort_values(\"R-Squ'd\",ascending=False,inplace=True)\n",
        "chart.index=[1, 2, 3, 4, 5]\n",
        "chart['Model-Type'] = ['Pipe Model','MLR + PLR','MLR','SLR + PLR', 'SLR']\n"
      ],
      "execution_count": null,
      "outputs": []
    },
    {
      "cell_type": "markdown",
      "metadata": {
        "id": "zeG9fgUuhCmc",
        "colab_type": "text"
      },
      "source": [
        "<h4>See a Summary Table of the Top-Performing Linear Regression Models we created</h4>"
      ]
    },
    {
      "cell_type": "code",
      "metadata": {
        "id": "5_iJ8nvshCmc",
        "colab_type": "code",
        "colab": {}
      },
      "source": [
        "chart"
      ],
      "execution_count": null,
      "outputs": []
    },
    {
      "cell_type": "markdown",
      "metadata": {
        "id": "ZlKgeFbahCmd",
        "colab_type": "text"
      },
      "source": [
        "<h4><font color='red'>Well after increasing the PolyFeat degree in Pipe-Model to 4, it surpasses the MLR-PLR model which is also at 4 degrees. And performs better in both MSE and $R^2$... Although the difference is very small... Thus The Pipe model is the current best</font></h4>"
      ]
    },
    {
      "cell_type": "markdown",
      "metadata": {
        "id": "byYZH60khCmd",
        "colab_type": "text"
      },
      "source": [
        "<h3>Summary:</h3>  \n",
        "    Comparing SLR and MLR, a lower MSE does not always imply a better fit in every situation.\n",
        "    <br>\n",
        "    MSE for an MLR model will be smaller than MSE for SLR model since the errors of the data would decrease as more variables are included in the model.<br> Also MSE for a Polynomial Regression Model would be smaller than a Linear Regression Model.<br>\n",
        "    A similar inverse relationship holds for $R^2$ too.\n",
        "    \n",
        "\n",
        "<b>Comparing these five models, we conclude that the Pipe model is the best model to be able to predict price from our dataset. This result makes sense, since we have 27 variables in total, and we know that more than one of those variables are potential predictors of the final car price.The second best is The MLR+PLR Model</b>"
      ]
    },
    {
      "cell_type": "markdown",
      "metadata": {
        "id": "fo9LHqzohCme",
        "colab_type": "text"
      },
      "source": [
        "<h3>Model Exercises</h3>"
      ]
    },
    {
      "cell_type": "markdown",
      "metadata": {
        "id": "H6ApjeUrhCme",
        "colab_type": "text"
      },
      "source": [
        "<h4>Question 1</h4>"
      ]
    },
    {
      "cell_type": "code",
      "metadata": {
        "id": "2gk9f9sMhCme",
        "colab_type": "code",
        "colab": {}
      },
      "source": [
        "# create a Linear regression object\n",
        "\n",
        "lm1 = LinearRegression()"
      ],
      "execution_count": null,
      "outputs": []
    },
    {
      "cell_type": "code",
      "metadata": {
        "id": "kySeW8dJhCmf",
        "colab_type": "code",
        "colab": {}
      },
      "source": [
        "# Train the model using engine size as independent variable and price as dependent variable\n",
        "\n",
        "xx = adjusted_df[['engine-size']]\n",
        "yy = adjusted_df['price']\n",
        "\n",
        "lm1.fit(xx,yy)"
      ],
      "execution_count": null,
      "outputs": []
    },
    {
      "cell_type": "code",
      "metadata": {
        "id": "DDBHBnPBhCmh",
        "colab_type": "code",
        "colab": {}
      },
      "source": [
        "# find the slope and intercept of the model\n",
        "\n",
        "slope = lm1.coef_\n",
        "slope"
      ],
      "execution_count": null,
      "outputs": []
    },
    {
      "cell_type": "code",
      "metadata": {
        "id": "J9BAIPLChCmi",
        "colab_type": "code",
        "colab": {}
      },
      "source": [
        "# intercept\n",
        "\n",
        "intcpt = lm1.intercept_\n",
        "intcpt"
      ],
      "execution_count": null,
      "outputs": []
    },
    {
      "cell_type": "markdown",
      "metadata": {
        "id": "G6TQjyxKhCmj",
        "colab_type": "text"
      },
      "source": [
        "**What is the equation of the predicted line?**  \n",
        "    <h4>$y^$ $= b_0 + b_1x_1$</h4><br> **yhat = -7963.34 + 166.86 * engine-size**"
      ]
    },
    {
      "cell_type": "markdown",
      "metadata": {
        "id": "8wEw-kiQhCmk",
        "colab_type": "text"
      },
      "source": [
        "<h4>Question 2</h4>"
      ]
    },
    {
      "cell_type": "code",
      "metadata": {
        "id": "ogj1IWm3hCmk",
        "colab_type": "code",
        "colab": {}
      },
      "source": [
        "# create and train a MLR model where the response variable is Price and the predictor variables are normalized losses and \n",
        "# Highway-mpg\n",
        "\n",
        "lm2 = LinearRegression()"
      ],
      "execution_count": null,
      "outputs": []
    },
    {
      "cell_type": "code",
      "metadata": {
        "id": "InObqsMShCmm",
        "colab_type": "code",
        "colab": {}
      },
      "source": [
        "adjusted_df['normalized-losses'].unique()"
      ],
      "execution_count": null,
      "outputs": []
    },
    {
      "cell_type": "code",
      "metadata": {
        "scrolled": true,
        "id": "2rTxhVRGhCmo",
        "colab_type": "code",
        "colab": {}
      },
      "source": [
        "x = adjusted_df['normalized-losses'] == '?'\n",
        "y = adjusted_df[x]\n",
        "y\n",
        "\n",
        "# This shows there are 37 missing values in normalised-losses column alone, that's quite some."
      ],
      "execution_count": null,
      "outputs": []
    },
    {
      "cell_type": "code",
      "metadata": {
        "id": "FhWAPR_4hCmp",
        "colab_type": "code",
        "colab": {}
      },
      "source": [
        "# let's convert them to zero and convert the column to int64\n",
        "\n",
        "adjusted_df['normalized-losses'].replace('?','0',inplace=True)\n",
        "\n",
        "# let's finally convert the column normalized losses from object to int\n",
        "adjusted_df['normalized-losses'] = adjusted_df['normalized-losses'].astype('int64')"
      ],
      "execution_count": null,
      "outputs": []
    },
    {
      "cell_type": "code",
      "metadata": {
        "id": "Yqi_yTUEhCmq",
        "colab_type": "code",
        "colab": {}
      },
      "source": [
        "# lets set the predictors and response variables.\n",
        "\n",
        "ex = adjusted_df[['normalized-losses','highway-mpg']]\n",
        "wy = adjusted_df['price']\n",
        "\n",
        "# train the model\n",
        "\n",
        "lm2.fit(ex,wy)"
      ],
      "execution_count": null,
      "outputs": []
    },
    {
      "cell_type": "code",
      "metadata": {
        "id": "p_mLMswihCmt",
        "colab_type": "code",
        "colab": {}
      },
      "source": [
        "# intercept\n",
        "lm2.intercept_"
      ],
      "execution_count": null,
      "outputs": []
    },
    {
      "cell_type": "code",
      "metadata": {
        "id": "Mg5ecDhuhCmu",
        "colab_type": "code",
        "colab": {}
      },
      "source": [
        "# slope\n",
        "lm2.coef_"
      ],
      "execution_count": null,
      "outputs": []
    },
    {
      "cell_type": "code",
      "metadata": {
        "id": "EewzAcgXhCmw",
        "colab_type": "code",
        "colab": {}
      },
      "source": [
        "adjusted_df.to_csv('adjusted_df.csv')"
      ],
      "execution_count": null,
      "outputs": []
    }
  ]
}