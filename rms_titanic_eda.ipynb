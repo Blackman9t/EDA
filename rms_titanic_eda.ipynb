{
  "nbformat": 4,
  "nbformat_minor": 0,
  "metadata": {
    "colab": {
      "name": "rms_titanic_eda.ipynb",
      "version": "0.3.2",
      "provenance": [],
      "collapsed_sections": [],
      "toc_visible": true,
      "include_colab_link": true
    },
    "kernelspec": {
      "name": "python3",
      "display_name": "Python 3"
    },
    "accelerator": "GPU"
  },
  "cells": [
    {
      "cell_type": "markdown",
      "metadata": {
        "id": "view-in-github",
        "colab_type": "text"
      },
      "source": [
        "<a href=\"https://colab.research.google.com/github/Blackman9t/EDA/blob/master/rms_titanic_eda.ipynb\" target=\"_parent\"><img src=\"https://colab.research.google.com/assets/colab-badge.svg\" alt=\"Open In Colab\"/></a>"
      ]
    },
    {
      "cell_type": "markdown",
      "metadata": {
        "id": "8Oqdh20-AhlF",
        "colab_type": "text"
      },
      "source": [
        "# PREAMBLE\n"
      ]
    },
    {
      "cell_type": "markdown",
      "metadata": {
        "id": "hHIU56Tb2XQa",
        "colab_type": "text"
      },
      "source": [
        "<H2>PREAMBLE</H2>\n",
        "\n",
        "In this project, I will analyze The Titanic dataset and then communicate my findings about it, using the Python libraries NumPy, Pandas, and Matplotlib to make my analysis easier.\n",
        "\n",
        "**What do I need to install?**<br>\n",
        "I need an installation of _Python_, plus the following libraries:\n",
        "<font color='dark gray'>\n",
        "pandas<br>\n",
        "numpy<br>\n",
        "matplotlib<br>\n",
        "csv or unicodecsv<br></font>\n",
        "installing _Anaconda_ is the best option, which comes with all of the necessary packages, as well as IPython notebook. \n",
        "\n",
        "**Why this Project?**\n",
        "This project will introduce me to the data analysis process. In this project, I will go through the entire process so that I know how all the pieces fit together. In this project, I will also gain experience using the Python libraries NumPy, Pandas, and Matplotlib, which make writing data analysis code in Python a lot easier!\n",
        "\n",
        "**What will I learn?**<br>\n",
        "After completing the project, I will:\n",
        "\n",
        "Know all the steps involved in a typical data analysis process,<br>\n",
        "Be comfortable posing questions that can be answered with a given dataset and then answering those questions,<br>\n",
        "Know how to investigate problems in a dataset and wrangle the data into a format that can be used<br>\n",
        "Have practice communicating the results of my analysis<br>\n",
        "Be able to use vectorized operations in NumPy and Pandas to speed up data analysis code<br>\n",
        "Be familiar with Pandas' Series and DataFrame objects, which us access data more conveniently<br>\n",
        "Know how to use Matplotlib to produce plots showing my findings<br>\n",
        "\n",
        "**Why is this Important to my Career?**<br>\n",
        "This project will show off a variety of data analysis skills, as well as showing everyone that I know how to go through the entire data analysis process."
      ]
    },
    {
      "cell_type": "markdown",
      "metadata": {
        "id": "CkmFMfp-6_99",
        "colab_type": "text"
      },
      "source": [
        "<font color='dark gray'><h3>RMS Titanic</h3></font>\n",
        "<font color='indianred'><h4>The RMS Titanic was a British passenger liner that sank in the North Atlantic Ocean in the early morning hours of _15 April 1912_, after it collided with an iceberg during its maiden voyage from _Southampton to New York City_. There were an estimated _2,224_ passengers and crew aboard the ship, and more than _1,500_ died, making it one of the deadliest commercial peacetime maritime disasters in modern history. The RMS Titanic was the largest ship afloat at the time it entered service and was the second of three Olympic-class ocean liners operated by the _White Star Line_.<br>\n",
        "The Titanic was built by the _Harland and Wolff shipyard in Belfast_. <br>\n",
        "  Thomas Andrews, her architect, died in the disaster.</h4></font>\n",
        "<br>\n",
        "<br>\n",
        "\n",
        "\n",
        "<font color='gray'>_The Titanic sits near the dock at Belfast, Northern Ireland soon before starting its maiden voyage. Circa April 1912_.</font><br>\n",
        "\n",
        "<img src=\"https://allthatsinteresting.com/wordpress/wp-content/uploads/2017/11/titanic-sinking-photos.jpg\" height=600  align=\"center\" width=1200>"
      ]
    },
    {
      "cell_type": "markdown",
      "metadata": {
        "id": "XGQVvSHMC1Jf",
        "colab_type": "text"
      },
      "source": [
        "# EDA"
      ]
    },
    {
      "cell_type": "markdown",
      "metadata": {
        "id": "phltvfEZF1Rw",
        "colab_type": "text"
      },
      "source": [
        "<font color='gray'>_img courtesy of [Data Camp](https://www.datacamp.com)_</font>\n",
        "<img src= \"https://assets.datacamp.com/production/course_1796/shields/original/shield_image_course_1796_20180202-12-1ltqpu8?1517609500\" height=250 align='center' width=300>"
      ]
    },
    {
      "cell_type": "markdown",
      "metadata": {
        "id": "enUkxXi_5Jn4",
        "colab_type": "text"
      },
      "source": [
        "<h1>Exploratory Data Analysis of The Titanic Data Set</h1>\n",
        "\n",
        "This Data set consists of passengers of the Titanic.<br>The essence of this analysis is to provide more insights about the Titanic data set. I would go through this analysis with an open mind, looking at the data, <br>Asking relevant questions, evaluating metrics and displaying similarities and or differences in data variables that may have been consequential in affecting :\n",
        " * _**Passengers that survived**_,<br>\n",
        " * _**Passengers that died**_,<br>\n",
        " * _**Any other valuable insights from the data**_."
      ]
    },
    {
      "cell_type": "markdown",
      "metadata": {
        "id": "F9mQw82eG0hE",
        "colab_type": "text"
      },
      "source": [
        "<h2>Let's begin by importing some Libraries for data analysis and visualization</h2>"
      ]
    },
    {
      "cell_type": "code",
      "metadata": {
        "id": "UARuNXvYGqNU",
        "colab_type": "code",
        "outputId": "27282690-858f-45fb-b965-0a685f03746c",
        "colab": {
          "base_uri": "https://localhost:8080/",
          "height": 205
        }
      },
      "source": [
        "import numpy as np  # for numerical analysis\n",
        "import pandas as pd  # for a tabular display of the data\n",
        "import matplotlib as mpl  # for visualization\n",
        "import matplotlib.pyplot as plt  # for visualization using the scripting layer \n",
        "import seaborn as sns  # for advanced visualization \n",
        "import sklearn  # for prediction or machine learning\n",
        "import folium  # for creating interactive maps\n",
        "from PIL import Image # converting images into arrays\n",
        "from wordcloud import WordCloud, STOPWORDS  # for word cloud creation\n",
        "!pip install pywaffle\n",
        "from pywaffle import Waffle  # for waffle charts creation\n",
        "\n",
        "print('All modules imported successfully')"
      ],
      "execution_count": 0,
      "outputs": [
        {
          "output_type": "stream",
          "text": [
            "Requirement already satisfied: pywaffle in /usr/local/lib/python3.6/dist-packages (0.2.1)\n",
            "Requirement already satisfied: matplotlib in /usr/local/lib/python3.6/dist-packages (from pywaffle) (3.0.3)\n",
            "Requirement already satisfied: python-dateutil>=2.1 in /usr/local/lib/python3.6/dist-packages (from matplotlib->pywaffle) (2.5.3)\n",
            "Requirement already satisfied: pyparsing!=2.0.4,!=2.1.2,!=2.1.6,>=2.0.1 in /usr/local/lib/python3.6/dist-packages (from matplotlib->pywaffle) (2.4.0)\n",
            "Requirement already satisfied: kiwisolver>=1.0.1 in /usr/local/lib/python3.6/dist-packages (from matplotlib->pywaffle) (1.1.0)\n",
            "Requirement already satisfied: numpy>=1.10.0 in /usr/local/lib/python3.6/dist-packages (from matplotlib->pywaffle) (1.16.3)\n",
            "Requirement already satisfied: cycler>=0.10 in /usr/local/lib/python3.6/dist-packages (from matplotlib->pywaffle) (0.10.0)\n",
            "Requirement already satisfied: six>=1.5 in /usr/local/lib/python3.6/dist-packages (from python-dateutil>=2.1->matplotlib->pywaffle) (1.12.0)\n",
            "Requirement already satisfied: setuptools in /usr/local/lib/python3.6/dist-packages (from kiwisolver>=1.0.1->matplotlib->pywaffle) (41.0.1)\n",
            "All modules imported successfully\n"
          ],
          "name": "stdout"
        }
      ]
    },
    {
      "cell_type": "markdown",
      "metadata": {
        "id": "4ZTQLhat2bgl",
        "colab_type": "text"
      },
      "source": [
        "<h2>Loading The Titanic Data set to a pandas Data Frame:</h2> \n",
        "\n",
        "Note that the Titanic Data set we would use for this analysis can be downloaded from the project lesson of _**Udacity- Intro to Data Analysis course**_,<br>\n",
        "Which is a free course available at [Udacity](https://www.udacity.com/course/intro-to-data-analysis--ud170)"
      ]
    },
    {
      "cell_type": "markdown",
      "metadata": {
        "id": "_zRt0cXSK2jw",
        "colab_type": "text"
      },
      "source": [
        "<font color='khaki'>Another way to directly load a copy of this data set to a Data Frame, is from the Seaborn Library data sets, just like this:</font><br>\n",
        "<font color='gray'>(_**although for this project we would stick to the data set from Udacity**_)</font>"
      ]
    },
    {
      "cell_type": "code",
      "metadata": {
        "id": "YMRt1QuVGKkv",
        "colab_type": "code",
        "outputId": "ff4d7023-cc5b-47c9-9d41-865138f4f093",
        "colab": {
          "base_uri": "https://localhost:8080/",
          "height": 136
        }
      },
      "source": [
        "# Loading Titanic data set into a pandas dataframe from seaborn library in just one line of code\n",
        "titanic_df = sns.load_dataset('titanic')\n",
        "\n",
        "# Visualizing the first 3 rows of the data frame\n",
        "titanic_df.head(3)"
      ],
      "execution_count": 0,
      "outputs": [
        {
          "output_type": "execute_result",
          "data": {
            "text/html": [
              "<div>\n",
              "<style scoped>\n",
              "    .dataframe tbody tr th:only-of-type {\n",
              "        vertical-align: middle;\n",
              "    }\n",
              "\n",
              "    .dataframe tbody tr th {\n",
              "        vertical-align: top;\n",
              "    }\n",
              "\n",
              "    .dataframe thead th {\n",
              "        text-align: right;\n",
              "    }\n",
              "</style>\n",
              "<table border=\"1\" class=\"dataframe\">\n",
              "  <thead>\n",
              "    <tr style=\"text-align: right;\">\n",
              "      <th></th>\n",
              "      <th>survived</th>\n",
              "      <th>pclass</th>\n",
              "      <th>sex</th>\n",
              "      <th>age</th>\n",
              "      <th>sibsp</th>\n",
              "      <th>parch</th>\n",
              "      <th>fare</th>\n",
              "      <th>embarked</th>\n",
              "      <th>class</th>\n",
              "      <th>who</th>\n",
              "      <th>adult_male</th>\n",
              "      <th>deck</th>\n",
              "      <th>embark_town</th>\n",
              "      <th>alive</th>\n",
              "      <th>alone</th>\n",
              "    </tr>\n",
              "  </thead>\n",
              "  <tbody>\n",
              "    <tr>\n",
              "      <th>0</th>\n",
              "      <td>0</td>\n",
              "      <td>3</td>\n",
              "      <td>male</td>\n",
              "      <td>22.0</td>\n",
              "      <td>1</td>\n",
              "      <td>0</td>\n",
              "      <td>7.2500</td>\n",
              "      <td>S</td>\n",
              "      <td>Third</td>\n",
              "      <td>man</td>\n",
              "      <td>True</td>\n",
              "      <td>NaN</td>\n",
              "      <td>Southampton</td>\n",
              "      <td>no</td>\n",
              "      <td>False</td>\n",
              "    </tr>\n",
              "    <tr>\n",
              "      <th>1</th>\n",
              "      <td>1</td>\n",
              "      <td>1</td>\n",
              "      <td>female</td>\n",
              "      <td>38.0</td>\n",
              "      <td>1</td>\n",
              "      <td>0</td>\n",
              "      <td>71.2833</td>\n",
              "      <td>C</td>\n",
              "      <td>First</td>\n",
              "      <td>woman</td>\n",
              "      <td>False</td>\n",
              "      <td>C</td>\n",
              "      <td>Cherbourg</td>\n",
              "      <td>yes</td>\n",
              "      <td>False</td>\n",
              "    </tr>\n",
              "    <tr>\n",
              "      <th>2</th>\n",
              "      <td>1</td>\n",
              "      <td>3</td>\n",
              "      <td>female</td>\n",
              "      <td>26.0</td>\n",
              "      <td>0</td>\n",
              "      <td>0</td>\n",
              "      <td>7.9250</td>\n",
              "      <td>S</td>\n",
              "      <td>Third</td>\n",
              "      <td>woman</td>\n",
              "      <td>False</td>\n",
              "      <td>NaN</td>\n",
              "      <td>Southampton</td>\n",
              "      <td>yes</td>\n",
              "      <td>True</td>\n",
              "    </tr>\n",
              "  </tbody>\n",
              "</table>\n",
              "</div>"
            ],
            "text/plain": [
              "   survived  pclass     sex   age  sibsp  parch     fare embarked  class  \\\n",
              "0         0       3    male  22.0      1      0   7.2500        S  Third   \n",
              "1         1       1  female  38.0      1      0  71.2833        C  First   \n",
              "2         1       3  female  26.0      0      0   7.9250        S  Third   \n",
              "\n",
              "     who  adult_male deck  embark_town alive  alone  \n",
              "0    man        True  NaN  Southampton    no  False  \n",
              "1  woman       False    C    Cherbourg   yes  False  \n",
              "2  woman       False  NaN  Southampton   yes   True  "
            ]
          },
          "metadata": {
            "tags": []
          },
          "execution_count": 2
        }
      ]
    },
    {
      "cell_type": "markdown",
      "metadata": {
        "id": "yrZp_8a436LZ",
        "colab_type": "text"
      },
      "source": [
        "<font color='khaki'>So let's get to our Titanic Data set from Udacity. I preloaded it in github for easy access to colab. So we would import the data set from github.</font>\n",
        "\n",
        "<h3><u>Features of The Titanic Data Set.</u></h3>\n",
        "**PassengerId** - Numeric Id for each passenger onboard<br>\n",
        "**survived** - Survival (0 = No; 1 = Yes)<br>\n",
        "**Pclass** - Passenger Class (1 = 1st; 2 = 2nd; 3 = 3rd)<br>\n",
        "**name** - Name<br>\n",
        "**sex** - Sex<br>\n",
        "**age** - Age<br>\n",
        "**sibsp** - Number of Siblings/Spouses Aboard<br>\n",
        "**parch** - Number of Parents/Children Aboard<br>\n",
        "**ticket** - Ticket Number<br>\n",
        "**fare** - Passenger Fare<br>\n",
        "**cabin** - Cabin<br>\n",
        "**embarked** - Port of Embarkation (C = Cherbourg; Q = Queenstown; S = Southampton)"
      ]
    },
    {
      "cell_type": "markdown",
      "metadata": {
        "id": "7E-EhBbE6h3L",
        "colab_type": "text"
      },
      "source": [
        "<font color='khaki'>Importing The raw Titanic Data set from github</font>"
      ]
    },
    {
      "cell_type": "code",
      "metadata": {
        "id": "GvalBBZLza3V",
        "colab_type": "code",
        "colab": {}
      },
      "source": [
        "titanic_data = 'https://raw.githubusercontent.com/Blackman9t/EDA/master/titanic_data.csv'"
      ],
      "execution_count": 0,
      "outputs": []
    },
    {
      "cell_type": "markdown",
      "metadata": {
        "id": "P9CX7roO7Dap",
        "colab_type": "text"
      },
      "source": [
        "<font color='khaki'>Reading it into a Pandas Data Frame</font>"
      ]
    },
    {
      "cell_type": "markdown",
      "metadata": {
        "id": "xYi33EeOQMfQ",
        "colab_type": "text"
      },
      "source": [
        "Although pandas has a robust missing-values detection algorithm, experience has taught us that some missing value types may go undetected, unless we hard-code them.<br>\n",
        "Let's add some more possible missing value types to the default pandas collection"
      ]
    },
    {
      "cell_type": "code",
      "metadata": {
        "id": "SzEoNyNvQzMl",
        "colab_type": "code",
        "colab": {}
      },
      "source": [
        "# Making a list of additional missing value types added to the default NA type that pandas can detect\n",
        "\n",
        "missing_values = [\"n/a\", \"na\", \"--\",'?']"
      ],
      "execution_count": 0,
      "outputs": []
    },
    {
      "cell_type": "code",
      "metadata": {
        "id": "XGrKtxms1s0i",
        "colab_type": "code",
        "outputId": "f90f1ae0-f5ed-4a70-f51c-0f38632122ae",
        "colab": {
          "base_uri": "https://localhost:8080/",
          "height": 394
        }
      },
      "source": [
        "titanic_df = pd.read_csv(titanic_data, na_values = missing_values)\n",
        "\n",
        "# Let's view the first 10 entries of the data set\n",
        "titanic_df.head(10)"
      ],
      "execution_count": 0,
      "outputs": [
        {
          "output_type": "execute_result",
          "data": {
            "text/html": [
              "<div>\n",
              "<style scoped>\n",
              "    .dataframe tbody tr th:only-of-type {\n",
              "        vertical-align: middle;\n",
              "    }\n",
              "\n",
              "    .dataframe tbody tr th {\n",
              "        vertical-align: top;\n",
              "    }\n",
              "\n",
              "    .dataframe thead th {\n",
              "        text-align: right;\n",
              "    }\n",
              "</style>\n",
              "<table border=\"1\" class=\"dataframe\">\n",
              "  <thead>\n",
              "    <tr style=\"text-align: right;\">\n",
              "      <th></th>\n",
              "      <th>PassengerId</th>\n",
              "      <th>Survived</th>\n",
              "      <th>Pclass</th>\n",
              "      <th>Name</th>\n",
              "      <th>Sex</th>\n",
              "      <th>Age</th>\n",
              "      <th>SibSp</th>\n",
              "      <th>Parch</th>\n",
              "      <th>Ticket</th>\n",
              "      <th>Fare</th>\n",
              "      <th>Cabin</th>\n",
              "      <th>Embarked</th>\n",
              "    </tr>\n",
              "  </thead>\n",
              "  <tbody>\n",
              "    <tr>\n",
              "      <th>0</th>\n",
              "      <td>1</td>\n",
              "      <td>0</td>\n",
              "      <td>3</td>\n",
              "      <td>Braund, Mr. Owen Harris</td>\n",
              "      <td>male</td>\n",
              "      <td>22.0</td>\n",
              "      <td>1</td>\n",
              "      <td>0</td>\n",
              "      <td>A/5 21171</td>\n",
              "      <td>7.2500</td>\n",
              "      <td>NaN</td>\n",
              "      <td>S</td>\n",
              "    </tr>\n",
              "    <tr>\n",
              "      <th>1</th>\n",
              "      <td>2</td>\n",
              "      <td>1</td>\n",
              "      <td>1</td>\n",
              "      <td>Cumings, Mrs. John Bradley (Florence Briggs Th...</td>\n",
              "      <td>female</td>\n",
              "      <td>38.0</td>\n",
              "      <td>1</td>\n",
              "      <td>0</td>\n",
              "      <td>PC 17599</td>\n",
              "      <td>71.2833</td>\n",
              "      <td>C85</td>\n",
              "      <td>C</td>\n",
              "    </tr>\n",
              "    <tr>\n",
              "      <th>2</th>\n",
              "      <td>3</td>\n",
              "      <td>1</td>\n",
              "      <td>3</td>\n",
              "      <td>Heikkinen, Miss. Laina</td>\n",
              "      <td>female</td>\n",
              "      <td>26.0</td>\n",
              "      <td>0</td>\n",
              "      <td>0</td>\n",
              "      <td>STON/O2. 3101282</td>\n",
              "      <td>7.9250</td>\n",
              "      <td>NaN</td>\n",
              "      <td>S</td>\n",
              "    </tr>\n",
              "    <tr>\n",
              "      <th>3</th>\n",
              "      <td>4</td>\n",
              "      <td>1</td>\n",
              "      <td>1</td>\n",
              "      <td>Futrelle, Mrs. Jacques Heath (Lily May Peel)</td>\n",
              "      <td>female</td>\n",
              "      <td>35.0</td>\n",
              "      <td>1</td>\n",
              "      <td>0</td>\n",
              "      <td>113803</td>\n",
              "      <td>53.1000</td>\n",
              "      <td>C123</td>\n",
              "      <td>S</td>\n",
              "    </tr>\n",
              "    <tr>\n",
              "      <th>4</th>\n",
              "      <td>5</td>\n",
              "      <td>0</td>\n",
              "      <td>3</td>\n",
              "      <td>Allen, Mr. William Henry</td>\n",
              "      <td>male</td>\n",
              "      <td>35.0</td>\n",
              "      <td>0</td>\n",
              "      <td>0</td>\n",
              "      <td>373450</td>\n",
              "      <td>8.0500</td>\n",
              "      <td>NaN</td>\n",
              "      <td>S</td>\n",
              "    </tr>\n",
              "    <tr>\n",
              "      <th>5</th>\n",
              "      <td>6</td>\n",
              "      <td>0</td>\n",
              "      <td>3</td>\n",
              "      <td>Moran, Mr. James</td>\n",
              "      <td>male</td>\n",
              "      <td>NaN</td>\n",
              "      <td>0</td>\n",
              "      <td>0</td>\n",
              "      <td>330877</td>\n",
              "      <td>8.4583</td>\n",
              "      <td>NaN</td>\n",
              "      <td>Q</td>\n",
              "    </tr>\n",
              "    <tr>\n",
              "      <th>6</th>\n",
              "      <td>7</td>\n",
              "      <td>0</td>\n",
              "      <td>1</td>\n",
              "      <td>McCarthy, Mr. Timothy J</td>\n",
              "      <td>male</td>\n",
              "      <td>54.0</td>\n",
              "      <td>0</td>\n",
              "      <td>0</td>\n",
              "      <td>17463</td>\n",
              "      <td>51.8625</td>\n",
              "      <td>E46</td>\n",
              "      <td>S</td>\n",
              "    </tr>\n",
              "    <tr>\n",
              "      <th>7</th>\n",
              "      <td>8</td>\n",
              "      <td>0</td>\n",
              "      <td>3</td>\n",
              "      <td>Palsson, Master. Gosta Leonard</td>\n",
              "      <td>male</td>\n",
              "      <td>2.0</td>\n",
              "      <td>3</td>\n",
              "      <td>1</td>\n",
              "      <td>349909</td>\n",
              "      <td>21.0750</td>\n",
              "      <td>NaN</td>\n",
              "      <td>S</td>\n",
              "    </tr>\n",
              "    <tr>\n",
              "      <th>8</th>\n",
              "      <td>9</td>\n",
              "      <td>1</td>\n",
              "      <td>3</td>\n",
              "      <td>Johnson, Mrs. Oscar W (Elisabeth Vilhelmina Berg)</td>\n",
              "      <td>female</td>\n",
              "      <td>27.0</td>\n",
              "      <td>0</td>\n",
              "      <td>2</td>\n",
              "      <td>347742</td>\n",
              "      <td>11.1333</td>\n",
              "      <td>NaN</td>\n",
              "      <td>S</td>\n",
              "    </tr>\n",
              "    <tr>\n",
              "      <th>9</th>\n",
              "      <td>10</td>\n",
              "      <td>1</td>\n",
              "      <td>2</td>\n",
              "      <td>Nasser, Mrs. Nicholas (Adele Achem)</td>\n",
              "      <td>female</td>\n",
              "      <td>14.0</td>\n",
              "      <td>1</td>\n",
              "      <td>0</td>\n",
              "      <td>237736</td>\n",
              "      <td>30.0708</td>\n",
              "      <td>NaN</td>\n",
              "      <td>C</td>\n",
              "    </tr>\n",
              "  </tbody>\n",
              "</table>\n",
              "</div>"
            ],
            "text/plain": [
              "   PassengerId  Survived  Pclass  \\\n",
              "0            1         0       3   \n",
              "1            2         1       1   \n",
              "2            3         1       3   \n",
              "3            4         1       1   \n",
              "4            5         0       3   \n",
              "5            6         0       3   \n",
              "6            7         0       1   \n",
              "7            8         0       3   \n",
              "8            9         1       3   \n",
              "9           10         1       2   \n",
              "\n",
              "                                                Name     Sex   Age  SibSp  \\\n",
              "0                            Braund, Mr. Owen Harris    male  22.0      1   \n",
              "1  Cumings, Mrs. John Bradley (Florence Briggs Th...  female  38.0      1   \n",
              "2                             Heikkinen, Miss. Laina  female  26.0      0   \n",
              "3       Futrelle, Mrs. Jacques Heath (Lily May Peel)  female  35.0      1   \n",
              "4                           Allen, Mr. William Henry    male  35.0      0   \n",
              "5                                   Moran, Mr. James    male   NaN      0   \n",
              "6                            McCarthy, Mr. Timothy J    male  54.0      0   \n",
              "7                     Palsson, Master. Gosta Leonard    male   2.0      3   \n",
              "8  Johnson, Mrs. Oscar W (Elisabeth Vilhelmina Berg)  female  27.0      0   \n",
              "9                Nasser, Mrs. Nicholas (Adele Achem)  female  14.0      1   \n",
              "\n",
              "   Parch            Ticket     Fare Cabin Embarked  \n",
              "0      0         A/5 21171   7.2500   NaN        S  \n",
              "1      0          PC 17599  71.2833   C85        C  \n",
              "2      0  STON/O2. 3101282   7.9250   NaN        S  \n",
              "3      0            113803  53.1000  C123        S  \n",
              "4      0            373450   8.0500   NaN        S  \n",
              "5      0            330877   8.4583   NaN        Q  \n",
              "6      0             17463  51.8625   E46        S  \n",
              "7      1            349909  21.0750   NaN        S  \n",
              "8      2            347742  11.1333   NaN        S  \n",
              "9      0            237736  30.0708   NaN        C  "
            ]
          },
          "metadata": {
            "tags": []
          },
          "execution_count": 5
        }
      ]
    },
    {
      "cell_type": "markdown",
      "metadata": {
        "id": "QOFT6oTN7Yfi",
        "colab_type": "text"
      },
      "source": [
        "<font color='khaki'>Let's check the shape to know how many total rows and columns are involved</font>"
      ]
    },
    {
      "cell_type": "code",
      "metadata": {
        "id": "4mNmj9h47iFx",
        "colab_type": "code",
        "outputId": "f90e54ff-5b16-4e69-de85-51e07d596bcb",
        "colab": {
          "base_uri": "https://localhost:8080/",
          "height": 34
        }
      },
      "source": [
        "titanic_df.shape"
      ],
      "execution_count": 0,
      "outputs": [
        {
          "output_type": "execute_result",
          "data": {
            "text/plain": [
              "(891, 12)"
            ]
          },
          "metadata": {
            "tags": []
          },
          "execution_count": 6
        }
      ]
    },
    {
      "cell_type": "markdown",
      "metadata": {
        "id": "Fim4HZmW8PkI",
        "colab_type": "text"
      },
      "source": [
        "<font color='khaki'>This tells us there are 891 passenger entries  in the Titanic and 12 passenger features... Let's see the default summary statistics of the Data set</font>"
      ]
    },
    {
      "cell_type": "code",
      "metadata": {
        "id": "tP5ox_C37oP1",
        "colab_type": "code",
        "outputId": "7fa08dd1-2b85-4df1-80bb-18747efb1011",
        "colab": {
          "base_uri": "https://localhost:8080/",
          "height": 373
        }
      },
      "source": [
        "titanic_df.describe(include='all')\n",
        "\n",
        "# By default only numeric columns are computed.\n",
        "# If we want to view summary statistics for all columns then run;  titanic_df.describe(include='all')"
      ],
      "execution_count": 0,
      "outputs": [
        {
          "output_type": "execute_result",
          "data": {
            "text/html": [
              "<div>\n",
              "<style scoped>\n",
              "    .dataframe tbody tr th:only-of-type {\n",
              "        vertical-align: middle;\n",
              "    }\n",
              "\n",
              "    .dataframe tbody tr th {\n",
              "        vertical-align: top;\n",
              "    }\n",
              "\n",
              "    .dataframe thead th {\n",
              "        text-align: right;\n",
              "    }\n",
              "</style>\n",
              "<table border=\"1\" class=\"dataframe\">\n",
              "  <thead>\n",
              "    <tr style=\"text-align: right;\">\n",
              "      <th></th>\n",
              "      <th>PassengerId</th>\n",
              "      <th>Survived</th>\n",
              "      <th>Pclass</th>\n",
              "      <th>Name</th>\n",
              "      <th>Sex</th>\n",
              "      <th>Age</th>\n",
              "      <th>SibSp</th>\n",
              "      <th>Parch</th>\n",
              "      <th>Ticket</th>\n",
              "      <th>Fare</th>\n",
              "      <th>Cabin</th>\n",
              "      <th>Embarked</th>\n",
              "    </tr>\n",
              "  </thead>\n",
              "  <tbody>\n",
              "    <tr>\n",
              "      <th>count</th>\n",
              "      <td>891.000000</td>\n",
              "      <td>891.000000</td>\n",
              "      <td>891.000000</td>\n",
              "      <td>891</td>\n",
              "      <td>891</td>\n",
              "      <td>714.000000</td>\n",
              "      <td>891.000000</td>\n",
              "      <td>891.000000</td>\n",
              "      <td>891</td>\n",
              "      <td>891.000000</td>\n",
              "      <td>204</td>\n",
              "      <td>889</td>\n",
              "    </tr>\n",
              "    <tr>\n",
              "      <th>unique</th>\n",
              "      <td>NaN</td>\n",
              "      <td>NaN</td>\n",
              "      <td>NaN</td>\n",
              "      <td>891</td>\n",
              "      <td>2</td>\n",
              "      <td>NaN</td>\n",
              "      <td>NaN</td>\n",
              "      <td>NaN</td>\n",
              "      <td>681</td>\n",
              "      <td>NaN</td>\n",
              "      <td>147</td>\n",
              "      <td>3</td>\n",
              "    </tr>\n",
              "    <tr>\n",
              "      <th>top</th>\n",
              "      <td>NaN</td>\n",
              "      <td>NaN</td>\n",
              "      <td>NaN</td>\n",
              "      <td>Johansson, Mr. Erik</td>\n",
              "      <td>male</td>\n",
              "      <td>NaN</td>\n",
              "      <td>NaN</td>\n",
              "      <td>NaN</td>\n",
              "      <td>1601</td>\n",
              "      <td>NaN</td>\n",
              "      <td>G6</td>\n",
              "      <td>S</td>\n",
              "    </tr>\n",
              "    <tr>\n",
              "      <th>freq</th>\n",
              "      <td>NaN</td>\n",
              "      <td>NaN</td>\n",
              "      <td>NaN</td>\n",
              "      <td>1</td>\n",
              "      <td>577</td>\n",
              "      <td>NaN</td>\n",
              "      <td>NaN</td>\n",
              "      <td>NaN</td>\n",
              "      <td>7</td>\n",
              "      <td>NaN</td>\n",
              "      <td>4</td>\n",
              "      <td>644</td>\n",
              "    </tr>\n",
              "    <tr>\n",
              "      <th>mean</th>\n",
              "      <td>446.000000</td>\n",
              "      <td>0.383838</td>\n",
              "      <td>2.308642</td>\n",
              "      <td>NaN</td>\n",
              "      <td>NaN</td>\n",
              "      <td>29.699118</td>\n",
              "      <td>0.523008</td>\n",
              "      <td>0.381594</td>\n",
              "      <td>NaN</td>\n",
              "      <td>32.204208</td>\n",
              "      <td>NaN</td>\n",
              "      <td>NaN</td>\n",
              "    </tr>\n",
              "    <tr>\n",
              "      <th>std</th>\n",
              "      <td>257.353842</td>\n",
              "      <td>0.486592</td>\n",
              "      <td>0.836071</td>\n",
              "      <td>NaN</td>\n",
              "      <td>NaN</td>\n",
              "      <td>14.526497</td>\n",
              "      <td>1.102743</td>\n",
              "      <td>0.806057</td>\n",
              "      <td>NaN</td>\n",
              "      <td>49.693429</td>\n",
              "      <td>NaN</td>\n",
              "      <td>NaN</td>\n",
              "    </tr>\n",
              "    <tr>\n",
              "      <th>min</th>\n",
              "      <td>1.000000</td>\n",
              "      <td>0.000000</td>\n",
              "      <td>1.000000</td>\n",
              "      <td>NaN</td>\n",
              "      <td>NaN</td>\n",
              "      <td>0.420000</td>\n",
              "      <td>0.000000</td>\n",
              "      <td>0.000000</td>\n",
              "      <td>NaN</td>\n",
              "      <td>0.000000</td>\n",
              "      <td>NaN</td>\n",
              "      <td>NaN</td>\n",
              "    </tr>\n",
              "    <tr>\n",
              "      <th>25%</th>\n",
              "      <td>223.500000</td>\n",
              "      <td>0.000000</td>\n",
              "      <td>2.000000</td>\n",
              "      <td>NaN</td>\n",
              "      <td>NaN</td>\n",
              "      <td>20.125000</td>\n",
              "      <td>0.000000</td>\n",
              "      <td>0.000000</td>\n",
              "      <td>NaN</td>\n",
              "      <td>7.910400</td>\n",
              "      <td>NaN</td>\n",
              "      <td>NaN</td>\n",
              "    </tr>\n",
              "    <tr>\n",
              "      <th>50%</th>\n",
              "      <td>446.000000</td>\n",
              "      <td>0.000000</td>\n",
              "      <td>3.000000</td>\n",
              "      <td>NaN</td>\n",
              "      <td>NaN</td>\n",
              "      <td>28.000000</td>\n",
              "      <td>0.000000</td>\n",
              "      <td>0.000000</td>\n",
              "      <td>NaN</td>\n",
              "      <td>14.454200</td>\n",
              "      <td>NaN</td>\n",
              "      <td>NaN</td>\n",
              "    </tr>\n",
              "    <tr>\n",
              "      <th>75%</th>\n",
              "      <td>668.500000</td>\n",
              "      <td>1.000000</td>\n",
              "      <td>3.000000</td>\n",
              "      <td>NaN</td>\n",
              "      <td>NaN</td>\n",
              "      <td>38.000000</td>\n",
              "      <td>1.000000</td>\n",
              "      <td>0.000000</td>\n",
              "      <td>NaN</td>\n",
              "      <td>31.000000</td>\n",
              "      <td>NaN</td>\n",
              "      <td>NaN</td>\n",
              "    </tr>\n",
              "    <tr>\n",
              "      <th>max</th>\n",
              "      <td>891.000000</td>\n",
              "      <td>1.000000</td>\n",
              "      <td>3.000000</td>\n",
              "      <td>NaN</td>\n",
              "      <td>NaN</td>\n",
              "      <td>80.000000</td>\n",
              "      <td>8.000000</td>\n",
              "      <td>6.000000</td>\n",
              "      <td>NaN</td>\n",
              "      <td>512.329200</td>\n",
              "      <td>NaN</td>\n",
              "      <td>NaN</td>\n",
              "    </tr>\n",
              "  </tbody>\n",
              "</table>\n",
              "</div>"
            ],
            "text/plain": [
              "        PassengerId    Survived      Pclass                 Name   Sex  \\\n",
              "count    891.000000  891.000000  891.000000                  891   891   \n",
              "unique          NaN         NaN         NaN                  891     2   \n",
              "top             NaN         NaN         NaN  Johansson, Mr. Erik  male   \n",
              "freq            NaN         NaN         NaN                    1   577   \n",
              "mean     446.000000    0.383838    2.308642                  NaN   NaN   \n",
              "std      257.353842    0.486592    0.836071                  NaN   NaN   \n",
              "min        1.000000    0.000000    1.000000                  NaN   NaN   \n",
              "25%      223.500000    0.000000    2.000000                  NaN   NaN   \n",
              "50%      446.000000    0.000000    3.000000                  NaN   NaN   \n",
              "75%      668.500000    1.000000    3.000000                  NaN   NaN   \n",
              "max      891.000000    1.000000    3.000000                  NaN   NaN   \n",
              "\n",
              "               Age       SibSp       Parch Ticket        Fare Cabin Embarked  \n",
              "count   714.000000  891.000000  891.000000    891  891.000000   204      889  \n",
              "unique         NaN         NaN         NaN    681         NaN   147        3  \n",
              "top            NaN         NaN         NaN   1601         NaN    G6        S  \n",
              "freq           NaN         NaN         NaN      7         NaN     4      644  \n",
              "mean     29.699118    0.523008    0.381594    NaN   32.204208   NaN      NaN  \n",
              "std      14.526497    1.102743    0.806057    NaN   49.693429   NaN      NaN  \n",
              "min       0.420000    0.000000    0.000000    NaN    0.000000   NaN      NaN  \n",
              "25%      20.125000    0.000000    0.000000    NaN    7.910400   NaN      NaN  \n",
              "50%      28.000000    0.000000    0.000000    NaN   14.454200   NaN      NaN  \n",
              "75%      38.000000    1.000000    0.000000    NaN   31.000000   NaN      NaN  \n",
              "max      80.000000    8.000000    6.000000    NaN  512.329200   NaN      NaN  "
            ]
          },
          "metadata": {
            "tags": []
          },
          "execution_count": 7
        }
      ]
    },
    {
      "cell_type": "markdown",
      "metadata": {
        "id": "C2cp45LR99qi",
        "colab_type": "text"
      },
      "source": [
        "<font color='khaki'>We can see from the summary statistics that:-<br>\n",
        " The average survival rate when The Titanic sank was 38% only.<br>\n",
        "  Age column has only 714 numeric entries as against 891 like the rest of the numeric data columns...<br>\n",
        "  The average or mean age of passengers aboard the titanic was about 30 years.<br>\n",
        "  The oldest person or maximum age was 80 years old.<br>\n",
        "  The minimum age was less than a year... we can investigate further<br>\n",
        "  Also the average passenger fare was about 32 pounds<br>\n",
        "  While the most expensive tickets sold for slightly above 500 pounds... interesting.</font>"
      ]
    },
    {
      "cell_type": "markdown",
      "metadata": {
        "id": "x_gVDGTb-AWb",
        "colab_type": "text"
      },
      "source": [
        "<h3>Let's look at the data types of all the columns to confirm that the right data types are in place before we start the analysis:</h3> "
      ]
    },
    {
      "cell_type": "code",
      "metadata": {
        "id": "zURTTo8x9_ei",
        "colab_type": "code",
        "outputId": "71056101-bb86-48fd-de04-1d1c2cac84b4",
        "colab": {
          "base_uri": "https://localhost:8080/",
          "height": 302
        }
      },
      "source": [
        "titanic_df.info()"
      ],
      "execution_count": 0,
      "outputs": [
        {
          "output_type": "stream",
          "text": [
            "<class 'pandas.core.frame.DataFrame'>\n",
            "RangeIndex: 891 entries, 0 to 890\n",
            "Data columns (total 12 columns):\n",
            "PassengerId    891 non-null int64\n",
            "Survived       891 non-null int64\n",
            "Pclass         891 non-null int64\n",
            "Name           891 non-null object\n",
            "Sex            891 non-null object\n",
            "Age            714 non-null float64\n",
            "SibSp          891 non-null int64\n",
            "Parch          891 non-null int64\n",
            "Ticket         891 non-null object\n",
            "Fare           891 non-null float64\n",
            "Cabin          204 non-null object\n",
            "Embarked       889 non-null object\n",
            "dtypes: float64(2), int64(5), object(5)\n",
            "memory usage: 83.6+ KB\n"
          ],
          "name": "stdout"
        }
      ]
    },
    {
      "cell_type": "markdown",
      "metadata": {
        "id": "ACnzPcj499A2",
        "colab_type": "text"
      },
      "source": [
        "<font color='khaki'>Okay, all numerical columns have the right int or float type to make vectorized computations easy, the rest are also in good order.</font>"
      ]
    },
    {
      "cell_type": "markdown",
      "metadata": {
        "id": "t5iwgtcFvfm5",
        "colab_type": "text"
      },
      "source": [
        "**Next let's check for the number of NaN  or unknown values per column.**"
      ]
    },
    {
      "cell_type": "code",
      "metadata": {
        "id": "405RPjkqvtk2",
        "colab_type": "code",
        "outputId": "1b2f5871-9ef2-459c-ec44-3b0f4c063d7d",
        "colab": {
          "base_uri": "https://localhost:8080/",
          "height": 235
        }
      },
      "source": [
        "titanic_df.isna().sum()"
      ],
      "execution_count": 0,
      "outputs": [
        {
          "output_type": "execute_result",
          "data": {
            "text/plain": [
              "PassengerId      0\n",
              "Survived         0\n",
              "Pclass           0\n",
              "Name             0\n",
              "Sex              0\n",
              "Age            177\n",
              "SibSp            0\n",
              "Parch            0\n",
              "Ticket           0\n",
              "Fare             0\n",
              "Cabin          687\n",
              "Embarked         2\n",
              "dtype: int64"
            ]
          },
          "metadata": {
            "tags": []
          },
          "execution_count": 9
        }
      ]
    },
    {
      "cell_type": "markdown",
      "metadata": {
        "id": "ahd1fDmYwDzS",
        "colab_type": "text"
      },
      "source": [
        "<font color='khaki'>We an clearly see that almost all columns are clean except:-<br>\n",
        "Age: with 177 missing values,<br>\n",
        "Cabin: with 687 missing values<br>\n",
        "Embarked: 2 missing values...<br>\n",
        "We shall deal with these soon.</font>"
      ]
    },
    {
      "cell_type": "markdown",
      "metadata": {
        "id": "Ubz0bTewU5mu",
        "colab_type": "text"
      },
      "source": [
        "To find total number of NaN values"
      ]
    },
    {
      "cell_type": "code",
      "metadata": {
        "id": "uYIuepaKT75k",
        "colab_type": "code",
        "outputId": "b6fb433f-456c-485e-ad29-d670011d458e",
        "colab": {
          "base_uri": "https://localhost:8080/",
          "height": 34
        }
      },
      "source": [
        "titanic_df.isna().sum().sum()"
      ],
      "execution_count": 0,
      "outputs": [
        {
          "output_type": "execute_result",
          "data": {
            "text/plain": [
              "866"
            ]
          },
          "metadata": {
            "tags": []
          },
          "execution_count": 10
        }
      ]
    },
    {
      "cell_type": "markdown",
      "metadata": {
        "id": "xUWiU30TUgtT",
        "colab_type": "text"
      },
      "source": [
        "To check if missing values in one column"
      ]
    },
    {
      "cell_type": "code",
      "metadata": {
        "id": "k8qXh-b2UDdM",
        "colab_type": "code",
        "outputId": "f95ae795-08ce-49a8-8b59-8c2ad6f101c1",
        "colab": {
          "base_uri": "https://localhost:8080/",
          "height": 34
        }
      },
      "source": [
        "titanic_df.Age.isna().values.any()"
      ],
      "execution_count": 0,
      "outputs": [
        {
          "output_type": "execute_result",
          "data": {
            "text/plain": [
              "True"
            ]
          },
          "metadata": {
            "tags": []
          },
          "execution_count": 11
        }
      ]
    },
    {
      "cell_type": "markdown",
      "metadata": {
        "id": "iW0m9gQZSboN",
        "colab_type": "text"
      },
      "source": [
        "Visualizing missing values"
      ]
    },
    {
      "cell_type": "code",
      "metadata": {
        "id": "Yo7LrHQRRdG0",
        "colab_type": "code",
        "outputId": "20f903e0-94ea-4d32-f292-0d2b8e459936",
        "colab": {
          "base_uri": "https://localhost:8080/",
          "height": 458
        }
      },
      "source": [
        "import missingno as msno\n",
        "msno.bar(titanic_df, figsize=(12, 6), fontsize=12, color='steelblue')\n",
        "plt.show()"
      ],
      "execution_count": 0,
      "outputs": [
        {
          "output_type": "display_data",
          "data": {
            "image/png": "[encoded data removed]",
            "text/plain": [
              "<Figure size 864x432 with 3 Axes>"
            ]
          },
          "metadata": {
            "tags": []
          }
        }
      ]
    },
    {
      "cell_type": "markdown",
      "metadata": {
        "id": "3Et55xwRO82l",
        "colab_type": "text"
      },
      "source": [
        "<h2>Fixing the missing Age Column:</h2>"
      ]
    },
    {
      "cell_type": "markdown",
      "metadata": {
        "id": "ZPT23wvFRNpk",
        "colab_type": "text"
      },
      "source": [
        "Let's visualize the age column with a histogram, to see the distribution of ages"
      ]
    },
    {
      "cell_type": "code",
      "metadata": {
        "id": "HhqD7GD6luBn",
        "colab_type": "code",
        "colab": {}
      },
      "source": [
        "x = titanic_df.Age.copy(deep=True)"
      ],
      "execution_count": 0,
      "outputs": []
    },
    {
      "cell_type": "code",
      "metadata": {
        "id": "MQIweAxjRd26",
        "colab_type": "code",
        "outputId": "13382b75-0486-49c6-b32d-722875b19533",
        "colab": {
          "base_uri": "https://localhost:8080/",
          "height": 34
        }
      },
      "source": [
        "x.dropna(axis=0, inplace=True)\n",
        "\n",
        "len(x)"
      ],
      "execution_count": 0,
      "outputs": [
        {
          "output_type": "execute_result",
          "data": {
            "text/plain": [
              "714"
            ]
          },
          "metadata": {
            "tags": []
          },
          "execution_count": 14
        }
      ]
    },
    {
      "cell_type": "code",
      "metadata": {
        "id": "Zk6HHzXpSh5B",
        "colab_type": "code",
        "outputId": "c913f4ed-30b9-44b3-9b7d-a311e67f4396",
        "colab": {
          "base_uri": "https://localhost:8080/",
          "height": 50
        }
      },
      "source": [
        "count, bin_edges = np.histogram(x, bins=10, range=(0,100))\n",
        "print('count is',count,'\\nBin edges are:',bin_edges)"
      ],
      "execution_count": 0,
      "outputs": [
        {
          "output_type": "stream",
          "text": [
            "count is [ 62 102 220 167  89  48  19   6   1   0] \n",
            "Bin edges are: [  0.  10.  20.  30.  40.  50.  60.  70.  80.  90. 100.]\n"
          ],
          "name": "stdout"
        }
      ]
    },
    {
      "cell_type": "code",
      "metadata": {
        "id": "uSpnC-BzTuxm",
        "colab_type": "code",
        "outputId": "aba61733-7f76-4977-d405-c98031087693",
        "colab": {
          "base_uri": "https://localhost:8080/",
          "height": 295
        }
      },
      "source": [
        "plt.hist(x, bins=bin_edges)\n",
        "plt.title('Histogram of Age Distribution.')\n",
        "plt.xlabel('Age-Range')\n",
        "plt.ylabel('Frequency')\n",
        "plt\n",
        "plt.show()"
      ],
      "execution_count": 0,
      "outputs": [
        {
          "output_type": "display_data",
          "data": {
            "image/png": "[encoded data removed]",
            "text/plain": [
              "<Figure size 432x288 with 1 Axes>"
            ]
          },
          "metadata": {
            "tags": []
          }
        }
      ]
    },
    {
      "cell_type": "markdown",
      "metadata": {
        "id": "MdkUh0WRU8Ew",
        "colab_type": "text"
      },
      "source": [
        "Let's print out the measures of central tendency of the distribution"
      ]
    },
    {
      "cell_type": "code",
      "metadata": {
        "id": "M5Ug7fLFVSNE",
        "colab_type": "code",
        "outputId": "32777216-aa69-4eb8-88f3-99ade003d09a",
        "colab": {
          "base_uri": "https://localhost:8080/",
          "height": 67
        }
      },
      "source": [
        "mode_age = (x.mode())[0]\n",
        "mean_age = x.mean()\n",
        "median_age = x.median()\n",
        "\n",
        "print('Mean age is',mean_age)\n",
        "print('Median age is',median_age)\n",
        "print('Mode age is',mode_age)"
      ],
      "execution_count": 0,
      "outputs": [
        {
          "output_type": "stream",
          "text": [
            "Mean age is 29.69911764705882\n",
            "Median age is 28.0\n",
            "Mode age is 24.0\n"
          ],
          "name": "stdout"
        }
      ]
    },
    {
      "cell_type": "markdown",
      "metadata": {
        "id": "lBoSZFVyUZiE",
        "colab_type": "text"
      },
      "source": [
        "<font color='khaki'>We will now summarize the main features of the distribution of ages as it appears from the histogram:</font>\n",
        "\n",
        "**Shape:** The distribution of ages is skewed right. This means we have a concentration of data of young people in The Titanic, <br>And a progressively fewer number of older people, making the histogram to skew to the right.<br>\n",
        "It is also **unimodal** in shape, with just one dominant mode range of passenger ages between 20 - 30 years.\n",
        "\n",
        "**Center:** The data seem to be centered around 28 years old. Note that this implies that roughly half the passengers in the Titanic  are less than 30 years old.<br>\n",
        "This is also reflected by a mean, median and modal age of 30 years.\n",
        "\n",
        "**Spread:** The data range is from about 0 to about 80, so the approximate range equals 80 - 0 = 80.\n",
        "\n",
        "**Outliers:** There are no outliers in the Age data as all values seem evenly distributed, with a steady decrease of the number of passengers above the 30 - 40 age group.\n",
        "\n",
        "<font color='khaki'>We can conclude that The Titanic had more passengers in the age range 0 to 30 years,<br>\n",
        "And the most frequent age-range of all Titanic passengers was 20 - 30 years of age.</font>"
      ]
    },
    {
      "cell_type": "markdown",
      "metadata": {
        "id": "CMoSccMiWLWR",
        "colab_type": "text"
      },
      "source": [
        "finally we shall define a method that randomly replaces the missing age values with either the mean, median or mode values."
      ]
    },
    {
      "cell_type": "code",
      "metadata": {
        "id": "XgrOFZlwJHsv",
        "colab_type": "code",
        "colab": {}
      },
      "source": [
        "def rand_age(x):\n",
        "    \"\"\" Takes a value x, and returns the float form of x.\n",
        "    If x gives an error, then return either the mode, median or mean age\"\"\"    \n",
        "    try:\n",
        "        int(x)\n",
        "        return float(x)\n",
        "    except:\n",
        "        i = [mean_age, mode_age, median_age]\n",
        "        y = np.random.randint(0, len(i))\n",
        "    \n",
        "    return i[y]"
      ],
      "execution_count": 0,
      "outputs": []
    },
    {
      "cell_type": "markdown",
      "metadata": {
        "id": "VN1DrwWEddod",
        "colab_type": "text"
      },
      "source": [
        "Next, lets apply that method to the age column"
      ]
    },
    {
      "cell_type": "code",
      "metadata": {
        "id": "RBje5gojdc04",
        "colab_type": "code",
        "colab": {}
      },
      "source": [
        "titanic_df.Age = titanic_df.Age.apply(rand_age)\n"
      ],
      "execution_count": 0,
      "outputs": []
    },
    {
      "cell_type": "markdown",
      "metadata": {
        "id": "RLQ0kouaeDTX",
        "colab_type": "text"
      },
      "source": [
        "Let's confirm the changes"
      ]
    },
    {
      "cell_type": "code",
      "metadata": {
        "id": "DaVYAd6SeGSJ",
        "colab_type": "code",
        "outputId": "1aa7d300-832d-4ff6-bd38-d44d9d86b699",
        "colab": {
          "base_uri": "https://localhost:8080/",
          "height": 34
        }
      },
      "source": [
        "titanic_df.Age.isna().any()"
      ],
      "execution_count": 0,
      "outputs": [
        {
          "output_type": "execute_result",
          "data": {
            "text/plain": [
              "False"
            ]
          },
          "metadata": {
            "tags": []
          },
          "execution_count": 20
        }
      ]
    },
    {
      "cell_type": "markdown",
      "metadata": {
        "id": "nhoIlNaiBarB",
        "colab_type": "text"
      },
      "source": [
        "<h2>Let's look at the 3 different classes of passengers:</h2> "
      ]
    },
    {
      "cell_type": "markdown",
      "metadata": {
        "id": "hzDS0dFgE8i5",
        "colab_type": "text"
      },
      "source": [
        "<font color='khaki'>First let's check the distribution of passengers in each class"
      ]
    },
    {
      "cell_type": "code",
      "metadata": {
        "id": "RFHN_0JIFnnQ",
        "colab_type": "code",
        "outputId": "1ea62a90-68a1-49b1-da53-51dce022d49f",
        "colab": {
          "base_uri": "https://localhost:8080/",
          "height": 34
        }
      },
      "source": [
        "# we need to be sure that there are only 3 classses (3, 2, 1) in the data set.\n",
        "# let's use the unique method of pandas to verify\n",
        "\n",
        "titanic_df.Pclass.unique()"
      ],
      "execution_count": 0,
      "outputs": [
        {
          "output_type": "execute_result",
          "data": {
            "text/plain": [
              "array([3, 1, 2])"
            ]
          },
          "metadata": {
            "tags": []
          },
          "execution_count": 21
        }
      ]
    },
    {
      "cell_type": "code",
      "metadata": {
        "id": "D4_HIOuQFWQJ",
        "colab_type": "code",
        "outputId": "c4b2cb6d-df96-4e0b-9f71-8f98086636f3",
        "colab": {
          "base_uri": "https://localhost:8080/",
          "height": 136
        }
      },
      "source": [
        "# next let's check the distribution size of each class of passengers\n",
        "# we can easily do this with pandas groupby function.\n",
        "\n",
        "# Let's group Pclasss by size and cast to a Data Frame.\n",
        "classes = titanic_df.groupby('Pclass').size().to_frame()\n",
        "\n",
        "# Let's rename the column\n",
        "classes.rename(columns={0:'total'}, inplace=True)\n",
        "\n",
        "# Let's customize the index\n",
        "classes.index = ['1st Class','2nd Class','3rd Class']\n",
        "\n",
        "# and display the result\n",
        "classes"
      ],
      "execution_count": 0,
      "outputs": [
        {
          "output_type": "execute_result",
          "data": {
            "text/html": [
              "<div>\n",
              "<style scoped>\n",
              "    .dataframe tbody tr th:only-of-type {\n",
              "        vertical-align: middle;\n",
              "    }\n",
              "\n",
              "    .dataframe tbody tr th {\n",
              "        vertical-align: top;\n",
              "    }\n",
              "\n",
              "    .dataframe thead th {\n",
              "        text-align: right;\n",
              "    }\n",
              "</style>\n",
              "<table border=\"1\" class=\"dataframe\">\n",
              "  <thead>\n",
              "    <tr style=\"text-align: right;\">\n",
              "      <th></th>\n",
              "      <th>total</th>\n",
              "    </tr>\n",
              "  </thead>\n",
              "  <tbody>\n",
              "    <tr>\n",
              "      <th>1st Class</th>\n",
              "      <td>216</td>\n",
              "    </tr>\n",
              "    <tr>\n",
              "      <th>2nd Class</th>\n",
              "      <td>184</td>\n",
              "    </tr>\n",
              "    <tr>\n",
              "      <th>3rd Class</th>\n",
              "      <td>491</td>\n",
              "    </tr>\n",
              "  </tbody>\n",
              "</table>\n",
              "</div>"
            ],
            "text/plain": [
              "           total\n",
              "1st Class    216\n",
              "2nd Class    184\n",
              "3rd Class    491"
            ]
          },
          "metadata": {
            "tags": []
          },
          "execution_count": 22
        }
      ]
    },
    {
      "cell_type": "markdown",
      "metadata": {
        "id": "5uMfqMSyGvJN",
        "colab_type": "text"
      },
      "source": [
        "<font color='khaki'>We can see that out of `891 passengers` aboard the Titanic, `216` were in 1st Class, `184` in 2nd class and a whopping `491` in 3rd Class.</font>"
      ]
    },
    {
      "cell_type": "markdown",
      "metadata": {
        "id": "uGSmvsrFfxhe",
        "colab_type": "text"
      },
      "source": [
        "<h3>Visualizing Passenger Distribution of The Titanic Using Bar and Pie plots.</h3>"
      ]
    },
    {
      "cell_type": "code",
      "metadata": {
        "id": "LghsHakdbuQF",
        "colab_type": "code",
        "outputId": "d285b14e-26dc-47fc-c046-6ece3baab3a5",
        "colab": {
          "base_uri": "https://localhost:8080/",
          "height": 471
        }
      },
      "source": [
        "plt.figure(figsize=(18, 6))\n",
        "sns.set(font_scale=1.2)\n",
        "sns.set_style('ticks') # change background to white background\n",
        "plt.suptitle('Visualizing Passenger Distribution of The Titanic using a Bar and Pie plot', y=1.05)\n",
        "\n",
        "# For The Bar chart\n",
        "plt.subplot(121)\n",
        "color_list = ['gold','purple','brown']\n",
        "plt.bar(x=classes.index, height=classes.total, data=classes, color= color_list, width=0.5)\n",
        "plt.title('Bar Chart showing Distribution of Passengers in The Titanic')\n",
        "plt.xlabel('Classes')\n",
        "plt.ylabel('Number of Passengers')\n",
        "for x,y in zip(classes.index, classes.total):\n",
        "    label = round(y,2)  #  could also be written as:-   \"{:.2f}\".format(y)\n",
        "    \n",
        "    plt.annotate(label, # this is the text\n",
        "                 (x,y), # this is the point to label\n",
        "                 textcoords=\"offset points\", # how to position the text\n",
        "                 xytext=(0,4), # distance from text to points (x,y)\n",
        "                 ha='center',) # horizontal alignment can be left, right or center\n",
        "\n",
        "# For The Pie chart\n",
        "plt.subplot(122)\n",
        "plt.pie(classes.total, \n",
        "        data=classes,\n",
        "       autopct='%1.1f%%',\n",
        "       colors=color_list,\n",
        "       startangle=90,\n",
        "       shadow=True,\n",
        "       pctdistance=1.15)\n",
        "plt.title('Pie Chart showing Percentage Distribution of Passengers in The Titanic')\n",
        "plt.axis('equal')\n",
        "plt.legend(labels=classes.index, loc='upper right')\n",
        "\n",
        "plt.show()"
      ],
      "execution_count": 0,
      "outputs": [
        {
          "output_type": "display_data",
          "data": {
            "image/png": "[encoded data removed]",
            "text/plain": [
              "<Figure size 1296x432 with 2 Axes>"
            ]
          },
          "metadata": {
            "tags": []
          }
        }
      ]
    },
    {
      "cell_type": "markdown",
      "metadata": {
        "id": "caZpc6sqsKnp",
        "colab_type": "text"
      },
      "source": [
        "<h2>Average Ticket Fares to The Titanic Per Passenger Class </h2>"
      ]
    },
    {
      "cell_type": "markdown",
      "metadata": {
        "id": "ETciLdp5s6T6",
        "colab_type": "text"
      },
      "source": [
        "<font color='khaki'>The above plots represent the norm in most human activities, regular tickets often sell more than VIP tickets.<br>\n",
        "Let's find out the average  and max ticket fares for 1st Class, 2nd Class and 3rd Class passengers</font>"
      ]
    },
    {
      "cell_type": "code",
      "metadata": {
        "id": "ZaFqRF1g3kvi",
        "colab_type": "code",
        "outputId": "c0f8417b-c183-4c56-b313-336ea09831ad",
        "colab": {
          "base_uri": "https://localhost:8080/",
          "height": 106
        }
      },
      "source": [
        "# first we form two groups of average and max ticket fares per class\n",
        "ave_ticket_per_class = titanic_df[['Pclass','Fare']].groupby('Pclass').mean()\n",
        "max_ticket_per_class = titanic_df[['Pclass','Fare']].groupby('Pclass').max()\n",
        "\n",
        "# Next we group them together \n",
        "ave_ticket_per_class['Max_Fare'] = max_ticket_per_class['Fare']\n",
        "ave_ticket_per_class.rename(columns={'Fare':'Ave_Fare'},inplace=True)\n",
        "\n",
        "# Finally rename it\n",
        "ticket_range = ave_ticket_per_class\n",
        "\n",
        "# And display \n",
        "#ticket_range.sort_values(['Pclass'],ascending=True, inplace=True)\n",
        "ticket_range\n",
        "\n",
        "ticket_range.sort_index(ascending=False, inplace=True)\n",
        "ticket_range  = ticket_range.transpose()\n",
        "ticket_range"
      ],
      "execution_count": 0,
      "outputs": [
        {
          "output_type": "execute_result",
          "data": {
            "text/html": [
              "<div>\n",
              "<style scoped>\n",
              "    .dataframe tbody tr th:only-of-type {\n",
              "        vertical-align: middle;\n",
              "    }\n",
              "\n",
              "    .dataframe tbody tr th {\n",
              "        vertical-align: top;\n",
              "    }\n",
              "\n",
              "    .dataframe thead th {\n",
              "        text-align: right;\n",
              "    }\n",
              "</style>\n",
              "<table border=\"1\" class=\"dataframe\">\n",
              "  <thead>\n",
              "    <tr style=\"text-align: right;\">\n",
              "      <th>Pclass</th>\n",
              "      <th>3</th>\n",
              "      <th>2</th>\n",
              "      <th>1</th>\n",
              "    </tr>\n",
              "  </thead>\n",
              "  <tbody>\n",
              "    <tr>\n",
              "      <th>Ave_Fare</th>\n",
              "      <td>13.67555</td>\n",
              "      <td>20.662183</td>\n",
              "      <td>84.154687</td>\n",
              "    </tr>\n",
              "    <tr>\n",
              "      <th>Max_Fare</th>\n",
              "      <td>69.55000</td>\n",
              "      <td>73.500000</td>\n",
              "      <td>512.329200</td>\n",
              "    </tr>\n",
              "  </tbody>\n",
              "</table>\n",
              "</div>"
            ],
            "text/plain": [
              "Pclass           3          2           1\n",
              "Ave_Fare  13.67555  20.662183   84.154687\n",
              "Max_Fare  69.55000  73.500000  512.329200"
            ]
          },
          "metadata": {
            "tags": []
          },
          "execution_count": 24
        }
      ]
    },
    {
      "cell_type": "markdown",
      "metadata": {
        "id": "BuFXe0XFFSZa",
        "colab_type": "text"
      },
      "source": [
        "<font color='khaki'>With the average price of a 3rd class ticket going for about 14 pounds and that of a 1st class ticket going for 84 pounds on average;<br>\n",
        "It can be inferred that ticket price could be one of the reasons why more than half the passengers aboard the Titanic were in 3rd class.<br>\n",
        "Notice that the price difference between 3rd and 2nd Class tickets is minimal<br>\n",
        "  "
      ]
    },
    {
      "cell_type": "markdown",
      "metadata": {
        "id": "HIX7pjvWNcgA",
        "colab_type": "text"
      },
      "source": [
        "<h3>Visualizing average to max range of Ticket Fares per Passenger Class of The Titanic Using a Box Plot.</h3>"
      ]
    },
    {
      "cell_type": "code",
      "metadata": {
        "id": "skI-Yxf9jz34",
        "colab_type": "code",
        "outputId": "6fe7493f-c09b-4e42-afcc-4d48e9165e2f",
        "colab": {
          "base_uri": "https://localhost:8080/",
          "height": 416
        }
      },
      "source": [
        "plt.figure(figsize=(10,6))\n",
        "sns.boxplot('Pclass','Fare', data=titanic_df)\n",
        "sns.set(font_scale=1.3)\n",
        "plt.title('Boxplot showing range of Ticket Fares for The Titanic')\n",
        "plt.xlabel('Passenger Classes')\n",
        "plt.ylabel('Ticket Fare')\n",
        "plt.show()"
      ],
      "execution_count": 0,
      "outputs": [
        {
          "output_type": "display_data",
          "data": {
            "image/png": "[encoded data removed]",
            "text/plain": [
              "<Figure size 720x432 with 1 Axes>"
            ]
          },
          "metadata": {
            "tags": []
          }
        }
      ]
    },
    {
      "cell_type": "markdown",
      "metadata": {
        "id": "LwBTYDjRup9T",
        "colab_type": "text"
      },
      "source": [
        "<font color='khaki'>Once again the boxplot shows striking similarities between the ticket fares for 3rd and 2nd class passengers of The Titanic</font>"
      ]
    },
    {
      "cell_type": "markdown",
      "metadata": {
        "id": "cZ6SAcOINMUx",
        "colab_type": "text"
      },
      "source": [
        "<h2>Let's see the correlation between fares and passenger classes.</h2>"
      ]
    },
    {
      "cell_type": "code",
      "metadata": {
        "id": "yTatrpsjqJGg",
        "colab_type": "code",
        "outputId": "3f1e40c7-ebd1-4d37-bbdb-ad3701983644",
        "colab": {
          "base_uri": "https://localhost:8080/",
          "height": 34
        }
      },
      "source": [
        "titanic_df['Pclass'].corr(titanic_df['Fare'])"
      ],
      "execution_count": 0,
      "outputs": [
        {
          "output_type": "execute_result",
          "data": {
            "text/plain": [
              "-0.5494996199439074"
            ]
          },
          "metadata": {
            "tags": []
          },
          "execution_count": 26
        }
      ]
    },
    {
      "cell_type": "markdown",
      "metadata": {
        "id": "2J0jJ52EH5tS",
        "colab_type": "text"
      },
      "source": [
        "<font color='khaki'>A correlation figure of -0.55 indicates an above average negative relationship between passenger classes and ticket fares.<br>\n",
        "This could mean that as ticket fares tend to rise, the number of passengers tend to drop and vice-versa.<br>\n",
        " Note that correlation does not imply causation... <br>The fact that two variables seem to have a negative, positive or no relationship, does not imply that one variable causes the other to occur or not.<br>\n",
        " See Visualization below</font>"
      ]
    },
    {
      "cell_type": "code",
      "metadata": {
        "id": "iCwGnrMVdwrt",
        "colab_type": "code",
        "outputId": "9978f4a3-ed97-48c8-bf9d-220bd26e1282",
        "colab": {
          "base_uri": "https://localhost:8080/",
          "height": 507
        }
      },
      "source": [
        "corr_data= titanic_df.corr()\n",
        "\n",
        "plt.figure(figsize=(12,8))\n",
        "sns.heatmap(corr_data, annot=True)\n",
        "plt.title('Heat-Map showing The correlation of variables in Titanic Data Set')\n",
        "\n",
        "plt.show()"
      ],
      "execution_count": 0,
      "outputs": [
        {
          "output_type": "display_data",
          "data": {
            "image/png": "[encoded data removed]",
            "text/plain": [
              "<Figure size 864x576 with 2 Axes>"
            ]
          },
          "metadata": {
            "tags": []
          }
        }
      ]
    },
    {
      "cell_type": "markdown",
      "metadata": {
        "id": "TkjovzhNQWak",
        "colab_type": "text"
      },
      "source": [
        "<h2>Let's look at the age distribution of passengers aboard The Titanic:</h2> "
      ]
    },
    {
      "cell_type": "markdown",
      "metadata": {
        "id": "UbQkKfGWNwX-",
        "colab_type": "text"
      },
      "source": [
        "<font color='khaki'>Earlier we saw that: <br>The average age of all passengers was about 30 years.<br>The minimum age was about 5 months (0.42 * 12).<br>The maximum was 80 years.</font>"
      ]
    },
    {
      "cell_type": "markdown",
      "metadata": {
        "id": "X7gzxvK5UOHC",
        "colab_type": "text"
      },
      "source": [
        "**Let's check the minimum age again**"
      ]
    },
    {
      "cell_type": "code",
      "metadata": {
        "id": "6a7QW3LjPcpQ",
        "colab_type": "code",
        "outputId": "3ab80ba5-fb10-471d-e9f2-7c96fdfa5757",
        "colab": {
          "base_uri": "https://localhost:8080/",
          "height": 34
        }
      },
      "source": [
        "# First lets investigate the minimum age again\n",
        "\n",
        "titanic_df.Age.min()"
      ],
      "execution_count": 0,
      "outputs": [
        {
          "output_type": "execute_result",
          "data": {
            "text/plain": [
              "0.42"
            ]
          },
          "metadata": {
            "tags": []
          },
          "execution_count": 28
        }
      ]
    },
    {
      "cell_type": "markdown",
      "metadata": {
        "id": "JE_GcKDVVG1z",
        "colab_type": "text"
      },
      "source": [
        "<font color='khaki'>It's possible that there were babies just a few months old aboard the Titanic.<br>This could be the reason why we have some age less than one year old,<br>Let's look at the distribution of passengers below one year old.</font>"
      ]
    },
    {
      "cell_type": "code",
      "metadata": {
        "id": "Wx5-Du40Uhdj",
        "colab_type": "code",
        "outputId": "5e074dae-39f2-4cb0-c6d5-277a1ea38e91",
        "colab": {
          "base_uri": "https://localhost:8080/",
          "height": 254
        }
      },
      "source": [
        "titanic_df[(titanic_df.Age<1)]"
      ],
      "execution_count": 0,
      "outputs": [
        {
          "output_type": "execute_result",
          "data": {
            "text/html": [
              "<div>\n",
              "<style scoped>\n",
              "    .dataframe tbody tr th:only-of-type {\n",
              "        vertical-align: middle;\n",
              "    }\n",
              "\n",
              "    .dataframe tbody tr th {\n",
              "        vertical-align: top;\n",
              "    }\n",
              "\n",
              "    .dataframe thead th {\n",
              "        text-align: right;\n",
              "    }\n",
              "</style>\n",
              "<table border=\"1\" class=\"dataframe\">\n",
              "  <thead>\n",
              "    <tr style=\"text-align: right;\">\n",
              "      <th></th>\n",
              "      <th>PassengerId</th>\n",
              "      <th>Survived</th>\n",
              "      <th>Pclass</th>\n",
              "      <th>Name</th>\n",
              "      <th>Sex</th>\n",
              "      <th>Age</th>\n",
              "      <th>SibSp</th>\n",
              "      <th>Parch</th>\n",
              "      <th>Ticket</th>\n",
              "      <th>Fare</th>\n",
              "      <th>Cabin</th>\n",
              "      <th>Embarked</th>\n",
              "    </tr>\n",
              "  </thead>\n",
              "  <tbody>\n",
              "    <tr>\n",
              "      <th>78</th>\n",
              "      <td>79</td>\n",
              "      <td>1</td>\n",
              "      <td>2</td>\n",
              "      <td>Caldwell, Master. Alden Gates</td>\n",
              "      <td>male</td>\n",
              "      <td>0.83</td>\n",
              "      <td>0</td>\n",
              "      <td>2</td>\n",
              "      <td>248738</td>\n",
              "      <td>29.0000</td>\n",
              "      <td>NaN</td>\n",
              "      <td>S</td>\n",
              "    </tr>\n",
              "    <tr>\n",
              "      <th>305</th>\n",
              "      <td>306</td>\n",
              "      <td>1</td>\n",
              "      <td>1</td>\n",
              "      <td>Allison, Master. Hudson Trevor</td>\n",
              "      <td>male</td>\n",
              "      <td>0.92</td>\n",
              "      <td>1</td>\n",
              "      <td>2</td>\n",
              "      <td>113781</td>\n",
              "      <td>151.5500</td>\n",
              "      <td>C22 C26</td>\n",
              "      <td>S</td>\n",
              "    </tr>\n",
              "    <tr>\n",
              "      <th>469</th>\n",
              "      <td>470</td>\n",
              "      <td>1</td>\n",
              "      <td>3</td>\n",
              "      <td>Baclini, Miss. Helene Barbara</td>\n",
              "      <td>female</td>\n",
              "      <td>0.75</td>\n",
              "      <td>2</td>\n",
              "      <td>1</td>\n",
              "      <td>2666</td>\n",
              "      <td>19.2583</td>\n",
              "      <td>NaN</td>\n",
              "      <td>C</td>\n",
              "    </tr>\n",
              "    <tr>\n",
              "      <th>644</th>\n",
              "      <td>645</td>\n",
              "      <td>1</td>\n",
              "      <td>3</td>\n",
              "      <td>Baclini, Miss. Eugenie</td>\n",
              "      <td>female</td>\n",
              "      <td>0.75</td>\n",
              "      <td>2</td>\n",
              "      <td>1</td>\n",
              "      <td>2666</td>\n",
              "      <td>19.2583</td>\n",
              "      <td>NaN</td>\n",
              "      <td>C</td>\n",
              "    </tr>\n",
              "    <tr>\n",
              "      <th>755</th>\n",
              "      <td>756</td>\n",
              "      <td>1</td>\n",
              "      <td>2</td>\n",
              "      <td>Hamalainen, Master. Viljo</td>\n",
              "      <td>male</td>\n",
              "      <td>0.67</td>\n",
              "      <td>1</td>\n",
              "      <td>1</td>\n",
              "      <td>250649</td>\n",
              "      <td>14.5000</td>\n",
              "      <td>NaN</td>\n",
              "      <td>S</td>\n",
              "    </tr>\n",
              "    <tr>\n",
              "      <th>803</th>\n",
              "      <td>804</td>\n",
              "      <td>1</td>\n",
              "      <td>3</td>\n",
              "      <td>Thomas, Master. Assad Alexander</td>\n",
              "      <td>male</td>\n",
              "      <td>0.42</td>\n",
              "      <td>0</td>\n",
              "      <td>1</td>\n",
              "      <td>2625</td>\n",
              "      <td>8.5167</td>\n",
              "      <td>NaN</td>\n",
              "      <td>C</td>\n",
              "    </tr>\n",
              "    <tr>\n",
              "      <th>831</th>\n",
              "      <td>832</td>\n",
              "      <td>1</td>\n",
              "      <td>2</td>\n",
              "      <td>Richards, Master. George Sibley</td>\n",
              "      <td>male</td>\n",
              "      <td>0.83</td>\n",
              "      <td>1</td>\n",
              "      <td>1</td>\n",
              "      <td>29106</td>\n",
              "      <td>18.7500</td>\n",
              "      <td>NaN</td>\n",
              "      <td>S</td>\n",
              "    </tr>\n",
              "  </tbody>\n",
              "</table>\n",
              "</div>"
            ],
            "text/plain": [
              "     PassengerId  Survived  Pclass                             Name     Sex  \\\n",
              "78            79         1       2    Caldwell, Master. Alden Gates    male   \n",
              "305          306         1       1   Allison, Master. Hudson Trevor    male   \n",
              "469          470         1       3    Baclini, Miss. Helene Barbara  female   \n",
              "644          645         1       3           Baclini, Miss. Eugenie  female   \n",
              "755          756         1       2        Hamalainen, Master. Viljo    male   \n",
              "803          804         1       3  Thomas, Master. Assad Alexander    male   \n",
              "831          832         1       2  Richards, Master. George Sibley    male   \n",
              "\n",
              "      Age  SibSp  Parch  Ticket      Fare    Cabin Embarked  \n",
              "78   0.83      0      2  248738   29.0000      NaN        S  \n",
              "305  0.92      1      2  113781  151.5500  C22 C26        S  \n",
              "469  0.75      2      1    2666   19.2583      NaN        C  \n",
              "644  0.75      2      1    2666   19.2583      NaN        C  \n",
              "755  0.67      1      1  250649   14.5000      NaN        S  \n",
              "803  0.42      0      1    2625    8.5167      NaN        C  \n",
              "831  0.83      1      1   29106   18.7500      NaN        S  "
            ]
          },
          "metadata": {
            "tags": []
          },
          "execution_count": 29
        }
      ]
    },
    {
      "cell_type": "markdown",
      "metadata": {
        "id": "xm_izstWWxxI",
        "colab_type": "text"
      },
      "source": [
        "<font color='khaki'>We can see 7 passengers below one year old. Made up of 5 little boys and 2 pretty little girls.<br>And from their titles (`Master` or `Miss`), we can safely assume they were indeed just a few months old when the Titanic crashed.<br>On a positive note, it is good that all these infants survived as their `Survived` status is 1.</font>"
      ]
    },
    {
      "cell_type": "markdown",
      "metadata": {
        "id": "8le4SrDr7Mah",
        "colab_type": "text"
      },
      "source": [
        "<font color='khaki'>The details of the youngest passenger aboard The Titanic </font>"
      ]
    },
    {
      "cell_type": "code",
      "metadata": {
        "id": "PWwV_Gce5etA",
        "colab_type": "code",
        "outputId": "a8805c18-0381-4bea-fb2e-56e33362a54e",
        "colab": {
          "base_uri": "https://localhost:8080/",
          "height": 77
        }
      },
      "source": [
        "titanic_df[np.logical_and(titanic_df.Name, titanic_df.Age==titanic_df.Age.min())]"
      ],
      "execution_count": 0,
      "outputs": [
        {
          "output_type": "execute_result",
          "data": {
            "text/html": [
              "<div>\n",
              "<style scoped>\n",
              "    .dataframe tbody tr th:only-of-type {\n",
              "        vertical-align: middle;\n",
              "    }\n",
              "\n",
              "    .dataframe tbody tr th {\n",
              "        vertical-align: top;\n",
              "    }\n",
              "\n",
              "    .dataframe thead th {\n",
              "        text-align: right;\n",
              "    }\n",
              "</style>\n",
              "<table border=\"1\" class=\"dataframe\">\n",
              "  <thead>\n",
              "    <tr style=\"text-align: right;\">\n",
              "      <th></th>\n",
              "      <th>PassengerId</th>\n",
              "      <th>Survived</th>\n",
              "      <th>Pclass</th>\n",
              "      <th>Name</th>\n",
              "      <th>Sex</th>\n",
              "      <th>Age</th>\n",
              "      <th>SibSp</th>\n",
              "      <th>Parch</th>\n",
              "      <th>Ticket</th>\n",
              "      <th>Fare</th>\n",
              "      <th>Cabin</th>\n",
              "      <th>Embarked</th>\n",
              "    </tr>\n",
              "  </thead>\n",
              "  <tbody>\n",
              "    <tr>\n",
              "      <th>803</th>\n",
              "      <td>804</td>\n",
              "      <td>1</td>\n",
              "      <td>3</td>\n",
              "      <td>Thomas, Master. Assad Alexander</td>\n",
              "      <td>male</td>\n",
              "      <td>0.42</td>\n",
              "      <td>0</td>\n",
              "      <td>1</td>\n",
              "      <td>2625</td>\n",
              "      <td>8.5167</td>\n",
              "      <td>NaN</td>\n",
              "      <td>C</td>\n",
              "    </tr>\n",
              "  </tbody>\n",
              "</table>\n",
              "</div>"
            ],
            "text/plain": [
              "     PassengerId  Survived  Pclass                             Name   Sex  \\\n",
              "803          804         1       3  Thomas, Master. Assad Alexander  male   \n",
              "\n",
              "      Age  SibSp  Parch Ticket    Fare Cabin Embarked  \n",
              "803  0.42      0      1   2625  8.5167   NaN        C  "
            ]
          },
          "metadata": {
            "tags": []
          },
          "execution_count": 30
        }
      ]
    },
    {
      "cell_type": "markdown",
      "metadata": {
        "id": "EvV_K7Va7hyz",
        "colab_type": "text"
      },
      "source": [
        "<font color='khaki'>The details of the oldest passenger aboard The Titanic </font>"
      ]
    },
    {
      "cell_type": "code",
      "metadata": {
        "id": "-FcBRMyF6zta",
        "colab_type": "code",
        "outputId": "e6921dee-d9c3-4d55-fb20-f87479d0e0e2",
        "colab": {
          "base_uri": "https://localhost:8080/",
          "height": 77
        }
      },
      "source": [
        "titanic_df[np.logical_and(titanic_df.Name, titanic_df.Age==titanic_df.Age.max())]"
      ],
      "execution_count": 0,
      "outputs": [
        {
          "output_type": "execute_result",
          "data": {
            "text/html": [
              "<div>\n",
              "<style scoped>\n",
              "    .dataframe tbody tr th:only-of-type {\n",
              "        vertical-align: middle;\n",
              "    }\n",
              "\n",
              "    .dataframe tbody tr th {\n",
              "        vertical-align: top;\n",
              "    }\n",
              "\n",
              "    .dataframe thead th {\n",
              "        text-align: right;\n",
              "    }\n",
              "</style>\n",
              "<table border=\"1\" class=\"dataframe\">\n",
              "  <thead>\n",
              "    <tr style=\"text-align: right;\">\n",
              "      <th></th>\n",
              "      <th>PassengerId</th>\n",
              "      <th>Survived</th>\n",
              "      <th>Pclass</th>\n",
              "      <th>Name</th>\n",
              "      <th>Sex</th>\n",
              "      <th>Age</th>\n",
              "      <th>SibSp</th>\n",
              "      <th>Parch</th>\n",
              "      <th>Ticket</th>\n",
              "      <th>Fare</th>\n",
              "      <th>Cabin</th>\n",
              "      <th>Embarked</th>\n",
              "    </tr>\n",
              "  </thead>\n",
              "  <tbody>\n",
              "    <tr>\n",
              "      <th>630</th>\n",
              "      <td>631</td>\n",
              "      <td>1</td>\n",
              "      <td>1</td>\n",
              "      <td>Barkworth, Mr. Algernon Henry Wilson</td>\n",
              "      <td>male</td>\n",
              "      <td>80.0</td>\n",
              "      <td>0</td>\n",
              "      <td>0</td>\n",
              "      <td>27042</td>\n",
              "      <td>30.0</td>\n",
              "      <td>A23</td>\n",
              "      <td>S</td>\n",
              "    </tr>\n",
              "  </tbody>\n",
              "</table>\n",
              "</div>"
            ],
            "text/plain": [
              "     PassengerId  Survived  Pclass                                  Name  \\\n",
              "630          631         1       1  Barkworth, Mr. Algernon Henry Wilson   \n",
              "\n",
              "      Sex   Age  SibSp  Parch Ticket  Fare Cabin Embarked  \n",
              "630  male  80.0      0      0  27042  30.0   A23        S  "
            ]
          },
          "metadata": {
            "tags": []
          },
          "execution_count": 31
        }
      ]
    },
    {
      "cell_type": "markdown",
      "metadata": {
        "id": "g6PUUmNA8uW-",
        "colab_type": "text"
      },
      "source": [
        "The Wealthiest passenger\n",
        "\n",
        "John Jacob Astor IV."
      ]
    },
    {
      "cell_type": "markdown",
      "metadata": {
        "id": "t3EhVjiVU1Uj",
        "colab_type": "text"
      },
      "source": [
        "<h2> Did you know?</h2>\n",
        "\n",
        "<img src='https://hips.hearstapps.com/hmg-prod.s3.amazonaws.com/images/length-titanic-1523649350.jpg?crop=1xw:1xh;center,top&resize=980:*'>\n",
        "\n",
        "\n",
        "<h4><font color='khaki'>The Titanic was over 882 feet long (almost 3 football fields)... And it weighed 52,310 tons</font></h4>\n",
        "\n",
        "courtesy [goodhousekeeping](https://www.goodhousekeeping.com/life/g19809308/titanic-facts/?slide=3)"
      ]
    },
    {
      "cell_type": "markdown",
      "metadata": {
        "id": "ZcDWVit8hdv2",
        "colab_type": "text"
      },
      "source": [
        "<font color='khaki'>So we have 177 NaN values. Add that to 714 and total is 891 entries as expected.<br>\n",
        "When it comes to dealing with NaN values, we usually have the following options:-<br>\n",
        "1. We can leave it the way it is, if this option would not affect our computational or visual analysis<br>\n",
        "2. We can replace NaN values with either the mean or mode of the distribution<br>\n",
        "3. We can delete NaN values from the Data set, this would mean reducing the Data size and is best suited for large data sets with a few NaN values.</font> "
      ]
    },
    {
      "cell_type": "markdown",
      "metadata": {
        "id": "85Rp_6bxrQBU",
        "colab_type": "text"
      },
      "source": [
        "**Let's see the Class and Sex summary of passengers with NaN Age values.**"
      ]
    },
    {
      "cell_type": "markdown",
      "metadata": {
        "id": "YEkrE90yttLg",
        "colab_type": "text"
      },
      "source": [
        "<font color ='khaki'>There is no given pattern, but clearly more passengers in 3rd class do not have their age values.<br>First class has 30 entries and 2nd class about a dozen entries.</font>"
      ]
    },
    {
      "cell_type": "markdown",
      "metadata": {
        "id": "qVAbCw-Zw_7Y",
        "colab_type": "text"
      },
      "source": [
        "**Let's replace all NaN Age values with the average age of passengers in the Data set**\n",
        "\n"
      ]
    },
    {
      "cell_type": "markdown",
      "metadata": {
        "id": "a2mgRrKrfgzG",
        "colab_type": "text"
      },
      "source": [
        "<h2>Visualizing Age Distribution of Passengers using a Hist and Dist Plot</h2>"
      ]
    },
    {
      "cell_type": "code",
      "metadata": {
        "id": "JIAQ0Q0oP00Z",
        "colab_type": "code",
        "outputId": "c6291537-7f76-4f7f-da5e-2196bde67940",
        "colab": {
          "base_uri": "https://localhost:8080/",
          "height": 473
        }
      },
      "source": [
        "fig = plt.figure(figsize=(18, 6))\n",
        "sns.set_style('ticks')\n",
        "\n",
        "ax0 = fig.add_subplot(121)\n",
        "ax1 = fig.add_subplot(122)\n",
        "\n",
        "plt.suptitle('Visualizing Age Distribution of Passengers using a Hist and Dist Plot', y=1.05)\n",
        "#Histogram\n",
        "titanic_df.Age.plot(kind='hist', edgecolor='navy', ax=ax0, facecolor='peru')\n",
        "ax0.set_title('Histogram of Age Distribution of Titanic Passengers')\n",
        "ax0.set_xlabel('Age')\n",
        "\n",
        "\n",
        "#Distplot\n",
        "sns.distplot(titanic_df.Age, hist=False, color='r', ax=ax1, label='Age Distribution')\n",
        "ax1.set_title('Distplot of Age Distribution of Titanic Passengers')\n",
        "\n",
        "\n",
        "\n",
        "\n",
        "plt.show()"
      ],
      "execution_count": 0,
      "outputs": [
        {
          "output_type": "display_data",
          "data": {
            "image/png": "[encoded data removed]",
            "text/plain": [
              "<Figure size 1296x432 with 2 Axes>"
            ]
          },
          "metadata": {
            "tags": []
          }
        }
      ]
    },
    {
      "cell_type": "markdown",
      "metadata": {
        "id": "bgSLTwCE-4H9",
        "colab_type": "text"
      },
      "source": [
        "<font color='khaki'>We will now summarize the main features of the distribution of ages as it appears from the histogram:</font>\n",
        "\n",
        "**Shape:** The distribution of ages is skewed right. This means we have a concentration of data of young people in The Titanic, <br>And a progressively fewer number of older people, making the histogram to skew to the right.<br>\n",
        "It is also **unimodal** in shape, with just one dominant mode range of passenger ages between 20 - 30 years.\n",
        "\n",
        "**Center:** The data seem to be centered around 30 years old. Note that this implies that roughly half the passengers in the Titanic  are less than 30 years old.<br>\n",
        "This is also reflected by a mean, median and modal age of 30 years.\n",
        "\n",
        "**Spread:** The data range is from about 0 to about 80, so the approximate range equals 80 - 0 = 80.\n",
        "\n",
        "**Outliers:** There are no outliers in the Age data as all values seem evenly distributed, with a steady decrease of the number of passengers above the 30 - 40 age group.\n",
        "\n",
        "<font color='khaki'>We can conclude that The Titanic had more passengers in the age range 0 to 30 years,<br>\n",
        "And the most frequent age-range of all Titanic passengers was 20 - 30 years of age.</font>"
      ]
    },
    {
      "cell_type": "code",
      "metadata": {
        "id": "OHlKe_SZVgk7",
        "colab_type": "code",
        "outputId": "00471add-3f20-4972-d7a0-e74ec8649360",
        "colab": {
          "base_uri": "https://localhost:8080/",
          "height": 84
        }
      },
      "source": [
        "# further proof of the above assertion can be seen below\n",
        "# Titanic had 586 passengers below age 30 and 305 passengers above 30 years.\n",
        "\n",
        "titanic_df.groupby(titanic_df['Age'] <= 30).size()"
      ],
      "execution_count": 0,
      "outputs": [
        {
          "output_type": "execute_result",
          "data": {
            "text/plain": [
              "Age\n",
              "False    305\n",
              "True     586\n",
              "dtype: int64"
            ]
          },
          "metadata": {
            "tags": []
          },
          "execution_count": 33
        }
      ]
    },
    {
      "cell_type": "markdown",
      "metadata": {
        "id": "dG_hj-YHwurG",
        "colab_type": "text"
      },
      "source": [
        "<font color='khaki'>Code above shows that out of the `891` passengers, `586` `(66%)` were less than 30 years old and `305` `(34%)` were 30 years and above.</font> "
      ]
    },
    {
      "cell_type": "markdown",
      "metadata": {
        "id": "UmsMP55G3pyd",
        "colab_type": "text"
      },
      "source": [
        "<h2>Let's compare the age distribution of Males and Females aboard The Titanic</h2>"
      ]
    },
    {
      "cell_type": "markdown",
      "metadata": {
        "id": "J-Bu5_eKa0CD",
        "colab_type": "text"
      },
      "source": [
        "<font color='khaki'>First Let's create two separate Data Frames for Males and Females.</font>"
      ]
    },
    {
      "cell_type": "code",
      "metadata": {
        "id": "RYYR-513I0rn",
        "colab_type": "code",
        "colab": {}
      },
      "source": [
        "males = titanic_df[titanic_df.Sex=='male']\n",
        "females = titanic_df[titanic_df.Sex=='female']"
      ],
      "execution_count": 0,
      "outputs": []
    },
    {
      "cell_type": "markdown",
      "metadata": {
        "id": "aJsRlaeSJ_a-",
        "colab_type": "text"
      },
      "source": [
        "<font color='khaki'>Let's see the summary statistics for males and females..."
      ]
    },
    {
      "cell_type": "code",
      "metadata": {
        "id": "2XM5M7A7J7DB",
        "colab_type": "code",
        "outputId": "e342adf2-56c1-4857-f5d8-8391cc74cc44",
        "colab": {
          "base_uri": "https://localhost:8080/",
          "height": 284
        }
      },
      "source": [
        "males.describe()"
      ],
      "execution_count": 0,
      "outputs": [
        {
          "output_type": "execute_result",
          "data": {
            "text/html": [
              "<div>\n",
              "<style scoped>\n",
              "    .dataframe tbody tr th:only-of-type {\n",
              "        vertical-align: middle;\n",
              "    }\n",
              "\n",
              "    .dataframe tbody tr th {\n",
              "        vertical-align: top;\n",
              "    }\n",
              "\n",
              "    .dataframe thead th {\n",
              "        text-align: right;\n",
              "    }\n",
              "</style>\n",
              "<table border=\"1\" class=\"dataframe\">\n",
              "  <thead>\n",
              "    <tr style=\"text-align: right;\">\n",
              "      <th></th>\n",
              "      <th>PassengerId</th>\n",
              "      <th>Survived</th>\n",
              "      <th>Pclass</th>\n",
              "      <th>Age</th>\n",
              "      <th>SibSp</th>\n",
              "      <th>Parch</th>\n",
              "      <th>Fare</th>\n",
              "    </tr>\n",
              "  </thead>\n",
              "  <tbody>\n",
              "    <tr>\n",
              "      <th>count</th>\n",
              "      <td>577.000000</td>\n",
              "      <td>577.000000</td>\n",
              "      <td>577.000000</td>\n",
              "      <td>577.000000</td>\n",
              "      <td>577.000000</td>\n",
              "      <td>577.000000</td>\n",
              "      <td>577.000000</td>\n",
              "    </tr>\n",
              "    <tr>\n",
              "      <th>mean</th>\n",
              "      <td>454.147314</td>\n",
              "      <td>0.188908</td>\n",
              "      <td>2.389948</td>\n",
              "      <td>29.978041</td>\n",
              "      <td>0.429809</td>\n",
              "      <td>0.235702</td>\n",
              "      <td>25.523893</td>\n",
              "    </tr>\n",
              "    <tr>\n",
              "      <th>std</th>\n",
              "      <td>257.486139</td>\n",
              "      <td>0.391775</td>\n",
              "      <td>0.813580</td>\n",
              "      <td>13.130904</td>\n",
              "      <td>1.061811</td>\n",
              "      <td>0.612294</td>\n",
              "      <td>43.138263</td>\n",
              "    </tr>\n",
              "    <tr>\n",
              "      <th>min</th>\n",
              "      <td>1.000000</td>\n",
              "      <td>0.000000</td>\n",
              "      <td>1.000000</td>\n",
              "      <td>0.420000</td>\n",
              "      <td>0.000000</td>\n",
              "      <td>0.000000</td>\n",
              "      <td>0.000000</td>\n",
              "    </tr>\n",
              "    <tr>\n",
              "      <th>25%</th>\n",
              "      <td>222.000000</td>\n",
              "      <td>0.000000</td>\n",
              "      <td>2.000000</td>\n",
              "      <td>23.000000</td>\n",
              "      <td>0.000000</td>\n",
              "      <td>0.000000</td>\n",
              "      <td>7.895800</td>\n",
              "    </tr>\n",
              "    <tr>\n",
              "      <th>50%</th>\n",
              "      <td>464.000000</td>\n",
              "      <td>0.000000</td>\n",
              "      <td>3.000000</td>\n",
              "      <td>28.000000</td>\n",
              "      <td>0.000000</td>\n",
              "      <td>0.000000</td>\n",
              "      <td>10.500000</td>\n",
              "    </tr>\n",
              "    <tr>\n",
              "      <th>75%</th>\n",
              "      <td>680.000000</td>\n",
              "      <td>0.000000</td>\n",
              "      <td>3.000000</td>\n",
              "      <td>35.000000</td>\n",
              "      <td>0.000000</td>\n",
              "      <td>0.000000</td>\n",
              "      <td>26.550000</td>\n",
              "    </tr>\n",
              "    <tr>\n",
              "      <th>max</th>\n",
              "      <td>891.000000</td>\n",
              "      <td>1.000000</td>\n",
              "      <td>3.000000</td>\n",
              "      <td>80.000000</td>\n",
              "      <td>8.000000</td>\n",
              "      <td>5.000000</td>\n",
              "      <td>512.329200</td>\n",
              "    </tr>\n",
              "  </tbody>\n",
              "</table>\n",
              "</div>"
            ],
            "text/plain": [
              "       PassengerId    Survived      Pclass         Age       SibSp  \\\n",
              "count   577.000000  577.000000  577.000000  577.000000  577.000000   \n",
              "mean    454.147314    0.188908    2.389948   29.978041    0.429809   \n",
              "std     257.486139    0.391775    0.813580   13.130904    1.061811   \n",
              "min       1.000000    0.000000    1.000000    0.420000    0.000000   \n",
              "25%     222.000000    0.000000    2.000000   23.000000    0.000000   \n",
              "50%     464.000000    0.000000    3.000000   28.000000    0.000000   \n",
              "75%     680.000000    0.000000    3.000000   35.000000    0.000000   \n",
              "max     891.000000    1.000000    3.000000   80.000000    8.000000   \n",
              "\n",
              "            Parch        Fare  \n",
              "count  577.000000  577.000000  \n",
              "mean     0.235702   25.523893  \n",
              "std      0.612294   43.138263  \n",
              "min      0.000000    0.000000  \n",
              "25%      0.000000    7.895800  \n",
              "50%      0.000000   10.500000  \n",
              "75%      0.000000   26.550000  \n",
              "max      5.000000  512.329200  "
            ]
          },
          "metadata": {
            "tags": []
          },
          "execution_count": 35
        }
      ]
    },
    {
      "cell_type": "code",
      "metadata": {
        "id": "uQ1LmBAEKS9z",
        "colab_type": "code",
        "outputId": "d42f2ac3-09c6-415a-8070-7e2604580fcf",
        "colab": {
          "base_uri": "https://localhost:8080/",
          "height": 284
        }
      },
      "source": [
        "females.describe()"
      ],
      "execution_count": 0,
      "outputs": [
        {
          "output_type": "execute_result",
          "data": {
            "text/html": [
              "<div>\n",
              "<style scoped>\n",
              "    .dataframe tbody tr th:only-of-type {\n",
              "        vertical-align: middle;\n",
              "    }\n",
              "\n",
              "    .dataframe tbody tr th {\n",
              "        vertical-align: top;\n",
              "    }\n",
              "\n",
              "    .dataframe thead th {\n",
              "        text-align: right;\n",
              "    }\n",
              "</style>\n",
              "<table border=\"1\" class=\"dataframe\">\n",
              "  <thead>\n",
              "    <tr style=\"text-align: right;\">\n",
              "      <th></th>\n",
              "      <th>PassengerId</th>\n",
              "      <th>Survived</th>\n",
              "      <th>Pclass</th>\n",
              "      <th>Age</th>\n",
              "      <th>SibSp</th>\n",
              "      <th>Parch</th>\n",
              "      <th>Fare</th>\n",
              "    </tr>\n",
              "  </thead>\n",
              "  <tbody>\n",
              "    <tr>\n",
              "      <th>count</th>\n",
              "      <td>314.000000</td>\n",
              "      <td>314.000000</td>\n",
              "      <td>314.000000</td>\n",
              "      <td>314.000000</td>\n",
              "      <td>314.000000</td>\n",
              "      <td>314.000000</td>\n",
              "      <td>314.000000</td>\n",
              "    </tr>\n",
              "    <tr>\n",
              "      <th>mean</th>\n",
              "      <td>431.028662</td>\n",
              "      <td>0.742038</td>\n",
              "      <td>2.159236</td>\n",
              "      <td>27.787216</td>\n",
              "      <td>0.694268</td>\n",
              "      <td>0.649682</td>\n",
              "      <td>44.479818</td>\n",
              "    </tr>\n",
              "    <tr>\n",
              "      <th>std</th>\n",
              "      <td>256.846324</td>\n",
              "      <td>0.438211</td>\n",
              "      <td>0.857290</td>\n",
              "      <td>12.900064</td>\n",
              "      <td>1.156520</td>\n",
              "      <td>1.022846</td>\n",
              "      <td>57.997698</td>\n",
              "    </tr>\n",
              "    <tr>\n",
              "      <th>min</th>\n",
              "      <td>2.000000</td>\n",
              "      <td>0.000000</td>\n",
              "      <td>1.000000</td>\n",
              "      <td>0.750000</td>\n",
              "      <td>0.000000</td>\n",
              "      <td>0.000000</td>\n",
              "      <td>6.750000</td>\n",
              "    </tr>\n",
              "    <tr>\n",
              "      <th>25%</th>\n",
              "      <td>231.750000</td>\n",
              "      <td>0.000000</td>\n",
              "      <td>1.000000</td>\n",
              "      <td>21.000000</td>\n",
              "      <td>0.000000</td>\n",
              "      <td>0.000000</td>\n",
              "      <td>12.071875</td>\n",
              "    </tr>\n",
              "    <tr>\n",
              "      <th>50%</th>\n",
              "      <td>414.500000</td>\n",
              "      <td>1.000000</td>\n",
              "      <td>2.000000</td>\n",
              "      <td>28.000000</td>\n",
              "      <td>0.000000</td>\n",
              "      <td>0.000000</td>\n",
              "      <td>23.000000</td>\n",
              "    </tr>\n",
              "    <tr>\n",
              "      <th>75%</th>\n",
              "      <td>641.250000</td>\n",
              "      <td>1.000000</td>\n",
              "      <td>3.000000</td>\n",
              "      <td>35.000000</td>\n",
              "      <td>1.000000</td>\n",
              "      <td>1.000000</td>\n",
              "      <td>55.000000</td>\n",
              "    </tr>\n",
              "    <tr>\n",
              "      <th>max</th>\n",
              "      <td>889.000000</td>\n",
              "      <td>1.000000</td>\n",
              "      <td>3.000000</td>\n",
              "      <td>63.000000</td>\n",
              "      <td>8.000000</td>\n",
              "      <td>6.000000</td>\n",
              "      <td>512.329200</td>\n",
              "    </tr>\n",
              "  </tbody>\n",
              "</table>\n",
              "</div>"
            ],
            "text/plain": [
              "       PassengerId    Survived      Pclass         Age       SibSp  \\\n",
              "count   314.000000  314.000000  314.000000  314.000000  314.000000   \n",
              "mean    431.028662    0.742038    2.159236   27.787216    0.694268   \n",
              "std     256.846324    0.438211    0.857290   12.900064    1.156520   \n",
              "min       2.000000    0.000000    1.000000    0.750000    0.000000   \n",
              "25%     231.750000    0.000000    1.000000   21.000000    0.000000   \n",
              "50%     414.500000    1.000000    2.000000   28.000000    0.000000   \n",
              "75%     641.250000    1.000000    3.000000   35.000000    1.000000   \n",
              "max     889.000000    1.000000    3.000000   63.000000    8.000000   \n",
              "\n",
              "            Parch        Fare  \n",
              "count  314.000000  314.000000  \n",
              "mean     0.649682   44.479818  \n",
              "std      1.022846   57.997698  \n",
              "min      0.000000    6.750000  \n",
              "25%      0.000000   12.071875  \n",
              "50%      0.000000   23.000000  \n",
              "75%      1.000000   55.000000  \n",
              "max      6.000000  512.329200  "
            ]
          },
          "metadata": {
            "tags": []
          },
          "execution_count": 36
        }
      ]
    },
    {
      "cell_type": "markdown",
      "metadata": {
        "id": "kHyBdOEXWoy5",
        "colab_type": "text"
      },
      "source": [
        "<h3>Summary Statistics</h3>"
      ]
    },
    {
      "cell_type": "markdown",
      "metadata": {
        "id": "sYzT4G3KUKQ7",
        "colab_type": "text"
      },
      "source": [
        "<font color='khaki'>From the summary above, we can see that:-<br>\n",
        "  1. There were 577 males and 314 female passengers on The Titanic.<br>\n",
        "  2. The average age for males was about 30 and about 28 for women.<br>\n",
        "  3. Interestingly women paid 45 pounds for a ticket, while men paid 26 pounds on average... <br>We would investigate why, but I'm thinking the difference may be as a result of more women in 1st class and 2nd class than men.<br>Or a greater proportion of women in 1st and 2nd class seats than men<br>\n",
        "4. The maximum age for women was 63 and max age for men was 80 years.</font>"
      ]
    },
    {
      "cell_type": "markdown",
      "metadata": {
        "id": "mzIyn3WVvzpO",
        "colab_type": "text"
      },
      "source": [
        "<h2>Visualizing Age-Group Distribution of Male and Female Passengers using a Horizontal Bar Plot</h2>"
      ]
    },
    {
      "cell_type": "code",
      "metadata": {
        "id": "3AyWkE9vvOmc",
        "colab_type": "code",
        "colab": {}
      },
      "source": [
        "age_range = ['[0.0 - 10]','[10 - 20]','[20 - 30]','[30 - 40]','[40 - 50]','[50 - 60]','[60 - 70]','[70 - 80]']\n",
        "age_dict = {}"
      ],
      "execution_count": 0,
      "outputs": []
    },
    {
      "cell_type": "code",
      "metadata": {
        "id": "HtEO9AGowabM",
        "colab_type": "code",
        "colab": {}
      },
      "source": [
        "def age_grades(dataframe):\n",
        "    start = 0\n",
        "  \n",
        "    for i in age_range:\n",
        "        stop = start + 10\n",
        "        x = dataframe[np.logical_and(dataframe.Age>start, dataframe.Age<=stop)].shape[0]\n",
        "        age_dict[i] = [x]\n",
        "        start += 10\n",
        "    return age_dict\n",
        "\n",
        "males_dict = age_grades(males)\n",
        "males_df = pd.DataFrame(males_dict)\n",
        "males_df = males_df.transpose()"
      ],
      "execution_count": 0,
      "outputs": []
    },
    {
      "cell_type": "code",
      "metadata": {
        "id": "WE48RiFF9I7t",
        "colab_type": "code",
        "colab": {}
      },
      "source": [
        "females_dict = age_grades(females)\n",
        "females_df = pd.DataFrame(females_dict)\n",
        "females_df = females_df.transpose()\n"
      ],
      "execution_count": 0,
      "outputs": []
    },
    {
      "cell_type": "code",
      "metadata": {
        "id": "ghOhkebm9U2X",
        "colab_type": "code",
        "colab": {}
      },
      "source": [
        "maleFemaleAgeRange = pd.concat([males_df, females_df], axis=1)\n",
        "maleFemaleAgeRange.columns = ['Male_Age_Range', 'Female_Age_Range']"
      ],
      "execution_count": 0,
      "outputs": []
    },
    {
      "cell_type": "code",
      "metadata": {
        "id": "O7bVwVHi9eYU",
        "colab_type": "code",
        "outputId": "18debca5-d449-4127-f428-e4a1b0a5ae58",
        "colab": {
          "base_uri": "https://localhost:8080/",
          "height": 284
        }
      },
      "source": [
        "maleFemaleAgeRange"
      ],
      "execution_count": 0,
      "outputs": [
        {
          "output_type": "execute_result",
          "data": {
            "text/html": [
              "<div>\n",
              "<style scoped>\n",
              "    .dataframe tbody tr th:only-of-type {\n",
              "        vertical-align: middle;\n",
              "    }\n",
              "\n",
              "    .dataframe tbody tr th {\n",
              "        vertical-align: top;\n",
              "    }\n",
              "\n",
              "    .dataframe thead th {\n",
              "        text-align: right;\n",
              "    }\n",
              "</style>\n",
              "<table border=\"1\" class=\"dataframe\">\n",
              "  <thead>\n",
              "    <tr style=\"text-align: right;\">\n",
              "      <th></th>\n",
              "      <th>Male_Age_Range</th>\n",
              "      <th>Female_Age_Range</th>\n",
              "    </tr>\n",
              "  </thead>\n",
              "  <tbody>\n",
              "    <tr>\n",
              "      <th>[0.0 - 10]</th>\n",
              "      <td>33</td>\n",
              "      <td>31</td>\n",
              "    </tr>\n",
              "    <tr>\n",
              "      <th>[10 - 20]</th>\n",
              "      <td>69</td>\n",
              "      <td>46</td>\n",
              "    </tr>\n",
              "    <tr>\n",
              "      <th>[20 - 30]</th>\n",
              "      <td>273</td>\n",
              "      <td>134</td>\n",
              "    </tr>\n",
              "    <tr>\n",
              "      <th>[30 - 40]</th>\n",
              "      <td>100</td>\n",
              "      <td>55</td>\n",
              "    </tr>\n",
              "    <tr>\n",
              "      <th>[40 - 50]</th>\n",
              "      <td>55</td>\n",
              "      <td>31</td>\n",
              "    </tr>\n",
              "    <tr>\n",
              "      <th>[50 - 60]</th>\n",
              "      <td>28</td>\n",
              "      <td>14</td>\n",
              "    </tr>\n",
              "    <tr>\n",
              "      <th>[60 - 70]</th>\n",
              "      <td>14</td>\n",
              "      <td>3</td>\n",
              "    </tr>\n",
              "    <tr>\n",
              "      <th>[70 - 80]</th>\n",
              "      <td>5</td>\n",
              "      <td>0</td>\n",
              "    </tr>\n",
              "  </tbody>\n",
              "</table>\n",
              "</div>"
            ],
            "text/plain": [
              "            Male_Age_Range  Female_Age_Range\n",
              "[0.0 - 10]              33                31\n",
              "[10 - 20]               69                46\n",
              "[20 - 30]              273               134\n",
              "[30 - 40]              100                55\n",
              "[40 - 50]               55                31\n",
              "[50 - 60]               28                14\n",
              "[60 - 70]               14                 3\n",
              "[70 - 80]                5                 0"
            ]
          },
          "metadata": {
            "tags": []
          },
          "execution_count": 41
        }
      ]
    },
    {
      "cell_type": "code",
      "metadata": {
        "id": "I05hHlCT8P_z",
        "colab_type": "code",
        "outputId": "8968f077-5ef4-4424-c57e-92604a7b4567",
        "colab": {
          "base_uri": "https://localhost:8080/",
          "height": 637
        }
      },
      "source": [
        "sns.set_style('ticks')\n",
        "ax = maleFemaleAgeRange.plot(kind='barh', color=['blue','red'], figsize=(14,10), width=0.75)\n",
        "sns.set(font_scale=1.5)\n",
        "ax.set_title('Age-Group Distribution for Males and Females aboard The Titanic')\n",
        "ax.set_xlabel('Number of Passengers')\n",
        "ax.set_ylabel('Age-Group')\n",
        "for i in ax.patches:\n",
        "    # get_width pulls left or right; get_y pushes up or down\n",
        "    ax.text(i.get_width()+3, i.get_y()+.3, \\\n",
        "            str(round((i.get_width()), 2)), fontsize=15, color='black')\n",
        "\n",
        "# invert to set y-axis in ascending order\n",
        "ax.invert_yaxis()\n",
        "\n",
        "plt.show()"
      ],
      "execution_count": 0,
      "outputs": [
        {
          "output_type": "display_data",
          "data": {
            "image/png": "[encoded data removed]",
            "text/plain": [
              "<Figure size 1008x720 with 1 Axes>"
            ]
          },
          "metadata": {
            "tags": []
          }
        }
      ]
    },
    {
      "cell_type": "markdown",
      "metadata": {
        "id": "udy7owA3Rubg",
        "colab_type": "text"
      },
      "source": [
        "<font color='khaki'>From the Horizontal Bar plot above, we can easily see that:-<br>\n",
        "  1. The `20 - 30` age group has the highest concentration of passengers.<br>\n",
        "  273 males and 134 females with a total count of 407 passengers.</font><br>\n",
        "  ```\n",
        "  (407 divided by 891) * 100 = 46% of passengers.\n",
        "  ```<br>\n",
        "  <font color='khaki'>2. The next most populous age-group is the `30 - 40` group consisting of a total of 155 passengers.</font>"
      ]
    },
    {
      "cell_type": "markdown",
      "metadata": {
        "id": "xE-MGJCusPJB",
        "colab_type": "text"
      },
      "source": [
        "<h2>Okay, lets look at The distribution of males and females in the three passenger classes.</h2><br><font color='khaki'>Recall that the average price of female tickets was about 45 pounds which was about 75% more expensive than the average male passenger ticket of 26 pounds.</br>One possible reason could be that there were more female passengers in the higher classes(1st class, 2nd class) than male passengers.<br>Or that the percentage of females to the population of females (proportion) is higher than the proportion of males in the higher classes of passengers.<br> Let's see to that.</h2></font>"
      ]
    },
    {
      "cell_type": "markdown",
      "metadata": {
        "id": "1aizbUVqOCJU",
        "colab_type": "text"
      },
      "source": [
        "**Let's define a Data frame for the number of men and women per class**"
      ]
    },
    {
      "cell_type": "code",
      "metadata": {
        "id": "JUZjO9dg9RjH",
        "colab_type": "code",
        "outputId": "cd727a56-8f48-41cb-8e7e-cafdc9be9442",
        "colab": {
          "base_uri": "https://localhost:8080/",
          "height": 225
        }
      },
      "source": [
        "sex_per_class = titanic_df.groupby(['Pclass','Sex']).size().to_frame()\n",
        "sex_per_class.reset_index(inplace=True)\n",
        "sex_per_class"
      ],
      "execution_count": 0,
      "outputs": [
        {
          "output_type": "execute_result",
          "data": {
            "text/html": [
              "<div>\n",
              "<style scoped>\n",
              "    .dataframe tbody tr th:only-of-type {\n",
              "        vertical-align: middle;\n",
              "    }\n",
              "\n",
              "    .dataframe tbody tr th {\n",
              "        vertical-align: top;\n",
              "    }\n",
              "\n",
              "    .dataframe thead th {\n",
              "        text-align: right;\n",
              "    }\n",
              "</style>\n",
              "<table border=\"1\" class=\"dataframe\">\n",
              "  <thead>\n",
              "    <tr style=\"text-align: right;\">\n",
              "      <th></th>\n",
              "      <th>Pclass</th>\n",
              "      <th>Sex</th>\n",
              "      <th>0</th>\n",
              "    </tr>\n",
              "  </thead>\n",
              "  <tbody>\n",
              "    <tr>\n",
              "      <th>0</th>\n",
              "      <td>1</td>\n",
              "      <td>female</td>\n",
              "      <td>94</td>\n",
              "    </tr>\n",
              "    <tr>\n",
              "      <th>1</th>\n",
              "      <td>1</td>\n",
              "      <td>male</td>\n",
              "      <td>122</td>\n",
              "    </tr>\n",
              "    <tr>\n",
              "      <th>2</th>\n",
              "      <td>2</td>\n",
              "      <td>female</td>\n",
              "      <td>76</td>\n",
              "    </tr>\n",
              "    <tr>\n",
              "      <th>3</th>\n",
              "      <td>2</td>\n",
              "      <td>male</td>\n",
              "      <td>108</td>\n",
              "    </tr>\n",
              "    <tr>\n",
              "      <th>4</th>\n",
              "      <td>3</td>\n",
              "      <td>female</td>\n",
              "      <td>144</td>\n",
              "    </tr>\n",
              "    <tr>\n",
              "      <th>5</th>\n",
              "      <td>3</td>\n",
              "      <td>male</td>\n",
              "      <td>347</td>\n",
              "    </tr>\n",
              "  </tbody>\n",
              "</table>\n",
              "</div>"
            ],
            "text/plain": [
              "   Pclass     Sex    0\n",
              "0       1  female   94\n",
              "1       1    male  122\n",
              "2       2  female   76\n",
              "3       2    male  108\n",
              "4       3  female  144\n",
              "5       3    male  347"
            ]
          },
          "metadata": {
            "tags": []
          },
          "execution_count": 43
        }
      ]
    },
    {
      "cell_type": "markdown",
      "metadata": {
        "id": "YTjXZDtTOTDQ",
        "colab_type": "text"
      },
      "source": [
        "**Next let's define a simple method that calculates the total proportion of males and females per class**"
      ]
    },
    {
      "cell_type": "code",
      "metadata": {
        "id": "5Z6WKCM2DZcZ",
        "colab_type": "code",
        "colab": {}
      },
      "source": [
        "total_f = len(titanic_df[titanic_df.Sex=='female'])\n",
        "total_m = len(titanic_df[titanic_df.Sex=='male'])\n",
        "\n",
        "\n",
        "def pct_(series):\n",
        "    \"\"\"Takes a series of numeric values and converts each value \n",
        "    to a percent based on its index.\n",
        "    Returns a list of converted values to pct,\n",
        "    For total males and females of the Titanic.\"\"\"\n",
        "    x = list(series)\n",
        "    for i in range(len(x)):\n",
        "        if i % 2 == 0:\n",
        "            x[i] = round((x[i] / total_f)*100)\n",
        "        else:\n",
        "            x[i] = round((x[i] / total_m)*100)\n",
        "    return x"
      ],
      "execution_count": 0,
      "outputs": []
    },
    {
      "cell_type": "markdown",
      "metadata": {
        "id": "m8F--9EOOlvz",
        "colab_type": "text"
      },
      "source": [
        "**Next let's append that proportion as a column to the sex_per_class data frame and rename the 0 column to 'Count'.**"
      ]
    },
    {
      "cell_type": "code",
      "metadata": {
        "id": "htNMMpeXKtyV",
        "colab_type": "code",
        "colab": {}
      },
      "source": [
        "sex_per_class['Pct_of_total(M/F)_per_class'] = pct_(sex_per_class[0])\n",
        "sex_per_class.rename(columns={0:'Count'}, inplace=True)"
      ],
      "execution_count": 0,
      "outputs": []
    },
    {
      "cell_type": "markdown",
      "metadata": {
        "id": "isePKkAuPA9D",
        "colab_type": "text"
      },
      "source": [
        "**Finally we can view it**"
      ]
    },
    {
      "cell_type": "code",
      "metadata": {
        "id": "nHEN1xvwMaTv",
        "colab_type": "code",
        "outputId": "f754cdf1-6f31-4895-8f49-5627e5ad9262",
        "colab": {
          "base_uri": "https://localhost:8080/",
          "height": 225
        }
      },
      "source": [
        "sex_per_class"
      ],
      "execution_count": 0,
      "outputs": [
        {
          "output_type": "execute_result",
          "data": {
            "text/html": [
              "<div>\n",
              "<style scoped>\n",
              "    .dataframe tbody tr th:only-of-type {\n",
              "        vertical-align: middle;\n",
              "    }\n",
              "\n",
              "    .dataframe tbody tr th {\n",
              "        vertical-align: top;\n",
              "    }\n",
              "\n",
              "    .dataframe thead th {\n",
              "        text-align: right;\n",
              "    }\n",
              "</style>\n",
              "<table border=\"1\" class=\"dataframe\">\n",
              "  <thead>\n",
              "    <tr style=\"text-align: right;\">\n",
              "      <th></th>\n",
              "      <th>Pclass</th>\n",
              "      <th>Sex</th>\n",
              "      <th>Count</th>\n",
              "      <th>Pct_of_total(M/F)_per_class</th>\n",
              "    </tr>\n",
              "  </thead>\n",
              "  <tbody>\n",
              "    <tr>\n",
              "      <th>0</th>\n",
              "      <td>1</td>\n",
              "      <td>female</td>\n",
              "      <td>94</td>\n",
              "      <td>30</td>\n",
              "    </tr>\n",
              "    <tr>\n",
              "      <th>1</th>\n",
              "      <td>1</td>\n",
              "      <td>male</td>\n",
              "      <td>122</td>\n",
              "      <td>21</td>\n",
              "    </tr>\n",
              "    <tr>\n",
              "      <th>2</th>\n",
              "      <td>2</td>\n",
              "      <td>female</td>\n",
              "      <td>76</td>\n",
              "      <td>24</td>\n",
              "    </tr>\n",
              "    <tr>\n",
              "      <th>3</th>\n",
              "      <td>2</td>\n",
              "      <td>male</td>\n",
              "      <td>108</td>\n",
              "      <td>19</td>\n",
              "    </tr>\n",
              "    <tr>\n",
              "      <th>4</th>\n",
              "      <td>3</td>\n",
              "      <td>female</td>\n",
              "      <td>144</td>\n",
              "      <td>46</td>\n",
              "    </tr>\n",
              "    <tr>\n",
              "      <th>5</th>\n",
              "      <td>3</td>\n",
              "      <td>male</td>\n",
              "      <td>347</td>\n",
              "      <td>60</td>\n",
              "    </tr>\n",
              "  </tbody>\n",
              "</table>\n",
              "</div>"
            ],
            "text/plain": [
              "   Pclass     Sex  Count  Pct_of_total(M/F)_per_class\n",
              "0       1  female     94                           30\n",
              "1       1    male    122                           21\n",
              "2       2  female     76                           24\n",
              "3       2    male    108                           19\n",
              "4       3  female    144                           46\n",
              "5       3    male    347                           60"
            ]
          },
          "metadata": {
            "tags": []
          },
          "execution_count": 46
        }
      ]
    },
    {
      "cell_type": "markdown",
      "metadata": {
        "id": "mKal5ligVX7j",
        "colab_type": "text"
      },
      "source": [
        "<font color='khaki'>We can clearly see the following:<br>\n",
        "1. The count of males in each passenger class is higher than the count of females.<br>\n",
        "2. But the proportion of females in the higher classes(1st, 2nd) is more than the proportion of males.<br>\n",
        "3. We can see that the proprtion of females to males in 1st class is 30% against 21%,<br>\n",
        "    And 24% against 19% in 2nd class... While on the flip side the males have 60% of their population in 3rd class against 46% for the females.<br>\n",
        "4. This accounts for why female tickets on average cost more than male tickets, because the percentage of females in higher classes is more than males, and as a result the average ticket fare for females is 45 pounds, against 26 pounds for males."
      ]
    },
    {
      "cell_type": "markdown",
      "metadata": {
        "id": "PNDrf3UJUiaD",
        "colab_type": "text"
      },
      "source": [
        "<h2>Visualizing The proportions of male and female passengers per class, using Waffle Charts</h2>"
      ]
    },
    {
      "cell_type": "code",
      "metadata": {
        "id": "lUf_awFBzzoK",
        "colab_type": "code",
        "outputId": "f5577dda-c02c-4ac3-b8b9-9ccee8f69ff0",
        "colab": {
          "base_uri": "https://localhost:8080/",
          "height": 601
        }
      },
      "source": [
        "sns.set(font_scale=1.5)\n",
        "sns.set_style('ticks')\n",
        "\n",
        "\n",
        "first_class = {'Females': 30, 'Males': 21}\n",
        "second_class = {'Females': 24, 'Males': 19}\n",
        "third_class = {'Females': 46, 'Males': 60}\n",
        "\n",
        "plt.figure(\n",
        "    FigureClass=Waffle, \n",
        "    rows=5, \n",
        "    values=first_class, \n",
        "    colors=(\"#983D3D\", \"#232066\"),\n",
        "    title={'label': 'Proportion of male and female passengers in 1st Class', 'loc': 'left'},\n",
        "    labels=[\"{0} ({1}%)\".format(k, v) for k, v in first_class.items()],\n",
        "    legend={'loc': 'lower left', 'bbox_to_anchor': (0, -0.45), 'ncol': len(first_class), 'framealpha': 0},\n",
        "    plot_direction='NW',\n",
        ")\n",
        "\n",
        "plt.figure(\n",
        "    FigureClass=Waffle, \n",
        "    rows=5, \n",
        "    values=second_class, \n",
        "    colors=(\"#983D3D\", \"#232066\"),\n",
        "    title={'label': 'Proportion of male and female passengers in 2nd Class', 'loc': 'left', 'color':'darkgreen'},\n",
        "    labels=[\"{0} ({1}%)\".format(k, v) for k, v in second_class.items()],\n",
        "    legend={'loc': 'lower left', 'bbox_to_anchor': (0, -0.4), 'ncol': len(second_class), 'framealpha': 0},\n",
        "    plot_direction='NW',\n",
        ")\n",
        "\n",
        "plt.figure(\n",
        "    FigureClass=Waffle, \n",
        "    rows=7, \n",
        "    values=third_class, \n",
        "    colors=(\"#983D3D\", \"#232066\"),\n",
        "    title={'label': 'Proportion of male and female passengers in 3rd Class', 'loc': 'left', 'color':'navy'},\n",
        "    labels=[\"{0} ({1}%)\".format(k, v) for k, v in third_class.items()],\n",
        "    legend={'loc': 'lower left', 'bbox_to_anchor': (0, -0.45), 'ncol': len(third_class), 'framealpha': 0},\n",
        "    plot_direction='NW',\n",
        ")\n",
        "\n",
        "fig.gca().set_facecolor('#EEEEEE')\n",
        "fig.set_facecolor('#EEEEEE')\n",
        "plt.show()\n"
      ],
      "execution_count": 0,
      "outputs": [
        {
          "output_type": "stream",
          "text": [
            "/usr/local/lib/python3.6/dist-packages/matplotlib/figure.py:2369: UserWarning: This figure includes Axes that are not compatible with tight_layout, so results might be incorrect.\n",
            "  warnings.warn(\"This figure includes Axes that are not compatible \"\n"
          ],
          "name": "stderr"
        },
        {
          "output_type": "display_data",
          "data": {
            "image/png": "[encoded data removed]",
            "text/plain": [
              "<Waffle size 432x288 with 1 Axes>"
            ]
          },
          "metadata": {
            "tags": []
          }
        },
        {
          "output_type": "stream",
          "text": [
            "/usr/local/lib/python3.6/dist-packages/matplotlib/figure.py:2369: UserWarning: This figure includes Axes that are not compatible with tight_layout, so results might be incorrect.\n",
            "  warnings.warn(\"This figure includes Axes that are not compatible \"\n"
          ],
          "name": "stderr"
        },
        {
          "output_type": "display_data",
          "data": {
            "image/png": "[encoded data removed]",
            "text/plain": [
              "<Waffle size 432x288 with 1 Axes>"
            ]
          },
          "metadata": {
            "tags": []
          }
        },
        {
          "output_type": "stream",
          "text": [
            "/usr/local/lib/python3.6/dist-packages/matplotlib/figure.py:2369: UserWarning: This figure includes Axes that are not compatible with tight_layout, so results might be incorrect.\n",
            "  warnings.warn(\"This figure includes Axes that are not compatible \"\n"
          ],
          "name": "stderr"
        },
        {
          "output_type": "display_data",
          "data": {
            "image/png": "[encoded data removed]",
            "text/plain": [
              "<Waffle size 432x288 with 1 Axes>"
            ]
          },
          "metadata": {
            "tags": []
          }
        }
      ]
    },
    {
      "cell_type": "markdown",
      "metadata": {
        "id": "55DsdXIdQ6pq",
        "colab_type": "text"
      },
      "source": [
        ""
      ]
    },
    {
      "cell_type": "markdown",
      "metadata": {
        "id": "SclYP3jxCKJV",
        "colab_type": "text"
      },
      "source": [
        "<font color='brown'>**next,  let's view who bought the most xpensive tickets, survival data per class, survival data per sex, word cloud in tribute to those who died in 1st , 2nd or 3rd classes. use of lambda expressions, map of the location where titanic crashed. **\n",
        "    \n",
        "    \n",
        "    [titanic_crash_site](http://www.shipwreckworld.com/maps/rms-titanic)"
      ]
    },
    {
      "cell_type": "code",
      "metadata": {
        "id": "48Yee8lzCGHg",
        "colab_type": "code",
        "outputId": "2cda6b4f-0271-4307-fb5c-046e17b9dbe2",
        "colab": {
          "base_uri": "https://localhost:8080/",
          "height": 195
        }
      },
      "source": [
        "# we select the 3rd class passengers in a group using pandas.\n",
        "third_class_group = titanic_df['Pclass'] == 3\n",
        "\n",
        "# then we assign that selection to the slice of titanic_df\n",
        "third_class_df = titanic_df[third_class_group]\n",
        "\n",
        "# we view the first 5 entries of the 3rd class passengers data frame.\n",
        "third_class_df.head()"
      ],
      "execution_count": 0,
      "outputs": [
        {
          "output_type": "execute_result",
          "data": {
            "text/html": [
              "<div>\n",
              "<style scoped>\n",
              "    .dataframe tbody tr th:only-of-type {\n",
              "        vertical-align: middle;\n",
              "    }\n",
              "\n",
              "    .dataframe tbody tr th {\n",
              "        vertical-align: top;\n",
              "    }\n",
              "\n",
              "    .dataframe thead th {\n",
              "        text-align: right;\n",
              "    }\n",
              "</style>\n",
              "<table border=\"1\" class=\"dataframe\">\n",
              "  <thead>\n",
              "    <tr style=\"text-align: right;\">\n",
              "      <th></th>\n",
              "      <th>PassengerId</th>\n",
              "      <th>Survived</th>\n",
              "      <th>Pclass</th>\n",
              "      <th>Name</th>\n",
              "      <th>Sex</th>\n",
              "      <th>Age</th>\n",
              "      <th>SibSp</th>\n",
              "      <th>Parch</th>\n",
              "      <th>Ticket</th>\n",
              "      <th>Fare</th>\n",
              "      <th>Cabin</th>\n",
              "      <th>Embarked</th>\n",
              "    </tr>\n",
              "  </thead>\n",
              "  <tbody>\n",
              "    <tr>\n",
              "      <th>0</th>\n",
              "      <td>1</td>\n",
              "      <td>0</td>\n",
              "      <td>3</td>\n",
              "      <td>Braund, Mr. Owen Harris</td>\n",
              "      <td>male</td>\n",
              "      <td>22.000000</td>\n",
              "      <td>1</td>\n",
              "      <td>0</td>\n",
              "      <td>A/5 21171</td>\n",
              "      <td>7.2500</td>\n",
              "      <td>NaN</td>\n",
              "      <td>S</td>\n",
              "    </tr>\n",
              "    <tr>\n",
              "      <th>2</th>\n",
              "      <td>3</td>\n",
              "      <td>1</td>\n",
              "      <td>3</td>\n",
              "      <td>Heikkinen, Miss. Laina</td>\n",
              "      <td>female</td>\n",
              "      <td>26.000000</td>\n",
              "      <td>0</td>\n",
              "      <td>0</td>\n",
              "      <td>STON/O2. 3101282</td>\n",
              "      <td>7.9250</td>\n",
              "      <td>NaN</td>\n",
              "      <td>S</td>\n",
              "    </tr>\n",
              "    <tr>\n",
              "      <th>4</th>\n",
              "      <td>5</td>\n",
              "      <td>0</td>\n",
              "      <td>3</td>\n",
              "      <td>Allen, Mr. William Henry</td>\n",
              "      <td>male</td>\n",
              "      <td>35.000000</td>\n",
              "      <td>0</td>\n",
              "      <td>0</td>\n",
              "      <td>373450</td>\n",
              "      <td>8.0500</td>\n",
              "      <td>NaN</td>\n",
              "      <td>S</td>\n",
              "    </tr>\n",
              "    <tr>\n",
              "      <th>5</th>\n",
              "      <td>6</td>\n",
              "      <td>0</td>\n",
              "      <td>3</td>\n",
              "      <td>Moran, Mr. James</td>\n",
              "      <td>male</td>\n",
              "      <td>29.699118</td>\n",
              "      <td>0</td>\n",
              "      <td>0</td>\n",
              "      <td>330877</td>\n",
              "      <td>8.4583</td>\n",
              "      <td>NaN</td>\n",
              "      <td>Q</td>\n",
              "    </tr>\n",
              "    <tr>\n",
              "      <th>7</th>\n",
              "      <td>8</td>\n",
              "      <td>0</td>\n",
              "      <td>3</td>\n",
              "      <td>Palsson, Master. Gosta Leonard</td>\n",
              "      <td>male</td>\n",
              "      <td>2.000000</td>\n",
              "      <td>3</td>\n",
              "      <td>1</td>\n",
              "      <td>349909</td>\n",
              "      <td>21.0750</td>\n",
              "      <td>NaN</td>\n",
              "      <td>S</td>\n",
              "    </tr>\n",
              "  </tbody>\n",
              "</table>\n",
              "</div>"
            ],
            "text/plain": [
              "   PassengerId  Survived  Pclass                            Name     Sex  \\\n",
              "0            1         0       3         Braund, Mr. Owen Harris    male   \n",
              "2            3         1       3          Heikkinen, Miss. Laina  female   \n",
              "4            5         0       3        Allen, Mr. William Henry    male   \n",
              "5            6         0       3                Moran, Mr. James    male   \n",
              "7            8         0       3  Palsson, Master. Gosta Leonard    male   \n",
              "\n",
              "         Age  SibSp  Parch            Ticket     Fare Cabin Embarked  \n",
              "0  22.000000      1      0         A/5 21171   7.2500   NaN        S  \n",
              "2  26.000000      0      0  STON/O2. 3101282   7.9250   NaN        S  \n",
              "4  35.000000      0      0            373450   8.0500   NaN        S  \n",
              "5  29.699118      0      0            330877   8.4583   NaN        Q  \n",
              "7   2.000000      3      1            349909  21.0750   NaN        S  "
            ]
          },
          "metadata": {
            "tags": []
          },
          "execution_count": 48
        }
      ]
    },
    {
      "cell_type": "code",
      "metadata": {
        "id": "EDzsdMfYEgEY",
        "colab_type": "code",
        "outputId": "8dc91808-c422-4625-eef1-da477d2683f7",
        "colab": {
          "base_uri": "https://localhost:8080/",
          "height": 34
        }
      },
      "source": [
        "third_class_df.shape"
      ],
      "execution_count": 0,
      "outputs": [
        {
          "output_type": "execute_result",
          "data": {
            "text/plain": [
              "(491, 12)"
            ]
          },
          "metadata": {
            "tags": []
          },
          "execution_count": 49
        }
      ]
    },
    {
      "cell_type": "code",
      "metadata": {
        "id": "fOA1776ZElz3",
        "colab_type": "code",
        "colab": {}
      },
      "source": [
        "# Do a word cloud in tribute to those in third class with their names. "
      ],
      "execution_count": 0,
      "outputs": []
    },
    {
      "cell_type": "code",
      "metadata": {
        "id": "UExd937f8KfB",
        "colab_type": "code",
        "colab": {}
      },
      "source": [
        ""
      ],
      "execution_count": 0,
      "outputs": []
    }
  ]
}