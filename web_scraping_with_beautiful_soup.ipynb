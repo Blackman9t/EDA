{
  "nbformat": 4,
  "nbformat_minor": 0,
  "metadata": {
    "colab": {
      "name": "web_scraping_with_beautiful_soup.ipynb",
      "version": "0.3.2",
      "provenance": [],
      "collapsed_sections": [],
      "toc_visible": true,
      "include_colab_link": true
    },
    "kernelspec": {
      "name": "python3",
      "display_name": "Python 3"
    }
  },
  "cells": [
    {
      "cell_type": "markdown",
      "metadata": {
        "id": "view-in-github",
        "colab_type": "text"
      },
      "source": [
        "<a href=\"https://colab.research.google.com/github/Blackman9t/EDA/blob/master/web_scraping_with_beautiful_soup.ipynb\" target=\"_parent\"><img src=\"https://colab.research.google.com/assets/colab-badge.svg\" alt=\"Open In Colab\"/></a>"
      ]
    },
    {
      "cell_type": "markdown",
      "metadata": {
        "id": "EHPOVZczrQsa",
        "colab_type": "text"
      },
      "source": [
        "###Reading the headings, summary and video links from a website using BeautifulSoup"
      ]
    },
    {
      "cell_type": "code",
      "metadata": {
        "id": "M8HavAxNgH88",
        "colab_type": "code",
        "colab": {
          "base_uri": "https://localhost:8080/",
          "height": 34
        },
        "outputId": "59e92fce-561f-4da8-e2d5-28c8bc100e1b"
      },
      "source": [
        "from bs4 import BeautifulSoup\n",
        "import requests\n",
        "import pandas as pd\n",
        "import json\n",
        "from pandas.io.json import json_normalize  # transform json files to pandas dataframes\n",
        "import numpy as np\n",
        "import csv\n",
        "\n",
        "print('All modules imported')"
      ],
      "execution_count": 3,
      "outputs": [
        {
          "output_type": "stream",
          "text": [
            "All modules imported\n"
          ],
          "name": "stdout"
        }
      ]
    },
    {
      "cell_type": "code",
      "metadata": {
        "id": "SXuzSAkvowwl",
        "colab_type": "code",
        "colab": {}
      },
      "source": [
        "site_link = 'https://coreyms.com/'\n",
        "\n",
        "# get the source code text html from the website\n",
        "source = requests.get(site_link).text\n",
        "\n",
        "# using BeautifulSoup to parse the website \n",
        "soup = BeautifulSoup(source, 'lxml')\n",
        "\n",
        "#print(soup.prettify())"
      ],
      "execution_count": 0,
      "outputs": []
    },
    {
      "cell_type": "markdown",
      "metadata": {
        "id": "tkLU0hDHrGMN",
        "colab_type": "text"
      },
      "source": [
        "###Now let's grab the first headline and summary and video link from the website, but first let's inspect the structure"
      ]
    },
    {
      "cell_type": "markdown",
      "metadata": {
        "id": "BjrstWXLyhr5",
        "colab_type": "text"
      },
      "source": [
        "First let's grab the headline"
      ]
    },
    {
      "cell_type": "code",
      "metadata": {
        "id": "E4gKpbcasy5x",
        "colab_type": "code",
        "colab": {}
      },
      "source": [
        "# first we find the first article headline\n",
        "article = soup.find('article')\n",
        "\n",
        "# let's print to see\n",
        "#print(article.prettify())"
      ],
      "execution_count": 0,
      "outputs": []
    },
    {
      "cell_type": "code",
      "metadata": {
        "id": "qv9E2NQQwUAN",
        "colab_type": "code",
        "colab": {
          "base_uri": "https://localhost:8080/",
          "height": 34
        },
        "outputId": "ab96256a-4236-46ec-f8b4-f08befffbd51"
      },
      "source": [
        "# Let's save the first headline to a variable\n",
        "headline = article.a.text\n",
        "print(headline)"
      ],
      "execution_count": 12,
      "outputs": [
        {
          "output_type": "stream",
          "text": [
            "Visual Studio Code (Windows) – Setting up a Python Development Environment and Complete Overview\n"
          ],
          "name": "stdout"
        }
      ]
    },
    {
      "cell_type": "markdown",
      "metadata": {
        "id": "hVH2IlCfym2U",
        "colab_type": "text"
      },
      "source": [
        "Next let's grab the summary post after the headline"
      ]
    },
    {
      "cell_type": "code",
      "metadata": {
        "id": "Aol53Q1_yq0F",
        "colab_type": "code",
        "colab": {
          "base_uri": "https://localhost:8080/",
          "height": 54
        },
        "outputId": "46ef103f-b5a4-492f-cc85-91792ec6fafa"
      },
      "source": [
        "# summary is finding the div with class entry-content, take p(paragraph) then get just the text of it\n",
        "summary = article.find('div', class_='entry-content').p.text\n",
        "\n",
        "print(summary)"
      ],
      "execution_count": 15,
      "outputs": [
        {
          "output_type": "stream",
          "text": [
            "In this Python Programming Tutorial, we will be learning how to set up a Python development environment in VSCode on Windows. VSCode is a very nice free editor for writing Python applications and many developers are now switching over to this editor. In this video, we will learn how to install VSCode, get the Python extension installed, how to change Python interpreters, create virtual environments, format/lint our code, how to use Git within VSCode, how to debug our programs, how unit testing works, and more. We have a lot to cover, so let’s go ahead and get started…\n"
          ],
          "name": "stdout"
        }
      ]
    },
    {
      "cell_type": "markdown",
      "metadata": {
        "id": "_q36tzFC0ZQ6",
        "colab_type": "text"
      },
      "source": [
        "Next we need to get the link to the first video . This is a bit tricky"
      ]
    },
    {
      "cell_type": "code",
      "metadata": {
        "id": "0t2P5Duj0jwz",
        "colab_type": "code",
        "colab": {
          "base_uri": "https://localhost:8080/",
          "height": 54
        },
        "outputId": "a6e7e676-dc9a-4e94-ee41-c05186878bca"
      },
      "source": [
        "# First let's grab the particular iframe that has the video,\n",
        "# Which in this case is the first iframe\n",
        "frame = article.find('iframe',class_=\"youtube-player\")\n",
        "frame"
      ],
      "execution_count": 28,
      "outputs": [
        {
          "output_type": "execute_result",
          "data": {
            "text/plain": [
              "<iframe allowfullscreen=\"true\" class=\"youtube-player\" height=\"360\" src=\"https://www.youtube.com/embed/-nh9rCzPJ20?version=3&amp;rel=1&amp;fs=1&amp;autohide=2&amp;showsearch=0&amp;showinfo=1&amp;iv_load_policy=1&amp;wmode=transparent\" style=\"border:0;\" type=\"text/html\" width=\"640\"></iframe>"
            ]
          },
          "metadata": {
            "tags": []
          },
          "execution_count": 28
        }
      ]
    },
    {
      "cell_type": "code",
      "metadata": {
        "id": "vsuJgBa14TS0",
        "colab_type": "code",
        "colab": {
          "base_uri": "https://localhost:8080/",
          "height": 34
        },
        "outputId": "1c38b6e7-0876-41d3-e951-5986214d9312"
      },
      "source": [
        "# to get the source(src) attribute with vid link from frame, let's index it using the square bracket\n",
        "\n",
        "vid_link = frame['src']\n",
        "\n",
        "vid_link"
      ],
      "execution_count": 29,
      "outputs": [
        {
          "output_type": "execute_result",
          "data": {
            "text/plain": [
              "'https://www.youtube.com/embed/-nh9rCzPJ20?version=3&rel=1&fs=1&autohide=2&showsearch=0&showinfo=1&iv_load_policy=1&wmode=transparent'"
            ]
          },
          "metadata": {
            "tags": []
          },
          "execution_count": 29
        }
      ]
    },
    {
      "cell_type": "code",
      "metadata": {
        "id": "lssNGIRK5U7H",
        "colab_type": "code",
        "colab": {
          "base_uri": "https://localhost:8080/",
          "height": 101
        },
        "outputId": "b6f76478-7e96-4496-abf5-2b549b171be4"
      },
      "source": [
        "# Next let's split the link based on the / sign and pick the part with the version\n",
        "\n",
        "link_split = vid_link.split('/')\n",
        "\n",
        "link_split"
      ],
      "execution_count": 30,
      "outputs": [
        {
          "output_type": "execute_result",
          "data": {
            "text/plain": [
              "['https:',\n",
              " '',\n",
              " 'www.youtube.com',\n",
              " 'embed',\n",
              " '-nh9rCzPJ20?version=3&rel=1&fs=1&autohide=2&showsearch=0&showinfo=1&iv_load_policy=1&wmode=transparent']"
            ]
          },
          "metadata": {
            "tags": []
          },
          "execution_count": 30
        }
      ]
    },
    {
      "cell_type": "code",
      "metadata": {
        "id": "GCN1v4Jg5nh3",
        "colab_type": "code",
        "colab": {
          "base_uri": "https://localhost:8080/",
          "height": 34
        },
        "outputId": "5b6e5e4b-4f31-45fd-a7bb-0e111b5e0b02"
      },
      "source": [
        "# Next lets use simple python indexing to seect the link\n",
        "# then apply the split function on the ? sign to target the link proper\n",
        "vid_link = link_split[4].split('?')\n",
        "\n",
        "vid_link = vid_link[0]\n",
        "\n",
        "vid_link"
      ],
      "execution_count": 32,
      "outputs": [
        {
          "output_type": "execute_result",
          "data": {
            "text/plain": [
              "'-nh9rCzPJ20'"
            ]
          },
          "metadata": {
            "tags": []
          },
          "execution_count": 32
        }
      ]
    },
    {
      "cell_type": "markdown",
      "metadata": {
        "id": "ybG2qgvQ7J0e",
        "colab_type": "text"
      },
      "source": [
        "Now we can create our own youtube link using this video ID"
      ]
    },
    {
      "cell_type": "code",
      "metadata": {
        "id": "hxPK_rjw7mDE",
        "colab_type": "code",
        "colab": {
          "base_uri": "https://localhost:8080/",
          "height": 34
        },
        "outputId": "aa8e383b-6f4f-4485-cc82-79fad96e2595"
      },
      "source": [
        "yt_link = f'youtube.com/watch?v={vid_link}'  \n",
        "print(yt_link)"
      ],
      "execution_count": 34,
      "outputs": [
        {
          "output_type": "stream",
          "text": [
            "youtube.com/watch?v=-nh9rCzPJ20\n"
          ],
          "name": "stdout"
        }
      ]
    },
    {
      "cell_type": "markdown",
      "metadata": {
        "id": "JaC1sGXs-qm2",
        "colab_type": "text"
      },
      "source": [
        "### Finding the data for all the articles on the website"
      ]
    },
    {
      "cell_type": "code",
      "metadata": {
        "id": "2djBHdug-xE7",
        "colab_type": "code",
        "colab": {
          "base_uri": "https://localhost:8080/",
          "height": 709
        },
        "outputId": "53238a80-7195-43a1-9b6b-48f42c058a35"
      },
      "source": [
        "# Here we ahall use find all instead of find and a for-loop to find all data\n",
        "    \n",
        "for article in soup.find_all('article'):\n",
        "    try:\n",
        "        headline = article.a.text\n",
        "        print(headline)\n",
        "        summary = article.find('div', class_='entry-content').p.text\n",
        "        print(summary)\n",
        "        frame = article.find('iframe',class_=\"youtube-player\")\n",
        "        vid_link = frame['src']\n",
        "        link_split = vid_link.split('/')\n",
        "        vid_link = link_split[4].split('?')\n",
        "        vid_link = vid_link[0]\n",
        "        yt_link = f'youtube.com/watch?v={vid_link}'\n",
        "        print(yt_link)\n",
        "    except:\n",
        "        print('None')\n",
        "    print()\n"
      ],
      "execution_count": 36,
      "outputs": [
        {
          "output_type": "stream",
          "text": [
            "Visual Studio Code (Windows) – Setting up a Python Development Environment and Complete Overview\n",
            "In this Python Programming Tutorial, we will be learning how to set up a Python development environment in VSCode on Windows. VSCode is a very nice free editor for writing Python applications and many developers are now switching over to this editor. In this video, we will learn how to install VSCode, get the Python extension installed, how to change Python interpreters, create virtual environments, format/lint our code, how to use Git within VSCode, how to debug our programs, how unit testing works, and more. We have a lot to cover, so let’s go ahead and get started…\n",
            "youtube.com/watch?v=-nh9rCzPJ20\n",
            "\n",
            "Visual Studio Code (Mac) – Setting up a Python Development Environment and Complete Overview\n",
            "In this Python Programming Tutorial, we will be learning how to set up a Python development environment in VSCode on MacOS. VSCode is a very nice free editor for writing Python applications and many developers are now switching over to this editor. In this video, we will learn how to install VSCode, get the Python extension installed, how to change Python interpreters, create virtual environments, format/lint our code, how to use Git within VSCode, how to debug our programs, how unit testing works, and more. We have a lot to cover, so let’s go ahead and get started…\n",
            "youtube.com/watch?v=06I63_p-2A4\n",
            "\n",
            "Clarifying the Issues with Mutable Default Arguments\n",
            "In this Python Programming Tutorial, we will be clarifying the issues with mutable default arguments. We discussed this in my last video titled “5 Common Python Mistakes and How to Fix Them”, but I received many comments from people who were still confused. So we will be doing a deeper dive to explain exactly what is going on here. Let’s get started…\n",
            "youtube.com/watch?v=_JGmemuINww\n",
            "\n",
            "5 Common Python Mistakes and How to Fix Them\n",
            "In this Python Programming Tutorial, we will be going over some of the most common mistakes. I get a lot of questions from people every day, and I have seen a lot of people making these same mistakes in their code. So we will investigate each of these common mistakes and also look at the fixes for each other these as well. Here are the timestamps for each topic we will cover… 1) Indentation and Spaces – 0:45 2) Naming Conflicts – 4:12 3) Mutable Default Args – 10:05 4) Exhausting Iterators – 16:35 5) Importing with * – 22:13\n",
            "youtube.com/watch?v=zdJEYhA2AZQ\n",
            "\n",
            "How I Setup a New Development Machine – Using Scripts to Automate Installs and Save Time\n",
            "In this video, I’ll be showing how I set up a new development machine. I recently got a new MacBook and wanted to show how I use scripts to automate a lot of this process. It used to take me a lot of time to install all of my software and get everything set up the way I like it. Now I use these automated scripts to do this in minutes. Let’s get started…\n",
            "youtube.com/watch?v=kIdiWut8eD8\n",
            "\n",
            "How to Write Python Scripts to Analyze JSON APIs and Sort Results\n",
            "In this Python Programming Tutorial, we will be learning how to grab data from a JSON API, parse out the information we want, and then sort the data using a custom key. The API we will be using is a JSON API for Homebrew Packages and we will be sorting the packages by their popularity. We cover a lot of topics in this tutorial. We will be using the Requests Library, converting to/from JSON, reading and writing to files, writing our own sorting function, and more. Let’s get started…\n",
            "youtube.com/watch?v=1lxrb_ezP-g\n",
            "\n",
            "Homebrew Tutorial: Simplify Software Installation on Mac Using This Package Manager\n",
            "In this video, we’ll be learning how to use the Homebrew Package Manager on MacOS. Brew allows us to easily install command-line tools with a simple command. We can also install native applications for Mac using Brew Cask. I often use these commands in scripts to install a lot of new software quickly and easily on new machines. Let’s get started…\n",
            "youtube.com/watch?v=SELYgZvAZbU\n",
            "\n",
            "Python Tutorial: VENV (Windows) – How to Use Virtual Environments with the Built-In venv Module\n",
            "In this Python Programming Tutorial, we will be learning how to use virtual environments on the Windows operating systems with the built-in venv module. We will learn how to create them, activate them, remove them, and much more. Let’s get started…\n",
            "youtube.com/watch?v=APOPm01BVrk\n",
            "\n",
            "Python Tutorial: VENV (Mac & Linux) – How to Use Virtual Environments with the Built-In venv Module\n",
            "In this Python Programming Tutorial, we will be learning how to use virtual environments on the Mac and Linux operating systems with the built-in venv module. We will learn how to create them, activate them, remove them, and much more. Let’s get started…\n",
            "youtube.com/watch?v=Kg1Yvry_Ydk\n",
            "\n",
            "10 Python Tips and Tricks For Writing Better Code\n",
            "In this Python Programming video, we will be going over 10 tips and tricks for writing Pythonic code. Here are the timestamps for each topic we will cover… 1) Ternary Conditionals – 0:34 2) Underscore Placeholders – 2:13 3) Context Managers – 4:25 4) Enumerate – 6:50 5) Zip – 8:52 6) Unpacking – 13:02 7) Setattr/Getattr – 19:08 8) GetPass – 26:24 9) Python dash m – 29:18 10) Help/Dir – 33:17 \n",
            "youtube.com/watch?v=C-gEQdGVXbk\n",
            "\n"
          ],
          "name": "stdout"
        }
      ]
    },
    {
      "cell_type": "markdown",
      "metadata": {
        "id": "RtxlFBk_D9Lv",
        "colab_type": "text"
      },
      "source": [
        "Let's save this scraped website data to a CSV file, better to define a method with everything intact"
      ]
    },
    {
      "cell_type": "code",
      "metadata": {
        "id": "K8Q9YYMxDqmx",
        "colab_type": "code",
        "colab": {}
      },
      "source": [
        "def find_all_articles_data(article):\n",
        "    \"\"\" This method takes a web page and scrapes its headline, summary,\n",
        "    and video links and returns all these data in a pandas data frame \"\"\"\n",
        "    \n",
        "    # create a csv file\n",
        "    csv_file = open('scraped_site.csv','w')\n",
        "    \n",
        "    # call the writer function on the csv-file\n",
        "    csv_writer = csv.writer(csv_file)\n",
        "    \n",
        "    # Pass the headers list to the csv object\n",
        "    csv_writer.writerow(['Headline','Summary','Video_link'])\n",
        "    \n",
        "    \n",
        "    for article in soup.find_all('article'):\n",
        "        try:\n",
        "            headline = article.a.text\n",
        "            summary = article.find('div', class_='entry-content').p.text\n",
        "            frame = article.find('iframe',class_=\"youtube-player\")\n",
        "            vid_link = frame['src']\n",
        "            link_split = vid_link.split('/')\n",
        "            vid_link = link_split[4].split('?')\n",
        "            vid_link = vid_link[0]\n",
        "            yt_link = f'youtube.com/watch?v={vid_link}'\n",
        "        except:\n",
        "            print('None')\n",
        "        csv_writer.writerow([headline, summary, yt_link])\n",
        "    csv_file.close()\n",
        "    return pd.read_csv('scraped_site.csv')"
      ],
      "execution_count": 0,
      "outputs": []
    },
    {
      "cell_type": "code",
      "metadata": {
        "id": "UJhZJ1BeLTw0",
        "colab_type": "code",
        "colab": {
          "base_uri": "https://localhost:8080/",
          "height": 343
        },
        "outputId": "2364f3ac-ff55-4929-aa12-6be0056b32f4"
      },
      "source": [
        "scraped_df = find_all_articles_data(article)\n",
        "scraped_df"
      ],
      "execution_count": 71,
      "outputs": [
        {
          "output_type": "execute_result",
          "data": {
            "text/html": [
              "<div>\n",
              "<style scoped>\n",
              "    .dataframe tbody tr th:only-of-type {\n",
              "        vertical-align: middle;\n",
              "    }\n",
              "\n",
              "    .dataframe tbody tr th {\n",
              "        vertical-align: top;\n",
              "    }\n",
              "\n",
              "    .dataframe thead th {\n",
              "        text-align: right;\n",
              "    }\n",
              "</style>\n",
              "<table border=\"1\" class=\"dataframe\">\n",
              "  <thead>\n",
              "    <tr style=\"text-align: right;\">\n",
              "      <th></th>\n",
              "      <th>Headline</th>\n",
              "      <th>Summary</th>\n",
              "      <th>Video_link</th>\n",
              "    </tr>\n",
              "  </thead>\n",
              "  <tbody>\n",
              "    <tr>\n",
              "      <th>0</th>\n",
              "      <td>Visual Studio Code (Windows) – Setting up a Py...</td>\n",
              "      <td>In this Python Programming Tutorial, we will b...</td>\n",
              "      <td>youtube.com/watch?v=-nh9rCzPJ20</td>\n",
              "    </tr>\n",
              "    <tr>\n",
              "      <th>1</th>\n",
              "      <td>Visual Studio Code (Mac) – Setting up a Python...</td>\n",
              "      <td>In this Python Programming Tutorial, we will b...</td>\n",
              "      <td>youtube.com/watch?v=06I63_p-2A4</td>\n",
              "    </tr>\n",
              "    <tr>\n",
              "      <th>2</th>\n",
              "      <td>Clarifying the Issues with Mutable Default Arg...</td>\n",
              "      <td>In this Python Programming Tutorial, we will b...</td>\n",
              "      <td>youtube.com/watch?v=_JGmemuINww</td>\n",
              "    </tr>\n",
              "    <tr>\n",
              "      <th>3</th>\n",
              "      <td>5 Common Python Mistakes and How to Fix Them</td>\n",
              "      <td>In this Python Programming Tutorial, we will b...</td>\n",
              "      <td>youtube.com/watch?v=zdJEYhA2AZQ</td>\n",
              "    </tr>\n",
              "    <tr>\n",
              "      <th>4</th>\n",
              "      <td>How I Setup a New Development Machine – Using ...</td>\n",
              "      <td>In this video, I’ll be showing how I set up a ...</td>\n",
              "      <td>youtube.com/watch?v=kIdiWut8eD8</td>\n",
              "    </tr>\n",
              "    <tr>\n",
              "      <th>5</th>\n",
              "      <td>How to Write Python Scripts to Analyze JSON AP...</td>\n",
              "      <td>In this Python Programming Tutorial, we will b...</td>\n",
              "      <td>youtube.com/watch?v=1lxrb_ezP-g</td>\n",
              "    </tr>\n",
              "    <tr>\n",
              "      <th>6</th>\n",
              "      <td>Homebrew Tutorial: Simplify Software Installat...</td>\n",
              "      <td>In this video, we’ll be learning how to use th...</td>\n",
              "      <td>youtube.com/watch?v=SELYgZvAZbU</td>\n",
              "    </tr>\n",
              "    <tr>\n",
              "      <th>7</th>\n",
              "      <td>Python Tutorial: VENV (Windows) – How to Use V...</td>\n",
              "      <td>In this Python Programming Tutorial, we will b...</td>\n",
              "      <td>youtube.com/watch?v=APOPm01BVrk</td>\n",
              "    </tr>\n",
              "    <tr>\n",
              "      <th>8</th>\n",
              "      <td>Python Tutorial: VENV (Mac &amp; Linux) – How to U...</td>\n",
              "      <td>In this Python Programming Tutorial, we will b...</td>\n",
              "      <td>youtube.com/watch?v=Kg1Yvry_Ydk</td>\n",
              "    </tr>\n",
              "    <tr>\n",
              "      <th>9</th>\n",
              "      <td>10 Python Tips and Tricks For Writing Better Code</td>\n",
              "      <td>In this Python Programming video, we will be g...</td>\n",
              "      <td>youtube.com/watch?v=C-gEQdGVXbk</td>\n",
              "    </tr>\n",
              "  </tbody>\n",
              "</table>\n",
              "</div>"
            ],
            "text/plain": [
              "                                            Headline  ...                       Video_link\n",
              "0  Visual Studio Code (Windows) – Setting up a Py...  ...  youtube.com/watch?v=-nh9rCzPJ20\n",
              "1  Visual Studio Code (Mac) – Setting up a Python...  ...  youtube.com/watch?v=06I63_p-2A4\n",
              "2  Clarifying the Issues with Mutable Default Arg...  ...  youtube.com/watch?v=_JGmemuINww\n",
              "3       5 Common Python Mistakes and How to Fix Them  ...  youtube.com/watch?v=zdJEYhA2AZQ\n",
              "4  How I Setup a New Development Machine – Using ...  ...  youtube.com/watch?v=kIdiWut8eD8\n",
              "5  How to Write Python Scripts to Analyze JSON AP...  ...  youtube.com/watch?v=1lxrb_ezP-g\n",
              "6  Homebrew Tutorial: Simplify Software Installat...  ...  youtube.com/watch?v=SELYgZvAZbU\n",
              "7  Python Tutorial: VENV (Windows) – How to Use V...  ...  youtube.com/watch?v=APOPm01BVrk\n",
              "8  Python Tutorial: VENV (Mac & Linux) – How to U...  ...  youtube.com/watch?v=Kg1Yvry_Ydk\n",
              "9  10 Python Tips and Tricks For Writing Better Code  ...  youtube.com/watch?v=C-gEQdGVXbk\n",
              "\n",
              "[10 rows x 3 columns]"
            ]
          },
          "metadata": {
            "tags": []
          },
          "execution_count": 71
        }
      ]
    }
  ]
}